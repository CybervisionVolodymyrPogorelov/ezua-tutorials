{
 "cells": [
  {
   "cell_type": "markdown",
   "metadata": {
    "tags": []
   },
   "source": [
    "# Prediction\n",
    "\n",
    "Deploying KServe will take a few minutes to reach a ready state. In a short span of time, it will become ready, putting the tools you need right at your fingertips. Finally, you\"re ready to send a POST request to your InferenceService, including the features in the body of the request. In the response, you'll receive the model's prediction."
   ]
  },
  {
   "cell_type": "code",
   "execution_count": null,
   "metadata": {
    "tags": []
   },
   "outputs": [],
   "source": [
    "MODEL_NAME = \"bike-sharing-exp\"\n",
    "DOMAIN_NAME = \"svc.cluster.local\" # change this to your domain for external access \n",
    "NAMESPACE = os.environ[\"USER\"]\n",
    "DEPLOYMENT_NAME = MODEL_NAME\n",
    "\n",
    "SVC = f\"{DEPLOYMENT_NAME}-predictor-default.{NAMESPACE}.{DOMAIN_NAME}\"\n",
    "URL = f\"https://{SVC}/v2/models/{MODEL_NAME}/infer\"\n",
    "\n",
    "names = [\"season\", \"year\", \"month\", \"hour_of_day\", \"is_holiday\", \"weekday\",\n",
    "         \"is_workingday\", \"weather_situation\", \"temperature\",\n",
    "         \"feels_like_temperature\", \"humidity\", \"windspeed\"]\n",
    "\n",
    "input_data = [\n",
    "    [1, 2, 1, 0, 0, 6, 0, 1, 0.24, 0.2879, 0.81, 0.0000],\n",
    "    [1, 5, 1, 0, 0, 6, 1, 1, 0.24, 0.2879, 0.81, 0.0000]\n",
    "]\n",
    "\n",
    "inputs = {\n",
    "  \"inputs\": [\n",
    "    {\n",
    "      \"name\": \"ndarray\",\n",
    "      \"shape\": [2, 12],\n",
    "      \"datatype\": \"FP32\",\n",
    "      \"data\": input_data\n",
    "    }\n",
    "  ]\n",
    "}\n",
    "\n",
    "headers = {\"Authorization\": f\"Bearer {os.environ['AUTH_TOKEN']}\"}\n",
    "\n",
    "response = requests.post(URL, json=inputs, headers=headers, verify=False)"
   ]
  },
  {
   "cell_type": "code",
   "execution_count": null,
   "metadata": {},
   "outputs": [],
   "source": [
    "output = response.json()[\"outputs\"][0][\"data\"]\n",
    "\n",
    "print(\"\\nRendted Bikes Per Hour:\\n\")\n",
    "for item, out in zip(input_data, output):\n",
    "    input_dict = dict(zip(names,item))\n",
    "    print(f\"Input Data: {input_dict} \\nBike Per Hour: {out}\\n\")"
   ]
  }
 ],
 "metadata": {
  "kernelspec": {
   "display_name": "Python 3 (ipykernel)",
   "language": "python",
   "name": "python3"
  },
  "language_info": {
   "codemirror_mode": {
    "name": "ipython",
    "version": 3
   },
   "file_extension": ".py",
   "mimetype": "text/x-python",
   "name": "python",
   "nbconvert_exporter": "python",
   "pygments_lexer": "ipython3",
   "version": "3.8.10"
  }
 },
 "nbformat": 4,
 "nbformat_minor": 4
}
