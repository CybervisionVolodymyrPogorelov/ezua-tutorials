{
 "cells": [
  {
   "cell_type": "markdown",
   "metadata": {},
   "source": [
    "# **Retail Dashboard (Supersets)**\n",
    "\n",
    "### Learning how to import and present data with Supersets on HPE Ezmeral Unified Analytics.\n",
    "\n",
    "In this tutorial, you will learn how to connect various external data sources to HPE Ezmeral Unified Analyics and build a Supersets dashboard visualizing various aspects of data within those sources. \n",
    "\n",
    "### Table of Contents\n",
    "\n",
    "- [Connecting External Data Sources](#feature-repository-structure)\n",
    "- [Introduction to Business Intelligence (BI) reporting with Supersets](#feature-repository-structure)\n",
    "- [Retail Dashboard with Supersets](#inspecting-the-raw-data)"
   ]
  },
  {
   "cell_type": "markdown",
   "metadata": {},
   "source": [
    "## **Connecting External Data Sources**\n",
    "\n",
    "### Data Sources in HPE Ezmeral Unified Analytics\n",
    "\n",
    "Connect the following types\n",
    "- Snowflake\n",
    "- SQL\n",
    "- Hive\n",
    "- S3 Bucket (Minio, AWS)\n",
    "\n",
    "In this tutorial, you will connect the MySQL, SQL and Hive databases that were setup in the pre-requistes steps of this tutorial (found in the README).\n",
    "\n",
    "### MySQL\n",
    "### SQL\n",
    "### Hive Database"
   ]
  },
  {
   "cell_type": "markdown",
   "metadata": {},
   "source": [
    "## **Introduction to Business Intelligence (BI) reporting with Supersets**\n",
    "\n",
    "### Connecting to Presto\n",
    "### Creating a View in Supersets\n",
    "### Adding a View\n",
    "### Creating Charts\n",
    "### Generate Query\n",
    "### Visualizing Query Results in a Chart\n"
   ]
  },
  {
   "cell_type": "markdown",
   "metadata": {},
   "source": [
    "## **Retail Dashboard with Supersets**\n",
    "\n",
    "### Setting the scene\n",
    "### Create Retail View"
   ]
  },
  {
   "cell_type": "markdown",
   "metadata": {},
   "source": []
  }
 ],
 "metadata": {
  "language_info": {
   "name": "python"
  },
  "orig_nbformat": 4
 },
 "nbformat": 4,
 "nbformat_minor": 2
}
