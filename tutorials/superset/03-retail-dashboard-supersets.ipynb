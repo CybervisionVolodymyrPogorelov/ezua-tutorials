{
 "cells": [
  {
   "cell_type": "markdown",
   "metadata": {},
   "source": [
    "# **Retail Store Analysis Dashboard (Superset)**\n",
    "\n",
    "\n",
    "This tutorial provides an end-to-end workflow example for a retail store analysis scenario in HPE Ezmeral Unified Analytics Software using EzPresto and Superset.\n",
    "\n",
    "## Scenario\n",
    "\n",
    "A data analyst for a large retailer wants to visualize data sets from MySQL, SQL Server and Hive data sources in Superset. The analyst signs in to HPE Ezmeral Unified Analytics Software and connects Unified Analytics to MySQL, SQL Server, and Hive data sources. The analyst then runs a federated query against the data sets before creating a view from the query. The analyst accesses the view from Superset and uses it to visualize the data in a bar chart and adds the chart to a dashboard. Now, they have a complete and customized view of the retailer's operations. \n",
    "\n",
    "HPE Ezmeral Unified Analytics Software includes the following components and applications to support an end-to-end workflow for this scenario:\n",
    "\n",
    "**EzPresto**: An MPP SQL query engine that runs accelerated queries against connected data sources and returns results to Superset for visualization. EzPresto connects to Superset through a database connection, enabling direct access to the data sources connected to Unified Analytics from Superset.\n",
    "\n",
    "\n",
    "**Superset**: An analytics dashboarding application that communicates with EzPresto to send queries and receive the query results needed to visualize data from the selected data sets.\n",
    "The following diagram shows the components and applications in the workflow: "
   ]
  },
  {
   "cell_type": "markdown",
   "metadata": {},
   "source": [
    "### Tutorial Objective: \n",
    "The purpose of this tutorial is to walk you through taking the data connections and learnings from the two previous tutorials in this series and apply them to a real world use case.\n",
    "\n",
    "### Table of Contents\n",
    "\n",
    "- [Introduction to Data Engineering on HPE Ezmeral Unified Analytics](#introduction-to-data-engineering-on-hpe-ezmeral-unified-analytics)\n",
    "- [1. Sign in to HPE Ezmeral Unified Analytics Software](#1-sign-in-to-hpe-ezmeral-unified-analytics-software)\n",
    "- [2. Connect Data Sources](#2-connect-data-sources)\n",
    "- [3. Select Data Sets in the Data Catalog](#3-select-data-sets-in-the-data-catalog)\n",
    "- [4. Run a JOIN Query on Data Sets and Create a View](#4-run-a-join-query-on-data-sets-and-create-a-view)\n",
    "- [5. Next Steps](#5-next-steps)"
   ]
  },
  {
   "cell_type": "markdown",
   "metadata": {},
   "source": [
    "## **1. Sign in to HPE Ezmeral Unified Analytics Software**\n",
    "\n",
    "Sign in to HPE Ezmeral Unified Analytics Software with the URL provided by your administrator."
   ]
  },
  {
   "cell_type": "markdown",
   "metadata": {},
   "source": [
    "## **2. Checking Data Sources**\n",
    "\n",
    "In the sidebar navigation menu in your HPE Ezmeral Unified Analytics, click **Data Engineering > Data Sources**. \n",
    "\n",
    "Confirm you have the following Data Sources. If you do not, please follow the first tutorial notebook **Data Source Connectivity and Exploration**, which can be found in this directory. \n",
    "\n",
    "- mysql\n",
    "- mssql_ret2\n",
    "- hiveview\n"
   ]
  },
  {
   "cell_type": "markdown",
   "metadata": {},
   "source": [
    "## **3. Select Data Sets and Create a View**\n",
    "\n",
    "Next, we are going to create a new view for our retail dashboard. We will first select the data sources and datasets we wish to work with. Then, we will run a federated query against the selected data sets and create a view from the query. From these queries, we will create an example view named *qf_retailstore_view*.\n",
    "\n",
    "1. In the sidebar navigation menu in HPE Ezmeral Unified Analytics, select **Data Engineering > Data Catalog**.\n",
    "1. On the **Data Catalog** page, click the dropdown next to the **mysql** and **mssql_ret2** data sources to expose the available schemas in those data sources.\n",
    "1. Select schemas for each of the data sources:\n",
    "- For the **mysql** data source, select the **retailstore** schema.\n",
    "- For the **mssql_ret2** data source, select the **dbo** schema.\n",
    "1. In the **All Datasets** section, click the **filter** icon to open the **Filters** drawer.\n",
    "1. Use the filter to identify and select the following data sets in the selected schemas:\n",
    "    - For the **dbo** schema, filter for and select the following datasets:\n",
    "        * call_center\n",
    "        * catalog_sales\n",
    "        * data_dim\n",
    "        * item\n",
    "    - For the **retailstore** schema, filter for and select the following datasets:\n",
    "        * customer\n",
    "        * customer_address\n",
    "        * customer_demographics\n",
    "1. After you select all the data sets, click **Apply**.\n",
    "1. Click **Selected Datasets** (button that is displaying the number of selected data sets).\n",
    "1. In the drawer that opens, click **Query Editor**. Depending on the number of selected data sets, you may have to scroll down to the bottom of the drawer to see the **Query Editor** button.\n",
    "\n",
    "\n",
    "Now, let's query the datasets and create a view.\n",
    "1. In the **Query Editor**, click **+** to **Add Worksheet**.\n",
    "1. Run the following command to create a new schema, such as hiveview.demoschema, for example:"
   ]
  },
  {
   "cell_type": "code",
   "execution_count": null,
   "metadata": {
    "vscode": {
     "languageId": "plaintext"
    }
   },
   "outputs": [],
   "source": [
    "create schema if not exists hiveview.demoschema;"
   ]
  },
  {
   "cell_type": "markdown",
   "metadata": {},
   "source": [
    "3. Run a query to create a new view from a federated query against the selected data sets, for example:"
   ]
  },
  {
   "cell_type": "code",
   "execution_count": null,
   "metadata": {
    "vscode": {
     "languageId": "plaintext"
    }
   },
   "outputs": [],
   "source": [
    "create view hiveview.demoschema.qf_retailstore_view as select * from mssql_ret2.dbo.catalog_sales cs\n",
    "inner join mssql_ret2.dbo.call_center cc on cs.cs_call_center_sk = cc.cc_call_center_sk\n",
    "inner join mssql_ret2.dbo.date_dim d on cs.cs_sold_date_sk = d.d_date_sk\n",
    "inner join mssql_ret2.dbo.item i on cs.cs_item_sk = i.i_item_sk\n",
    "inner join mysql.retailstore.customer c on cs.cs_bill_customer_sk = c.c_customer_sk\n",
    "inner join mysql.retailstore.customer_address ca on c.c_current_addr_sk = ca.ca_address_sk\n",
    "inner join mysql.retailstore.customer_demographics cd on c.c_current_cdemo_sk = cd.cd_demo_sk"
   ]
  },
  {
   "cell_type": "markdown",
   "metadata": {},
   "source": [
    "4. Click **Run**. When the query completes, the status **\"Finished\"** will display."
   ]
  },
  {
   "cell_type": "markdown",
   "metadata": {},
   "source": [
    "## **4. Connect to the Presto Database**\n",
    "\n",
    "Complete the following steps to connect Superset to the Presto database for access to your data sources and data sets in HPE Ezmeral Unified Analytics Software. Once connected to the Presto database, you can access your data sets in HPE Ezmeral Unified Analytics Software from Superset.\n",
    "\n",
    "To connect to the Presto database, you need the connection URI. You can get the URI from your HPE Ezmeral Unified Analytics Software administrator.\n",
    "\n",
    "To open Superset, in the left navigation pane of HPE Ezmeral Unified Analytics Software, select **BI Reporting > Dashboards**. Supersets opens in a new tab.\n",
    "\n",
    "In Supersets, perform the following:\n",
    "\n",
    "1. Select **Settings > Database Connections**.\n",
    "1. Click **+DATABASE**.\n",
    "1. In the **Connect a database** window, select the **Presto** tile.\n",
    "1. Enter the SQLALCHEMY URI provided by your administrator.\n",
    "1. Test the connection.\n",
    "1. If the test was successful, click **Connect**.\n"
   ]
  },
  {
   "cell_type": "markdown",
   "metadata": {},
   "source": [
    "## **5. Add the View to Superset and Create a Chart**\n",
    "\n",
    "Complete the following steps to import the view you created in HPE Ezmeral Unified Analytics Software and create a bar chart. This tutorial demonstrates how to import the view qf_retailstore_view.\n",
    "\n",
    "To open Superset, in the left navigation pane of HPE Ezmeral Unified Analytics Software, select **BI Reporting > Dashboards**. Supersets opens in a new tab.\n",
    "\n",
    "In Supersets, perform the following: \n",
    "1. Click the **Datasets** tab.\n",
    "1. Click **+DATASET**.\n",
    "1. In the Add Dataset window, select the following options:\n",
    "- **DATABASE:** Presto\n",
    "- **SCHEMA:** <your_schema>\n",
    "- **SEE TABLE SCHEMA:** <your_view>\n",
    "\n",
    "    (This tutorial uses the *retailstore* schema and *qf_retailstore_view*.)\n",
    "\n",
    "4. Click **ADD DATASET AND CREATE CHART**.\n",
    "4. In the **Create a New Chart** window, select **Bar Chart**."
   ]
  },
  {
   "cell_type": "markdown",
   "metadata": {},
   "source": [
    "![title](images/03a.png)"
   ]
  },
  {
   "cell_type": "markdown",
   "metadata": {},
   "source": [
    "6. Click **CREATE NEW CHART**.\n",
    "7. Enter a name for the chart (e.g *Retail Store View*)."
   ]
  },
  {
   "cell_type": "markdown",
   "metadata": {},
   "source": [
    "## **5. Specify Query Conditions to Visualize Results in the Chart**\n",
    "\n",
    "In Superset, charts visualize data based on the query conditions that you specify. The charts created in Superset automatically generate queries that Superset passes to the SQL query engine. Superset visualizes the query results in the chart. Try applying query conditions to visualize your data.\n",
    "\n",
    "The following steps demonstrate how query conditions were applied to visualize data in the resulting example bar chart (shown in Step 4).\n",
    "\n",
    "First, enter the specified query parameters in the following fields:\n",
    "\n",
    "**METRICS**\n",
    "1. Click into the **METRICS** field (located on the **DATA** tab). A metrics window opens.\n",
    "1. Select the **Simple** tab.\n",
    "1. Click the **edit** icon and enter a name for the metric, such as *SUM(cs_net_paid)*.\n",
    "1. In the **Column** field, select **cs_net_paid**.\n",
    "1. In the **Aggregate** field, select **SUM**.\n",
    "1. Click **Save**.\n",
    "\n",
    "**FILTERS**\n",
    "1. Click into the **FILTERS** field (located on the **DATA** tab).\n",
    "1. In the window that opens, select the **CUSTOM SQL** tab.\n",
    "1. Select the **WHERE** filter and enter the following: *NULLIF(ca_state, '') IS NOT NULL*\n",
    "1. Click **Save**.\n",
    "\n",
    "**DIMENSIONS**\n",
    "1. Drag and drop the **ca_state** column into the **DIMENSIONS** field.\n",
    "1. Click into the **BREAKDOWNS** column.\n",
    "1. In the window that opens, select the **SIMPLE** tab and select the **cc_name** column.\n",
    "1. Click **Save**.\n",
    "\n",
    "**SORT BY**\n",
    "1. Click into the **SORT BY** field.\n",
    "1. In the window that opens, select the **SIMPLE** tab and enter **cs_net_paid** as the **COLUMN** and **SUM** as the **AGGREGATE**.\n",
    "1. Click **Save**."
   ]
  },
  {
   "cell_type": "markdown",
   "metadata": {},
   "source": [
    "Next, click **CREATE CHART**. The bar chart displays results when the query finishes processing."
   ]
  },
  {
   "cell_type": "markdown",
   "metadata": {},
   "source": [
    "![title](images/03b.png)"
   ]
  },
  {
   "cell_type": "markdown",
   "metadata": {},
   "source": [
    "Click **Save** to save the chart. In the **Save Chart** window that opens, do not enter or select a dashboard.\n",
    "\n",
    "Click **Save** to continue."
   ]
  },
  {
   "cell_type": "markdown",
   "metadata": {},
   "source": [
    "## **6. Create a Superset Dashboard and Add the Chart (Visualized Data)**\n",
    "\n",
    "Complete the following steps to create a new dashboard and add your chart to the dashboard. This tutorial adds the Retail Store View chart to a dashboard named Retail Store Analysis Dashboard.\n",
    "\n",
    "To create a new dashboard and add your visualized data:\n",
    "1. In Superset, click on the **Dashboards** tab.\n",
    "1. Click **+DASHBOARD**.\n",
    "1. Enter a name for the dashboard (e.g *Retail Store Analysis Dashboard*)\n",
    "1. Drag and drop your chart into the dashboard."
   ]
  },
  {
   "cell_type": "markdown",
   "metadata": {},
   "source": [
    "![title](images/03c.png)"
   ]
  },
  {
   "cell_type": "markdown",
   "metadata": {},
   "source": [
    "5. Click Save to save the dashboard.\n",
    "\n",
    "**NOTE:** Any time you open a chart or dashboard, Superset and the SQL query engine work together to visualize data. Loading a dashboard page triggers the queries against the database. As the queries run, buffering icons display until the data loads. When data is loaded, the visualizations display."
   ]
  },
  {
   "cell_type": "markdown",
   "metadata": {},
   "source": [
    "## **7. Monitor Queries**\n",
    "\n",
    "You can monitor queries generated through Superset from the EzPresto endpoint. You can access the EzPresto endpoint in the EzPresto tile in the Applications & Frameworks space in HPE Ezmeral Unified Analytics Software.\n",
    "\n",
    "Complete the following steps to monitor the query that the chart generates:\n",
    "1. Return to the HPE Ezmeral Unified Analytics Software dashboard.\n",
    "1. In the sibebar navigation menu, select **Applications & Frameworks**.\n",
    "1. Under the **Data Engineering** tab, click the **EzPresto endpoint** in the **EzPresto** tile. The EzPresto interface will open in a new tab.\n",
    "1. In the **Query Details** section, verify that **Finished** is selected. Selected options have a visible checkmark. "
   ]
  },
  {
   "cell_type": "markdown",
   "metadata": {},
   "source": [
    "![title](images/03d.png)"
   ]
  },
  {
   "cell_type": "markdown",
   "metadata": {},
   "source": [
    "You can see the query that ran to populate the Retail Store View bar chart in the Retail Store Analysis Dashboard.\n",
    "\n",
    "5. Click on the **Query ID** to see the query details."
   ]
  },
  {
   "cell_type": "markdown",
   "metadata": {},
   "source": [
    "![title](images/03e.png)"
   ]
  },
  {
   "cell_type": "markdown",
   "metadata": {},
   "source": [
    "6. To see a visualized query plan and metadata for the query, click **Live Plan** and hover over different areas of the visualized plan. You can also click on various parts of the visualized plan to zoom in on details."
   ]
  },
  {
   "cell_type": "markdown",
   "metadata": {},
   "source": [
    "## **8. Conclusion**\n",
    "\n",
    "You have completed this tutorial seriues. This series demonstrated the integration of the HPE Ezmeral Unified Analytics Software SQL query engine (EzPresto) with Superset to visualize the results of a query on data sets made available through the default Presto database connection. This tutorial also showed you how to monitor queries from the EzPresto Cluster Monitoring tool."
   ]
  },
  {
   "cell_type": "markdown",
   "metadata": {},
   "source": []
  },
  {
   "cell_type": "markdown",
   "metadata": {},
   "source": []
  }
 ],
 "metadata": {
  "language_info": {
   "name": "python"
  },
  "orig_nbformat": 4
 },
 "nbformat": 4,
 "nbformat_minor": 2
}
