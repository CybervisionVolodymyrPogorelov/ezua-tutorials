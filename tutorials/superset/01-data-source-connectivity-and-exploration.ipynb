{
 "cells": [
  {
   "cell_type": "markdown",
   "metadata": {},
   "source": [
    "# **Data Source Connectivity and Exploration on HPE Ezmeral Unified Anaytics**\n",
    "\n",
    "## This tutorial provides the basic steps for using the Data Engineering space within HPE Ezmeral Unified Analytics Software.\n",
    "\n",
    "The data and information used in this tutorial is for example purposes only. You must connect Unified Analytics to your own data sources and use the data sets available to you in your data sources.\n",
    "\n",
    "### Tutorial Objectives: \n",
    "The purpose of this tutorial is to walk you through some Data Engineering basics and familiarize you with the interface, including how to:\n",
    "\n",
    "- Connect data sources.\n",
    "- Select predefined data sets in data sources.\n",
    "- Join data across data sets/data sources.\n",
    "- Create a view.\n",
    "- Run a query against the view.\n",
    "\n",
    "### Table of Contents\n",
    "\n",
    "- [Introduction to Data Engineering on HPE Ezmeral Unified Analytics](#introduction-to-data-engineering-on-hpe-ezmeral-unified-analytics)\n",
    "- [1. Sign in to HPE Ezmeral Unified Analytics Software](#1-sign-in-to-hpe-ezmeral-unified-analytics-software)\n",
    "- [2. Connect Data Sources](#2-connect-data-sources)\n",
    "- [3. Select Data Sets in the Data Catalog](#3-select-data-sets-in-the-data-catalog)\n",
    "- [4. Run a JOIN Query on Data Sets and Create a View](#4-run-a-join-query-on-data-sets-and-create-a-view)\n",
    "- [5. Next Steps](#5-next-steps)"
   ]
  },
  {
   "cell_type": "markdown",
   "metadata": {},
   "source": [
    "## **Introduction to Data Engineering on HPE Ezmeral Unified Analytics**\n",
    "\n",
    "Before we begin, familiarize yourself with the the sidebar navigation menu in your HPE Ezmeral Unified Analytics Dashboard. Under the Data Engineering tab, you can connect to data sources and work with data in a variety of ways. The Data Engineering tab includes:\n",
    "\n",
    "- **Data Sources:** View and access connected data sources; create new data source connections.\n",
    "- **Data Catalog:** Select data sets (tables and views) from one or more data sources and query data across the data sets. You can cache data sets. Caching stores the data in a distributed caching layer within the data fabric for accelerated access to the data.\n",
    "- **Query Editor:** Run queries against selected data sets; create views and new schemas.\n",
    "- **Cached Assets:** Lists the cached data sets (tables and views).\n",
    "- **Airflow Pipelines:** Links to the Airflow interface where you can connect to data sets created in HPE Ezmeral Unified Analytics Software and use them in your data pipelines."
   ]
  },
  {
   "cell_type": "markdown",
   "metadata": {},
   "source": [
    "## **1. Sign in to HPE Ezmeral Unified Analytics Software**\n",
    "\n",
    "Sign in to HPE Ezmeral Unified Analytics Software with the URL provided by your administrator."
   ]
  },
  {
   "cell_type": "markdown",
   "metadata": {},
   "source": [
    "## **2. Connect Data Sources**\n",
    "\n",
    "Let's connect HPE Ezmeral Unified Analytics Software to external data sources that contain the data sets (tables and views) you want to work with. This tutorial uses MySQL, SQL, Snowflake and Hive as the connected data sources.\n",
    "\n",
    "In the left navigation column, select Data Engineering > Data Sources. The Data Sources screen appears."
   ]
  },
  {
   "cell_type": "markdown",
   "metadata": {},
   "source": [
    "![title](images/01a.png)"
   ]
  },
  {
   "cell_type": "markdown",
   "metadata": {},
   "source": [
    "Click **Add New Data Source.**"
   ]
  },
  {
   "cell_type": "markdown",
   "metadata": {},
   "source": [
    "![title](images/01b.png)"
   ]
  },
  {
   "cell_type": "markdown",
   "metadata": {},
   "source": [
    "### **Connecting to MySQL**\n",
    "\n",
    "In the Add New Data Source screen, click Create Connection in the MySQL tile.\n",
    "\n",
    "In the drawer that opens, enter required information in the respective fields:\n",
    "\n",
    "**Name:** mysql\n",
    "\n",
    "**Connection URL:** jdbc:mysql://<ip-address>:<port>\n",
    "\n",
    "**Connection User:** demouser\n",
    "\n",
    "**Connection Password:** moi123\n",
    "\n",
    "**Enable Local Snapshot Table:** Select the check box\n",
    "\n",
    "When Enable Local Snapshot Table is selected, the system caches remote table data to accelerate queries on the tables. The cache is active for the duration of the configured TTL or until the remote tables in the data source are altered.\n",
    "\n",
    "\n",
    "Finally, click Connect. Upon successful connection, the system returns the following message: *Successfully added data source \"mysql\".*"
   ]
  },
  {
   "cell_type": "markdown",
   "metadata": {},
   "source": [
    "### **Connecting to Microsoft SQL Server**\n",
    "\n",
    "In the Add New Data Source screen, click Create Connection in the MySQL tile.\n",
    "\n",
    "In the drawer that opens, enter required information in the respective fields:\n",
    "\n",
    "**Name:** mssql_ret2\n",
    "\n",
    "**Connection URL:** jdbc:sqlserver:<ip-address>:<port>;database=retailstore\n",
    "\n",
    "**Connection User:** myaccount\n",
    "\n",
    "**Connection Password:** moi123\n",
    "\n",
    "**Enable Local Snapshot Table:** Select the check box\n",
    "\n",
    "When Enable Local Snapshot Table is selected, the system caches remote table data to accelerate queries on the tables. The cache is active for the duration of the configured TTL or until the remote tables in the data source are altered.\n",
    "\n",
    "**Enable Transparent Cache:** Select the check box\n",
    "\n",
    "When Enable Transparent Cache is selected, the system caches data at runtime when queries access remote tables. As the query engine scans data in remote data sources, the scanned data is cached on the fly. Results for subsequent queries on the same data are quickly returned from the cache. The cache lives for the duration of the session.\n",
    "\n",
    "Finally, click Connect. Upon successful connection, the system returns the following message: *Successfully added data source \"mssql_ret2\".*"
   ]
  },
  {
   "cell_type": "markdown",
   "metadata": {},
   "source": [
    "### **Connecting to Snowflake**\n",
    "\n",
    "In the Add New Data Source screen, click Create Connection in the Snowflake tile.\n",
    "\n",
    "In the drawer that opens, enter required information in the respective fields:\n",
    "\n",
    "**Name:** snowflake_ret\n",
    "\n",
    "**Connection URL:** jdbc:snowflake://mydomain.com/\n",
    "\n",
    "**Connection User:** demouser\n",
    "\n",
    "**Connection Password:** moi123\n",
    "\n",
    "**Enable Local Snapshot Table:** Select the check box\n",
    "\n",
    "When Enable Local Snapshot Table is selected, the system caches remote table data to accelerate queries on the tables. The cache is active for the duration of the configured TTL or until the remote tables in the data source are altered.\n",
    "\n",
    "Finally, click Connect. Upon successful connection, the system returns the following message: *Successfully added data source \"snowflake_ret\".*\n"
   ]
  },
  {
   "cell_type": "markdown",
   "metadata": {},
   "source": [
    "### **Connecting to Hive**\n",
    "\n",
    "In the Add New Data Source screen, click Create Connection in the Hive tile.\n",
    "\n",
    "In the drawer that opens, enter required information in the respective fields:\n",
    "\n",
    "**Name:** hiveview\n",
    "\n",
    "**Hive Metastore:** file\n",
    "\n",
    "**Hive Metastore Catalog Dir:** file:///data/shared/tmpmetastore\n",
    "\n",
    "\n",
    "\n",
    "\n",
    "In Optional Fields, search for the following fields and add the specified values:\n",
    "\n",
    "**Hive Max Partitions Per Writers:** 10000\n",
    "\n",
    "**Hive Temporary Staging Directory Enabled:** Unselect\n",
    "\n",
    "**Hive Allow Drop Table:** Select\n",
    "\n",
    "**Enable Local Snapshot Table:** Select the check box\n",
    "\n",
    "\n",
    "\n",
    "\n",
    "When Enable Local Snapshot Table is selected, the system caches remote table data to accelerate queries on the tables. The cache is active for the duration of the configured TTL or until the remote tables in the data source are altered.\n",
    "\n",
    "Finally, click Connect. Upon successful connection, the system returns the following message: *Successfully added data source \"hiveview\".*"
   ]
  },
  {
   "cell_type": "markdown",
   "metadata": {},
   "source": [
    "## **3. Select Data Sets in the Data Catalog**\n",
    "\n",
    "In the Data Catalog, select the data sets (tables and views) in each of the data sources that you want to work with.\n",
    "\n",
    "This tutorial uses the customer tables in the connected mysql and snowflake_ret data sources. In the mysql data source, the schema for the customer table is retailstore. In the snowflake_ret data source, the schema for the customer table is public.\n",
    "\n",
    "To select the data sets that you want to work with:\n",
    "\n",
    "1. In the left navigation bar, select **Data Engineering > Data Catalog**.\n",
    "1. On the **Data Catalog** page, click the dropdown next to the **mysql** and **snowflake_ret** data sources to expose the available schemas in those data sources.\n",
    "1. For the **snowflake_ret** data source select the **public** schema and for the **mysql** data source, select the **retailstore** schemas.\n",
    "1. In the **All Datasets** search field, enter a search term to limit the number of data sets. This tutorial searches on data sets with the name *customer*. All the data sets that have **customer** in the name with *public* or *retailstore* schema display.\n",
    "1. Click a **customer** table and preview its data in the **Columns** and **Data Preview** tabs. Do not click the browser's back button; doing so takes you to the Data Sources screen and you will have to repeat the previous steps.\n",
    "1. Click **Close** to return to the data sets.\n",
    "1. Click **Select** by each of the tables named **customer**. Selected Datasets should show 2 as the number of data sets selected.\n",
    "1. Click **Selected Datasets**. The Selected Datasets drawer opens, giving you another opportunity to preview the datasets or discard them. From here, you can either query or cache the selected data sets. For the purpose of this tutorial, we will query the data sets.\n",
    "1. Click **Query Editor**."
   ]
  },
  {
   "cell_type": "markdown",
   "metadata": {},
   "source": [
    "![title](images/01c.png)"
   ]
  },
  {
   "cell_type": "markdown",
   "metadata": {},
   "source": [
    "## **4. Run a JOIN Query on Data Sets and Create a View**\n",
    "\n",
    "The data sets you selected display under Selected Datasets in the Query Editor. \n",
    "\n",
    "Run a JOIN query to join data from the two customer tables and then create a view from the query. The system saves views as cached assets that you can reuse.\n",
    "\n",
    "To view table columns and run a JOIN query:\n",
    "1. Expand the customer tables in the **Selected Datasets** section to view the columns in each of the tables.\n",
    "1. In the **SQL Query** workspace, click + to add a worksheet.\n",
    "1. Copy and paste the following query into the **SQL Query** field. This query creates the a new schema in the hiveview data source named **demoschema:** \n"
   ]
  },
  {
   "cell_type": "code",
   "execution_count": null,
   "metadata": {
    "vscode": {
     "languageId": "plaintext"
    }
   },
   "outputs": [],
   "source": [
    "create schema if not exists hiveview.demoschema;"
   ]
  },
  {
   "cell_type": "markdown",
   "metadata": {},
   "source": [
    "4. Click **Run** to run the query. As the query runs, a green light pulsates next to the Query ID in the Query Results section to indicate that the query is in progress. When the query is completed, the Status column displays Succeeded.\n",
    "5. In the **SQL Query** workspace, click + to add a worksheet.\n",
    "6. Copy and paste the following query into the **SQL Query** field. This query creates a view (hiveview.demoschema) from a query that joins columns from the two **customer** tables (in the mysql and snowflake-ret data sources) on the **customer ID**."
   ]
  },
  {
   "cell_type": "code",
   "execution_count": null,
   "metadata": {
    "vscode": {
     "languageId": "plaintext"
    }
   },
   "outputs": [],
   "source": [
    "create view hiveview.demoschema.customer_info_view as SELECT t1.c_customer_id, t1.c_first_name, t1.c_last_name, t2.c_email_address FROM mysql.retailstore.customer t1 INNER JOIN snowflake_ret.public.customer t2 ON t1.c_customer_id=t2.c_customer_id"
   ]
  },
  {
   "cell_type": "markdown",
   "metadata": {},
   "source": [
    "7. Click **Run** to run the query.\n",
    "8. In the **SQL Query** workspace, click + to add a worksheet.\n",
    "9. Copy and paste the following query into the **SQL Query** field. This runs against the view you created (hiveview.demoschema) and returns all data in the view."
   ]
  },
  {
   "cell_type": "code",
   "execution_count": null,
   "metadata": {
    "vscode": {
     "languageId": "plaintext"
    }
   },
   "outputs": [],
   "source": [
    "SELECT * FROM hiveview.demoschema.customer_info_view;*"
   ]
  },
  {
   "cell_type": "markdown",
   "metadata": {},
   "source": [
    "10. Click **Run** to run the query.\n",
    "11. In the **Query Results** section, expand the **Actions** option for the query and select **Query Details** to view the query session and resource utilization summary.\n",
    "12. Click **Close** to exit out of Query Details."
   ]
  },
  {
   "cell_type": "markdown",
   "metadata": {},
   "source": [
    "![title](images/01d.png)"
   ]
  },
  {
   "cell_type": "markdown",
   "metadata": {},
   "source": [
    "## **5. Next Steps**\n",
    "\n",
    "You have completed the first part of this tutorial. This tutorial demonstrated how easy it is to connect HPE Ezmeral Unified Analytics Software to various data sources for federated access to data through a single interface using standard SQL queries.\n",
    "\n",
    "Next, you will learn how to create a Superset dashboard using the view (customer_info_view) and schema (customer_schema) you created in this tutorial."
   ]
  },
  {
   "cell_type": "markdown",
   "metadata": {},
   "source": []
  }
 ],
 "metadata": {
  "language_info": {
   "name": "python"
  },
  "orig_nbformat": 4
 },
 "nbformat": 4,
 "nbformat_minor": 2
}
