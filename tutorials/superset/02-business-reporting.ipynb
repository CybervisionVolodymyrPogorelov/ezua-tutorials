{
 "cells": [
  {
   "cell_type": "markdown",
   "metadata": {},
   "source": [
    "# **BI Reporting (Superset) Basics**\n",
    "\n",
    "This tutorial outlines the essential steps for conducting BI (Business Intelligence) reporting using\n",
    "Superset within HPE Ezmeral Unified Analytics (EzUA) Software. You will be guided on how to import\n",
    "the datasets you have created into Superset and learn techniques to effectively visualize this data\n",
    "in the form of interactive dashboards.\n",
    "\n",
    "## Tutorial Objectives\n",
    "\n",
    "- Add datasets created in HPE EzUA to Superset.\n",
    "- Visualize the data set in a chart.\n",
    "- Create a dashboard.\n",
    "- Add the chart to the dashboard.\n",
    "\n",
    "## Table of Contents\n",
    "\n",
    "- [Connect to the Presto Database](#connect-to-the-presto-database)\n",
    "- [Add a Dataset to a Chart](#add-a-dataset-to-a-chart)\n",
    "- [Create a Dashboard and add the Chart](#create-a-dashboard-and-add-the-chart)\n",
    "- [Next Steps](#next-steps)"
   ]
  },
  {
   "cell_type": "markdown",
   "metadata": {},
   "source": [
    "# Connect to the Presto Database\n",
    "\n",
    "Follow these steps to establish a connection between Superset and the Presto database, thereby\n",
    "gaining access to your data sources and data sets within HPE EzUA.\n",
    "\n",
    "To connect to the Presto database, you need the connection URI. You can get the URI from your HPE\n",
    "EzUA administrator.\n",
    "\n",
    "To open Superset, in the left navigation pane of HPE EzUA, select `BI Reporting > Dashboards`.\n",
    "Superset opens in a new tab.\n",
    "\n",
    "In Superset, perform the following:\n",
    "\n",
    "1. Select `Settings > Database Connections`.\n",
    "1. Click `+ DATABASE`.\n",
    "1. In the `Connect a database` window, select the `Presto` tile.\n",
    "1. Enter the `SQLALCHEMY URI` provided by your administrator.\n",
    "1. Test the connection.\n",
    "1. If the test was successful, click `Connect`."
   ]
  },
  {
   "cell_type": "markdown",
   "metadata": {},
   "source": [
    "# Add a Dataset to a Chart\n",
    "\n",
    "To create a chart from a dataset:\n",
    "\n",
    "1. Select the `Datasets` tab.\n",
    "1. Click `+ DATASET`.\n",
    "1. In the Add dataset window, make the following selections in the fields:\n",
    "    - **DATABASE:** Presto\n",
    "    - **SCHEMA:** `<your_schema>`\n",
    "    - **SEE TABLE SCHEMA:** `<your_view>`\n",
    "1. Click `ADD DATASET AND CREATE CHART`.\n",
    "1. In `Choose chart type` column, select `# Popular` and choose `Table`.\n",
    "1. Click `CREATE NEW CHART`.\n"
   ]
  },
  {
   "cell_type": "markdown",
   "metadata": {},
   "source": [
    "![title](images/02a.png)"
   ]
  },
  {
   "cell_type": "markdown",
   "metadata": {},
   "source": [
    "1. In the chart screen, enter a name for the chart. For example, name the chart \"Customer Info\".\n",
    "1. Select `RAW RECORDS` as the `QUERY MODE`.\n",
    "1. Drag and drop the following four columns into the COLUMNS field:\n",
    "    - `c_customer_id`\n",
    "    - `c_first_name`\n",
    "    - `c_last_name`\n",
    "    - `c_email_address`\n",
    "1. Click into the `Filters` field and select or enter the following information in the window that\n",
    "   opens:\n",
    "    - `c_first_name`\n",
    "    - `Equal to (=)`\n",
    "    - `Charles`\n",
    "1. Click `SAVE`.\n",
    "1. Click `CREATE CHART`. The query runs and results that meet the query conditions display. The\n",
    "   chart displays four columns of data for `customers` with the first name `Charles`.\n",
    "1. Click `SAVE` to save the chart. A window opens. Click `SAVE` in the window. Do not add to a\n",
    "   dashboard. Superset saves the chart."
   ]
  },
  {
   "cell_type": "markdown",
   "metadata": {},
   "source": [
    "![title](images/02b.png)"
   ]
  },
  {
   "cell_type": "markdown",
   "metadata": {},
   "source": [
    "# Create a Dashboard and Add the Chart\n",
    "\n",
    "To create a dashboard and add the chart you created to the dashboard:\n",
    "\n",
    "1. In Superset, click the `Dashboards` tab.\n",
    "1. Click `+ DASHBOARD`.\n",
    "1. Enter a name (title) for the dashboard, for example \"Customer Dashboard\".\n",
    "1. In the right navigation bar, click the `LAYOUT ELEMENTS` tab.\n",
    "1. Drag and drop the `Header` element into the dashboard.\n",
    "1. In the `Header` element, enter a title, for example \"Customers Named Charles\".\n",
    "1. In the right navigation bar, click the `CHARTS` tab.\n",
    "1. Locate the chart you created (\"Customer Info\") and drag and drop the chart into the dashboard.\n",
    "   You may need to drag the chart over the `Header` title and drop it there to get it to stay in\n",
    "   place. A blue line appears in the dashboard when the chart is in a place it can be dropped.\n",
    "1. Click `SAVE` to save the dashboard."
   ]
  },
  {
   "cell_type": "markdown",
   "metadata": {},
   "source": [
    "![title](images/02c.png)"
   ]
  },
  {
   "cell_type": "markdown",
   "metadata": {},
   "source": [
    "# Conclusion & Next Steps\n",
    "\n",
    "You have completed the second part of this tutorial. This tutorial demonstrated the integration of\n",
    "the HPE EzUA SQL query engine (EzPresto) with Superset to visualize data models that you create in\n",
    "the Data Engineering space.\n",
    "\n",
    "In the final stage of this tutorial, you will learn you how to create a database connection,\n",
    "visualize data, and monitor queries used in visualizations in Superset."
   ]
  }
 ],
 "metadata": {
  "language_info": {
   "name": "python"
  },
  "orig_nbformat": 4
 },
 "nbformat": 4,
 "nbformat_minor": 2
}
