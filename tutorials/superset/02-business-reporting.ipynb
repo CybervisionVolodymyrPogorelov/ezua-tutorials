{
 "cells": [
  {
   "cell_type": "markdown",
   "metadata": {},
   "source": [
    "# **BI Reporting (Superset) Basics**\n",
    "\n",
    "This tutorial provides the basic steps for performing the BI reporting using Supersets within HPE Ezmeral Unified Analytics Software.\n",
    "\n",
    "You will learn to take datasets that you created in HPE Ezmeral Unified Analytics Software to Supersets and visualize the data in dashboards.\n",
    "\n",
    "### Tutorial Objectives\n",
    "\n",
    "- Add datasets created in HPE Ezmeral Unified Analytics Software to Superset\n",
    "- Visualize the data set in a chart\n",
    "- Create a dashboard\n",
    "- Add the chart to the dashboard\n",
    "\n",
    "### Table of Contents\n",
    "\n",
    "- [Introduction to Data Engineering on HPE Ezmeral Unified Analytics](#introduction-to-data-engineering-on-hpe-ezmeral-unified-analytics)\n",
    "- [1. Sign in to HPE Ezmeral Unified Analytics Software](#1-sign-in-to-hpe-ezmeral-unified-analytics-software)\n",
    "- [2. Connect to the Presto Database](#2-connect-to-the-presto-database)\n",
    "- [3. Add a Dataset to a Chart](#3-add-a-dataset-to-a-chart)\n",
    "- [4. Create a Dashboard and add the Chart](#4-create-a-dashboard-and-add-the-chart)\n",
    "- [5. Next Steps](#5-next-steps)"
   ]
  },
  {
   "cell_type": "markdown",
   "metadata": {},
   "source": []
  },
  {
   "cell_type": "markdown",
   "metadata": {},
   "source": [
    "## **1. Sign in to HPE Ezmeral Unified Analytics Software**\n",
    "\n",
    "Sign in to HPE Ezmeral Unified Analytics Software with the URL provided by your administrator."
   ]
  },
  {
   "cell_type": "markdown",
   "metadata": {},
   "source": [
    "## **2. Connect to the Presto Database**\n",
    "\n",
    "Complete the following steps to connect Superset to the Presto database for access to your data sources and data sets in HPE Ezmeral Unified Analytics Software. Once connected to the Presto database, you can access your data sets in HPE Ezmeral Unified Analytics Software from Superset."
   ]
  },
  {
   "cell_type": "markdown",
   "metadata": {},
   "source": [
    "To connect to the Presto database, you need the connection URI. You can get the URI from your HPE Ezmeral Unified Analytics Software administrator."
   ]
  },
  {
   "cell_type": "markdown",
   "metadata": {},
   "source": [
    "To open Superset, in the left navigation pane of HPE Ezmeral Unified Analytics Software, select BI Reporting > Dashboards. Supersets opens in a new tab."
   ]
  },
  {
   "cell_type": "markdown",
   "metadata": {},
   "source": [
    "In Supersets, perform the following:\n",
    "\n",
    "1. Select **Settings > Database Connections**.\n",
    "1. Click **+DATABASE**.\n",
    "1. In the **Connect a database** window, select the **Presto** tile.\n",
    "1. Enter the SQLALCHEMY URI provided by your administrator.\n",
    "1. Test the connection.\n",
    "1. If the test was successful, click **Connect**."
   ]
  },
  {
   "cell_type": "markdown",
   "metadata": {},
   "source": [
    "## **3. Add a Dataset to a Chart**\n",
    "\n",
    "To add a dataset to a chart:\n",
    "1. Select the **Datasets** tab.\n",
    "1. Click + DATASET.\n",
    "1. In the Add dataset window, make the following selections in the fields:\n",
    "- **DATABASE:** Presto\n",
    "- **SCHEMA:** <your_schema>\n",
    "- **SEE TABLE SCHEMA:** <your_view>\n",
    "3. Click **ADD DATASET AND CREATE CHART.**\n",
    "3. In **Choose chart type** column, select **#Popular** and choose **Table**.\n",
    "3. Click **CREATE NEW CHART**.\n"
   ]
  },
  {
   "cell_type": "markdown",
   "metadata": {},
   "source": [
    "![title](images/02a.png)"
   ]
  },
  {
   "cell_type": "markdown",
   "metadata": {},
   "source": [
    "7. In the chart screen, enter a name for the chart. For example, name the chart **Customer Info**.\n",
    "7. Select **RAW RECORDS** as the **QUERY MODE**.\n",
    "7. Drag and drop the following four columns into the COLUMNS field:\n",
    "- c_customer_id\n",
    "- c_first_name\n",
    "- c_last_name\n",
    "- c_email_address\n",
    "10. Click into the **Filters** field and select or enter the following information in the window that opens:\n",
    "- c_first_name\n",
    "- Equal to (=)\n",
    "- Charles\n",
    "11. Click **SAVE**.\n",
    "11. Click **CREATE CHART**. The query runs and results that meet the query conditions display. The chart displays four columns of data for customers with the first name Charles.\n",
    "11. Click **SAVE** to save the chart. A window opens. Click **SAVE** in the window. Do not add to a dashboard. Superset saves the chart."
   ]
  },
  {
   "cell_type": "markdown",
   "metadata": {},
   "source": [
    "![title](images/02b.png)"
   ]
  },
  {
   "cell_type": "markdown",
   "metadata": {},
   "source": [
    "## **4. Create a Dashboard and Add the Chart**\n",
    "\n",
    "To create a dashboard and add the chart you created to the dashboard:\n",
    "1. In Superset, click the **Dashboards** tab.\n",
    "1. Click **+DASHBOARD**.\n",
    "1. Enter a name (title) for the dashboard, for example **Customer Dashboard**.\n",
    "1. In the right navigation bar, click the **LAYOUT ELEMENTS** tab.\n",
    "1. Drag and drop the **Header** element into the dashboard.\n",
    "1. In the **Header** element, enter a title, for example **Customers Named Charles**.\n",
    "1. In the right navigation bar, click the **CHARTS** tab.\n",
    "1. Locate the chart you created (Customer Info) and drag and drop the chart into the dashboard. You may need to drag the chart over the Header title and drop it there to get it to stay in place. A blue line appears in the dashboard when the chart is in a place it can be dropped.\n",
    "1. Click **SAVE** to save the dashboard."
   ]
  },
  {
   "cell_type": "markdown",
   "metadata": {},
   "source": [
    "![title](images/02c.png)"
   ]
  },
  {
   "cell_type": "markdown",
   "metadata": {},
   "source": [
    "## **5. End of Tutorial**\n",
    "\n",
    "You have completed the second part of this tutorial. This tutorial demonstrated the integration of the HPE Ezmeral Unified Analytics Software SQL query engine (EzPresto) with Superset to visualize data models that you create in the Data Engineering space using the charting and dashboarding features in Superset.\n",
    "\n",
    "In the final stage of this tutorial, you will learn you how to create a database connection, visualize data, and monitor queries used in visualizations in Supersets."
   ]
  },
  {
   "cell_type": "markdown",
   "metadata": {},
   "source": []
  }
 ],
 "metadata": {
  "language_info": {
   "name": "python"
  },
  "orig_nbformat": 4
 },
 "nbformat": 4,
 "nbformat_minor": 2
}
