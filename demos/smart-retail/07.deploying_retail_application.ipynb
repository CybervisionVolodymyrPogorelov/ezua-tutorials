{
 "cells": [
  {
   "cell_type": "markdown",
   "id": "23297498-83e8-459b-a96f-70d9258d66c6",
   "metadata": {
    "tags": []
   },
   "source": [
    "<img src=\"./images/logo.png\" alt=\"Drawing\" style=\"width: 500px;\"/>"
   ]
  },
  {
   "cell_type": "markdown",
   "id": "a32190ff-5766-48f0-9b3c-debaee8eabd5",
   "metadata": {
    "tags": []
   },
   "source": [
    "# **Exercise 7:** Deploying Custom Applications on HPE Ezmeral Unified Analytics \n",
    "\n",
    "In the final exercise of this series, you will immport and deploy a custom retail application on **HPE Ezmeral Unified Analytics**. This application will use your webcam to scan items as if you were at the checkout, detecting produce in the image using the model you created and served!\n",
    "\n",
    "In this exercise, you will:\n",
    "\n",
    "- Import the end2end application.\n",
    "- create the required config file.\n",
    "- predict objects!\n",
    "\n",
    "By the end of this exercise, you will have deployed an application that demonstrates what a next-generation retail experience could look like. In doing so, you will have completed the Smart Retail Experience Technical Demonstration. \n",
    "\n",
    "Let's dive in!"
   ]
  },
  {
   "cell_type": "markdown",
   "id": "7c4de5d3-103b-499f-b1cb-4e66d3fb1671",
   "metadata": {
    "tags": []
   },
   "source": [
    "<div class=\"alert alert-block alert-danger\">\n",
    "<b>Important:</b> This exercise requires the completion of Exercises 6: Serving your Model with KServe <b>and</b> a running Kubeflow Endpoint of your model!</div>"
   ]
  },
  {
   "cell_type": "markdown",
   "id": "b2343331-c978-4aa4-962d-8bdd02a58011",
   "metadata": {
    "tags": []
   },
   "source": [
    "**Prerequisite:**   \n",
    "Ensure you download the following files from your group directory to your 'working' laptop:   \n",
    "   \n",
    "group(x)-1.0.4.tgz    \n",
    "logo.png   \n",
    "config.ini\n",
    "\n"
   ]
  },
  {
   "cell_type": "markdown",
   "id": "6f1d4cfd-c046-447e-912a-b366be25b0d4",
   "metadata": {
    "tags": []
   },
   "source": [
    "## Import Framework"
   ]
  },
  {
   "cell_type": "markdown",
   "id": "e5fcb044-246f-4fb1-bf90-cb4ba4cf342e",
   "metadata": {
    "tags": []
   },
   "source": [
    "- Navigate to the 'Tools & Frameworks' menu and choose the 'Import Framework' option.\n",
    "\n",
    "\n",
    "- Complete the Framework details as follows:\n",
    "\n",
    "Framework Name: Enter '<Groupname>'   \n",
    "Version: Specify '1.0.0'   \n",
    "Description: Provide a suitable description that best represents your application.   \n",
    "Category: Select 'Data Science'   \n",
    "Finally, upload 'logo.png' as the Framework Icon.   \n",
    "    \n",
    "\n",
    "\n",
    "***The attached image provides an illustrative example for Group 9:***"
   ]
  },
  {
   "cell_type": "markdown",
   "id": "1244aa2c-f4ea-46fb-8f0a-a73daed305c2",
   "metadata": {
    "tags": []
   },
   "source": [
    "<img src=\"images/exercise7/import1.png\" style=\"height:600px\">"
   ]
  },
  {
   "cell_type": "markdown",
   "id": "a051ab23-d233-4407-9d27-0702bf114273",
   "metadata": {
    "tags": []
   },
   "source": [
    "Fill in the Framework details on the second screen as follows:\n",
    "\n",
    "Helm Chart: Choose 'Upload New Chart' and use the previously downloaded file group<x>-1.0.4.tgz.\n",
    "Namespace: Enter 'imported-<groupname>'.\n",
    "Ensure the 'Debug' checkbox is selected.\n",
    "    "
   ]
  },
  {
   "cell_type": "markdown",
   "id": "9ef09226-7014-4cf3-a0da-d5b83ba6184e",
   "metadata": {
    "tags": []
   },
   "source": [
    "<img src=\"images/exercise7/import2.png\" style=\"height:600px\">"
   ]
  },
  {
   "cell_type": "markdown",
   "id": "9ddd6774-e597-4a64-9fd5-69b8c5b1e896",
   "metadata": {
    "tags": []
   },
   "source": [
    "In the 'Framework Values' screen, refrain from making any modifications.   \n",
    "However, it's advisable to review the contents of the values.yaml file.\n",
    "\n",
    "**Note: Pay special attention to the section titled 'ezua'!**"
   ]
  },
  {
   "cell_type": "markdown",
   "id": "76ba2707-a0dc-426c-a55d-cb00b9702bb6",
   "metadata": {
    "tags": []
   },
   "source": [
    "<img src=\"images/exercise7/framework-values.png\" style=\"height:600px\">"
   ]
  },
  {
   "cell_type": "markdown",
   "id": "880b79c2-cedb-4ce9-bd36-a9a878affe2b",
   "metadata": {
    "tags": []
   },
   "source": [
    "After waiting for a few minutes, you should be able to access your newly imported application.   "
   ]
  },
  {
   "cell_type": "markdown",
   "id": "12d90739-4f0e-411f-85af-7310668eb144",
   "metadata": {
    "tags": []
   },
   "source": [
    "# Configure End2End Application"
   ]
  },
  {
   "cell_type": "markdown",
   "id": "bf6d85f1-e8e0-4577-abe6-e3863c11fd7a",
   "metadata": {
    "tags": []
   },
   "source": [
    "Configure your application by navigating to the menu located in the upper left corner, where you can make modifications to the application."
   ]
  },
  {
   "cell_type": "markdown",
   "id": "63dbde8c-44bb-4c8e-a0f1-7ef0f3297dfd",
   "metadata": {
    "tags": []
   },
   "source": [
    "<img src=\"images/exercise7/configure_application.png\" style=\"height:600px\">"
   ]
  },
  {
   "cell_type": "markdown",
   "id": "b422eb40-b60a-4862-a382-10ee2d128ef6",
   "metadata": {
    "tags": []
   },
   "source": [
    "<div class=\"alert alert-block alert-danger\">\n",
    "<b>IMPORTANT:</b> Ensure to avoid typos and refrain from using non-existent parameters during configuration.\n",
    "</div>"
   ]
  },
  {
   "cell_type": "markdown",
   "id": "59977829-8eb6-453a-81f6-a9862abd9a3f",
   "metadata": {
    "tags": []
   },
   "source": [
    "<div class=\"alert alert-block alert-success\">\n",
    "<b>NOTE: </b>If you find yourself stuck and the application is in an 'unconfigurable' state, please contact the team for assistance in resetting your pod.</div>"
   ]
  },
  {
   "cell_type": "markdown",
   "id": "45abbbd7-a290-4e9c-9991-13e90296ec08",
   "metadata": {
    "tags": []
   },
   "source": [
    "Documentation for config.ini   \n",
    "This configuration file is structured into several sections, each defined within square brackets.   \n",
    "Below is a detailed breakdown of each section and its corresponding parameters:"
   ]
  },
  {
   "cell_type": "markdown",
   "id": "8a0bbe20-e98c-4b91-89fa-1b32424be39c",
   "metadata": {
    "tags": []
   },
   "source": [
    "```script\n",
    "# This section is designated for transport information and does not require any modifications by the user.\n",
    "\n",
    "[config]\n",
    "s3_upload_enabled: Boolean value (True/False) indicating whether S3 Picture upload are enabled.\n",
    "selected_model: Specifies the default model to be used, with 'default' - DO NOT EDIT THIS ONE!\n",
    "```"
   ]
  },
  {
   "cell_type": "markdown",
   "id": "aad40136-b1d6-4646-9562-df2da0a0d1df",
   "metadata": {
    "tags": []
   },
   "source": [
    "```script\n",
    "# This section is designated for transport information and does not require any modifications by the user.\n",
    "\n",
    "[upload_s3_login]\n",
    "upload_s3_access_key_id: Your S3 access key ID.\n",
    "upload_s3_secret_access_key: Your S3 secret access key.\n",
    "upload_s3_bucket: The name of the S3 bucket for uploads.\n",
    "upload_s3_url: The URL to your S3 API.\n",
    "upload_s3_path: The path within the S3 bucket where files will be uploaded, prefixed with 'new/'.\n",
    "\n",
    "````\n"
   ]
  },
  {
   "cell_type": "markdown",
   "id": "55d63ba3-d02c-410a-9bf9-4810d9857c90",
   "metadata": {
    "tags": []
   },
   "source": [
    "```script\n",
    "# This section is designated for transport information and does not require any modifications by the user.\n",
    "\n",
    "[model-default]\n",
    "use_presto: Boolean value indicating whether Presto is used (true/false).\n",
    "use_kserve: Boolean value indicating whether KServe is used (true/false).\n",
    "Offline S3 settings (offline_s3_access_key_id, offline_s3_secret_access_key, offline_s3_bucket, offline_s3_url, offline_s3_path, offline_s3_model): Configuration for accessing S3 storage offline.\n",
    "labels: List of item labels separated by commas.\n",
    "price: List of item prices corresponding to each label.\n",
    "````\n"
   ]
  },
  {
   "cell_type": "markdown",
   "id": "d5092887-6e20-4d88-a61b-2c16f1f855e0",
   "metadata": {
    "tags": []
   },
   "source": [
    "## modify the following section in your config.ini file"
   ]
  },
  {
   "cell_type": "markdown",
   "id": "5f474da6-b7ca-4368-9981-886ae7a60b32",
   "metadata": {
    "tags": []
   },
   "source": [
    "```script\n",
    "modify the model-<group-name> section in your config.ini file, each <entry> has to be adapted.\n",
    "\n",
    "[model-<group-name>]\n",
    "use_presto: False\n",
    "use_kserve: True\n",
    "labels: <add your labels, in the right order>\n",
    "price: <define some price tags, match to the labels>\n",
    "model_url: <enter the URL to access the online model.>\n",
    "keycloak_url: <enter the URL for Keycloak authentication.>\n",
    "model_username: group1\n",
    "model_password: Ezua@123!\n",
    "\n",
    "````\n",
    "\n"
   ]
  },
  {
   "cell_type": "code",
   "execution_count": null,
   "id": "b73fb10c-2461-47e9-8cf5-a6a91c0770af",
   "metadata": {},
   "outputs": [],
   "source": [
    "Please follow these steps carefully:\n",
    "\n",
    "1. Upload your file.\n",
    "2. Select the newly uploaded model from the list.\n",
    "3. Refresh your browser to ensure the changes take effect (Important).\n",
    "4. Initiate the prediction process."
   ]
  },
  {
   "cell_type": "markdown",
   "id": "a0402e32-6317-4a7d-ad85-a46193725daf",
   "metadata": {
    "tags": []
   },
   "source": [
    "<img src=\"images/exercise7/configure.png\" style=\"height:600px\">"
   ]
  },
  {
   "cell_type": "code",
   "execution_count": null,
   "id": "0792f587-a084-4862-8716-2f7743ef3881",
   "metadata": {},
   "outputs": [],
   "source": []
  },
  {
   "cell_type": "code",
   "execution_count": null,
   "id": "78a778be-3347-4183-b273-0a54f46dd3f6",
   "metadata": {},
   "outputs": [],
   "source": []
  },
  {
   "cell_type": "markdown",
   "id": "c286c6b6-3fc8-45cf-83f6-70e98e0a5f65",
   "metadata": {
    "tags": []
   },
   "source": [
    "# example for a working model_url and keycloak_url:\n",
    "\n",
    "```\n",
    "model_url = https://user2-end2end-retail-demo-isvc-predictor.user2.pe1.ezmeral.de/v1/models/user2-end2end-retail-demo-isvc:predict\n",
    "keycloak_url = https://keycloak.pe1.ezmeral.de/realms/UA/protocol/openid-connect/token\n",
    "```"
   ]
  },
  {
   "cell_type": "code",
   "execution_count": null,
   "id": "24c38754-2b35-4d33-8f1e-55700e038c86",
   "metadata": {},
   "outputs": [],
   "source": []
  }
 ],
 "metadata": {
  "kernelspec": {
   "display_name": "Python 3 (ipykernel)",
   "language": "python",
   "name": "python3"
  },
  "language_info": {
   "codemirror_mode": {
    "name": "ipython",
    "version": 3
   },
   "file_extension": ".py",
   "mimetype": "text/x-python",
   "name": "python",
   "nbconvert_exporter": "python",
   "pygments_lexer": "ipython3",
   "version": "3.11.6"
  }
 },
 "nbformat": 4,
 "nbformat_minor": 5
}
