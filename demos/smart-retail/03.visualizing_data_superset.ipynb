{
 "cells": [
  {
   "cell_type": "markdown",
   "id": "86bac2dc-3599-441e-ab23-d952d84d1e24",
   "metadata": {
    "tags": []
   },
   "source": [
    "<img src=\"./images/logo.png\" alt=\"Drawing\" style=\"width: 500px;\"/>"
   ]
  },
  {
   "cell_type": "markdown",
   "id": "a074912e-a062-47a4-9d0a-e8a6a016dd73",
   "metadata": {
    "tags": []
   },
   "source": [
    "# **Exercise 3:** Visualizing Data with Superset\n",
    "\n",
    "In the previous two exercises, we generated a large amount of synthetic sales data and created a smaller dataset using SQL. In this exercise, we will visualize this smaller dataset with Apache Superset. Superset allows users to create interactive dashboards and visualizations from various data sources, making it a valuable tool for data analysis and exploration.\n",
    "\n",
    "In this exercise, you will:\n",
    "\n",
    "- Explore how to create a dataset from a cached data asset, ensuring efficient data retrieval and processing.\n",
    "- Learn to generate several types of charts, including bar charts, line charts, and scatter plots, to visualize different aspects of your data.\n",
    "- Combine these individual charts into a comprehensive dashboard, providing a holistic view of your data and facilitating insights and decision-making.\n",
    "\n",
    "By the end of this exercise, you will have the skills to leverage Superset effectively for data visualization, enabling you to communicate complex insights and trends with clarity and impact.\n",
    "\n",
    "Let's dive in and start visualizing data with Superset!"
   ]
  },
  {
   "cell_type": "markdown",
   "id": "1dd7d293-5fc5-4f53-b954-b7dca5a313ab",
   "metadata": {
    "tags": []
   },
   "source": [
    "### **Contents:**\n",
    "insert ToC here"
   ]
  },
  {
   "cell_type": "markdown",
   "id": "d7c59497-d0f9-43a9-914c-185ae58818f9",
   "metadata": {
    "tags": []
   },
   "source": [
    "## **1. Connecting Superset to EzPresto**\n",
    "\n",
    "First, you will need to make the data assets available to Superset. As demonstrated throughout Exercise 2, **HPE Ezmeral Unified Analytics** leverages **EzPresto** to connect the Data Sources and Cached Assets to hosted applications. \n",
    "\n",
    "To create an EzPresto connection in Superset:\n"
   ]
  },
  {
   "cell_type": "markdown",
   "id": "86002862-4203-4e98-9836-f85744ddbf3c",
   "metadata": {
    "tags": []
   },
   "source": [
    "1. Navigate back to the Unified Analytics dashboard.\n",
    "1. In the sidebar navigation menu, select `Tools & Applications` > `Data Engineering`.\n",
    "1. Under `Superset`, click `Open`. Superset will now open in a new tab.\n",
    "1. In Superset, click the `+` button in the top-right corner.\n",
    "1. Under `Data`, click `Connect database`."
   ]
  },
  {
   "cell_type": "markdown",
   "id": "126fb4f7-85f2-43b4-8f4c-eeedc4b61a02",
   "metadata": {
    "tags": []
   },
   "source": [
    "<img src=\"./images/exercise3/DBConnections.png\" alt=\"Drawing\" style=\"width: 500px;\"/>"
   ]
  },
  {
   "cell_type": "markdown",
   "id": "efe6056d-8113-45c3-82a0-9b3b1515f5aa",
   "metadata": {
    "tags": []
   },
   "source": [
    "6. Click `Presto`\n",
    "7. In the `SQLAlchemy URI` field, enter the following: \n",
    "\n",
    "    `presto://ezpresto.<YOUR_DOMAIN>:443/cache`\n",
    " \n",
    "    Replace **< YOUR_DOMAIN >** with the domain name of your Unified Analytics cluster. (To find this, observe the URL of your Unified Analytics dashboard. It will be in the format of `https://home.<YOUR_DOMAIN>`"
   ]
  },
  {
   "cell_type": "markdown",
   "id": "d2989ad7-1624-4df1-bb52-b9a87872d537",
   "metadata": {
    "tags": []
   },
   "source": [
    "<img src=\"./images/exercise3/presto.png\" alt=\"Drawing\" style=\"width: 400px;\"/>"
   ]
  },
  {
   "cell_type": "markdown",
   "id": "305d800c-383c-4161-85bd-0db34a721334",
   "metadata": {
    "tags": []
   },
   "source": [
    "8. Click `Test Connection`. If the connection is successful, a message will appear in the bottom right corner stating that the 'Connection looks good!'\n",
    "9. Click `Connect`. "
   ]
  },
  {
   "cell_type": "markdown",
   "id": "2f34b061-c46d-4864-ad93-36367fd76695",
   "metadata": {
    "jp-MarkdownHeadingCollapsed": true,
    "tags": []
   },
   "source": [
    "<div class=\"alert alert-block alert-danger\">\n",
    "<b>Important</b> Make sure you finished Exercise 2 successfully before and have the name of your cached asset at hand\n",
    "</div>"
   ]
  },
  {
   "cell_type": "markdown",
   "id": "4be59379-6d08-426b-b759-80942d845b76",
   "metadata": {
    "tags": []
   },
   "source": [
    "## **2. Adding Cached Asset as a Superset Dataset**"
   ]
  },
  {
   "cell_type": "markdown",
   "id": "f01447dc-f972-4284-8242-bc7a63df516b",
   "metadata": {
    "tags": []
   },
   "source": [
    "Head to Superset, this can either be done with the burger menu on the left side by selecting Dashboards underneath BI Reporting or under Tools & Frameworks you can find it on the Data Engineering tab.\n",
    "1. Head to Datasets\n",
    "2. Add a new dataset (choose the DB Presto and your cached asset)"
   ]
  },
  {
   "cell_type": "markdown",
   "id": "7e7a7dbb-003b-424d-bb37-302ce6493c34",
   "metadata": {
    "tags": []
   },
   "source": [
    "## **3. Creating Data Charts**"
   ]
  },
  {
   "cell_type": "markdown",
   "id": "563439dc-aad6-4055-a8a6-8324373c00ba",
   "metadata": {
    "tags": []
   },
   "source": [
    "Using the dataset you just created, create three charts:\n",
    "\n",
    "1) shows in a graphical way where the stores are located\n",
    "2) shows the total sales of each product per country (don't use a bar chart!)\n",
    "3) shows the names of all products sold, size dependant on the quantity"
   ]
  },
  {
   "cell_type": "markdown",
   "id": "fbb41ac9-0a5f-4dbf-92a4-07cd16f1f766",
   "metadata": {
    "tags": []
   },
   "source": [
    "## **4. Creating a Superset Dashboard**"
   ]
  },
  {
   "cell_type": "markdown",
   "id": "95e24fd3-719f-4b1a-b477-91b9c68180db",
   "metadata": {
    "tags": []
   },
   "source": [
    "Create a new Dashboard called like your group name (e.g. group1)\n",
    "Add the charts you created before to one Dashboard, and make also use of the Layout Elements like dividers and headers."
   ]
  },
  {
   "cell_type": "markdown",
   "id": "35e36b7f-262e-444c-823e-afb3853be718",
   "metadata": {
    "tags": []
   },
   "source": [
    "<div class=\"alert alert-block alert-warning\">\n",
    "    <b>To Do:</b> Get Superset tutorial from repo. Integrate steps + screenshots on making Charts.\n",
    "</div>"
   ]
  },
  {
   "cell_type": "code",
   "execution_count": null,
   "id": "363b3aac-eea6-4c81-b49d-76faa4831be5",
   "metadata": {},
   "outputs": [],
   "source": []
  }
 ],
 "metadata": {
  "kernelspec": {
   "display_name": "Python 3 (ipykernel)",
   "language": "python",
   "name": "python3"
  },
  "language_info": {
   "codemirror_mode": {
    "name": "ipython",
    "version": 3
   },
   "file_extension": ".py",
   "mimetype": "text/x-python",
   "name": "python",
   "nbconvert_exporter": "python",
   "pygments_lexer": "ipython3",
   "version": "3.11.6"
  }
 },
 "nbformat": 4,
 "nbformat_minor": 5
}
