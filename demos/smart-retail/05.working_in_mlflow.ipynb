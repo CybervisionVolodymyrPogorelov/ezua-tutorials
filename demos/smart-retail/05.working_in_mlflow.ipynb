{
 "cells": [
  {
   "cell_type": "markdown",
   "id": "4f49fcb3-4274-4e7c-9869-e8dd69fa11f4",
   "metadata": {
    "tags": []
   },
   "source": [
    "<img src=\"./images/logo.png\" alt=\"Drawing\" style=\"width: 500px;\"/>"
   ]
  },
  {
   "cell_type": "markdown",
   "id": "a08918df-ae69-4e02-b350-82b0f1cdcdc9",
   "metadata": {
    "tags": []
   },
   "source": [
    "# **Exercise 5:** Tracking, Registering and Inferencing Models in MLflow\n",
    "\n",
    "You've trained a model. What's next? You could gather further produce data and train the model further? You could serve the model through an endpoint to allow others and/or frontend applications to use it? Perhaps you'd want to use it as a base model to train a whole new model with a whole new dataset? \n",
    "\n",
    "To do any of these requires a deeper dive into ML into MLflow - the most popular and contributed open-source machine learning platform that comes natively installed with **HPE Ezmeral Unified Analytics.** And in this exercise, we'll do just that.\n",
    "\n",
    "In this exercise, you will learn how to perform the following on MLflow:\n",
    "\n",
    "- Manage artifacts & metrics on MLflow\n",
    "- Register the model\n",
    "- Manage models, including moving them to and from Production staging\n",
    "- Inference the model using an MLflow endpoint\n",
    "\n",
    "By the end of this exercise, you will have a firm understanding of the art of Machine Learning Operations (MLOps) with MLflow.\n",
    "\n",
    "Let's dive in!"
   ]
  },
  {
   "cell_type": "markdown",
   "id": "4eb5548d-0877-4551-9c81-9e6f37c25823",
   "metadata": {
    "tags": []
   },
   "source": [
    "<div class=\"alert alert-block alert-danger\">\n",
    "<b>Important:</b> This exercise requires the completion of Exercise 4:  Building a Image Classification Model with Tensorflow and MLflow.</div>"
   ]
  },
  {
   "cell_type": "markdown",
   "id": "490016b4-5cb1-4699-9c00-ecfc8a19cd23",
   "metadata": {
    "tags": []
   },
   "source": [
    "## **1. Declaring Variables and Importing Libraries**"
   ]
  },
  {
   "cell_type": "markdown",
   "id": "888d59f3-ff7f-4465-bf4a-5459927866f3",
   "metadata": {
    "tags": []
   },
   "source": [
    "Let's re-declare the variables related to our MLflow experiement such that we can access them in this exercise."
   ]
  },
  {
   "cell_type": "code",
   "execution_count": null,
   "id": "c129f625-a3e9-4b4b-a95e-ee05fbe6ba0e",
   "metadata": {
    "tags": []
   },
   "outputs": [],
   "source": [
    "# Experiment variables for MLflow\n",
    "experiment_name = \"smart-retail\"\n",
    "model_name = \"retail-recognition\"\n",
    "artifact_path = \"model\""
   ]
  },
  {
   "cell_type": "markdown",
   "id": "d9589dae-75c1-49fd-8ea8-72dc42c2c429",
   "metadata": {
    "tags": []
   },
   "source": [
    "Next, we'll import the necessary libraries. To learn more about these libraries, check out Section 1 of [Exercise 4](./04.model_training.ipynb).\n",
    "\n",
    "Ignore any warnings that appear."
   ]
  },
  {
   "cell_type": "code",
   "execution_count": 2,
   "id": "150f8bf7-ed2c-4c87-934c-9c79e6a63a93",
   "metadata": {
    "papermill": {
     "duration": 7.613981,
     "end_time": "2023-03-13T20:40:28.950010",
     "exception": false,
     "start_time": "2023-03-13T20:40:21.336029",
     "status": "completed"
    },
    "tags": [
     "imports"
    ]
   },
   "outputs": [
    {
     "name": "stderr",
     "output_type": "stream",
     "text": [
      "2024-04-02 20:29:41.914546: I external/local_tsl/tsl/cuda/cudart_stub.cc:32] Could not find cuda drivers on your machine, GPU will not be used.\n",
      "2024-04-02 20:29:41.920282: I external/local_tsl/tsl/cuda/cudart_stub.cc:32] Could not find cuda drivers on your machine, GPU will not be used.\n",
      "2024-04-02 20:29:41.981877: I tensorflow/core/platform/cpu_feature_guard.cc:210] This TensorFlow binary is optimized to use available CPU instructions in performance-critical operations.\n",
      "To enable the following instructions: AVX2 AVX512F FMA, in other operations, rebuild TensorFlow with the appropriate compiler flags.\n",
      "2024-04-02 20:29:43.492974: W tensorflow/compiler/tf2tensorrt/utils/py_utils.cc:38] TF-TRT Warning: Could not find TensorRT\n"
     ]
    }
   ],
   "source": [
    "import mlflow\n",
    "from mlflow.tracking.client import MlflowClient\n",
    "from mlflow.entities.model_registry.model_version_status import ModelVersionStatus\n",
    "from IPython.display import display\n",
    "from PIL import Image\n",
    "import numpy as np\n",
    "from tensorflow.keras.preprocessing.image import load_img,img_to_array\n",
    "from io import BytesIO"
   ]
  },
  {
   "cell_type": "code",
   "execution_count": null,
   "id": "7806e004-2439-4f4a-b4dc-05561777a1c0",
   "metadata": {
    "tags": []
   },
   "outputs": [],
   "source": [
    "%update_token"
   ]
  },
  {
   "cell_type": "markdown",
   "id": "0b675d6f-e171-411e-b9a3-1667777094b7",
   "metadata": {
    "papermill": {
     "duration": 0.074875,
     "end_time": "2023-03-13T21:22:22.585971",
     "exception": false,
     "start_time": "2023-03-13T21:22:22.511096",
     "status": "completed"
    },
    "tags": []
   },
   "source": [
    "## **2. Checking In**"
   ]
  },
  {
   "cell_type": "markdown",
   "id": "3309e45c-06f1-4b38-a443-165d90a0bda4",
   "metadata": {
    "tags": []
   },
   "source": [
    "In the last exercise, we trained a model and saved it as an MLflow artifact. Let's go inspect it in MLflow.\n",
    "\n",
    "1. Navigate back to the Unified Analytics dashboard.\n",
    "1. In the sidebar navigation menu, select `Data Science` > `Experiments`.\n",
    "1. The **MLflow Experiments** page will open in a new tab."
   ]
  },
  {
   "cell_type": "markdown",
   "id": "6c5d6bbf-97af-4f56-8d9e-5c4ae74bd029",
   "metadata": {
    "tags": []
   },
   "source": [
    "Here, you will be able to see all of the experimental **runs** you have executed. \n",
    "\n",
    "4. Right click on the Run Name `smart-retail-...`, then click `Show more columns`.\n",
    "\n",
    "Now, we can compare some of the other **metrics** stored alongside a model, like `accuracy` and `loss`. \n",
    "\n",
    "<img src=\"./images/exercise5/mlflow.PNG\" alt=\"Drawing\" style=\"width: 80%;\"/>"
   ]
  },
  {
   "cell_type": "markdown",
   "id": "74e4eb46-1476-4847-9c76-5624beb5f606",
   "metadata": {
    "tags": []
   },
   "source": [
    "<div class=\"alert alert-block alert-warning\">\n",
    "<b>To Do:</b> New image required.</div>"
   ]
  },
  {
   "cell_type": "markdown",
   "id": "6752ceb3-fb57-4251-9976-39ac219f26ad",
   "metadata": {
    "tags": []
   },
   "source": [
    "5. Click on the Run Name to explore it further. \n",
    "\n",
    "In this pane, we can see the **parameters** we set up for this model, as well as the **metrics**, all of the **artifacts** associated with run (including the model file and data) and the **Full Path** to the model, which we can call to access the model from this specific run. \n",
    "\n",
    "<img src=\"./images/exercise5/model.PNG\" alt=\"Drawing\" style=\"width: 50%;\"/>"
   ]
  },
  {
   "cell_type": "markdown",
   "id": "0780b638-9c80-49c0-9de2-f12cc0314356",
   "metadata": {
    "tags": []
   },
   "source": [
    "<div class=\"alert alert-block alert-warning\">\n",
    "<b>To Do:</b> New image required.</div>"
   ]
  },
  {
   "cell_type": "markdown",
   "id": "48380789-54c2-4771-89fb-a4189c2def3e",
   "metadata": {
    "papermill": {
     "duration": 0.074875,
     "end_time": "2023-03-13T21:22:22.585971",
     "exception": false,
     "start_time": "2023-03-13T21:22:22.511096",
     "status": "completed"
    },
    "tags": []
   },
   "source": [
    "## **3. Registering a Model in the Model Regsitry**"
   ]
  },
  {
   "cell_type": "markdown",
   "id": "c35afea6-01f9-4448-af76-3645da49f4ae",
   "metadata": {
    "tags": []
   },
   "source": [
    "Back here in the notebook, we're going to learn how to add the model to the MLflow **Model Registry**. A Model Regsitry is a specialized library to store, track, and manage all the different versions of your models.  \n",
    "\n",
    "Storing your models in a Model Registry has many major advantages, including:\n",
    "\n",
    "**Model Storage**: Just like a library stores books, a model registry stores trained machine learning models. These models are like the recipes you create to solve specific problems.\n",
    "\n",
    "**Version Control**:  As you experiment and improve your models, you create new versions. A model registry keeps track of all these different versions, allowing you to compare them and see which one performs best and \"rollback\" if future experiments give an undesirable output. \n",
    "\n",
    "**Documentation**:  In addition to the models themselves, a registry can store important information about each model, like the data it was trained on, its performance metrics, and who created it. This documentation helps everyone understand what the model does and how it was built.\n",
    "\n",
    "**Collaboration**:  A model registry acts as a central hub for data scientists and engineers working on the same project. They can all access and use the models stored there, making collaboration smoother.\n",
    "\n",
    "**Deployment**:  Once you've chosen the best model version, the registry can help you deploy it into production, meaning you can use it to make real-world predictions.\n",
    "\n",
    "Overall, a model registry helps organizations manage the lifecycle of their machine learning models, from creation to deployment. It ensures everyone's on the same page, models are well-documented, and the best versions are easily accessible."
   ]
  },
  {
   "cell_type": "markdown",
   "id": "1ef9744d-906d-4cd2-89b7-c8ea13a1f95c",
   "metadata": {
    "tags": []
   },
   "source": [
    "First, let's bring up the runs assosicated with our `smart-retail` experiment and get the ID of the most recent run."
   ]
  },
  {
   "cell_type": "code",
   "execution_count": null,
   "id": "269889a0-f6ca-4c5f-a965-61e5f57ac528",
   "metadata": {
    "tags": []
   },
   "outputs": [],
   "source": [
    "# Search for runs in the specified experiment, ordering by start time in descending order\n",
    "runs = mlflow.search_runs(experiment_ids=[mlflow.get_experiment_by_name(experiment_name).experiment_id],\n",
    "                          order_by=[\"start_time desc\"],\n",
    "                          filter_string=\"\")\n",
    "\n",
    "# Check if there are any runs\n",
    "if not runs.empty:\n",
    "    # Get the run ID of the last active run\n",
    "    last_run_id = runs.iloc[0][\"run_id\"]\n",
    "    print(\"Last active run ID for experiment '{}': {}\".format(experiment_name, last_run_id))\n",
    "else:\n",
    "    print(\"No runs found for experiment '{}'.\".format(experiment_name))"
   ]
  },
  {
   "cell_type": "markdown",
   "id": "7b5c9949-feb2-40e9-895b-1dec7ba2b5e4",
   "metadata": {
    "tags": []
   },
   "source": [
    "We'll use then create a URI for our model to specify where it is using the run ID and artifact path (declared above as just `model`). \n",
    "\n",
    "Using this URI, we can register the model in the MLflow Model Registry under a given model name (declared above as `retail-recognition`). \n",
    "\n",
    "Then, initiate the creation of a new model version and wait for it to become ready. Continuously check and print the status of the model version until it becomes \"READY\". Finally, update the description of the registered model."
   ]
  },
  {
   "cell_type": "code",
   "execution_count": null,
   "id": "85020498-9b64-48eb-9e23-070631b954f1",
   "metadata": {},
   "outputs": [],
   "source": [
    "# set parameters model_uri and model details and register model in mlflow\n",
    "model_uri = \"runs:/{run_id}/{artifact_path}\".format(run_id=last_run_id, artifact_path=artifact_path)\n",
    "model_details = mlflow.register_model(model_uri=model_uri, name=model_name)"
   ]
  },
  {
   "cell_type": "markdown",
   "id": "df4cfe53-dfa8-4dc8-88ba-00e2b379603c",
   "metadata": {
    "tags": []
   },
   "source": [
    "Next, we'll define a function that repeatedly checks the status of our model version in the MLflow model registry, updating its description until it becomes \"READY\", with the loop breaking once the status is achieved."
   ]
  },
  {
   "cell_type": "code",
   "execution_count": null,
   "id": "f1179e0c-702d-479d-bb59-58ddc6cbaf1f",
   "metadata": {
    "tags": []
   },
   "outputs": [],
   "source": [
    "# Define a function to wait until a specified model version is ready\n",
    "def wait_until_ready(model_name, model_version):\n",
    "    # Initialize MLflow client\n",
    "    client = MlflowClient()\n",
    "    \n",
    "    # Iterate a maximum of 10 times to check the status\n",
    "    for _ in range(10):\n",
    "        # Get details of the specified model version\n",
    "        model_version_details = client.get_model_version(\n",
    "            name=g_model_name,\n",
    "            version=model_version,\n",
    "        )\n",
    "        \n",
    "        # Convert the status to a readable string and print it\n",
    "        status = ModelVersionStatus.from_string(model_version_details.status)\n",
    "        print(\"Model status: %s\" % ModelVersionStatus.to_string(status))\n",
    "        \n",
    "        # If the status is \"READY\", exit the loop\n",
    "        if status == ModelVersionStatus.READY:\n",
    "            break\n",
    "        \n",
    "        # Wait for one second before checking again\n",
    "        time.sleep(1)\n",
    "        \n",
    "        # Update the description of the registered model\n",
    "        client.update_registered_model(\n",
    "            name=model_name, \n",
    "            description=\"Fruit & Vegetables Cashierless Store\"\n",
    "        )\n",
    "\n",
    "# Call the function with specified parameters\n",
    "wait_until_ready(model_details.name, model_details.version)\n"
   ]
  },
  {
   "cell_type": "markdown",
   "id": "c0c03e3e-f97a-4ddd-91fc-864260bb9ae5",
   "metadata": {
    "tags": []
   },
   "source": [
    "<div class=\"alert alert-block alert-warning\">\n",
    "<b>To Do:</b> Write steps to check the results of this in MLflow.</div>"
   ]
  },
  {
   "cell_type": "markdown",
   "id": "921b10a2-94f5-4d25-a00d-7a713f47eb1c",
   "metadata": {
    "tags": []
   },
   "source": [
    "### Transition the model to `Production` stage"
   ]
  },
  {
   "cell_type": "code",
   "execution_count": null,
   "id": "7908bcd3-b72c-4fab-a2f1-8e289f343bce",
   "metadata": {
    "tags": []
   },
   "outputs": [],
   "source": [
    "# create an instance of the MlflowClient\n",
    "client = MlflowClient()\n",
    "\n",
    "# Get the latest model created for our experiment\n",
    "latest_versions = client.get_latest_versions(name=model_name, stages=[\"None\"])\n",
    "latest_version = latest_versions[0]\n",
    "\n",
    "# Transition the desired model version to production stage\n",
    "client.transition_model_version_stage(\n",
    "  name=model_name,\n",
    "  version=latest_version.version,\n",
    "  stage='Production',\n",
    ")"
   ]
  },
  {
   "cell_type": "markdown",
   "id": "f6c2b382-447f-4391-be7d-bbc483f0f049",
   "metadata": {
    "tags": []
   },
   "source": [
    "<div class=\"alert alert-block alert-warning\">\n",
    "<b>To Do:</b> Write steps to check the results of this in MLflow.</div>"
   ]
  },
  {
   "cell_type": "markdown",
   "id": "1885b533-b007-4832-a79c-d3904b63cd73",
   "metadata": {
    "tags": []
   },
   "source": [
    "### Transition the other models to `Archived` stage"
   ]
  },
  {
   "cell_type": "code",
   "execution_count": null,
   "id": "75387be9-09e5-420d-bd12-f53b4c28c8fe",
   "metadata": {
    "tags": []
   },
   "outputs": [],
   "source": [
    "# Transition model versions to a different stage if their current stage is not \"production\"\n",
    "model_versions = client.search_model_versions(\"\")\n",
    "\n",
    "# Transition model versions to a different stage if their current stage is not \"production\"\n",
    "for mv in model_versions:\n",
    "    if mv.name == model_name:\n",
    "        if mv.version != latest_version.version:\n",
    "            client.transition_model_version_stage(\n",
    "                name=mv.name,\n",
    "                version=mv.version,\n",
    "                stage=\"Archived\"\n",
    "            )\n",
    "            print(f\"Model: {mv.name}, version: {mv.version} has been moved to Archived\")\n",
    "\n",
    "            # Update Model Version Description\n",
    "            client.update_model_version(\n",
    "                name=mv.name,\n",
    "                version=mv.version,\n",
    "                description=\"Model Moved to Archived\"\n",
    "            )"
   ]
  },
  {
   "cell_type": "markdown",
   "id": "ff9fe900-77b0-4da9-912b-b1c8c0a5a571",
   "metadata": {
    "tags": []
   },
   "source": [
    "<div class=\"alert alert-block alert-warning\">\n",
    "<b>To Do:</b> Write steps to check the results of this in MLflow.</div>"
   ]
  },
  {
   "cell_type": "markdown",
   "id": "c668b9dc-2e73-4a65-8087-027130bf0937",
   "metadata": {
    "tags": []
   },
   "source": [
    "## **6. Model Testing**"
   ]
  },
  {
   "cell_type": "markdown",
   "id": "d361e825-034f-443d-8168-18cefc88d048",
   "metadata": {
    "papermill": {
     "duration": 0.074875,
     "end_time": "2023-03-13T21:22:22.585971",
     "exception": false,
     "start_time": "2023-03-13T21:22:22.511096",
     "status": "completed"
    },
    "tags": []
   },
   "source": [
    "Similar to the previous exercise, we will now test our model - but instead of calling the model from a saved variable in the notebook's memory, this time we will call it from the MLflow Model Registry."
   ]
  },
  {
   "cell_type": "code",
   "execution_count": null,
   "id": "9cb76100-f1fb-4aa0-a123-d0a83374fb94",
   "metadata": {
    "tags": [
     "skip"
    ]
   },
   "outputs": [],
   "source": [
    "# Get the source URI or location of the model version\n",
    "logged_model = latest_version.source\n",
    "\n",
    "# Load model as a PyFuncModel.\n",
    "loaded_model = mlflow.pyfunc.load_model(logged_model)"
   ]
  },
  {
   "cell_type": "code",
   "execution_count": null,
   "id": "7f33c15c-8c2a-456a-9628-44f0869c4a28",
   "metadata": {
    "tags": [
     "skip"
    ]
   },
   "outputs": [],
   "source": [
    "def predict(url):\n",
    "    # Preprocess the image\n",
    "    response = requests.get(url)\n",
    "    img = Image.open(BytesIO(response.content))\n",
    "    img = img.resize((224, 224))  \n",
    "    img_array = img_to_array(img)\n",
    "    img_array = img_array / 255.0\n",
    "    img_array = np.expand_dims(img_array, axis=0)\n",
    "\n",
    "    # Make a prediction\n",
    "    prediction = loaded_model.predict(img_array)   # We update the previous function to use the loaded model here\n",
    "    predicted_class = np.argmax(prediction, axis=-1)\n",
    "    result = labels[predicted_class[0]]\n",
    "    \n",
    "    # Display the image\n",
    "    display(img)\n",
    "\n",
    "    return result"
   ]
  },
  {
   "cell_type": "markdown",
   "id": "3e4919ec-92ec-4ae9-a3d9-5d7f1c662594",
   "metadata": {
    "tags": []
   },
   "source": [
    "Now, **go out** onto Google Images and find any image with a fruit or vegetable. Replace the `image_url` variable with the link to your image."
   ]
  },
  {
   "cell_type": "code",
   "execution_count": null,
   "id": "a4c4dda5-e6a8-47d1-ab1d-c60d6030f744",
   "metadata": {
    "tags": [
     "skip"
    ]
   },
   "outputs": [],
   "source": [
    "# Example usage with an image URL\n",
    "image_url = \"\"\n",
    "\n",
    "predicted_label = predict(image_url)\n",
    "print(\"The model predicts: \" + str(predicted_label))"
   ]
  },
  {
   "cell_type": "markdown",
   "id": "7915e7f0-fec1-4c34-b9ba-d3523879d63e",
   "metadata": {
    "tags": []
   },
   "source": [
    "Did the model correctly guess what was in your image? If so, great! If not... *still* also great!\n",
    "\n",
    "As you have now observed through using a Model Registry, **incorrect predictions** from models provide vital feedback that can help you to understand the model's behaviour and improve either the training dataset or the model. Using the MLflow Model Registry, we can compare multiple versions of the same model and understand how tweaking the dataset and model parameters can affect performance."
   ]
  },
  {
   "cell_type": "markdown",
   "id": "4b892674-e0d6-4cb8-87ed-63ab76aa59de",
   "metadata": {},
   "source": [
    "## **Conclusion**"
   ]
  },
  {
   "cell_type": "markdown",
   "id": "4dc02b8e-559d-486b-97f0-d52706cb3981",
   "metadata": {
    "tags": []
   },
   "source": [
    "In a single exercise, you have learned the basics of machine learning - including how to import and prepare a dataset, define training parameters, set up an MLflow experiment to track the training run and trained a model using the Tensorflow library. \n",
    "\n",
    "Now, we have a model file that we can run `model.precict` on any new image to detect any fresh produce our retail customers are scanning at the checkout! \n",
    "\n",
    "In the next exercise, we will run through MLflow in more detail. Training and fine tuning models is an interative process, so ensuring that our models are appropriately registered and training experiments are tracked not only provides us with new, identifyable base models for which to train new data on, but when our model is deployed to hundreds of retail stores across several countries, we can be sure we're using the right one! **rewrite this based on MLFlow cell above**.\n",
    "\n",
    "In the next exercise, you will learn to **serve** the latest version of your model from the repository using **Kserve** - making it callable from your own retail application!   "
   ]
  },
  {
   "cell_type": "code",
   "execution_count": null,
   "id": "e89ebb7a-97b5-4a62-89f2-82d0253b9425",
   "metadata": {},
   "outputs": [],
   "source": []
  }
 ],
 "metadata": {
  "kernelspec": {
   "display_name": "Python 3 (ipykernel)",
   "language": "python",
   "name": "python3"
  },
  "kubeflow_notebook": {
   "autosnapshot": false,
   "docker_image": "gcr.io/mapr-252711/kubeflow/notebooks/jupyter-tensorflow-cuda-full:ezaf-fy23-q2",
   "experiment": {
    "id": "new",
    "name": "jk-fruit-demo"
   },
   "experiment_name": "jk-fruit-demo",
   "katib_metadata": {
    "algorithm": {
     "algorithmName": "random",
     "algorithmSettings": [
      {
       "name": "random_state",
       "value": "10"
      },
      {
       "name": "acq_optimizer",
       "value": "auto"
      },
      {
       "name": "acq_func",
       "value": "gp_hedge"
      },
      {
       "name": "base_estimator",
       "value": "GP"
      }
     ]
    },
    "maxFailedTrialCount": 3,
    "maxTrialCount": 12,
    "objective": {
     "additionalMetricNames": [],
     "goal": 1,
     "objectiveMetricName": "stage",
     "type": "maximize"
    },
    "parallelTrialCount": 3,
    "parameters": [
     {
      "feasibleSpace": {
       "max": "50",
       "min": "1",
       "step": "1"
      },
      "name": "param_epoch",
      "parameterType": "int"
     },
     {
      "feasibleSpace": {
       "list": [
        "32",
        "64"
       ]
      },
      "name": "param_batch_size",
      "parameterType": "categorical"
     },
     {
      "feasibleSpace": {
       "max": "10",
       "min": "1",
       "step": "1"
      },
      "name": "param_patience",
      "parameterType": "int"
     }
    ]
   },
   "katib_run": false,
   "pipeline_description": "fruit-veg",
   "pipeline_name": "fruit-veg",
   "snapshot_volumes": false,
   "steps_defaults": [
    "label:access-ml-pipeline:true",
    "label:add-ldapcert-secret:true",
    "label:add-sssd-secret:true",
    "label:add-user-s3-secret:true"
   ],
   "storage_class_name": "dataplatform",
   "volume_access_mode": "rwm",
   "volumes": [
    {
     "annotations": [],
     "mount_point": "/mnt/shared/",
     "name": "kubeflow-pipeline",
     "size": 1,
     "size_type": "Gi",
     "snapshot": false,
     "snapshot_name": "",
     "type": "pvc"
    }
   ]
  },
  "language_info": {
   "codemirror_mode": {
    "name": "ipython",
    "version": 3
   },
   "file_extension": ".py",
   "mimetype": "text/x-python",
   "name": "python",
   "nbconvert_exporter": "python",
   "pygments_lexer": "ipython3",
   "version": "3.11.6"
  },
  "papermill": {
   "default_parameters": {},
   "duration": 2679.282234,
   "end_time": "2023-03-13T21:24:51.692744",
   "environment_variables": {},
   "exception": null,
   "input_path": "__notebook__.ipynb",
   "output_path": "__notebook__.ipynb",
   "parameters": {},
   "start_time": "2023-03-13T20:40:12.410510",
   "version": "2.4.0"
  }
 },
 "nbformat": 4,
 "nbformat_minor": 5
}
