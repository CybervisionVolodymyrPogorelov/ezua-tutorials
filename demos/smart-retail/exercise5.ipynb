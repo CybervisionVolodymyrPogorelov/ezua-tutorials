{
 "cells": [
  {
   "cell_type": "markdown",
   "id": "4f49fcb3-4274-4e7c-9869-e8dd69fa11f4",
   "metadata": {
    "tags": []
   },
   "source": [
    "<img src=\"./images/logo.png\" alt=\"Drawing\" style=\"width: 500px;\"/>"
   ]
  },
  {
   "cell_type": "markdown",
   "id": "20c186f6-e95f-463b-980c-1b8c83503285",
   "metadata": {
    "tags": []
   },
   "source": [
    "# Exercise 5: Track your Experiment and Register the Model"
   ]
  },
  {
   "cell_type": "markdown",
   "id": "93802462-7dfc-4c70-9d83-34abc68ffd1a",
   "metadata": {
    "tags": []
   },
   "source": [
    "## What we will cover:\n",
    "- Find saved artifacts & metrics on MLflow\n",
    "- Register the model and move it to Production\n",
    "- Prediction test to validate the results"
   ]
  },
  {
   "cell_type": "markdown",
   "id": "0b675d6f-e171-411e-b9a3-1667777094b7",
   "metadata": {
    "papermill": {
     "duration": 0.074875,
     "end_time": "2023-03-13T21:22:22.585971",
     "exception": false,
     "start_time": "2023-03-13T21:22:22.511096",
     "status": "completed"
    },
    "tags": []
   },
   "source": [
    "## 1. Validate that the Model was generated and Stored in MLflow"
   ]
  },
  {
   "cell_type": "markdown",
   "id": "3309e45c-06f1-4b38-a443-165d90a0bda4",
   "metadata": {
    "tags": []
   },
   "source": [
    "### Head back to the menu and select `Experiments`\n",
    "![image.png](./images/exercise5/menu2.PNG)"
   ]
  },
  {
   "cell_type": "markdown",
   "id": "6c5d6bbf-97af-4f56-8d9e-5c4ae74bd029",
   "metadata": {
    "tags": []
   },
   "source": [
    "### It will open MLflow, select your experiment (e.g. group01-end2end-retail-demo)\n",
    "- You can see here a list of the runs you've done\n",
    "- On the right clic on `show more columns` then you can compare the metrics stored in the model like `accuracy` and `loss`\n",
    "![image.png](./images/exercise5/mlflow.PNG)"
   ]
  },
  {
   "cell_type": "markdown",
   "id": "6752ceb3-fb57-4251-9976-39ac219f26ad",
   "metadata": {
    "tags": []
   },
   "source": [
    "### Click on a specific run name to see more details\n",
    "- `parameters`: Displays all the parameters used and logged in the model\n",
    "- `metrics`: Displays all the metric used and logged in the model\n",
    "- `Artifacts`: Displays all the artifacts logged in the model\n",
    "- `Full path`: S3 URI to access the model\n",
    "\n",
    "![image.png](./images/exercise5/model.PNG)\n",
    "\n",
    "\n",
    "- `Predict on a Pandas DataFrame:` at the bottom\n",
    "Look how it is used, it might be relevant for later\n",
    "\n",
    "![image.png](./images/exercise5/predict_from_mlflow.PNG)"
   ]
  },
  {
   "cell_type": "markdown",
   "id": "16bf20e5-93e3-471b-be11-e794376c6ed8",
   "metadata": {
    "tags": []
   },
   "source": [
    "### Set up the group parameter"
   ]
  },
  {
   "cell_type": "code",
   "execution_count": null,
   "id": "701b45d6-67cc-4167-a12d-160d28f65f2d",
   "metadata": {
    "tags": []
   },
   "outputs": [],
   "source": [
    "## set your group name (in quotes)\n",
    "group_name = \"\""
   ]
  },
  {
   "cell_type": "code",
   "execution_count": null,
   "id": "6ba234c4-e5d0-4838-b16f-c9a7cde51d37",
   "metadata": {
    "tags": []
   },
   "outputs": [],
   "source": [
    "# Check if GROUP is empty\n",
    "if not group_name:\n",
    "    print(\"Please set your group name before proceeding to the next cell.\")\n",
    "    # You can also raise an exception to stop execution if needed\n",
    "    # raise ValueError(\"Group name is empty. Please set a valid group name.\")\n",
    "else:\n",
    "    print(\"Group name is set. Proceed to the next cell.\")\n",
    "    # Your code for the next cell can go here"
   ]
  },
  {
   "cell_type": "markdown",
   "id": "4376592c-c778-400a-ba54-0f45fcc4de23",
   "metadata": {
    "tags": []
   },
   "source": [
    "### Double Checking"
   ]
  },
  {
   "cell_type": "code",
   "execution_count": null,
   "id": "11fb254f-4e24-4d53-98ae-f9445dad98e9",
   "metadata": {
    "tags": []
   },
   "outputs": [],
   "source": [
    "# Check if GROUP is empty\n",
    "if not group_name:\n",
    "    print(\"Please set your group name before proceeding to the next cell.\")\n",
    "    # You can also raise an exception to stop execution if needed\n",
    "    # raise ValueError(\"Group name is empty. Please set a valid group name.\")"
   ]
  },
  {
   "cell_type": "markdown",
   "id": "490016b4-5cb1-4699-9c00-ecfc8a19cd23",
   "metadata": {
    "tags": []
   },
   "source": [
    "# Prerequisites \n",
    "<div class=\"alert alert-block alert-danger\">\n",
    "<b>Important</b> Make sure it's valid\n",
    "</div>\n"
   ]
  },
  {
   "cell_type": "code",
   "execution_count": null,
   "id": "c129f625-a3e9-4b4b-a95e-ee05fbe6ba0e",
   "metadata": {
    "tags": []
   },
   "outputs": [],
   "source": [
    "# Set parametes\n",
    "\n",
    "# adapt to your EZUA Domain name\n",
    "EZAF_ENV = \"pe1.ezmeral.de\"\n",
    "# type of demo (DemoContent - in this case fruit and vegetables) \n",
    "DC = \"fruit\"\n",
    "# path to end2end demo (not data)\n",
    "end2end_path = '/mnt/datasources/datafabric/ezua/end2end/' \n",
    "# path to data for model training, etc.\n",
    "path = '/mnt/datasources/datafabric/ezua/end2end-data/fruits/' \n",
    "# path to GROUP INDIVIDUAL data for model training, etc.\n",
    "group_data_path = '/mnt/datasources/datafabric/ezua/end2end-group-data/' \n",
    "# experiment name prefix for mlflow\n",
    "experiment_name = \"end2end-retail-demo\"\n",
    "exp_name = group_name + \"-\" + experiment_name\n",
    "model_name = \"end2end-retail-demo\"\n",
    "g_model_name = group_name + \"-\" + model_name\n",
    "# artifact_path = \"end2end-retail-demo\"\n",
    "artifact_path = \"model\"\n",
    "# password for UA user login (needed to get keycloak token)\n",
    "UA_password = \"Hpepoc@123\""
   ]
  },
  {
   "cell_type": "markdown",
   "id": "d9589dae-75c1-49fd-8ea8-72dc42c2c429",
   "metadata": {
    "tags": []
   },
   "source": [
    "### Import required libraries & refresh the token\n",
    "- Ignore the warnings"
   ]
  },
  {
   "cell_type": "code",
   "execution_count": null,
   "id": "150f8bf7-ed2c-4c87-934c-9c79e6a63a93",
   "metadata": {
    "papermill": {
     "duration": 7.613981,
     "end_time": "2023-03-13T20:40:28.950010",
     "exception": false,
     "start_time": "2023-03-13T20:40:21.336029",
     "status": "completed"
    },
    "tags": [
     "imports"
    ]
   },
   "outputs": [],
   "source": [
    "import mlflow\n",
    "from mlflow.tracking.client import MlflowClient\n",
    "from mlflow.entities.model_registry.model_version_status import ModelVersionStatus\n",
    "from IPython.display import display\n",
    "from PIL import Image\n",
    "import numpy as np\n",
    "from tensorflow.keras.preprocessing.image import load_img,img_to_array\n",
    "from io import BytesIO"
   ]
  },
  {
   "cell_type": "code",
   "execution_count": null,
   "id": "7806e004-2439-4f4a-b4dc-05561777a1c0",
   "metadata": {
    "tags": []
   },
   "outputs": [],
   "source": [
    "%update_token"
   ]
  },
  {
   "cell_type": "markdown",
   "id": "48380789-54c2-4771-89fb-a4189c2def3e",
   "metadata": {
    "papermill": {
     "duration": 0.074875,
     "end_time": "2023-03-13T21:22:22.585971",
     "exception": false,
     "start_time": "2023-03-13T21:22:22.511096",
     "status": "completed"
    },
    "tags": []
   },
   "source": [
    "## 2. Register the Model<a class=\"anchor\" id=\"6\"></a>"
   ]
  },
  {
   "cell_type": "markdown",
   "id": "c35afea6-01f9-4448-af76-3645da49f4ae",
   "metadata": {
    "tags": []
   },
   "source": [
    "### Search for the last run ID for your Group"
   ]
  },
  {
   "cell_type": "code",
   "execution_count": null,
   "id": "269889a0-f6ca-4c5f-a965-61e5f57ac528",
   "metadata": {
    "tags": []
   },
   "outputs": [],
   "source": [
    "# Search for runs in the specified experiment, ordering by start time in descending order\n",
    "runs = mlflow.search_runs(experiment_ids=[mlflow.get_experiment_by_name(exp_name).experiment_id],\n",
    "                          order_by=[\"start_time desc\"],\n",
    "                          filter_string=\"\")\n",
    "\n",
    "# Check if there are any runs\n",
    "if not runs.empty:\n",
    "    # Get the run ID of the last active run\n",
    "    last_run_id = runs.iloc[0][\"run_id\"]\n",
    "    print(\"Last active run ID for experiment '{}': {}\".format(exp_name, last_run_id))\n",
    "else:\n",
    "    print(\"No runs found for experiment '{}'.\".format(exp_name))"
   ]
  },
  {
   "cell_type": "markdown",
   "id": "7b5c9949-feb2-40e9-895b-1dec7ba2b5e4",
   "metadata": {
    "tags": []
   },
   "source": [
    "### Create a new model version (Version 1 , Version2, ...) in MLflow model registry:\n",
    "- Form the model_uri specifying the location of model files using the run_id and artifact_path.\n",
    "- Register the model in MLflow with the specified model_uri and g_model_name.\n",
    "- Initiate the creation of a new model version and waits for it to become ready.\n",
    "- Check and prints the status of the model version until it becomes \"READY\".\n",
    "- Update the description of the registered model."
   ]
  },
  {
   "cell_type": "code",
   "execution_count": null,
   "id": "f1179e0c-702d-479d-bb59-58ddc6cbaf1f",
   "metadata": {
    "tags": []
   },
   "outputs": [],
   "source": [
    "# set parameters model_uri and model details and register model in mlflow\n",
    "model_uri = \"runs:/{run_id}/{artifact_path}\".format(run_id=last_run_id, artifact_path=artifact_path)\n",
    "model_details = mlflow.register_model(model_uri=model_uri, name=g_model_name)\n",
    "\n",
    "# Wait until the model is ready\n",
    "def wait_until_ready(g_model_name, model_version):\n",
    "    client = MlflowClient()\n",
    "    for _ in range(10):\n",
    "        model_version_details = client.get_model_version(\n",
    "          name=g_model_name,\n",
    "          version=model_version,\n",
    "        )\n",
    "        status = ModelVersionStatus.from_string(model_version_details.status)\n",
    "        print(\"Model status: %s\" % ModelVersionStatus.to_string(status))\n",
    "        if status == ModelVersionStatus.READY:\n",
    "            break\n",
    "        time.sleep(1)\n",
    "        client.update_registered_model(\n",
    "            name=model_details.name,\n",
    "            description=\"Fruit & Vegetables Cashierless Store\"\n",
    "        )\n",
    "\n",
    "wait_until_ready(model_details.name, model_details.version)"
   ]
  },
  {
   "cell_type": "markdown",
   "id": "921b10a2-94f5-4d25-a00d-7a713f47eb1c",
   "metadata": {
    "tags": []
   },
   "source": [
    "### Transition the model to `Production` stage"
   ]
  },
  {
   "cell_type": "code",
   "execution_count": null,
   "id": "7908bcd3-b72c-4fab-a2f1-8e289f343bce",
   "metadata": {
    "tags": []
   },
   "outputs": [],
   "source": [
    "# create an instance of the MlflowClient\n",
    "client = MlflowClient()\n",
    "\n",
    "# Get the latest model created for our experiment\n",
    "latest_versions = client.get_latest_versions(name=g_model_name, stages=[\"None\"])\n",
    "latest_version = latest_versions[0]\n",
    "\n",
    "# Transition the desired model version to production stage\n",
    "client.transition_model_version_stage(\n",
    "  name=g_model_name,\n",
    "  version=latest_version.version,\n",
    "  stage='Production',\n",
    ")"
   ]
  },
  {
   "cell_type": "markdown",
   "id": "1885b533-b007-4832-a79c-d3904b63cd73",
   "metadata": {
    "tags": []
   },
   "source": [
    "### Transition the other models to `Archived` stage"
   ]
  },
  {
   "cell_type": "code",
   "execution_count": null,
   "id": "75387be9-09e5-420d-bd12-f53b4c28c8fe",
   "metadata": {
    "tags": []
   },
   "outputs": [],
   "source": [
    "# Transition model versions to a different stage if their current stage is not \"production\"\n",
    "model_versions = client.search_model_versions(\"\")\n",
    "\n",
    "# Transition model versions to a different stage if their current stage is not \"production\"\n",
    "for mv in model_versions:\n",
    "    if mv.name == g_model_name:\n",
    "        if mv.version != latest_version.version:\n",
    "            client.transition_model_version_stage(\n",
    "                name=mv.name,\n",
    "                version=mv.version,\n",
    "                stage=\"Archived\"\n",
    "            )\n",
    "            print(f\"Model: {mv.name}, version: {mv.version} has been moved to Archived\")\n",
    "\n",
    "            # Update Model Version Description\n",
    "            client.update_model_version(\n",
    "                name=mv.name,\n",
    "                version=mv.version,\n",
    "                description=\"Model Moved to Archived\"\n",
    "            )"
   ]
  },
  {
   "cell_type": "markdown",
   "id": "a35a5c6b-be12-43ed-9caf-ec0ac1cb06d6",
   "metadata": {
    "papermill": {
     "duration": 0.074875,
     "end_time": "2023-03-13T21:22:22.585971",
     "exception": false,
     "start_time": "2023-03-13T21:22:22.511096",
     "status": "completed"
    },
    "tags": []
   },
   "source": [
    "### Let's test if it works\n",
    "- Use the `Predict on a Pandas DataFrame:` that we've seen ealier\n",
    "- `Fill in` the missing parts"
   ]
  },
  {
   "cell_type": "code",
   "execution_count": null,
   "id": "9cb76100-f1fb-4aa0-a123-d0a83374fb94",
   "metadata": {
    "tags": [
     "skip"
    ]
   },
   "outputs": [],
   "source": [
    "# Get the source URI or location of the model version\n",
    "#logged_model = latest_version.source\n",
    "logged_model = \"Fill in\"\n",
    "\n",
    "# Load model as a PyFuncModel.\n",
    "#loaded_model = mlflow.pyfunc.load_model(logged_model)\n",
    "loaded_model = \"Fill in\""
   ]
  },
  {
   "cell_type": "markdown",
   "id": "d361e825-034f-443d-8168-18cefc88d048",
   "metadata": {
    "papermill": {
     "duration": 0.074875,
     "end_time": "2023-03-13T21:22:22.585971",
     "exception": false,
     "start_time": "2023-03-13T21:22:22.511096",
     "status": "completed"
    },
    "tags": []
   },
   "source": [
    "### Similar function as in Exercise4 but we update the prediction to use the MLflow model instead\n",
    "- `Fill in` the missing parts"
   ]
  },
  {
   "cell_type": "code",
   "execution_count": null,
   "id": "7f33c15c-8c2a-456a-9628-44f0869c4a28",
   "metadata": {
    "tags": [
     "skip"
    ]
   },
   "outputs": [],
   "source": [
    "def predict(url):\n",
    "    # Preprocess the image\n",
    "    response = requests.get(url)\n",
    "    img = Image.open(BytesIO(response.content))\n",
    "    img = img.resize((224, 224))  \n",
    "    img_array = img_to_array(img)\n",
    "    img_array = img_array / 255.0\n",
    "    img_array = np.expand_dims(img_array, axis=0)\n",
    "\n",
    "    # Make a prediction\n",
    "    prediction = loaded_model.predict(img_array)   # We update the previous function to use the loaded model here\n",
    "    predicted_class = np.argmax(prediction, axis=-1)\n",
    "    result = labels[predicted_class[0]]\n",
    "    \n",
    "    # Display the image\n",
    "    display(img)\n",
    "\n",
    "    return result"
   ]
  },
  {
   "cell_type": "code",
   "execution_count": null,
   "id": "a4c4dda5-e6a8-47d1-ab1d-c60d6030f744",
   "metadata": {
    "tags": [
     "skip"
    ]
   },
   "outputs": [],
   "source": [
    "# Define your labels\n",
    "labels = ['apple', 'banana', 'ezmeral', 'kiwi', 'orange']\n",
    "\n",
    "# Example usage with an image URL\n",
    "image_url = \"Fill in\"\n",
    "\n",
    "predicted_label = predict(image_url)\n",
    "print(\"The model predicts: \" + str(predicted_label))"
   ]
  },
  {
   "cell_type": "markdown",
   "id": "4b892674-e0d6-4cb8-87ed-63ab76aa59de",
   "metadata": {},
   "source": [
    "## END"
   ]
  }
 ],
 "metadata": {
  "kernelspec": {
   "display_name": "Python 3 (ipykernel)",
   "language": "python",
   "name": "python3"
  },
  "kubeflow_notebook": {
   "autosnapshot": false,
   "docker_image": "gcr.io/mapr-252711/kubeflow/notebooks/jupyter-tensorflow-cuda-full:ezaf-fy23-q2",
   "experiment": {
    "id": "new",
    "name": "jk-fruit-demo"
   },
   "experiment_name": "jk-fruit-demo",
   "katib_metadata": {
    "algorithm": {
     "algorithmName": "random",
     "algorithmSettings": [
      {
       "name": "random_state",
       "value": "10"
      },
      {
       "name": "acq_optimizer",
       "value": "auto"
      },
      {
       "name": "acq_func",
       "value": "gp_hedge"
      },
      {
       "name": "base_estimator",
       "value": "GP"
      }
     ]
    },
    "maxFailedTrialCount": 3,
    "maxTrialCount": 12,
    "objective": {
     "additionalMetricNames": [],
     "goal": 1,
     "objectiveMetricName": "stage",
     "type": "maximize"
    },
    "parallelTrialCount": 3,
    "parameters": [
     {
      "feasibleSpace": {
       "max": "50",
       "min": "1",
       "step": "1"
      },
      "name": "param_epoch",
      "parameterType": "int"
     },
     {
      "feasibleSpace": {
       "list": [
        "32",
        "64"
       ]
      },
      "name": "param_batch_size",
      "parameterType": "categorical"
     },
     {
      "feasibleSpace": {
       "max": "10",
       "min": "1",
       "step": "1"
      },
      "name": "param_patience",
      "parameterType": "int"
     }
    ]
   },
   "katib_run": false,
   "pipeline_description": "fruit-veg",
   "pipeline_name": "fruit-veg",
   "snapshot_volumes": false,
   "steps_defaults": [
    "label:access-ml-pipeline:true",
    "label:add-ldapcert-secret:true",
    "label:add-sssd-secret:true",
    "label:add-user-s3-secret:true"
   ],
   "storage_class_name": "dataplatform",
   "volume_access_mode": "rwm",
   "volumes": [
    {
     "annotations": [],
     "mount_point": "/mnt/shared/",
     "name": "kubeflow-pipeline",
     "size": 1,
     "size_type": "Gi",
     "snapshot": false,
     "snapshot_name": "",
     "type": "pvc"
    }
   ]
  },
  "language_info": {
   "codemirror_mode": {
    "name": "ipython",
    "version": 3
   },
   "file_extension": ".py",
   "mimetype": "text/x-python",
   "name": "python",
   "nbconvert_exporter": "python",
   "pygments_lexer": "ipython3",
   "version": "3.11.6"
  },
  "papermill": {
   "default_parameters": {},
   "duration": 2679.282234,
   "end_time": "2023-03-13T21:24:51.692744",
   "environment_variables": {},
   "exception": null,
   "input_path": "__notebook__.ipynb",
   "output_path": "__notebook__.ipynb",
   "parameters": {},
   "start_time": "2023-03-13T20:40:12.410510",
   "version": "2.4.0"
  }
 },
 "nbformat": 4,
 "nbformat_minor": 5
}
