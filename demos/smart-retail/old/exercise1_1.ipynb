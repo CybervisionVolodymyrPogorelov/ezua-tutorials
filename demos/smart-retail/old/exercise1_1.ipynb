{
 "cells": [
  {
   "cell_type": "markdown",
   "id": "86bac2dc-3599-441e-ab23-d952d84d1e24",
   "metadata": {
    "tags": []
   },
   "source": [
    "# Exercise 1: ETL with Spark"
   ]
  },
  {
   "cell_type": "markdown",
   "id": "6ed95f26-3b1a-4ead-80e9-404ad70171bd",
   "metadata": {
    "tags": []
   },
   "source": [
    "## What we will cover:\n",
    "- Update Group Parameters\n",
    "- Extract data from SQL\n",
    "- Transform the Currencies to Euros\n",
    "- Load Data to Delta tables\n",
    "- Time Travel with Delta Tables"
   ]
  },
  {
   "cell_type": "markdown",
   "id": "2f34b061-c46d-4864-ad93-36367fd76695",
   "metadata": {
    "tags": []
   },
   "source": [
    "<div class=\"alert alert-block alert-danger\">\n",
    "<b>Important</b> Make sure you chose PySpark for your kernel\n",
    "</div>"
   ]
  },
  {
   "cell_type": "markdown",
   "id": "ce431084-dbf6-46c0-9378-d31139a83d2c",
   "metadata": {
    "tags": []
   },
   "source": [
    "## Spark Architecture\n",
    "![image.png](./images/exercise1/spark_archi.PNG)\n",
    "\n",
    "## Apache Spark Architecture: Driver and Executors\n",
    "\n",
    "### Cluster Manager:\n",
    "- Manages resources across the cluster, allocating Executors to Spark applications.\n",
    "- Examples include Apache Mesos, Apache Hadoop YARN, and Spark's standalone cluster manager.\n",
    "- Responsible for monitoring and scheduling tasks on worker nodes.\n",
    "\n",
    "### Driver:\n",
    "- Centralized control unit of a Spark application.\n",
    "- Runs the main() function and creates a SparkContext.\n",
    "- Manages the execution of the Spark program.\n",
    "- Coordinates tasks and schedules their execution on Executors.\n",
    "- Keeps track of the overall application state.\n",
    "- Communicates with the cluster manager to acquire and allocate resources.\n",
    "\n",
    "### Executors:\n",
    "- Worker nodes that perform the actual data processing tasks.\n",
    "- Assigned tasks by the Driver for parallel execution.\n",
    "- Responsible for running the individual stages of a Spark application.\n",
    "- Manage and cache data in-memory during computation for efficient processing.\n",
    "- Communicate with each other and the Driver for task coordination.\n",
    "- Executors are launched on worker nodes by the cluster manager."
   ]
  },
  {
   "cell_type": "markdown",
   "id": "4be59379-6d08-426b-b759-80942d845b76",
   "metadata": {
    "tags": []
   },
   "source": [
    "# 1. Setup Interactive Session"
   ]
  },
  {
   "cell_type": "markdown",
   "id": "7c07e337-f157-4cc2-9160-6f7cbaa69aaa",
   "metadata": {
    "tags": []
   },
   "source": [
    "### We will use predefined commands for this Notebook called magic command to setup the Spark environment as below "
   ]
  },
  {
   "cell_type": "code",
   "execution_count": 1,
   "id": "c151a6ec-2416-4175-8bde-827def318778",
   "metadata": {
    "tags": []
   },
   "outputs": [
    {
     "data": {
      "application/vnd.jupyter.widget-view+json": {
       "model_id": "1c1fc731645b4b19bf5f4aab9fb80c51",
       "version_major": 2,
       "version_minor": 0
      },
      "text/plain": [
       "Tab(children=(ManageSessionWidget(children=(HTML(value='<br/>'), HTML(value='No sessions yet.'))), CreateSessi…"
      ]
     },
     "metadata": {},
     "output_type": "display_data"
    },
    {
     "data": {
      "application/vnd.jupyter.widget-view+json": {
       "model_id": "c7410d042fb54f17b18fff3343f97e47",
       "version_major": 2,
       "version_minor": 0
      },
      "text/html": [],
      "text/plain": [
       "MagicsControllerWidget(children=(Tab(children=(ManageSessionWidget(children=(HTML(value='<br/>'), HTML(value='…"
      ]
     },
     "execution_count": 1,
     "metadata": {},
     "output_type": "execute_result"
    }
   ],
   "source": [
    "%manage_spark"
   ]
  },
  {
   "cell_type": "markdown",
   "id": "53a51605-5479-42f6-8213-aad197909917",
   "metadata": {
    "tags": []
   },
   "source": [
    "1. Run the `%manage_spark` magic command.\n",
    "2. Clic on `Add Endpoint`\n",
    "3. Leave the settings as-is and clic on `Add endpoint` on the right\n",
    "\n",
    "![image.png](./images/exercise1/init_spark.PNG)"
   ]
  },
  {
   "cell_type": "markdown",
   "id": "6021cd64-98ba-4810-8882-9205933056f8",
   "metadata": {
    "tags": []
   },
   "source": [
    "1. Clic on `Create Session`\n",
    "2. Your endpoint should appear in `Endpoint`\n",
    "3. Update the `Name` to your group name\n",
    "4. Change the `Language` to `Python`\n",
    "5. Clic on `Create Session` on the right side\n",
    "\n",
    "![image.png](./images/exercise1/init_spark2.PNG)"
   ]
  },
  {
   "cell_type": "markdown",
   "id": "beaf2946-32f2-40b6-88cc-0af78fed48f0",
   "metadata": {
    "tags": []
   },
   "source": [
    "## Wait few minutes for the session to start.\n",
    "\n",
    "### Meanwhile you can check the status here\n",
    "\n",
    "1. Go back Unified Analytics\n",
    "2. On the menu, select `Spark Interactive Sessions`\n",
    "\n",
    "![image.png](./images/exercise1/menu.PNG)\n",
    "\n",
    "3. Check the status of your session: it should take 2-3 minutes to start. When it's `Idle` go back to your `Notebook`\n",
    "\n",
    "![image.png](./images/exercise1/session.PNG)\n",
    "\n",
    "4. In the Notebook cell, the session should now be visible as `Idle` too. \n",
    "\n",
    "![image.png](./images/exercise1/session2.PNG)"
   ]
  },
  {
   "cell_type": "code",
   "execution_count": 2,
   "id": "43012d3a-51e1-40ba-8827-c1ef21175533",
   "metadata": {
    "tags": []
   },
   "outputs": [
    {
     "data": {
      "application/vnd.jupyter.widget-view+json": {
       "model_id": "c5ea9930c7eb486e9ef94183dad3ee12",
       "version_major": 2,
       "version_minor": 0
      },
      "text/plain": [
       "VBox(children=(HBox(children=(Text(value='2', description='spark.driver.cores', layout=Layout(display='inline-…"
      ]
     },
     "metadata": {},
     "output_type": "display_data"
    },
    {
     "data": {
      "application/vnd.jupyter.widget-view+json": {
       "model_id": "8384efc661f9438189d994e427350ba5",
       "version_major": 2,
       "version_minor": 0
      },
      "text/plain": [
       "Button(description='Submit', style=ButtonStyle())"
      ]
     },
     "metadata": {},
     "output_type": "display_data"
    },
    {
     "data": {
      "application/vnd.jupyter.widget-view+json": {
       "model_id": "63e2fc79c6dc45fbb09a5bc100b0b0b8",
       "version_major": 2,
       "version_minor": 0
      },
      "text/plain": [
       "Output()"
      ]
     },
     "metadata": {},
     "output_type": "display_data"
    }
   ],
   "source": [
    "%config_spark"
   ]
  },
  {
   "cell_type": "markdown",
   "id": "ec89506a-93b1-4673-8064-3f51470ce265",
   "metadata": {
    "tags": []
   },
   "source": [
    "<div class=\"alert alert-block alert-danger\">\n",
    "<b>Important</b> Do not restart the kernel\n",
    "</div>"
   ]
  },
  {
   "cell_type": "markdown",
   "id": "7e7b65af-8885-4716-8704-a56ddf4f3b34",
   "metadata": {
    "tags": []
   },
   "source": [
    "1. Run the `%config_spark` magic command.\n",
    "2. Unless you want a specific configuration, leave the settings as-is and clic on `Submit` at the bottom\n",
    "\n",
    "![image.png](./images/exercise1/config.PNG)"
   ]
  },
  {
   "cell_type": "markdown",
   "id": "86d8a6e1-bee4-4d43-aa24-c0e429963489",
   "metadata": {
    "tags": []
   },
   "source": [
    "### Set up the group parameter"
   ]
  },
  {
   "cell_type": "code",
   "execution_count": 3,
   "id": "9d7f5880-a82d-47b2-a630-f4401a0ec665",
   "metadata": {
    "tags": []
   },
   "outputs": [
    {
     "data": {
      "application/vnd.jupyter.widget-view+json": {
       "model_id": "",
       "version_major": 2,
       "version_minor": 0
      },
      "text/plain": [
       "FloatProgress(value=0.0, bar_style='info', description='Progress:', layout=Layout(height='25px', width='50%'),…"
      ]
     },
     "metadata": {},
     "output_type": "display_data"
    }
   ],
   "source": [
    "# Set your group name\n",
    "group_name = \"user2\""
   ]
  },
  {
   "cell_type": "code",
   "execution_count": 4,
   "id": "3b465816-486f-4381-b577-ba704fcf09f7",
   "metadata": {
    "tags": []
   },
   "outputs": [
    {
     "data": {
      "application/vnd.jupyter.widget-view+json": {
       "model_id": "",
       "version_major": 2,
       "version_minor": 0
      },
      "text/plain": [
       "FloatProgress(value=0.0, bar_style='info', description='Progress:', layout=Layout(height='25px', width='50%'),…"
      ]
     },
     "metadata": {},
     "output_type": "display_data"
    },
    {
     "name": "stdout",
     "output_type": "stream",
     "text": [
      "Group name is set. Proceed to the next cell."
     ]
    }
   ],
   "source": [
    "# Check if GROUP is empty\n",
    "if not group_name:\n",
    "    print(\"Please set your group name before proceeding to the next cell.\")\n",
    "    # You can also raise an exception to stop execution if needed\n",
    "    # raise ValueError(\"Group name is empty. Please set a valid group name.\")\n",
    "else:\n",
    "    print(\"Group name is set. Proceed to the next cell.\")\n",
    "    # Your code for the next cell can go here"
   ]
  },
  {
   "cell_type": "markdown",
   "id": "2c020f81-a4b6-43b0-94a9-d68b9c264a92",
   "metadata": {
    "tags": []
   },
   "source": [
    "### Double Checking"
   ]
  },
  {
   "cell_type": "code",
   "execution_count": 5,
   "id": "c147b022-b292-489d-b6df-5f068516c523",
   "metadata": {
    "tags": []
   },
   "outputs": [
    {
     "data": {
      "application/vnd.jupyter.widget-view+json": {
       "model_id": "",
       "version_major": 2,
       "version_minor": 0
      },
      "text/plain": [
       "FloatProgress(value=0.0, bar_style='info', description='Progress:', layout=Layout(height='25px', width='50%'),…"
      ]
     },
     "metadata": {},
     "output_type": "display_data"
    }
   ],
   "source": [
    "# Check if GROUP is empty\n",
    "if not group_name:\n",
    "    print(\"Please set your group name before proceeding to the next cell.\")\n",
    "    # You can also raise an exception to stop execution if needed\n",
    "    # raise ValueError(\"Group name is empty. Please set a valid group name.\")"
   ]
  },
  {
   "cell_type": "markdown",
   "id": "2b79c95e-d669-4575-adba-c2ce7553a120",
   "metadata": {
    "tags": []
   },
   "source": [
    "### Import required libraries"
   ]
  },
  {
   "cell_type": "code",
   "execution_count": 6,
   "id": "ae6d03e4-d6ea-4a42-85cf-8f75731209d9",
   "metadata": {
    "tags": []
   },
   "outputs": [
    {
     "data": {
      "application/vnd.jupyter.widget-view+json": {
       "model_id": "",
       "version_major": 2,
       "version_minor": 0
      },
      "text/plain": [
       "FloatProgress(value=0.0, bar_style='info', description='Progress:', layout=Layout(height='25px', width='50%'),…"
      ]
     },
     "metadata": {},
     "output_type": "display_data"
    }
   ],
   "source": [
    "from pyspark.sql import SparkSession\n",
    "from pyspark.conf import SparkConf\n",
    "from pyspark.sql.functions import udf, col, lit\n",
    "from pyspark.sql.types import StructType, StructField, StringType, IntegerType, DoubleType\n",
    "import os"
   ]
  },
  {
   "cell_type": "markdown",
   "id": "68571ddd-0bbb-4112-8d86-f431d3b5d0be",
   "metadata": {
    "tags": []
   },
   "source": [
    "### Set up the Spark session\n",
    "Adding delta extensions to the configuration to be able to interact with the delta tables"
   ]
  },
  {
   "cell_type": "code",
   "execution_count": 7,
   "id": "c6811656-d54e-466e-89a1-f7e9719d4b61",
   "metadata": {
    "tags": []
   },
   "outputs": [
    {
     "data": {
      "application/vnd.jupyter.widget-view+json": {
       "model_id": "",
       "version_major": 2,
       "version_minor": 0
      },
      "text/plain": [
       "FloatProgress(value=0.0, bar_style='info', description='Progress:', layout=Layout(height='25px', width='50%'),…"
      ]
     },
     "metadata": {},
     "output_type": "display_data"
    },
    {
     "name": "stdout",
     "output_type": "stream",
     "text": [
      "Pyspark session started"
     ]
    }
   ],
   "source": [
    "# Set up the Spark session\n",
    "spark = SparkSession.builder \\\n",
    "    .appName(\"DataCleaningWithSpark\") \\\n",
    "    .config(\"spark.sql.extensions\", \"io.delta.sql.DeltaSparkSessionExtension\") \\\n",
    "    .config(\"spark.sql.catalog.spark_catalog\", \"org.apache.spark.sql.delta.catalog.DeltaCatalog\") \\\n",
    "    .getOrCreate()\n",
    "\n",
    "print(\"Pyspark session started\")"
   ]
  },
  {
   "cell_type": "markdown",
   "id": "7e7a7dbb-003b-424d-bb37-302ce6493c34",
   "metadata": {
    "tags": []
   },
   "source": [
    "# 2. Generate the Data in a CSV and extract it in a DataFrame"
   ]
  },
  {
   "cell_type": "markdown",
   "id": "a66b5e7a-c316-482b-a980-975ffdce573b",
   "metadata": {
    "tags": []
   },
   "source": [
    "## Generate the Data"
   ]
  },
  {
   "cell_type": "code",
   "execution_count": 9,
   "id": "f2d9ef1d-e4d4-4d42-acb6-c9abae749939",
   "metadata": {
    "tags": []
   },
   "outputs": [
    {
     "name": "stderr",
     "output_type": "stream",
     "text": [
      "/opt/conda/lib/python3.11/site-packages/fuzzywuzzy/fuzz.py:11: UserWarning:\n",
      "\n",
      "Using slow pure-python SequenceMatcher. Install python-Levenshtein to remove this warning\n",
      "\n"
     ]
    },
    {
     "name": "stdout",
     "output_type": "stream",
     "text": [
      "# Variables Selected\n",
      "\t- Country: Germany\n",
      "\t- Currency: EUR\n",
      "\t- Stores: 5\n",
      "\t ['Store A', 'Store B', 'Store C', 'Store D', 'Store E']\n",
      "\t- Start: 2019\n",
      "\t- End: 2023\n",
      "Rates:\n",
      "{'EUR': 1, 'AED': 3.98, 'AFN': 77.3, 'ALL': 102.96, 'AMD': 429.88, 'ANG': 1.94, 'AOA': 916.45, 'ARS': 928.42, 'AUD': 1.66, 'AWG': 1.94, 'AZN': 1.85, 'BAM': 1.96, 'BBD': 2.17, 'BDT': 118.95, 'BGN': 1.96, 'BHD': 0.407, 'BIF': 3101.42, 'BMD': 1.08, 'BND': 1.46, 'BOB': 7.5, 'BRL': 5.4, 'BSD': 1.08, 'BTN': 90.34, 'BWP': 14.94, 'BYN': 3.54, 'BZD': 2.17, 'CAD': 1.47, 'CDF': 3031.1, 'CHF': 0.979, 'CLP': 1061.95, 'CNY': 7.84, 'COP': 4225.92, 'CRC': 545.85, 'CUP': 26.01, 'CVE': 110.27, 'CZK': 25.29, 'DJF': 192.59, 'DKK': 7.46, 'DOP': 64.15, 'DZD': 146.17, 'EGP': 51.8, 'ERN': 16.25, 'ETB': 61.75, 'FJD': 2.44, 'FKP': 0.858, 'FOK': 7.46, 'GBP': 0.858, 'GEL': 2.93, 'GGP': 0.858, 'GHS': 14.35, 'GIP': 0.858, 'GMD': 71.54, 'GNF': 9298.22, 'GTQ': 8.45, 'GYD': 227.13, 'HKD': 8.48, 'HNL': 26.77, 'HRK': 7.53, 'HTG': 144.53, 'HUF': 395.5, 'IDR': 17118.3, 'ILS': 3.97, 'IMP': 0.858, 'INR': 90.34, 'IQD': 1418.81, 'IRR': 46200.9, 'ISK': 149.29, 'JEP': 0.858, 'JMD': 166.09, 'JOD': 0.768, 'JPY': 164.15, 'KES': 143.05, 'KGS': 97.16, 'KHR': 4387.12, 'KID': 1.66, 'KMF': 491.97, 'KRW': 1455.63, 'KWD': 0.333, 'KYD': 0.903, 'KZT': 488.41, 'LAK': 22403.63, 'LBP': 96986.69, 'LKR': 327.8, 'LRD': 210.05, 'LSL': 20.55, 'LYD': 5.25, 'MAD': 10.96, 'MDL': 19.18, 'MGA': 4715.97, 'MKD': 61.5, 'MMK': 2733.42, 'MNT': 3648.31, 'MOP': 8.73, 'MRU': 43.24, 'MUR': 50.12, 'MVR': 16.76, 'MWK': 1877.33, 'MXN': 18.06, 'MYR': 5.12, 'MZN': 69.32, 'NAD': 20.55, 'NGN': 1554.53, 'NIO': 39.92, 'NOK': 11.64, 'NPR': 144.55, 'NZD': 1.8, 'OMR': 0.417, 'PAB': 1.08, 'PEN': 4.03, 'PGK': 4.1, 'PHP': 60.98, 'PKR': 301.47, 'PLN': 4.31, 'PYG': 7936.87, 'QAR': 3.94, 'RON': 4.97, 'RSD': 117.22, 'RUB': 100.4, 'RWF': 1433.4, 'SAR': 4.06, 'SBD': 9.17, 'SCR': 15.59, 'SDG': 485.33, 'SEK': 11.46, 'SGD': 1.46, 'SHP': 0.858, 'SLE': 24.49, 'SLL': 24493.4, 'SOS': 619.74, 'SRD': 38.25, 'SSP': 1721.21, 'STN': 24.5, 'SYP': 13994.31, 'SZL': 20.55, 'THB': 39.37, 'TJS': 11.88, 'TMT': 3.8, 'TND': 3.39, 'TOP': 2.54, 'TRY': 34.93, 'TTD': 7.55, 'TVD': 1.66, 'TWD': 34.57, 'TZS': 2784.82, 'UAH': 42.73, 'UGX': 4217.87, 'USD': 1.08, 'UYU': 41.01, 'UZS': 13805.17, 'VES': 39.38, 'VND': 26870.11, 'VUV': 130.66, 'WST': 2.96, 'XAF': 655.96, 'XCD': 2.93, 'XDR': 0.818, 'XOF': 655.96, 'XPF': 119.33, 'YER': 271.58, 'ZAR': 20.55, 'ZMW': 28.16, 'ZWL': 23118.9}\n",
      "{'EUR': 1, 'AED': 3.98, 'AFN': 77.3, 'ALL': 102.96, 'AMD': 429.88, 'ANG': 1.94, 'AOA': 916.45, 'ARS': 928.42, 'AUD': 1.66, 'AWG': 1.94, 'AZN': 1.85, 'BAM': 1.96, 'BBD': 2.17, 'BDT': 118.95, 'BGN': 1.96, 'BHD': 0.407, 'BIF': 3101.42, 'BMD': 1.08, 'BND': 1.46, 'BOB': 7.5, 'BRL': 5.4, 'BSD': 1.08, 'BTN': 90.34, 'BWP': 14.94, 'BYN': 3.54, 'BZD': 2.17, 'CAD': 1.47, 'CDF': 3031.1, 'CHF': 0.979, 'CLP': 1061.95, 'CNY': 7.84, 'COP': 4225.92, 'CRC': 545.85, 'CUP': 26.01, 'CVE': 110.27, 'CZK': 25.29, 'DJF': 192.59, 'DKK': 7.46, 'DOP': 64.15, 'DZD': 146.17, 'EGP': 51.8, 'ERN': 16.25, 'ETB': 61.75, 'FJD': 2.44, 'FKP': 0.858, 'FOK': 7.46, 'GBP': 0.858, 'GEL': 2.93, 'GGP': 0.858, 'GHS': 14.35, 'GIP': 0.858, 'GMD': 71.54, 'GNF': 9298.22, 'GTQ': 8.45, 'GYD': 227.13, 'HKD': 8.48, 'HNL': 26.77, 'HRK': 7.53, 'HTG': 144.53, 'HUF': 395.5, 'IDR': 17118.3, 'ILS': 3.97, 'IMP': 0.858, 'INR': 90.34, 'IQD': 1418.81, 'IRR': 46200.9, 'ISK': 149.29, 'JEP': 0.858, 'JMD': 166.09, 'JOD': 0.768, 'JPY': 164.15, 'KES': 143.05, 'KGS': 97.16, 'KHR': 4387.12, 'KID': 1.66, 'KMF': 491.97, 'KRW': 1455.63, 'KWD': 0.333, 'KYD': 0.903, 'KZT': 488.41, 'LAK': 22403.63, 'LBP': 96986.69, 'LKR': 327.8, 'LRD': 210.05, 'LSL': 20.55, 'LYD': 5.25, 'MAD': 10.96, 'MDL': 19.18, 'MGA': 4715.97, 'MKD': 61.5, 'MMK': 2733.42, 'MNT': 3648.31, 'MOP': 8.73, 'MRU': 43.24, 'MUR': 50.12, 'MVR': 16.76, 'MWK': 1877.33, 'MXN': 18.06, 'MYR': 5.12, 'MZN': 69.32, 'NAD': 20.55, 'NGN': 1554.53, 'NIO': 39.92, 'NOK': 11.64, 'NPR': 144.55, 'NZD': 1.8, 'OMR': 0.417, 'PAB': 1.08, 'PEN': 4.03, 'PGK': 4.1, 'PHP': 60.98, 'PKR': 301.47, 'PLN': 4.31, 'PYG': 7936.87, 'QAR': 3.94, 'RON': 4.97, 'RSD': 117.22, 'RUB': 100.4, 'RWF': 1433.4, 'SAR': 4.06, 'SBD': 9.17, 'SCR': 15.59, 'SDG': 485.33, 'SEK': 11.46, 'SGD': 1.46, 'SHP': 0.858, 'SLE': 24.49, 'SLL': 24493.4, 'SOS': 619.74, 'SRD': 38.25, 'SSP': 1721.21, 'STN': 24.5, 'SYP': 13994.31, 'SZL': 20.55, 'THB': 39.37, 'TJS': 11.88, 'TMT': 3.8, 'TND': 3.39, 'TOP': 2.54, 'TRY': 34.93, 'TTD': 7.55, 'TVD': 1.66, 'TWD': 34.57, 'TZS': 2784.82, 'UAH': 42.73, 'UGX': 4217.87, 'USD': 1.08, 'UYU': 41.01, 'UZS': 13805.17, 'VES': 39.38, 'VND': 26870.11, 'VUV': 130.66, 'WST': 2.96, 'XAF': 655.96, 'XCD': 2.93, 'XDR': 0.818, 'XOF': 655.96, 'XPF': 119.33, 'YER': 271.58, 'ZAR': 20.55, 'ZMW': 28.16, 'ZWL': 23118.9}\n",
      "# File /home/ezmeral/ezmeral/data/germany_sales_data_2019_2023.csv created\n",
      "['PRODUCTID', 'PRODUCT', 'TYPE', 'UNITPRICE', 'UNIT', 'QTY', 'TOTALSALES', 'CURRENCY', 'STORE', 'COUNTRY', 'YEAR']\n",
      "['1', 'banana', 'fruits', '0.5', 'kg', '376855', '188427.5', 'EUR', 'Store A', 'Germany', '2019']\n",
      "['2', 'apple', 'fruits', '0.7', 'kg', '348283', '432225.6', 'EUR', 'Store A', 'Germany', '2019']\n",
      "['3', 'pear', 'fruits', '0.6', 'kg', '360188', '648338.4', 'EUR', 'Store A', 'Germany', '2019']\n",
      "['4', 'grapes', 'fruits', '1.2', 'kg', '180093', '864450.0', 'EUR', 'Store A', 'Germany', '2019']\n",
      "['5', 'orange', 'fruits', '0.8', 'kg', '339355', '1135934.0', 'EUR', 'Store A', 'Germany', '2019']\n",
      "['6', 'kiwi', 'fruits', '0.9', 'piece', '332410', '1435103.0', 'EUR', 'Store A', 'Germany', '2019']\n",
      "['7', 'watermelon', 'fruits', '5.0', 'kg', '44606', '1658133.0', 'EUR', 'Store A', 'Germany', '2019']\n",
      "['8', 'pomegranate', 'fruits', '2.5', 'kg', '89213', '1881165.5', 'EUR', 'Store A', 'Germany', '2019']\n",
      "['9', 'pineapple', 'fruits', '1.5', 'piece', '171760', '2138805.5', 'EUR', 'Store A', 'Germany', '2019']\n"
     ]
    }
   ],
   "source": [
    "%run create_csv.py -c \"Germany\" -cu EUR -s 5 -sy 2019 -ey 2023 -csv \"germany_sales_data_2019_2023.csv\""
   ]
  },
  {
   "cell_type": "code",
   "execution_count": 11,
   "id": "9671a32f-fb8e-46b5-aa4d-52220cb0cb22",
   "metadata": {
    "tags": []
   },
   "outputs": [
    {
     "name": "stdout",
     "output_type": "stream",
     "text": [
      "# Variables Selected\n",
      "\t- Country: Czech Republic\n",
      "\t- Currency: CZK\n",
      "\t- Stores: 5\n",
      "\t ['Store A', 'Store B', 'Store C', 'Store D', 'Store E']\n",
      "\t- Start: 2019\n",
      "\t- End: 2023\n",
      "Rates:\n",
      "{'EUR': 1, 'AED': 3.98, 'AFN': 77.3, 'ALL': 102.96, 'AMD': 429.88, 'ANG': 1.94, 'AOA': 916.45, 'ARS': 928.42, 'AUD': 1.66, 'AWG': 1.94, 'AZN': 1.85, 'BAM': 1.96, 'BBD': 2.17, 'BDT': 118.95, 'BGN': 1.96, 'BHD': 0.407, 'BIF': 3101.42, 'BMD': 1.08, 'BND': 1.46, 'BOB': 7.5, 'BRL': 5.4, 'BSD': 1.08, 'BTN': 90.34, 'BWP': 14.94, 'BYN': 3.54, 'BZD': 2.17, 'CAD': 1.47, 'CDF': 3031.1, 'CHF': 0.979, 'CLP': 1061.95, 'CNY': 7.84, 'COP': 4225.92, 'CRC': 545.85, 'CUP': 26.01, 'CVE': 110.27, 'CZK': 25.29, 'DJF': 192.59, 'DKK': 7.46, 'DOP': 64.15, 'DZD': 146.17, 'EGP': 51.8, 'ERN': 16.25, 'ETB': 61.75, 'FJD': 2.44, 'FKP': 0.858, 'FOK': 7.46, 'GBP': 0.858, 'GEL': 2.93, 'GGP': 0.858, 'GHS': 14.35, 'GIP': 0.858, 'GMD': 71.54, 'GNF': 9298.22, 'GTQ': 8.45, 'GYD': 227.13, 'HKD': 8.48, 'HNL': 26.77, 'HRK': 7.53, 'HTG': 144.53, 'HUF': 395.5, 'IDR': 17118.3, 'ILS': 3.97, 'IMP': 0.858, 'INR': 90.34, 'IQD': 1418.81, 'IRR': 46200.9, 'ISK': 149.29, 'JEP': 0.858, 'JMD': 166.09, 'JOD': 0.768, 'JPY': 164.15, 'KES': 143.05, 'KGS': 97.16, 'KHR': 4387.12, 'KID': 1.66, 'KMF': 491.97, 'KRW': 1455.63, 'KWD': 0.333, 'KYD': 0.903, 'KZT': 488.41, 'LAK': 22403.63, 'LBP': 96986.69, 'LKR': 327.8, 'LRD': 210.05, 'LSL': 20.55, 'LYD': 5.25, 'MAD': 10.96, 'MDL': 19.18, 'MGA': 4715.97, 'MKD': 61.5, 'MMK': 2733.42, 'MNT': 3648.31, 'MOP': 8.73, 'MRU': 43.24, 'MUR': 50.12, 'MVR': 16.76, 'MWK': 1877.33, 'MXN': 18.06, 'MYR': 5.12, 'MZN': 69.32, 'NAD': 20.55, 'NGN': 1554.53, 'NIO': 39.92, 'NOK': 11.64, 'NPR': 144.55, 'NZD': 1.8, 'OMR': 0.417, 'PAB': 1.08, 'PEN': 4.03, 'PGK': 4.1, 'PHP': 60.98, 'PKR': 301.47, 'PLN': 4.31, 'PYG': 7936.87, 'QAR': 3.94, 'RON': 4.97, 'RSD': 117.22, 'RUB': 100.4, 'RWF': 1433.4, 'SAR': 4.06, 'SBD': 9.17, 'SCR': 15.59, 'SDG': 485.33, 'SEK': 11.46, 'SGD': 1.46, 'SHP': 0.858, 'SLE': 24.49, 'SLL': 24493.4, 'SOS': 619.74, 'SRD': 38.25, 'SSP': 1721.21, 'STN': 24.5, 'SYP': 13994.31, 'SZL': 20.55, 'THB': 39.37, 'TJS': 11.88, 'TMT': 3.8, 'TND': 3.39, 'TOP': 2.54, 'TRY': 34.93, 'TTD': 7.55, 'TVD': 1.66, 'TWD': 34.57, 'TZS': 2784.82, 'UAH': 42.73, 'UGX': 4217.87, 'USD': 1.08, 'UYU': 41.01, 'UZS': 13805.17, 'VES': 39.38, 'VND': 26870.11, 'VUV': 130.66, 'WST': 2.96, 'XAF': 655.96, 'XCD': 2.93, 'XDR': 0.818, 'XOF': 655.96, 'XPF': 119.33, 'YER': 271.58, 'ZAR': 20.55, 'ZMW': 28.16, 'ZWL': 23118.9}\n",
      "{'EUR': 1, 'AED': 3.98, 'AFN': 77.3, 'ALL': 102.96, 'AMD': 429.88, 'ANG': 1.94, 'AOA': 916.45, 'ARS': 928.42, 'AUD': 1.66, 'AWG': 1.94, 'AZN': 1.85, 'BAM': 1.96, 'BBD': 2.17, 'BDT': 118.95, 'BGN': 1.96, 'BHD': 0.407, 'BIF': 3101.42, 'BMD': 1.08, 'BND': 1.46, 'BOB': 7.5, 'BRL': 5.4, 'BSD': 1.08, 'BTN': 90.34, 'BWP': 14.94, 'BYN': 3.54, 'BZD': 2.17, 'CAD': 1.47, 'CDF': 3031.1, 'CHF': 0.979, 'CLP': 1061.95, 'CNY': 7.84, 'COP': 4225.92, 'CRC': 545.85, 'CUP': 26.01, 'CVE': 110.27, 'CZK': 25.29, 'DJF': 192.59, 'DKK': 7.46, 'DOP': 64.15, 'DZD': 146.17, 'EGP': 51.8, 'ERN': 16.25, 'ETB': 61.75, 'FJD': 2.44, 'FKP': 0.858, 'FOK': 7.46, 'GBP': 0.858, 'GEL': 2.93, 'GGP': 0.858, 'GHS': 14.35, 'GIP': 0.858, 'GMD': 71.54, 'GNF': 9298.22, 'GTQ': 8.45, 'GYD': 227.13, 'HKD': 8.48, 'HNL': 26.77, 'HRK': 7.53, 'HTG': 144.53, 'HUF': 395.5, 'IDR': 17118.3, 'ILS': 3.97, 'IMP': 0.858, 'INR': 90.34, 'IQD': 1418.81, 'IRR': 46200.9, 'ISK': 149.29, 'JEP': 0.858, 'JMD': 166.09, 'JOD': 0.768, 'JPY': 164.15, 'KES': 143.05, 'KGS': 97.16, 'KHR': 4387.12, 'KID': 1.66, 'KMF': 491.97, 'KRW': 1455.63, 'KWD': 0.333, 'KYD': 0.903, 'KZT': 488.41, 'LAK': 22403.63, 'LBP': 96986.69, 'LKR': 327.8, 'LRD': 210.05, 'LSL': 20.55, 'LYD': 5.25, 'MAD': 10.96, 'MDL': 19.18, 'MGA': 4715.97, 'MKD': 61.5, 'MMK': 2733.42, 'MNT': 3648.31, 'MOP': 8.73, 'MRU': 43.24, 'MUR': 50.12, 'MVR': 16.76, 'MWK': 1877.33, 'MXN': 18.06, 'MYR': 5.12, 'MZN': 69.32, 'NAD': 20.55, 'NGN': 1554.53, 'NIO': 39.92, 'NOK': 11.64, 'NPR': 144.55, 'NZD': 1.8, 'OMR': 0.417, 'PAB': 1.08, 'PEN': 4.03, 'PGK': 4.1, 'PHP': 60.98, 'PKR': 301.47, 'PLN': 4.31, 'PYG': 7936.87, 'QAR': 3.94, 'RON': 4.97, 'RSD': 117.22, 'RUB': 100.4, 'RWF': 1433.4, 'SAR': 4.06, 'SBD': 9.17, 'SCR': 15.59, 'SDG': 485.33, 'SEK': 11.46, 'SGD': 1.46, 'SHP': 0.858, 'SLE': 24.49, 'SLL': 24493.4, 'SOS': 619.74, 'SRD': 38.25, 'SSP': 1721.21, 'STN': 24.5, 'SYP': 13994.31, 'SZL': 20.55, 'THB': 39.37, 'TJS': 11.88, 'TMT': 3.8, 'TND': 3.39, 'TOP': 2.54, 'TRY': 34.93, 'TTD': 7.55, 'TVD': 1.66, 'TWD': 34.57, 'TZS': 2784.82, 'UAH': 42.73, 'UGX': 4217.87, 'USD': 1.08, 'UYU': 41.01, 'UZS': 13805.17, 'VES': 39.38, 'VND': 26870.11, 'VUV': 130.66, 'WST': 2.96, 'XAF': 655.96, 'XCD': 2.93, 'XDR': 0.818, 'XOF': 655.96, 'XPF': 119.33, 'YER': 271.58, 'ZAR': 20.55, 'ZMW': 28.16, 'ZWL': 23118.9}\n",
      "# File /home/ezmeral/ezmeral/data/czech_sales_data_2019_2023.csv created\n",
      "['PRODUCTID', 'PRODUCT', 'TYPE', 'UNITPRICE', 'UNIT', 'QTY', 'TOTALSALES', 'CURRENCY', 'STORE', 'COUNTRY', 'YEAR']\n",
      "['1', 'banana', 'fruits', '12.645', 'kg', '21257', '268794.77', 'CZK', 'Store A', 'Czech Republic', '2019']\n",
      "['2', 'apple', 'fruits', '17.703', 'kg', '11475', '471936.69', 'CZK', 'Store A', 'Czech Republic', '2019']\n",
      "['3', 'pear', 'fruits', '15.174', 'kg', '11946', '653205.29', 'CZK', 'Store A', 'Czech Republic', '2019']\n",
      "['4', 'grapes', 'fruits', '30.348', 'kg', '5972', '834443.55', 'CZK', 'Store A', 'Czech Republic', '2019']\n",
      "['5', 'orange', 'fruits', '20.232', 'kg', '11122', '1059463.85', 'CZK', 'Store A', 'Czech Republic', '2019']\n",
      "['6', 'kiwi', 'fruits', '22.761', 'piece', '10847', '1306352.42', 'CZK', 'Store A', 'Czech Republic', '2019']\n",
      "['7', 'watermelon', 'fruits', '126.44999999999999', 'kg', '1476', '1492992.62', 'CZK', 'Store A', 'Czech Republic', '2019']\n",
      "['8', 'pomegranate', 'fruits', '63.224999999999994', 'kg', '2952', '1679632.82', 'CZK', 'Store A', 'Czech Republic', '2019']\n",
      "['9', 'pineapple', 'fruits', '37.935', 'piece', '5643', '1893700.03', 'CZK', 'Store A', 'Czech Republic', '2019']\n"
     ]
    }
   ],
   "source": [
    "%run create_csv.py -c \"Czech Republic\" -cu CZK -s 5 -sy 2019 -ey 2023 -csv \"czech_sales_data_2019_2023.csv\""
   ]
  },
  {
   "cell_type": "code",
   "execution_count": 13,
   "id": "5dc93d56-0fd2-4c33-b77d-d709c228597a",
   "metadata": {
    "tags": []
   },
   "outputs": [
    {
     "name": "stdout",
     "output_type": "stream",
     "text": [
      "# Variables Selected\n",
      "\t- Country: Swiss\n",
      "\t- Currency: CHF\n",
      "\t- Stores: 5\n",
      "\t ['Store A', 'Store B', 'Store C', 'Store D', 'Store E']\n",
      "\t- Start: 2019\n",
      "\t- End: 2023\n",
      "Rates:\n",
      "{'EUR': 1, 'AED': 3.98, 'AFN': 77.3, 'ALL': 102.96, 'AMD': 429.88, 'ANG': 1.94, 'AOA': 916.45, 'ARS': 928.42, 'AUD': 1.66, 'AWG': 1.94, 'AZN': 1.85, 'BAM': 1.96, 'BBD': 2.17, 'BDT': 118.95, 'BGN': 1.96, 'BHD': 0.407, 'BIF': 3101.42, 'BMD': 1.08, 'BND': 1.46, 'BOB': 7.5, 'BRL': 5.4, 'BSD': 1.08, 'BTN': 90.34, 'BWP': 14.94, 'BYN': 3.54, 'BZD': 2.17, 'CAD': 1.47, 'CDF': 3031.1, 'CHF': 0.979, 'CLP': 1061.95, 'CNY': 7.84, 'COP': 4225.92, 'CRC': 545.85, 'CUP': 26.01, 'CVE': 110.27, 'CZK': 25.29, 'DJF': 192.59, 'DKK': 7.46, 'DOP': 64.15, 'DZD': 146.17, 'EGP': 51.8, 'ERN': 16.25, 'ETB': 61.75, 'FJD': 2.44, 'FKP': 0.858, 'FOK': 7.46, 'GBP': 0.858, 'GEL': 2.93, 'GGP': 0.858, 'GHS': 14.35, 'GIP': 0.858, 'GMD': 71.54, 'GNF': 9298.22, 'GTQ': 8.45, 'GYD': 227.13, 'HKD': 8.48, 'HNL': 26.77, 'HRK': 7.53, 'HTG': 144.53, 'HUF': 395.5, 'IDR': 17118.3, 'ILS': 3.97, 'IMP': 0.858, 'INR': 90.34, 'IQD': 1418.81, 'IRR': 46200.9, 'ISK': 149.29, 'JEP': 0.858, 'JMD': 166.09, 'JOD': 0.768, 'JPY': 164.15, 'KES': 143.05, 'KGS': 97.16, 'KHR': 4387.12, 'KID': 1.66, 'KMF': 491.97, 'KRW': 1455.63, 'KWD': 0.333, 'KYD': 0.903, 'KZT': 488.41, 'LAK': 22403.63, 'LBP': 96986.69, 'LKR': 327.8, 'LRD': 210.05, 'LSL': 20.55, 'LYD': 5.25, 'MAD': 10.96, 'MDL': 19.18, 'MGA': 4715.97, 'MKD': 61.5, 'MMK': 2733.42, 'MNT': 3648.31, 'MOP': 8.73, 'MRU': 43.24, 'MUR': 50.12, 'MVR': 16.76, 'MWK': 1877.33, 'MXN': 18.06, 'MYR': 5.12, 'MZN': 69.32, 'NAD': 20.55, 'NGN': 1554.53, 'NIO': 39.92, 'NOK': 11.64, 'NPR': 144.55, 'NZD': 1.8, 'OMR': 0.417, 'PAB': 1.08, 'PEN': 4.03, 'PGK': 4.1, 'PHP': 60.98, 'PKR': 301.47, 'PLN': 4.31, 'PYG': 7936.87, 'QAR': 3.94, 'RON': 4.97, 'RSD': 117.22, 'RUB': 100.4, 'RWF': 1433.4, 'SAR': 4.06, 'SBD': 9.17, 'SCR': 15.59, 'SDG': 485.33, 'SEK': 11.46, 'SGD': 1.46, 'SHP': 0.858, 'SLE': 24.49, 'SLL': 24493.4, 'SOS': 619.74, 'SRD': 38.25, 'SSP': 1721.21, 'STN': 24.5, 'SYP': 13994.31, 'SZL': 20.55, 'THB': 39.37, 'TJS': 11.88, 'TMT': 3.8, 'TND': 3.39, 'TOP': 2.54, 'TRY': 34.93, 'TTD': 7.55, 'TVD': 1.66, 'TWD': 34.57, 'TZS': 2784.82, 'UAH': 42.73, 'UGX': 4217.87, 'USD': 1.08, 'UYU': 41.01, 'UZS': 13805.17, 'VES': 39.38, 'VND': 26870.11, 'VUV': 130.66, 'WST': 2.96, 'XAF': 655.96, 'XCD': 2.93, 'XDR': 0.818, 'XOF': 655.96, 'XPF': 119.33, 'YER': 271.58, 'ZAR': 20.55, 'ZMW': 28.16, 'ZWL': 23118.9}\n",
      "{'EUR': 1, 'AED': 3.98, 'AFN': 77.3, 'ALL': 102.96, 'AMD': 429.88, 'ANG': 1.94, 'AOA': 916.45, 'ARS': 928.42, 'AUD': 1.66, 'AWG': 1.94, 'AZN': 1.85, 'BAM': 1.96, 'BBD': 2.17, 'BDT': 118.95, 'BGN': 1.96, 'BHD': 0.407, 'BIF': 3101.42, 'BMD': 1.08, 'BND': 1.46, 'BOB': 7.5, 'BRL': 5.4, 'BSD': 1.08, 'BTN': 90.34, 'BWP': 14.94, 'BYN': 3.54, 'BZD': 2.17, 'CAD': 1.47, 'CDF': 3031.1, 'CHF': 0.979, 'CLP': 1061.95, 'CNY': 7.84, 'COP': 4225.92, 'CRC': 545.85, 'CUP': 26.01, 'CVE': 110.27, 'CZK': 25.29, 'DJF': 192.59, 'DKK': 7.46, 'DOP': 64.15, 'DZD': 146.17, 'EGP': 51.8, 'ERN': 16.25, 'ETB': 61.75, 'FJD': 2.44, 'FKP': 0.858, 'FOK': 7.46, 'GBP': 0.858, 'GEL': 2.93, 'GGP': 0.858, 'GHS': 14.35, 'GIP': 0.858, 'GMD': 71.54, 'GNF': 9298.22, 'GTQ': 8.45, 'GYD': 227.13, 'HKD': 8.48, 'HNL': 26.77, 'HRK': 7.53, 'HTG': 144.53, 'HUF': 395.5, 'IDR': 17118.3, 'ILS': 3.97, 'IMP': 0.858, 'INR': 90.34, 'IQD': 1418.81, 'IRR': 46200.9, 'ISK': 149.29, 'JEP': 0.858, 'JMD': 166.09, 'JOD': 0.768, 'JPY': 164.15, 'KES': 143.05, 'KGS': 97.16, 'KHR': 4387.12, 'KID': 1.66, 'KMF': 491.97, 'KRW': 1455.63, 'KWD': 0.333, 'KYD': 0.903, 'KZT': 488.41, 'LAK': 22403.63, 'LBP': 96986.69, 'LKR': 327.8, 'LRD': 210.05, 'LSL': 20.55, 'LYD': 5.25, 'MAD': 10.96, 'MDL': 19.18, 'MGA': 4715.97, 'MKD': 61.5, 'MMK': 2733.42, 'MNT': 3648.31, 'MOP': 8.73, 'MRU': 43.24, 'MUR': 50.12, 'MVR': 16.76, 'MWK': 1877.33, 'MXN': 18.06, 'MYR': 5.12, 'MZN': 69.32, 'NAD': 20.55, 'NGN': 1554.53, 'NIO': 39.92, 'NOK': 11.64, 'NPR': 144.55, 'NZD': 1.8, 'OMR': 0.417, 'PAB': 1.08, 'PEN': 4.03, 'PGK': 4.1, 'PHP': 60.98, 'PKR': 301.47, 'PLN': 4.31, 'PYG': 7936.87, 'QAR': 3.94, 'RON': 4.97, 'RSD': 117.22, 'RUB': 100.4, 'RWF': 1433.4, 'SAR': 4.06, 'SBD': 9.17, 'SCR': 15.59, 'SDG': 485.33, 'SEK': 11.46, 'SGD': 1.46, 'SHP': 0.858, 'SLE': 24.49, 'SLL': 24493.4, 'SOS': 619.74, 'SRD': 38.25, 'SSP': 1721.21, 'STN': 24.5, 'SYP': 13994.31, 'SZL': 20.55, 'THB': 39.37, 'TJS': 11.88, 'TMT': 3.8, 'TND': 3.39, 'TOP': 2.54, 'TRY': 34.93, 'TTD': 7.55, 'TVD': 1.66, 'TWD': 34.57, 'TZS': 2784.82, 'UAH': 42.73, 'UGX': 4217.87, 'USD': 1.08, 'UYU': 41.01, 'UZS': 13805.17, 'VES': 39.38, 'VND': 26870.11, 'VUV': 130.66, 'WST': 2.96, 'XAF': 655.96, 'XCD': 2.93, 'XDR': 0.818, 'XOF': 655.96, 'XPF': 119.33, 'YER': 271.58, 'ZAR': 20.55, 'ZMW': 28.16, 'ZWL': 23118.9}\n",
      "# File /home/ezmeral/ezmeral/data/swiss_sales_data_2019_2023.csv created\n",
      "['PRODUCTID', 'PRODUCT', 'TYPE', 'UNITPRICE', 'UNIT', 'QTY', 'TOTALSALES', 'CURRENCY', 'STORE', 'COUNTRY', 'YEAR']\n",
      "['1', 'banana', 'fruits', '0.4895', 'kg', '379000', '185520.5', 'CHF', 'Store A', 'Swiss', '2019']\n",
      "['2', 'apple', 'fruits', '0.6852999999999999', 'kg', '349815', '425248.72', 'CHF', 'Store A', 'Swiss', '2019']\n",
      "['3', 'pear', 'fruits', '0.5873999999999999', 'kg', '361975', '637872.83', 'CHF', 'Store A', 'Swiss', '2019']\n",
      "['4', 'grapes', 'fruits', '1.1747999999999998', 'kg', '180987', '850496.36', 'CHF', 'Store A', 'Swiss', '2019']\n",
      "['5', 'orange', 'fruits', '0.7832', 'kg', '340695', '1117328.69', 'CHF', 'Store A', 'Swiss', '2019']\n",
      "['6', 'kiwi', 'fruits', '0.8811', 'piece', '333602', '1411265.41', 'CHF', 'Store A', 'Swiss', '2019']\n",
      "['7', 'watermelon', 'fruits', '4.895', 'kg', '44820', '1630659.31', 'CHF', 'Store A', 'Swiss', '2019']\n",
      "['8', 'pomegranate', 'fruits', '2.4475', 'kg', '89642', '1850058.1', 'CHF', 'Store A', 'Swiss', '2019']\n",
      "['9', 'pineapple', 'fruits', '1.4685', 'piece', '172475', '2103337.64', 'CHF', 'Store A', 'Swiss', '2019']\n"
     ]
    }
   ],
   "source": [
    "%run create_csv.py -c \"Swiss\" -cu CHF -s 5 -sy 2019 -ey 2023 -csv \"swiss_sales_data_2019_2023.csv\""
   ]
  },
  {
   "cell_type": "markdown",
   "id": "cf50a54e-8337-49bf-b692-21a6ed7dca49",
   "metadata": {
    "tags": []
   },
   "source": [
    "## Verify if the Data is there"
   ]
  },
  {
   "cell_type": "code",
   "execution_count": 14,
   "id": "90a51cc5-8f76-49ef-bf2d-793e4da95f05",
   "metadata": {
    "tags": []
   },
   "outputs": [
    {
     "data": {
      "application/vnd.jupyter.widget-view+json": {
       "model_id": "",
       "version_major": 2,
       "version_minor": 0
      },
      "text/plain": [
       "FloatProgress(value=0.0, bar_style='info', description='Progress:', layout=Layout(height='25px', width='50%'),…"
      ]
     },
     "metadata": {},
     "output_type": "display_data"
    },
    {
     "name": "stdout",
     "output_type": "stream",
     "text": [
      "file:///mounts/shared-volume/user/data/czech_sales_data_2019_2023.csv\n",
      "file:///mounts/shared-volume/user/data/germany_sales_data_2019_2023.csv\n",
      "file:///mounts/shared-volume/user/data/swiss_sales_data_2019_2023.csv"
     ]
    }
   ],
   "source": [
    "# Define the directory path\n",
    "data_path = \"file:///mounts/shared-volume/user/data\"\n",
    "\n",
    "# List files in the directory\n",
    "files = spark.sparkContext.wholeTextFiles(data_path)\n",
    "\n",
    "# Display the list of files\n",
    "for file_path, _ in files.collect():\n",
    "    print(file_path)"
   ]
  },
  {
   "cell_type": "markdown",
   "id": "acafe4dd-7c94-4416-a505-fb25558a614b",
   "metadata": {
    "tags": []
   },
   "source": [
    "## Define a function to extract the data from CSV in a DataFrame"
   ]
  },
  {
   "cell_type": "code",
   "execution_count": 165,
   "id": "262d95d3-5fa2-4eb4-a15c-1c1467f73713",
   "metadata": {
    "tags": []
   },
   "outputs": [
    {
     "data": {
      "application/vnd.jupyter.widget-view+json": {
       "model_id": "",
       "version_major": 2,
       "version_minor": 0
      },
      "text/plain": [
       "FloatProgress(value=0.0, bar_style='info', description='Progress:', layout=Layout(height='25px', width='50%'),…"
      ]
     },
     "metadata": {},
     "output_type": "display_data"
    }
   ],
   "source": [
    "from pyspark.sql.types import IntegerType\n",
    "\n",
    "def load_data(spark, country, data_path):\n",
    "    # Define the path to the CSV file\n",
    "    csv_path = f\"{data_path}/{country}_sales_data_2019_2023.csv\"\n",
    "\n",
    "    # Define the schema with specific data types\n",
    "    schema = StructType([\n",
    "        StructField(\"PRODUCTID\", IntegerType(), True),\n",
    "        StructField(\"PRODUCT\", StringType(), True),\n",
    "        StructField(\"TYPE\", StringType(), True),\n",
    "        StructField(\"UNITPRICE\", DoubleType(), True),\n",
    "        StructField(\"UNIT\", StringType(), True),\n",
    "        StructField(\"QTY\", IntegerType(), True),\n",
    "        StructField(\"TOTALSALES\", DoubleType(), True),\n",
    "        StructField(\"CURRENCY\", StringType(), True),\n",
    "        StructField(\"STORE\", StringType(), True),\n",
    "        StructField(\"COUNTRY\", StringType(), True),\n",
    "        StructField(\"YEAR\", IntegerType(), True)\n",
    "    ])\n",
    "\n",
    "    # Read data from the CSV file with the specified schema\n",
    "    df = spark.read \\\n",
    "        .format(\"csv\") \\\n",
    "        .schema(schema) \\\n",
    "        .option(\"header\", \"true\") \\\n",
    "        .load(csv_path)\n",
    "\n",
    "    return df"
   ]
  },
  {
   "cell_type": "markdown",
   "id": "9b9c9954-ac26-41a4-abd3-18f7b04b00ba",
   "metadata": {
    "tags": []
   },
   "source": [
    "## Define a function to convert the currency to Euro"
   ]
  },
  {
   "cell_type": "code",
   "execution_count": 166,
   "id": "8bfb38a7-7fe3-4c0a-a467-4b45d9ec64f9",
   "metadata": {
    "tags": []
   },
   "outputs": [
    {
     "data": {
      "application/vnd.jupyter.widget-view+json": {
       "model_id": "",
       "version_major": 2,
       "version_minor": 0
      },
      "text/plain": [
       "FloatProgress(value=0.0, bar_style='info', description='Progress:', layout=Layout(height='25px', width='50%'),…"
      ]
     },
     "metadata": {},
     "output_type": "display_data"
    }
   ],
   "source": [
    "def clean_data(df, spark, country):\n",
    "    # Define a UDF to convert currencies to EUR\n",
    "    convert_udf = udf(lambda currency, amount: amount / CZK_TO_EUR_RATE if currency == \"CZK\" else amount / CHF_TO_EUR_RATE if currency == \"CHF\" else amount, DoubleType())\n",
    "\n",
    "    # Apply the UDFs to the DataFrame\n",
    "    corrected_df = df.withColumn(\"totalsales\", convert_udf(col(\"currency\"), col(\"totalsales\"))) \\\n",
    "                     .withColumn(\"currency\", lit(\"EUR\"))\n",
    "\n",
    "    # Show the results\n",
    "    corrected_df.show()\n",
    "\n",
    "    return corrected_df"
   ]
  },
  {
   "cell_type": "markdown",
   "id": "4506a081-3198-4387-972b-d93770235000",
   "metadata": {
    "tags": []
   },
   "source": [
    "## Define a function to save the data to a Delta Tables \n",
    "<div class=\"alert alert-block alert-danger\">\n",
    "<b>Important</b> Make sure the path is correct\n",
    "</div>"
   ]
  },
  {
   "cell_type": "code",
   "execution_count": 167,
   "id": "7d436fd8-3f8b-4193-8db9-08f6804f79fb",
   "metadata": {
    "tags": []
   },
   "outputs": [
    {
     "data": {
      "application/vnd.jupyter.widget-view+json": {
       "model_id": "",
       "version_major": 2,
       "version_minor": 0
      },
      "text/plain": [
       "FloatProgress(value=0.0, bar_style='info', description='Progress:', layout=Layout(height='25px', width='50%'),…"
      ]
     },
     "metadata": {},
     "output_type": "display_data"
    }
   ],
   "source": [
    "def write_data(df, country):\n",
    "    delta_path = f\"file:///mounts/shared-volume/shared/end2end-delta/{group_name}/{country}\"\n",
    "\n",
    "    # Check if the directory exists, and create it if it doesn't\n",
    "    if not os.path.exists(delta_path):\n",
    "        os.makedirs(delta_path)\n",
    "        \n",
    "    df.write.format(\"delta\").mode(\"overwrite\").save(delta_path)"
   ]
  },
  {
   "cell_type": "markdown",
   "id": "541e149b-dbac-4d5b-9e0b-dbcee401d81b",
   "metadata": {
    "tags": []
   },
   "source": [
    "## Define the country names & currency rates \n",
    "<div class=\"alert alert-block alert-danger\">\n",
    "<b>Important</b> Make sure the values are correct\n",
    "</div>"
   ]
  },
  {
   "cell_type": "code",
   "execution_count": 168,
   "id": "1d6b9227-280f-46a9-bc3f-0a1d1bcc0e14",
   "metadata": {
    "tags": []
   },
   "outputs": [
    {
     "data": {
      "application/vnd.jupyter.widget-view+json": {
       "model_id": "",
       "version_major": 2,
       "version_minor": 0
      },
      "text/plain": [
       "FloatProgress(value=0.0, bar_style='info', description='Progress:', layout=Layout(height='25px', width='50%'),…"
      ]
     },
     "metadata": {},
     "output_type": "display_data"
    }
   ],
   "source": [
    "# Constants\n",
    "COUNTRY_LIST = [\"czech\", \"germany\", \"swiss\"]\n",
    "CZK_TO_EUR_RATE = 25\n",
    "CHF_TO_EUR_RATE = 1"
   ]
  },
  {
   "cell_type": "markdown",
   "id": "014dbcca-2d50-4a18-b927-75a05c63ff22",
   "metadata": {
    "tags": []
   },
   "source": [
    "## Run the ETL for each countries"
   ]
  },
  {
   "cell_type": "code",
   "execution_count": null,
   "id": "509607bd-a86f-4252-9c6e-354709521775",
   "metadata": {
    "tags": []
   },
   "outputs": [
    {
     "data": {
      "application/vnd.jupyter.widget-view+json": {
       "model_id": "cb3a89e2921245478b1d3fabab81e474",
       "version_major": 2,
       "version_minor": 0
      },
      "text/plain": [
       "FloatProgress(value=0.0, bar_style='info', description='Progress:', layout=Layout(height='25px', width='50%'),…"
      ]
     },
     "metadata": {},
     "output_type": "display_data"
    }
   ],
   "source": [
    "for country in COUNTRY_LIST:\n",
    "    # Load data from the DBs\n",
    "    df = load_data(spark, country, data_path)\n",
    "    df.show()\n",
    "    \n",
    "    # Clean the data\n",
    "    cleaned_df = clean_data(df, spark, country)\n",
    "    cleaned_df.printSchema()\n",
    "    \n",
    "    # Write the cleaned data back to the Delta Table\n",
    "    write_data(cleaned_df, country)"
   ]
  },
  {
   "cell_type": "markdown",
   "id": "fca77167-5306-4515-aa1c-1178a42f593a",
   "metadata": {
    "tags": []
   },
   "source": [
    "## Check if the Delta Tables were created"
   ]
  },
  {
   "cell_type": "code",
   "execution_count": null,
   "id": "5e61cd90-dfe5-42cd-ad23-9fcc25739f16",
   "metadata": {
    "tags": []
   },
   "outputs": [],
   "source": [
    "for country in COUNTRY_LIST:\n",
    "    # List files in a directory\n",
    "    files = os.listdir(f\"/mounts/shared-volume/shared/end2end-delta/{group_name}/{country}\")\n",
    "    print(\"Table:\", country)\n",
    "    \n",
    "    for file in files:\n",
    "        if file.endswith(\".parquet\"):\n",
    "            full_path = os.path.join(f\"/mounts/shared-volume/shared/end2end-delta/{group_name}/{country}\", file)\n",
    "            print(\"Saved in:\", full_path)\n",
    "\n",
    "    print()"
   ]
  },
  {
   "cell_type": "markdown",
   "id": "3d64969c-d434-47ea-813e-1f9d8df35610",
   "metadata": {},
   "source": [
    "## Time Travel"
   ]
  },
  {
   "cell_type": "markdown",
   "id": "bafc2daf-bd72-44ca-99a1-f1b213e23f01",
   "metadata": {
    "tags": []
   },
   "source": [
    "1. Create Initial Delta Table by loading the `czech` table:"
   ]
  },
  {
   "cell_type": "code",
   "execution_count": null,
   "id": "98e3bb3a-7c4f-4053-98b1-02452c20ff8d",
   "metadata": {
    "tags": []
   },
   "outputs": [],
   "source": [
    "from delta.tables import DeltaTable\n",
    "# Set the parameters\n",
    "country = \"czech\"\n",
    "delta_path = f\"file:///mounts/shared-volume/shared/end2end-delta/{group_name}/{country}\"\n",
    "\n",
    "# Read the Delta table using the load method\n",
    "read_df = spark.read.format(\"delta\").load(delta_path)\n",
    "\n",
    "# Show the contents of the DataFrame\n",
    "read_df.show()"
   ]
  },
  {
   "cell_type": "markdown",
   "id": "5724dfdb-8f0c-4393-ae04-cde3901a003a",
   "metadata": {
    "tags": []
   },
   "source": [
    "2. Overwrite the Delta Table with Selected Columns:"
   ]
  },
  {
   "cell_type": "code",
   "execution_count": null,
   "id": "0314d2b2-0494-4cb0-8537-c1a8027eddd1",
   "metadata": {
    "tags": []
   },
   "outputs": [],
   "source": [
    "# Select only a subset of columns for the initial Delta Table\n",
    "selected_columns = [\"type\", \"unitprice\", \"qty\", \"totalsales\"]\n",
    "select_delta_path = f\"file:///mounts/shared-volume/shared/end2end-delta/{group_name}/{country}\"\n",
    "\n",
    "# Create the initial Delta Table with selected columns\n",
    "df_select = df.select(\"type\", \"unitprice\", \"unit\", \"qty\")\n",
    "df_select.write.format(\"delta\").mode(\"overwrite\").save(select_delta_path)"
   ]
  },
  {
   "cell_type": "markdown",
   "id": "015e35ea-4acd-44f3-bb22-41fbe805d10a",
   "metadata": {
    "tags": []
   },
   "source": [
    "3. Read the Delta Table with Selected Columns: the old columns are marked as `NULL`"
   ]
  },
  {
   "cell_type": "code",
   "execution_count": null,
   "id": "a33efef9-815a-4203-9eed-b5d20b5404ae",
   "metadata": {
    "tags": []
   },
   "outputs": [],
   "source": [
    "# Read the Delta table using the load method\n",
    "read_df_select = spark.read.format(\"delta\").load(delta_path)\n",
    "\n",
    "# Show the contents of the DataFrame\n",
    "read_df_select.show()\n",
    "\n",
    "# Display the schema of the version 0 DataFrame\n",
    "read_df_select.printSchema()"
   ]
  },
  {
   "cell_type": "markdown",
   "id": "9dcf4cc2-a772-4a34-a045-c3077fd60a63",
   "metadata": {
    "tags": []
   },
   "source": [
    "4. Display the versions available for this table:"
   ]
  },
  {
   "cell_type": "code",
   "execution_count": null,
   "id": "d4da2e54-d1bb-4e6b-bb87-dcdb22a5707b",
   "metadata": {
    "tags": []
   },
   "outputs": [],
   "source": [
    "# Create a DeltaTable object\n",
    "delta_table = DeltaTable.forPath(spark, delta_path)\n",
    "\n",
    "# Get the history of the Delta table\n",
    "history_df = delta_table.history()\n",
    "\n",
    "# List all versions with timestamp\n",
    "versions_with_timestamp = history_df.select(\"version\", \"timestamp\").distinct().collect()\n",
    "\n",
    "# Display the list of versions with timestamp\n",
    "print(\"List of Delta Table Versions with Timestamp:\")\n",
    "for version_info in versions_with_timestamp:\n",
    "    version = version_info[\"version\"]\n",
    "    timestamp = version_info[\"timestamp\"]\n",
    "    print(f\"Version: {version}, Timestamp: {timestamp}\")"
   ]
  },
  {
   "cell_type": "markdown",
   "id": "eca95c6d-e7fe-4c0a-a9ef-a842eb9750a7",
   "metadata": {
    "tags": []
   },
   "source": [
    "5. Compare table content"
   ]
  },
  {
   "cell_type": "code",
   "execution_count": null,
   "id": "63e5d8be-de4f-424a-b0b8-31357723db06",
   "metadata": {
    "tags": []
   },
   "outputs": [],
   "source": [
    "# Read a specific version (e.g., version 0) of the Delta table\n",
    "read_df_version_0 = spark.read.format(\"delta\").option(\"versionAsOf\", \"0\").load(delta_path)\n",
    "read_df_version_0.show()\n",
    "\n",
    "# Read a specific version (e.g., version 1) of the Delta table\n",
    "read_df_version_1 = spark.read.format(\"delta\").option(\"versionAsOf\", \"2\").load(delta_path)\n",
    "read_df_version_1.show()"
   ]
  },
  {
   "cell_type": "markdown",
   "id": "47730dea-6c5d-42de-90ad-e180dfb81672",
   "metadata": {
    "tags": []
   },
   "source": [
    "6. Rollback to Initial Delta Table"
   ]
  },
  {
   "cell_type": "code",
   "execution_count": null,
   "id": "c8b42536-d830-4940-b2ef-7914fb670b47",
   "metadata": {
    "tags": []
   },
   "outputs": [],
   "source": [
    "# Read a specific version (e.g., version 0) of the Delta table\n",
    "read_df_version_0 = spark.read.format(\"delta\").option(\"versionAsOf\", \"0\").load(delta_path)\n",
    "\n",
    "# If you want to perform further actions or overwrite the current Delta table:\n",
    "# Overwrite the current Delta table with version 0 data\n",
    "read_df_version_0.write.format(\"delta\").mode(\"overwrite\").save(delta_path)"
   ]
  },
  {
   "cell_type": "markdown",
   "id": "27781d28-8213-4bf1-8d9e-cb210fcab1b7",
   "metadata": {
    "tags": []
   },
   "source": [
    "7. Read the Delta Table with Selected Columns: the old columns are back in the current version"
   ]
  },
  {
   "cell_type": "code",
   "execution_count": null,
   "id": "03e6a93e-5494-4e44-a103-3e4c8ca9c19f",
   "metadata": {
    "tags": []
   },
   "outputs": [],
   "source": [
    "# Read the Delta table using the load method\n",
    "read_df_select = spark.read.format(\"delta\").load(delta_path)\n",
    "\n",
    "# Show the contents of the DataFrame\n",
    "read_df_select.show()\n",
    "\n",
    "# Display the schema of the version 0 DataFrame\n",
    "read_df_select.printSchema()"
   ]
  },
  {
   "cell_type": "markdown",
   "id": "ba5ceda3-dba8-4695-9dfb-8309730e5e94",
   "metadata": {
    "tags": []
   },
   "source": [
    "8. Display the versions available for this table:"
   ]
  },
  {
   "cell_type": "code",
   "execution_count": null,
   "id": "a0bbcc34-5d49-4d0c-94ff-ebc929ae2133",
   "metadata": {
    "tags": []
   },
   "outputs": [],
   "source": [
    "# Create a DeltaTable object\n",
    "delta_table = DeltaTable.forPath(spark, delta_path)\n",
    "\n",
    "# Get the history of the Delta table\n",
    "history_df = delta_table.history()\n",
    "\n",
    "# List all versions with timestamp\n",
    "versions_with_timestamp = history_df.select(\"version\", \"timestamp\").distinct().collect()\n",
    "\n",
    "# Display the list of versions with timestamp\n",
    "print(\"List of Delta Table Versions with Timestamp:\")\n",
    "for version_info in versions_with_timestamp:\n",
    "    version = version_info[\"version\"]\n",
    "    timestamp = version_info[\"timestamp\"]\n",
    "    print(f\"Version: {version}, Timestamp: {timestamp}\")"
   ]
  },
  {
   "cell_type": "markdown",
   "id": "318187ca-e5ee-4846-b0a9-293efe1f59d9",
   "metadata": {},
   "source": [
    "## END"
   ]
  },
  {
   "cell_type": "code",
   "execution_count": null,
   "id": "ece998e3-19d0-4360-8eb4-3c7dbf04b771",
   "metadata": {},
   "outputs": [],
   "source": []
  }
 ],
 "metadata": {
  "kernelspec": {
   "display_name": "PySpark",
   "language": "python",
   "name": "pysparkkernel"
  },
  "language_info": {
   "codemirror_mode": {
    "name": "python",
    "version": 3
   },
   "file_extension": ".py",
   "mimetype": "text/x-python",
   "name": "pyspark",
   "pygments_lexer": "python3"
  }
 },
 "nbformat": 4,
 "nbformat_minor": 5
}
