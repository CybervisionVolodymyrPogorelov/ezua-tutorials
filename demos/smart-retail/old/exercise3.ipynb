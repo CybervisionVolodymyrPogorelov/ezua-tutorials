{
 "cells": [
  {
   "cell_type": "markdown",
   "id": "86bac2dc-3599-441e-ab23-d952d84d1e24",
   "metadata": {
    "tags": []
   },
   "source": [
    "# Exercise 3: Superset"
   ]
  },
  {
   "cell_type": "markdown",
   "id": "6ed95f26-3b1a-4ead-80e9-404ad70171bd",
   "metadata": {
    "tags": []
   },
   "source": [
    "## What we will cover:\n",
    "- Create a Dataset of your Cached Asset\n",
    "- Create Charts\n",
    "- Combine your Charts to a Dashboard"
   ]
  },
  {
   "cell_type": "markdown",
   "id": "2f34b061-c46d-4864-ad93-36367fd76695",
   "metadata": {
    "jp-MarkdownHeadingCollapsed": true,
    "tags": []
   },
   "source": [
    "<div class=\"alert alert-block alert-danger\">\n",
    "<b>Important</b> Make sure you finished Exercise 2 successfully before and have the name of your cached asset at hand\n",
    "</div>"
   ]
  },
  {
   "cell_type": "markdown",
   "id": "ce431084-dbf6-46c0-9378-d31139a83d2c",
   "metadata": {
    "tags": []
   },
   "source": [
    "## What was done before for you | Connection of Superset to Presto\n",
    "\n",
    "To connect to Presto one has to create a database connection, therefore head to Database Connections and add a new one via plus sign.\n",
    "![image.png](./images/exercise3/DBConnections.png)\n",
    "\n",
    "\n",
    "Select presto as type and fill in the details.\n",
    "![image.png](./images/exercise3/SelectDB.png)\n",
    "\n",
    "\n",
    "In order to access Cached Assets enter the following SQL Alchemy URI:\n",
    "presto://ezpresto.YOURDOMAIN:443/cache    \n",
    "\n",
    "In this example this results in following URI: presto://ezpresto.pe1.ezmeral.de:443/cache"
   ]
  },
  {
   "cell_type": "markdown",
   "id": "4be59379-6d08-426b-b759-80942d845b76",
   "metadata": {
    "tags": []
   },
   "source": [
    "# 1. Create a dataset of your cached asset"
   ]
  },
  {
   "cell_type": "markdown",
   "id": "f01447dc-f972-4284-8242-bc7a63df516b",
   "metadata": {
    "tags": []
   },
   "source": [
    "Head to Superset, this can either be done with the burger menu on the left side by selecting Dashboards underneath BI Reporting or under Tools & Frameworks you can find it on the Data Engineering tab.\n",
    "1. Head to Datasets\n",
    "2. Add a new dataset (choose the DB Presto and your cached asset)"
   ]
  },
  {
   "cell_type": "markdown",
   "id": "7e7a7dbb-003b-424d-bb37-302ce6493c34",
   "metadata": {
    "tags": []
   },
   "source": [
    "# 2. Create Charts"
   ]
  },
  {
   "cell_type": "markdown",
   "id": "563439dc-aad6-4055-a8a6-8324373c00ba",
   "metadata": {
    "tags": []
   },
   "source": [
    "Using the dataset you just created, create three charts:\n",
    "\n",
    "1) shows in a graphical way where the stores are located\n",
    "2) shows the total sales of each product per country (don't use a bar chart!)\n",
    "3) shows the names of all products sold, size dependant on the quantity"
   ]
  },
  {
   "cell_type": "markdown",
   "id": "fbb41ac9-0a5f-4dbf-92a4-07cd16f1f766",
   "metadata": {
    "tags": []
   },
   "source": [
    "# 3. Combine your charts to a dashboard"
   ]
  },
  {
   "cell_type": "markdown",
   "id": "95e24fd3-719f-4b1a-b477-91b9c68180db",
   "metadata": {
    "tags": []
   },
   "source": [
    "Create a new Dashboard called like your group name (e.g. group1)\n",
    "Add the charts you created before to one Dashboard, and make also use of the Layout Elements like dividers and headers."
   ]
  },
  {
   "cell_type": "code",
   "execution_count": null,
   "id": "9656d994-baa5-4bf5-ab1b-3d6fe026dcad",
   "metadata": {},
   "outputs": [],
   "source": []
  }
 ],
 "metadata": {
  "kernelspec": {
   "display_name": "PySpark",
   "language": "python",
   "name": "pysparkkernel"
  },
  "language_info": {
   "codemirror_mode": {
    "name": "python",
    "version": 3
   },
   "file_extension": ".py",
   "mimetype": "text/x-python",
   "name": "pyspark",
   "pygments_lexer": "python3"
  }
 },
 "nbformat": 4,
 "nbformat_minor": 5
}
