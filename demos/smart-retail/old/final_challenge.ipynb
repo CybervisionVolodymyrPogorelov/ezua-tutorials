{
 "cells": [
  {
   "cell_type": "markdown",
   "id": "20c186f6-e95f-463b-980c-1b8c83503285",
   "metadata": {
    "tags": []
   },
   "source": [
    "# Final Challenge"
   ]
  },
  {
   "cell_type": "markdown",
   "id": "6e61ba32-1cbf-4aeb-8636-c90028e4ae52",
   "metadata": {
    "tags": []
   },
   "source": [
    "### Set up the group parameter"
   ]
  },
  {
   "cell_type": "code",
   "execution_count": null,
   "id": "73769e61-7efb-4e3b-98fb-59457b90da46",
   "metadata": {
    "tags": []
   },
   "outputs": [],
   "source": [
    "## set your group name (in quotes)\n",
    "group_name = \"\""
   ]
  },
  {
   "cell_type": "code",
   "execution_count": null,
   "id": "c7063ba3-a509-4f54-91e8-bb0ab42bc0f7",
   "metadata": {
    "tags": []
   },
   "outputs": [],
   "source": [
    "# Check if GROUP is empty\n",
    "if not group_name:\n",
    "    print(\"Please set your group name before proceeding to the next cell.\")\n",
    "    # You can also raise an exception to stop execution if needed\n",
    "    # raise ValueError(\"Group name is empty. Please set a valid group name.\")\n",
    "else:\n",
    "    print(\"Group name is set. Proceed to the next cell.\")\n",
    "    # Your code for the next cell can go here"
   ]
  },
  {
   "cell_type": "markdown",
   "id": "bf083325-b00f-492b-a18c-13b9086ea471",
   "metadata": {
    "tags": []
   },
   "source": [
    "### Double Checking"
   ]
  },
  {
   "cell_type": "code",
   "execution_count": null,
   "id": "96e889f9-97aa-4d0b-bed0-f0b699b5c14f",
   "metadata": {
    "tags": []
   },
   "outputs": [],
   "source": [
    "# Check if GROUP is empty\n",
    "if not group_name:\n",
    "    print(\"Please set your group name before proceeding to the next cell.\")\n",
    "    # You can also raise an exception to stop execution if needed\n",
    "    # raise ValueError(\"Group name is empty. Please set a valid group name.\")"
   ]
  },
  {
   "cell_type": "markdown",
   "id": "490016b4-5cb1-4699-9c00-ecfc8a19cd23",
   "metadata": {
    "tags": []
   },
   "source": [
    "# Prerequisites - \n",
    "<div class=\"alert alert-block alert-danger\">\n",
    "<b>IMPORTANT:</b> Make sure it's valid\n",
    "</div>\n"
   ]
  },
  {
   "cell_type": "code",
   "execution_count": null,
   "id": "c129f625-a3e9-4b4b-a95e-ee05fbe6ba0e",
   "metadata": {
    "tags": []
   },
   "outputs": [],
   "source": [
    "# Set parametes\n",
    "\n",
    "# adapt to your EZUA Domain name\n",
    "EZAF_ENV = \"pe1.ezmeral.de\"\n",
    "# type of demo (DemoContent - in this case fruit and vegetables) \n",
    "DC = \"fruit\"\n",
    "# path to end2end demo (not data)\n",
    "end2end_path = '/mnt/datasources/datafabric/ezua/end2end/' \n",
    "# path to data for model training, etc.\n",
    "path = '/mnt/datasources/datafabric/ezua/end2end-data/fruits/' \n",
    "# path to GROUP INDIVIDUAL data for model training, etc.\n",
    "group_data_path = '/mnt/datasources/datafabric/ezua/end2end-group-data/' \n",
    "# experiment name prefix for mlflow\n",
    "experiment_name = \"end2end-retail-demo\"\n",
    "exp_name = group_name + \"-\" + experiment_name\n",
    "model_name = \"end2end-retail-demo\"\n",
    "g_model_name = group_name + \"-\" + model_name\n",
    "# artifact_path = \"end2end-retail-demo\"\n",
    "artifact_path = \"model\""
   ]
  },
  {
   "cell_type": "markdown",
   "id": "d9589dae-75c1-49fd-8ea8-72dc42c2c429",
   "metadata": {
    "tags": []
   },
   "source": [
    "### Import required libraries & refresh the token\n",
    "- Ignore the warnings"
   ]
  },
  {
   "cell_type": "code",
   "execution_count": null,
   "id": "3a41f767-712b-49dd-956e-8f7c9dc5ac3e",
   "metadata": {
    "tags": []
   },
   "outputs": [],
   "source": [
    "from pathlib import Path\n",
    "import pandas as pd\n",
    "import matplotlib.pyplot as plt"
   ]
  },
  {
   "cell_type": "code",
   "execution_count": null,
   "id": "150f8bf7-ed2c-4c87-934c-9c79e6a63a93",
   "metadata": {
    "papermill": {
     "duration": 7.613981,
     "end_time": "2023-03-13T20:40:28.950010",
     "exception": false,
     "start_time": "2023-03-13T20:40:21.336029",
     "status": "completed"
    },
    "tags": [
     "imports"
    ]
   },
   "outputs": [],
   "source": [
    "import numpy as np\n",
    "import pandas as pd\n",
    "from pathlib import Path\n",
    "import os.path\n",
    "import matplotlib.pyplot as plt\n",
    "import tensorflow as tf\n",
    "import mlflow\n",
    "import mlflow.tensorflow  # Choose either mlflow.tensorflow or mlflow.keras based on your needs\n",
    "import os\n",
    "import urllib3\n",
    "import time\n",
    "import requests\n",
    "import json\n",
    "from keras.callbacks import CSVLogger\n",
    "from IPython.display import display\n",
    "from PIL import Image\n",
    "from io import BytesIO\n",
    "from tensorflow.keras.preprocessing.image import load_img, img_to_array"
   ]
  },
  {
   "cell_type": "markdown",
   "id": "0d7e81c0-7622-4c69-8795-e805177fca47",
   "metadata": {
    "tags": []
   },
   "source": [
    "# Prerequisites - \n",
    "<div class=\"alert alert-block alert-danger\">\n",
    "<b>IMPORTANT:</b> Make sure it's valid\n",
    "</div>\n",
    "\n",
    "- /mnt/datasources/datafabric/ezdf-core1/end2end-group-data/{YOUR_GROUP}/train\n",
    "- /mnt/datasources/datafabric/ezdf-core1/end2end-group-data/{YOUR_GROUP}/validation\n",
    "- /mnt/datasources/datafabric/ezdf-core1/end2end-group-data/{YOUR_GROUP}/test"
   ]
  },
  {
   "cell_type": "markdown",
   "id": "a5fc53de-41da-4684-8332-4213a625cb2d",
   "metadata": {
    "tags": []
   },
   "source": [
    "### Copy the original pictures to your group folder"
   ]
  },
  {
   "cell_type": "code",
   "execution_count": null,
   "id": "40c7a074-ad1e-44c3-8392-c8811a96a6fa",
   "metadata": {
    "tags": []
   },
   "outputs": [],
   "source": [
    "def copy_folder_contents_exclude_subfolder(source_folder, destination_folder, excluded_subfolder):\n",
    "    # Check if the source folder exists\n",
    "    if not os.path.exists(source_folder):\n",
    "        print(f\"Source folder '{source_folder}' does not exist.\")\n",
    "        return\n",
    "\n",
    "    # Create the destination folder if it doesn't exist\n",
    "    if not os.path.exists(destination_folder):\n",
    "        os.makedirs(destination_folder)\n",
    "        print(f\"Created destination folder: {destination_folder}\")\n",
    "    else:\n",
    "        print(f\"Destination folder '{destination_folder}' already exists.\")\n",
    "\n",
    "    # Iterate through files and subfolders in the source folder\n",
    "    for root, dirs, files in os.walk(source_folder):\n",
    "        # Exclude the specified subfolder from the copy\n",
    "        if excluded_subfolder in dirs:\n",
    "            dirs.remove(excluded_subfolder)\n",
    "\n",
    "        for filename in files:\n",
    "            source_path = os.path.join(root, filename)\n",
    "            destination_path = os.path.join(destination_folder, os.path.relpath(source_path, source_folder))\n",
    "\n",
    "            # Check if the file already exists in the destination\n",
    "            if not os.path.exists(destination_path):\n",
    "                # Create the subdirectories in the destination folder if they don't exist\n",
    "                os.makedirs(os.path.dirname(destination_path), exist_ok=True)\n",
    "\n",
    "                # Copy the file to the destination folder\n",
    "                shutil.copy(source_path, destination_path)\n",
    "                print(f\"Copied: {filename}\")\n",
    "            else:\n",
    "                print(f\"Skipped: {filename} (File already exists in destination)\")\n",
    "\n",
    "def create_empty_folder(destination_folder):\n",
    "    # Create the destination folder if it doesn't exist\n",
    "    if not os.path.exists(destination_folder):\n",
    "        os.makedirs(destination_folder)\n",
    "        print(f\"Created destination folder: {destination_folder}\")\n",
    "    else:\n",
    "        print(f\"Destination folder '{destination_folder}' already exists. Skipping creation.\")\n",
    "\n",
    "# Specify source folders for train, validation, and test\n",
    "source_train_folder = \"/mnt/datasources/datafabric/ezua/end2end-data/fruits/train\"\n",
    "source_validation_folder = \"/mnt/datasources/datafabric/ezua/end2end-data/fruits/validation\"\n",
    "source_test_folder = \"/mnt/datasources/datafabric/ezua/end2end-data/fruits/test\"\n",
    "\n",
    "# Specify destination folders for train, validation, and test\n",
    "group_train_dir = Path(group_data_path + group_name + '/train')\n",
    "group_test_dir = Path(group_data_path + group_name + '/test')\n",
    "group_val_dir = Path(group_data_path + group_name + '/validation')\n",
    "\n",
    "# Setting up variables\n",
    "destination_train_folder = os.path.join(group_train_dir, 'ezmeral')\n",
    "destination_test_folder = os.path.join(group_test_dir, 'ezmeral')\n",
    "destination_validation_folder = os.path.join(group_val_dir ,'ezmeral')\n",
    "\n",
    "# Create empty \"ezmeral\" folders at the destination\n",
    "create_empty_folder(destination_train_folder)\n",
    "create_empty_folder(destination_validation_folder)\n",
    "create_empty_folder(destination_test_folder)\n",
    "\n",
    "# Copy all contents from source to destination, excluding \"ezmeral\" subfolders\n",
    "copy_folder_contents_exclude_subfolder(source_train_folder, group_train_dir, \"ezmeral\")\n",
    "copy_folder_contents_exclude_subfolder(source_validation_folder, group_test_dir, \"ezmeral\")\n",
    "copy_folder_contents_exclude_subfolder(source_test_folder, group_val_dir, \"ezmeral\")"
   ]
  },
  {
   "cell_type": "markdown",
   "id": "e6f59b7a-d5f8-4116-b5fb-3c100a9d6a79",
   "metadata": {
    "tags": []
   },
   "source": [
    "### Remember `%update_token` is used to refresh the access to the platform. It might be needed to run it in case the exercise is taking too long"
   ]
  },
  {
   "cell_type": "code",
   "execution_count": null,
   "id": "879fc0fa-91f8-4f05-abb3-e43c55a2e9bb",
   "metadata": {
    "tags": []
   },
   "outputs": [],
   "source": [
    "%update_token"
   ]
  },
  {
   "cell_type": "markdown",
   "id": "ddc31937-cdd0-4156-bde4-c6b760952a1b",
   "metadata": {
    "papermill": {
     "duration": 0.074875,
     "end_time": "2023-03-13T21:22:22.585971",
     "exception": false,
     "start_time": "2023-03-13T21:22:22.511096",
     "status": "completed"
    },
    "tags": []
   },
   "source": [
    "# Using what you have learnt"
   ]
  },
  {
   "cell_type": "markdown",
   "id": "42f91cdf-3363-4e18-8a00-4b47067899ca",
   "metadata": {
    "papermill": {
     "duration": 0.074875,
     "end_time": "2023-03-13T21:22:22.585971",
     "exception": false,
     "start_time": "2023-03-13T21:22:22.511096",
     "status": "completed"
    },
    "tags": []
   },
   "source": [
    "## 1. Preprocess & Load \n",
    "<div class=\"alert alert-block alert-danger\">\n",
    "<b>IMPORTANT:</b> Make sure you use the new folder\n",
    "</div>\n",
    "\n",
    "- Load images from the folder and use folder name as Label\n",
    "- Load the Images with a generator and Data Augmentation"
   ]
  },
  {
   "cell_type": "code",
   "execution_count": null,
   "id": "1493e33c",
   "metadata": {
    "papermill": {
     "duration": 0.031338,
     "end_time": "2023-03-13T20:40:29.032984",
     "exception": false,
     "start_time": "2023-03-13T20:40:29.001646",
     "status": "completed"
    },
    "tags": [
     "skip"
    ]
   },
   "outputs": [],
   "source": [
    "# The DataFrame with the filepaths in one column and the labels in the other one\n",
    "train_df.head(5)"
   ]
  },
  {
   "cell_type": "markdown",
   "id": "7a942a1a-4fe8-4909-bbcb-223cf5e396f2",
   "metadata": {
    "papermill": {
     "duration": 0.074875,
     "end_time": "2023-03-13T21:22:22.585971",
     "exception": false,
     "start_time": "2023-03-13T21:22:22.511096",
     "status": "completed"
    },
    "tags": []
   },
   "source": [
    "## 2. Train the model with the new pictures\n",
    "- Update MLflow config\n",
    "- Train the Model with the right parameters"
   ]
  },
  {
   "cell_type": "markdown",
   "id": "5127ef96-3b0b-4eb1-9a4f-71134971bb2c",
   "metadata": {
    "papermill": {
     "duration": 0.074875,
     "end_time": "2023-03-13T21:22:22.585971",
     "exception": false,
     "start_time": "2023-03-13T21:22:22.511096",
     "status": "completed"
    },
    "tags": []
   },
   "source": [
    "## 3. Register the Model with MLflow\n",
    "- Can be done using code or UI upon preferences"
   ]
  },
  {
   "cell_type": "markdown",
   "id": "d226ee8d-3ed5-4e75-a48e-4969ce38f38d",
   "metadata": {
    "papermill": {
     "duration": 0.074875,
     "end_time": "2023-03-13T21:22:22.585971",
     "exception": false,
     "start_time": "2023-03-13T21:22:22.511096",
     "status": "completed"
    },
    "tags": []
   },
   "source": [
    "## 4. Serve the Model with Kserve\n",
    "- Get the missing details from MLflow\n",
    "- Create the new Inference Service using YAML config file"
   ]
  },
  {
   "cell_type": "markdown",
   "id": "8076c1bc-1bd9-43bd-8ec0-0ddd1f617507",
   "metadata": {
    "papermill": {
     "duration": 0.074875,
     "end_time": "2023-03-13T21:22:22.585971",
     "exception": false,
     "start_time": "2023-03-13T21:22:22.511096",
     "status": "completed"
    },
    "tags": []
   },
   "source": [
    "## 5. Update the app to connect it to the new Model\n",
    "- Update the application config to use the new Inference Service endpoint if needed)"
   ]
  },
  {
   "cell_type": "markdown",
   "id": "081cb885-e4bc-4fde-9d87-7e7f096c6660",
   "metadata": {
    "papermill": {
     "duration": 0.074875,
     "end_time": "2023-03-13T21:22:22.585971",
     "exception": false,
     "start_time": "2023-03-13T21:22:22.511096",
     "status": "completed"
    },
    "tags": []
   },
   "source": [
    "## 6. Contact the Moderators to validate the functionality"
   ]
  },
  {
   "cell_type": "code",
   "execution_count": null,
   "id": "15f484d6-3d72-4acb-ab80-d74a0ee327ad",
   "metadata": {},
   "outputs": [],
   "source": []
  }
 ],
 "metadata": {
  "kernelspec": {
   "display_name": "Python 3 (ipykernel)",
   "language": "python",
   "name": "python3"
  },
  "kubeflow_notebook": {
   "autosnapshot": false,
   "docker_image": "gcr.io/mapr-252711/kubeflow/notebooks/jupyter-tensorflow-cuda-full:ezaf-fy23-q2",
   "experiment": {
    "id": "new",
    "name": "jk-fruit-demo"
   },
   "experiment_name": "jk-fruit-demo",
   "katib_metadata": {
    "algorithm": {
     "algorithmName": "random",
     "algorithmSettings": [
      {
       "name": "random_state",
       "value": "10"
      },
      {
       "name": "acq_optimizer",
       "value": "auto"
      },
      {
       "name": "acq_func",
       "value": "gp_hedge"
      },
      {
       "name": "base_estimator",
       "value": "GP"
      }
     ]
    },
    "maxFailedTrialCount": 3,
    "maxTrialCount": 12,
    "objective": {
     "additionalMetricNames": [],
     "goal": 1,
     "objectiveMetricName": "stage",
     "type": "maximize"
    },
    "parallelTrialCount": 3,
    "parameters": [
     {
      "feasibleSpace": {
       "max": "50",
       "min": "1",
       "step": "1"
      },
      "name": "param_epoch",
      "parameterType": "int"
     },
     {
      "feasibleSpace": {
       "list": [
        "32",
        "64"
       ]
      },
      "name": "param_batch_size",
      "parameterType": "categorical"
     },
     {
      "feasibleSpace": {
       "max": "10",
       "min": "1",
       "step": "1"
      },
      "name": "param_patience",
      "parameterType": "int"
     }
    ]
   },
   "katib_run": false,
   "pipeline_description": "fruit-veg",
   "pipeline_name": "fruit-veg",
   "snapshot_volumes": false,
   "steps_defaults": [
    "label:access-ml-pipeline:true",
    "label:add-ldapcert-secret:true",
    "label:add-sssd-secret:true",
    "label:add-user-s3-secret:true"
   ],
   "storage_class_name": "dataplatform",
   "volume_access_mode": "rwm",
   "volumes": [
    {
     "annotations": [],
     "mount_point": "/mnt/shared/",
     "name": "kubeflow-pipeline",
     "size": 1,
     "size_type": "Gi",
     "snapshot": false,
     "snapshot_name": "",
     "type": "pvc"
    }
   ]
  },
  "language_info": {
   "codemirror_mode": {
    "name": "ipython",
    "version": 3
   },
   "file_extension": ".py",
   "mimetype": "text/x-python",
   "name": "python",
   "nbconvert_exporter": "python",
   "pygments_lexer": "ipython3",
   "version": "3.11.6"
  },
  "papermill": {
   "default_parameters": {},
   "duration": 2679.282234,
   "end_time": "2023-03-13T21:24:51.692744",
   "environment_variables": {},
   "exception": null,
   "input_path": "__notebook__.ipynb",
   "output_path": "__notebook__.ipynb",
   "parameters": {},
   "start_time": "2023-03-13T20:40:12.410510",
   "version": "2.4.0"
  }
 },
 "nbformat": 4,
 "nbformat_minor": 5
}
