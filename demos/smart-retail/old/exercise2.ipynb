{
 "cells": [
  {
   "cell_type": "markdown",
   "id": "2806b008-9c4f-42f5-838a-5b42b0d5188e",
   "metadata": {
    "tags": []
   },
   "source": [
    "# Exercise 2 - Presto"
   ]
  },
  {
   "cell_type": "markdown",
   "id": "88dfc920-f997-44de-9842-cefe56baff98",
   "metadata": {
    "tags": []
   },
   "source": [
    "## What we will cover:\n",
    "- add Presto - DataSource - Delta Table\n",
    "- create a SQL query using the new datasource\n",
    "- store the view as a cached asset"
   ]
  },
  {
   "cell_type": "markdown",
   "id": "45d7ab9d-1899-4fee-a27d-7d6f1d6ccc9e",
   "metadata": {
    "tags": []
   },
   "source": [
    "<div class=\"alert alert-block alert-danger\">\n",
    "<b>Important</b> Make sure you finished Exercise 1 successfully - creating Delta Lake - Delta Tables\n",
    "</div>"
   ]
  },
  {
   "cell_type": "markdown",
   "id": "c3f71c84-02cf-4d3e-9f4f-c47e6ac2dbb3",
   "metadata": {
    "tags": []
   },
   "source": [
    "# Creating a datasource"
   ]
  },
  {
   "cell_type": "markdown",
   "id": "d162d9b1-1b1e-4170-8590-6410c8ce5c22",
   "metadata": {
    "tags": []
   },
   "source": [
    "- Head to Data Engineering and add new Data Source.\n",
    "- Now create a connection to Delta Lake."
   ]
  },
  {
   "cell_type": "markdown",
   "id": "e6c8c89c-fe10-419e-b5c4-dd152fd13549",
   "metadata": {
    "tags": []
   },
   "source": [
    "![image.png](./images/exercise2/datasources.png)"
   ]
  },
  {
   "cell_type": "markdown",
   "id": "5115054b-7f09-4e94-a658-805ab59cbd41",
   "metadata": {
    "tags": []
   },
   "source": [
    "- Enter your group name, select discovery as Hive Metastore and use the following path as your data-directory: (Replace groupx with your group name) \n",
    "\n",
    "```\n",
    "file:/data/shared/end2end-delta/groupx\n",
    "````\n"
   ]
  },
  {
   "cell_type": "markdown",
   "id": "91eef0ef-596b-49d8-aaea-0fb356b214d0",
   "metadata": {
    "tags": []
   },
   "source": [
    "![image.png](./images/exercise2/connect-dl.png)"
   ]
  },
  {
   "cell_type": "markdown",
   "id": "1f81c4e6-e737-4a72-be42-b2797b4f0864",
   "metadata": {
    "tags": []
   },
   "source": [
    "- Select \"Query using Data Catalog\" on your groups datasource."
   ]
  },
  {
   "cell_type": "markdown",
   "id": "7f721c4a-07a1-4c2f-b26a-8f0b9a0da9a3",
   "metadata": {
    "tags": []
   },
   "source": [
    "![image.png](./images/exercise2/tile.png)"
   ]
  },
  {
   "cell_type": "markdown",
   "id": "ed03eaf7-2b56-487b-9853-01edbdfcaedd",
   "metadata": {
    "tags": []
   },
   "source": [
    "- Chose default in your data sources and select all Datasets.\n"
   ]
  },
  {
   "cell_type": "markdown",
   "id": "48139022-3815-40ea-bb82-a0ab84b1fc0f",
   "metadata": {
    "tags": []
   },
   "source": [
    "![image.png](./images/exercise2/datacatalog.png)"
   ]
  },
  {
   "cell_type": "markdown",
   "id": "355dcac6-8f33-4c6d-813c-357c0afb1f69",
   "metadata": {
    "tags": []
   },
   "source": [
    "- Next, use \"Selected Datasets\" to open the \"Query Editor\"."
   ]
  },
  {
   "cell_type": "markdown",
   "id": "97de14a6-4cad-4d43-adf0-d6d5452c3429",
   "metadata": {
    "tags": []
   },
   "source": [
    "![image.png](./images/exercise2/QueryEditor.jpg)"
   ]
  },
  {
   "cell_type": "markdown",
   "id": "aa3f9fe6-6057-4d7b-ab9b-a940f6b3f8fd",
   "metadata": {
    "tags": []
   },
   "source": [
    "- Paste the following SQL Query and modify it to reflect your group name.\n",
    "    \n",
    "```sql\n",
    "SELECT * FROM group<X>.default.czech UNION ALL SELECT * FROM group<X>.default.germany UNION ALL ( SELECT PRODUCTID , PRODUCT , TYPE , UNITPRICE , UNIT , QTY , TOTALSALES , CURRENCY , STORE , (CASE WHEN (country = 'Swiss') THEN 'Switzerland' ELSE country END) COUNTRY , YEAR FROM group<X>.default.swiss ) LIMIT 1000\n",
    "\n",
    "```"
   ]
  },
  {
   "cell_type": "markdown",
   "id": "3155678d-4cf6-4654-8c3a-828b7808da83",
   "metadata": {
    "tags": []
   },
   "source": [
    "- The following screenshot, shows an example for group9."
   ]
  },
  {
   "cell_type": "markdown",
   "id": "0e65d401-3f1d-47cf-9c99-907623681f1a",
   "metadata": {
    "tags": []
   },
   "source": [
    "![image.png](./images/exercise2/sql-query.png)"
   ]
  },
  {
   "cell_type": "markdown",
   "id": "38d258af-ff6e-47b6-9fcb-adb98593bb69",
   "metadata": {
    "tags": []
   },
   "source": [
    "- Now, execute your query and save the result as a view."
   ]
  },
  {
   "cell_type": "markdown",
   "id": "27d3bade-212e-40ad-9bbc-c9836cc63370",
   "metadata": {
    "tags": []
   },
   "source": [
    "![image.png](./images/exercise2/query-results.png)"
   ]
  },
  {
   "cell_type": "markdown",
   "id": "9e5cdd3d-f65a-4cec-a360-b52e6b93b377",
   "metadata": {
    "tags": []
   },
   "source": [
    "- Add a new schema and save the view."
   ]
  },
  {
   "cell_type": "markdown",
   "id": "b785fbea-7da1-498a-abcd-75a10f07472b",
   "metadata": {
    "tags": []
   },
   "source": [
    "![image.png](./images/exercise2/save-as-view.png)"
   ]
  },
  {
   "cell_type": "markdown",
   "id": "bc431cae-33d3-4f9f-bedb-d61b4b43b166",
   "metadata": {
    "tags": []
   },
   "source": [
    "Jupyter notebook Magic functions, also known as magic commands or magics, are commands that you can execute within a code cell.   \n",
    "Magics are not Python code. They are shortcuts that extends the capabilities of a notebook. Magic commands start with the % character."
   ]
  },
  {
   "cell_type": "markdown",
   "id": "eb05b8ca-96c8-4232-b1c2-b66b3d197a7d",
   "metadata": {
    "tags": []
   },
   "source": [
    "HPE Ezmeral Unified Analytics Software supports line magics and cell magics:\n",
    "\n",
    "**Line magic** commands do not require a cell body and start with a single % character.  \n",
    "**Cell magic** commands start with %% and require additional lines of input (a cell body). "
   ]
  },
  {
   "cell_type": "code",
   "execution_count": null,
   "id": "fb82bf08-370c-4d5f-b866-e34c1c28623e",
   "metadata": {
    "tags": []
   },
   "outputs": [],
   "source": [
    "# The %commands command lists the magic commands and SDKs that are customized by Hewlett Packard Enterprise and are available in this notebook.\n",
    "%commands"
   ]
  },
  {
   "cell_type": "markdown",
   "id": "5c9d19dd-815b-43ca-92bb-b2bf74ce12a6",
   "metadata": {
    "tags": []
   },
   "source": [
    "The **%update_token magic function** updates the cached auth token.   \n",
    "If you encounter a JWT token expiration error while running cells in the notebbok, you can resolve it by running the %update_token magic function.  \n",
    "This function updates the JWT in environment variables and any other locations where the token is utilized.  \n",
    "  \n",
    "You can use the %update_token to refresh tokens for the following cases: \n",
    "  \n",
    "**- Authentication when establishing a connection with PrestoDB.**  \n",
    "**- Authentication with local s3 minio object storage.**  \n",
    "**- Authentication with KServe external API.**  "
   ]
  },
  {
   "cell_type": "code",
   "execution_count": null,
   "id": "dfe7b6e8-d5a4-4244-9edf-9d9425355d2e",
   "metadata": {
    "tags": []
   },
   "outputs": [],
   "source": [
    "%update_token"
   ]
  },
  {
   "cell_type": "markdown",
   "id": "333c053e-e835-4527-b02c-769fc26b65c8",
   "metadata": {
    "tags": []
   },
   "source": [
    "In HPE Ezmeral Unified Analytics Software, you can connect to all SQL databases (**if you have public access to these databases**)  \n",
    "and submit queries through EzPresto using the %sql magic.\n",
    "\n",
    "<div class=\"alert alert-block alert-danger\">\n",
    "<b>Todo:</b> first let´s make the data source public available:\n",
    "</div>\n"
   ]
  },
  {
   "cell_type": "markdown",
   "id": "0ba0a707-50fc-4849-9434-7a100d2fbe6f",
   "metadata": {
    "tags": []
   },
   "source": [
    "![image.png](./images/exercise2/public-access.png)"
   ]
  },
  {
   "cell_type": "markdown",
   "id": "8341b8e2-56f7-415f-b88a-cfa64c6b32f9",
   "metadata": {
    "tags": []
   },
   "source": [
    "<div class=\"alert alert-block alert-danger\">\n",
    "<b>Important:</b> Wait until the confirmation message is there, that it is public available\n",
    "</div>"
   ]
  },
  {
   "cell_type": "markdown",
   "id": "e79c2cd9-c591-433e-9150-ef4d83edf3c2",
   "metadata": {
    "tags": []
   },
   "source": [
    "Now, You can use the %sql magic command in Jupyter Notebook to interactively work with SQL databases.  \n",
    "\n",
    "**Hint:**  \n",
    "You must use Python kernels to use %sql and %%sql magic commands.  \n",
    "You can directly write and execute SQL queries within a notebook cell.  \n",
    "When you run the notebook cell containing %sql and your SQL query, the magic command sends the query to the database, runs it, and retrieves the result.\n"
   ]
  },
  {
   "cell_type": "markdown",
   "id": "9292a30d-1191-446e-92fe-c9ec0736df48",
   "metadata": {
    "tags": []
   },
   "source": [
    "***IMPORTANT:*** Adapt the following sql command to your group!"
   ]
  },
  {
   "cell_type": "code",
   "execution_count": null,
   "id": "6f552d93-de1e-4af8-9c2c-5d0ac2c960cf",
   "metadata": {
    "tags": []
   },
   "outputs": [],
   "source": [
    "%sql select * from user1.default.czech limit 10"
   ]
  },
  {
   "cell_type": "code",
   "execution_count": null,
   "id": "5cece6e3-372a-414f-accb-8dd82b4841ce",
   "metadata": {
    "tags": []
   },
   "outputs": [],
   "source": [
    "result = %sql select * from user1.default.czech limit 10"
   ]
  },
  {
   "cell_type": "code",
   "execution_count": null,
   "id": "c44147c6-2af2-43bf-9f53-94d343a6cd7b",
   "metadata": {
    "tags": []
   },
   "outputs": [],
   "source": [
    "print(result)"
   ]
  },
  {
   "cell_type": "markdown",
   "id": "025dfac0-f760-45ed-9c7f-ecc7d86535a4",
   "metadata": {
    "tags": []
   },
   "source": [
    "submit Presto queries from the notebook# How to access presto without public access"
   ]
  },
  {
   "cell_type": "markdown",
   "id": "93ada868-4748-41de-ad48-6e6b800f6119",
   "metadata": {
    "tags": []
   },
   "source": [
    "submit Presto queries from the notebook- now you´re done with this exercise. In the next one we will show how to visualize your data."
   ]
  }
 ],
 "metadata": {
  "kernelspec": {
   "display_name": "Python 3 (ipykernel)",
   "language": "python",
   "name": "python3"
  },
  "language_info": {
   "codemirror_mode": {
    "name": "ipython",
    "version": 3
   },
   "file_extension": ".py",
   "mimetype": "text/x-python",
   "name": "python",
   "nbconvert_exporter": "python",
   "pygments_lexer": "ipython3",
   "version": "3.11.6"
  }
 },
 "nbformat": 4,
 "nbformat_minor": 5
}
