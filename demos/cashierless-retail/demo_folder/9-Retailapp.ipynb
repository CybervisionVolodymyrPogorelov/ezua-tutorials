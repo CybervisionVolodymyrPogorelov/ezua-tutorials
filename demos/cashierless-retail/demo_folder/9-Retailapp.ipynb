{
 "cells": [
  {
   "cell_type": "markdown",
   "id": "a637833b-8a09-4ab4-8f06-09876fb8f3fa",
   "metadata": {},
   "source": [
    "founder: Dirk Derichsweiler, Contributors: Vincent Charbonnier and Isabelle Steinhauser, September 2023\n",
    "# Retailapp"
   ]
  },
  {
   "cell_type": "markdown",
   "id": "db4a88e1-d2ee-42aa-a391-df64985d7157",
   "metadata": {},
   "source": [
    "Adapt in folder retaildemo/streamlit-application the script cam-app-presto to your running EZUA instance. Search for the word __ADAPT__ this should mark every point in the code where changes might be needed."
   ]
  },
  {
   "cell_type": "markdown",
   "id": "eb754cb0-f2ba-46f7-a7b7-b1c1fda8f758",
   "metadata": {},
   "source": [
    "Build your docker image for the streamlitapp adapted to your EZUA instance. Therefore run docker build command. Push the image to your docker registry."
   ]
  },
  {
   "cell_type": "markdown",
   "id": "87cb713f-1044-4cfd-ad87-5b0a8201b703",
   "metadata": {},
   "source": [
    "Adapt the helm values file in the folder streamlit to use the registry and tag of the container you just decided on"
   ]
  },
  {
   "cell_type": "markdown",
   "id": "ff4010b6-8007-47e6-b492-a1e4f102d8db",
   "metadata": {},
   "source": [
    "Package your helm chart, therefore head into streamlit-application and run first cell of Streamlit.ipynb."
   ]
  },
  {
   "cell_type": "markdown",
   "id": "ff9e784d-15ad-4b4c-9a44-45eb89f8e89d",
   "metadata": {},
   "source": [
    "To import in EZUA head to Applications in EZUA and then click Import Application on the top right. decide on a name for your app as well as a picture for the logo. The end2end/demo_folder/retail-demo/HPE_ELEMENT_20210518002-A_450_0_72_RGB.jpg for example. Please be sure to not use a picture with big size, at least in 1.0 could cause some difficulties.\n",
    "Have your .tgz file at hand you have to upload it. "
   ]
  },
  {
   "cell_type": "code",
   "execution_count": null,
   "id": "3f6c9207-d020-4dea-bccc-d1676aae3b79",
   "metadata": {},
   "outputs": [],
   "source": []
  }
 ],
 "metadata": {
  "kernelspec": {
   "display_name": "Python 3 (ipykernel)",
   "language": "python",
   "name": "python3"
  },
  "language_info": {
   "codemirror_mode": {
    "name": "ipython",
    "version": 3
   },
   "file_extension": ".py",
   "mimetype": "text/x-python",
   "name": "python",
   "nbconvert_exporter": "python",
   "pygments_lexer": "ipython3",
<<<<<<< HEAD
   "version": "3.10.9"
=======
   "version": "3.8.10"
>>>>>>> 39188a23fb8a21da4655a80c8cd3e4c4d7c0defd
  }
 },
 "nbformat": 4,
 "nbformat_minor": 5
}
