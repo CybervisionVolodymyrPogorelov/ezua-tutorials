{
 "cells": [
  {
   "cell_type": "markdown",
   "id": "99eb4bca-1c69-471d-8d69-938bda88fc21",
   "metadata": {},
   "source": [
    "founder: Dirk Derichsweiler, Contributors: Vincent Charbonnier and Isabelle Steinhauser, September 2023\n",
    "# Kubeflow"
   ]
  },
  {
   "cell_type": "markdown",
   "id": "0112dc56-2856-45a3-aa30-a48c0abdd769",
   "metadata": {},
   "source": [
    "In EZUA 1.1 it is needed to create a serviceaccount mapping to a secret which contains the pw for minio, the secret should be already there, it's created automatically for every namespace named _namespace-objectstore-secret_\n",
    "\n",
    "```yaml\n",
    "apiVersion: v1\n",
    "kind: ServiceAccount\n",
    "metadata:\n",
    "  name: kserve-minio-sa\n",
    "  namespace: qa1\n",
    "secrets:\n",
    "- name: qa1-objectstore-secret\n",
    "```"
   ]
  },
  {
   "cell_type": "markdown",
   "id": "1000c64f-585a-479b-afd4-8947a003dbd1",
   "metadata": {},
   "source": [
    "To see the Kubeflow Pipeline created use the Kale Plugin "
   ]
  },
  {
   "cell_type": "code",
   "execution_count": null,
   "id": "700a8d1f-1442-4131-910f-a9495e5adf0b",
   "metadata": {},
   "outputs": [],
   "source": []
  }
 ],
 "metadata": {
  "kernelspec": {
   "display_name": "Python 3 (ipykernel)",
   "language": "python",
   "name": "python3"
  },
  "language_info": {
   "codemirror_mode": {
    "name": "ipython",
    "version": 3
   },
   "file_extension": ".py",
   "mimetype": "text/x-python",
   "name": "python",
   "nbconvert_exporter": "python",
   "pygments_lexer": "ipython3",
   "version": "3.8.10"
  }
 },
 "nbformat": 4,
 "nbformat_minor": 5
}
