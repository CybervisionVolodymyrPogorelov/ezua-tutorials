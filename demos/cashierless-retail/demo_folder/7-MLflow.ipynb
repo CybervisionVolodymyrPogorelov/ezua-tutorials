{
 "cells": [
  {
   "cell_type": "markdown",
   "id": "59889a22-90ae-4c2a-8e9e-5081fd315e32",
   "metadata": {},
   "source": [
    "founder: Dirk Derichsweiler, Contributors: Vincent Charbonnier and Isabelle Steinhauser, September 2023\n",
    "# MLflow"
   ]
  },
  {
   "cell_type": "markdown",
   "id": "09b75680-f53e-4a09-84a8-a66d727a8e9b",
   "metadata": {},
   "source": [
    "Create new Notebook Server with 4 CPUs and 32 G Memory."
   ]
  },
  {
   "cell_type": "markdown",
   "id": "3c428e4a-6e4c-40c4-acee-fbd90369bab1",
   "metadata": {},
   "source": [
    "Open Notebook and run the Notebook in end2end/demo_folder/retail-demo/fruit-veg-object-recognition-latest.ipynb"
   ]
  },
  {
   "cell_type": "code",
   "execution_count": null,
   "id": "7abd2c6e-7525-4651-825e-183b96a01584",
   "metadata": {},
   "outputs": [],
   "source": []
  }
 ],
 "metadata": {
  "kernelspec": {
   "display_name": "Python 3 (ipykernel)",
   "language": "python",
   "name": "python3"
  },
  "language_info": {
   "codemirror_mode": {
    "name": "ipython",
    "version": 3
   },
   "file_extension": ".py",
   "mimetype": "text/x-python",
   "name": "python",
   "nbconvert_exporter": "python",
   "pygments_lexer": "ipython3",
   "version": "3.8.10"
  }
 },
 "nbformat": 4,
 "nbformat_minor": 5
}
