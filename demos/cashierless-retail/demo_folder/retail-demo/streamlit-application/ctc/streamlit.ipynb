{
 "cells": [
  {
   "cell_type": "markdown",
   "metadata": {},
   "source": [
    "created December 2023 by Dirk Derichsweiler\n",
    "# This script is to illustrate the use of helm charts and how to deploy a streamlit application\n"
   ]
  },
  {
   "cell_type": "code",
   "execution_count": 5,
   "metadata": {
    "vscode": {
     "languageId": "shellscript"
    }
   },
   "outputs": [
    {
     "name": "stdout",
     "output_type": "stream",
     "text": [
      "Creating ctc-helm-chart\n"
     ]
    }
   ],
   "source": [
    "helm create ctc-helm-chart"
   ]
  },
  {
   "cell_type": "code",
   "execution_count": 8,
   "metadata": {
    "vscode": {
     "languageId": "shellscript"
    }
   },
   "outputs": [
    {
     "name": "stdout",
     "output_type": "stream",
     "text": [
      "\u001b[0m\u001b[01;34mcharts\u001b[0m  Chart.yaml  \u001b[01;34mtemplates\u001b[0m  values.yaml\n"
     ]
    }
   ],
   "source": [
    "cd ctc-helm-chart\n",
    "ls"
   ]
  },
  {
   "cell_type": "markdown",
   "metadata": {},
   "source": [
    "## modify Chart.yaml\n",
    "\n",
    "```yaml\n",
    "apiVersion: v2\n",
    "name: ctc-helm-chart\n",
    "description: This is a Helm chart for deploying the CTC application, created by Dirk Derichsweiler.\n",
    "# A chart can be either an 'application' or a 'library' chart.\n",
    "#\n",
    "# Application charts are a collection of templates that can be packaged into versioned archives\n",
    "# to be deployed.\n",
    "#\n",
    "# Library charts provide useful utilities or functions for the chart developer. They're included as\n",
    "# a dependency of application charts to inject those utilities and functions into the rendering\n",
    "# pipeline. Library charts do not define any templates and therefore cannot be deployed.\n",
    "type: application\n",
    "\n",
    "# This is the chart version. This version number should be incremented each time you make changes\n",
    "# to the chart and its templates, including the app version.\n",
    "# Versions are expected to follow Semantic Versioning (https://semver.org/)\n",
    "version: 1.0.0\n",
    "\n",
    "# This is the version number of the application being deployed. This version number should be\n",
    "# incremented each time you make changes to the application. Versions are not expected to\n",
    "# follow Semantic Versioning. They should reflect the version the application is using.\n",
    "# It is recommended to use it with quotes.\n",
    "appVersion: \"1.0.0\"\n",
    "```"
   ]
  },
  {
   "cell_type": "markdown",
   "metadata": {},
   "source": [
    "\n",
    "```yaml\n",
    "## changes in values.yaml\n",
    "\n",
    "  tls: []\n",
    "  #  - secretName: chart-example-tls\n",
    "  #    hosts:\n",
    "  #      - chart-example.local\n",
    "\n",
    " #Platform related options\n",
    "ezua:\n",
    "  oidc:\n",
    "    client_id: \"${OIDC_CLIENT_ID}\"\n",
    "    client_secret: \"${OIDC_CLIENT_SECRET}\"\n",
    "    domain: \"${OIDC_DOMAIN}\"\n",
    "\n",
    "  domainName: \"${DOMAIN_NAME}\"\n",
    "  #Use next options in order to configure the application endpoint.\n",
    "  #Example of a VirtualService is here:\n",
    "  virtualService:\n",
    "    endpoint: \"ctcretaildemo.${DOMAIN_NAME}\"\n",
    "    istioGateway: \"istio-system/ezaf-gateway\"\n",
    "\n",
    "  authorizationPolicy:\n",
    "    namespace: \"istio-system\"\n",
    "    providerName: \"oauth2-proxy\"\n",
    "    matchLabels:\n",
    "      istio: \"ingressgateway\"\n",
    "```"
   ]
  },
  {
   "cell_type": "code",
   "execution_count": null,
   "metadata": {
    "vscode": {
     "languageId": "shellscript"
    }
   },
   "outputs": [],
   "source": []
  }
 ],
 "metadata": {
  "kernelspec": {
   "display_name": "Bash",
   "language": "bash",
   "name": "bash"
  },
  "language_info": {
   "codemirror_mode": "shell",
   "file_extension": ".sh",
   "mimetype": "text/x-sh",
   "name": "bash"
  }
 },
 "nbformat": 4,
 "nbformat_minor": 2
}
