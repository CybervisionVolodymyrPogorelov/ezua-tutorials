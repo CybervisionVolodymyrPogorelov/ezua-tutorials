{
 "cells": [
  {
   "cell_type": "markdown",
   "id": "146867a1-9013-4015-95ae-8f8ceb9d7b71",
   "metadata": {
    "tags": []
   },
   "source": [
    "create 11.04.2023 by Dirk Derichsweiler\n",
    "# KAFKA - consumer"
   ]
  },
  {
   "cell_type": "markdown",
   "id": "a23767e1-5ae4-40db-8478-8f77de9c19da",
   "metadata": {
    "tags": []
   },
   "source": [
    "## create data"
   ]
  },
  {
   "cell_type": "code",
   "execution_count": 7,
   "id": "ecb57aac-7bd7-42f1-ba1f-2af545bc2136",
   "metadata": {},
   "outputs": [],
   "source": [
    "import random\n",
    "import csv\n",
    "\n",
    "######################\n",
    "# Ezemeral Data Demo #\n",
    "######################\n",
    "\n",
    "# Define the list of products and stores\n",
    "PRODUCTS = ['banana', 'apple', 'pear', 'grapes', 'orange', 'kiwi', 'watermelon', 'pomegranate', 'pineapple', 'mango', 'cucumber', 'carrot', 'capsicum', 'onion', 'potato', 'lemon', 'tomato', 'raddish', 'beetroot', 'cabbage', 'lettuce', 'spinach', 'soy bean', 'cauliflower', 'bell pepper', 'chilli pepper', 'turnip', 'corn', 'sweetcorn', 'sweet potato', 'paprika, jalepeño', 'ginger', 'garlic', 'peas', 'eggplant']\n",
    "# create a list of fruits\n",
    "FRUITS = ['banana', 'apple', 'pear', 'grapes', 'orange', 'kiwi', 'watermelon', 'pomegranate', 'pineapple', 'mango']\n",
    "TYPES = ['fruits', 'vegetables']\n",
    "COUNTRIES = ['Austria']\n",
    "YEARS = [2018, 2019, 2020, 2021, 2022]\n",
    "STORES = ['store1', 'store2', 'store3', 'store4', 'store5', 'store6', 'store7', 'store8', 'store9', 'store10']\n",
    "\n",
    "# Define the number of rows to generate\n",
    "num_rows = random.randint(1000, 5000)\n",
    "\n",
    "data = []\n",
    "\n",
    "# Generate the data\n",
    "for _ in range(num_rows):\n",
    "    product = random.choice(PRODUCTS)\n",
    "    store = random.choice(STORES)\n",
    "    year = random.choice(YEARS)\n",
    "    unit_price = round(random.uniform(0.1, 10), 2)\n",
    "    qty = round(random.uniform(100, 1000), 2)\n",
    "    total_sales = round(unit_price * qty, 2)\n",
    "    if product in FRUITS:\n",
    "        data.append([\n",
    "            product,\n",
    "            'fruits',\n",
    "            unit_price,\n",
    "            'kg',\n",
    "            qty,\n",
    "            total_sales,\n",
    "            store,\n",
    "            random.choice(COUNTRIES),\n",
    "            year\n",
    "        ])\n",
    "    else:\n",
    "        data.append([\n",
    "            product,\n",
    "            'vegetables',\n",
    "            unit_price,\n",
    "            'kg',\n",
    "            qty,\n",
    "            total_sales,\n",
    "            store,\n",
    "            random.choice(COUNTRIES),\n",
    "            year\n",
    "        ])\n",
    "\n",
    "        \n",
    "        "
   ]
  },
  {
   "cell_type": "markdown",
   "id": "50f9f52c-2530-4dc4-b9f6-9b964dba77d7",
   "metadata": {
    "tags": []
   },
   "source": [
    "## Kafka "
   ]
  },
  {
   "cell_type": "code",
   "execution_count": 11,
   "id": "b7ff1658-528f-4eff-8242-396b2a351608",
   "metadata": {},
   "outputs": [
    {
     "name": "stdout",
     "output_type": "stream",
     "text": [
      "Defaulting to user installation because normal site-packages is not writeable\n",
      "Collecting kafka-python\n",
      "  Downloading kafka_python-2.0.2-py2.py3-none-any.whl (246 kB)\n",
      "\u001b[2K     \u001b[90m━━━━━━━━━━━━━━━━━━━━━━━━━━━━━━━━━━━━━━\u001b[0m \u001b[32m246.5/246.5 kB\u001b[0m \u001b[31m10.2 MB/s\u001b[0m eta \u001b[36m0:00:00\u001b[0m\n",
      "\u001b[?25hInstalling collected packages: kafka-python\n",
      "Successfully installed kafka-python-2.0.2\n"
     ]
    }
   ],
   "source": [
    "!pip install kafka-python"
   ]
  },
  {
   "cell_type": "code",
   "execution_count": 21,
   "id": "b69f11a4-9a55-4e4b-85af-1a20deadd398",
   "metadata": {},
   "outputs": [
    {
     "name": "stdout",
     "output_type": "stream",
     "text": [
      "46501\n"
     ]
    },
    {
     "ename": "KeyboardInterrupt",
     "evalue": "",
     "output_type": "error",
     "traceback": [
      "\u001b[0;31m---------------------------------------------------------------------------\u001b[0m",
      "\u001b[0;31mKeyboardInterrupt\u001b[0m                         Traceback (most recent call last)",
      "Cell \u001b[0;32mIn[21], line 14\u001b[0m\n\u001b[1;32m     11\u001b[0m \u001b[38;5;28mprint\u001b[39m(server\u001b[38;5;241m.\u001b[39mlocal_bind_port)\n\u001b[1;32m     12\u001b[0m \u001b[38;5;28;01mwhile\u001b[39;00m \u001b[38;5;28;01mTrue\u001b[39;00m:\n\u001b[1;32m     13\u001b[0m     \u001b[38;5;66;03m# press Ctrl-C for stopping\u001b[39;00m\n\u001b[0;32m---> 14\u001b[0m     \u001b[43msleep\u001b[49m\u001b[43m(\u001b[49m\u001b[38;5;241;43m1\u001b[39;49m\u001b[43m)\u001b[49m\n",
      "\u001b[0;31mKeyboardInterrupt\u001b[0m: "
     ]
    }
   ],
   "source": [
    "from sshtunnel import open_tunnel\n",
    "from time import sleep\n",
    "\n",
    "with open_tunnel(\n",
    "    ('16.103.6.85', 22),\n",
    "    ssh_username=\"dfaasusr\",\n",
    "    ssh_pkey=\"../id_rsa_greenlake.pem\",\n",
    "    remote_bind_address=('127.0.0.1', 9092)\n",
    ") as server:\n",
    "\n",
    "    print(server.local_bind_port)\n",
    "    while True:\n",
    "        # press Ctrl-C for stopping\n",
    "        sleep(1)"
   ]
  },
  {
   "cell_type": "code",
   "execution_count": 7,
   "id": "2aab06c8-d481-44f5-89be-e33dd974c420",
   "metadata": {},
   "outputs": [
    {
     "name": "stdout",
     "output_type": "stream",
     "text": [
      "['2021', '2022', '2023']\n",
      "Kafka-Port: 44223\n"
     ]
    },
    {
     "ename": "NoBrokersAvailable",
     "evalue": "NoBrokersAvailable",
     "output_type": "error",
     "traceback": [
      "\u001b[0;31m---------------------------------------------------------------------------\u001b[0m",
      "\u001b[0;31mNoBrokersAvailable\u001b[0m                        Traceback (most recent call last)",
      "Cell \u001b[0;32mIn [7], line 122\u001b[0m\n\u001b[1;32m    119\u001b[0m     \u001b[38;5;28mprint\u001b[39m(\u001b[38;5;124m\"\u001b[39m\u001b[38;5;124mKafka-Port: \u001b[39m\u001b[38;5;124m\"\u001b[39m \u001b[38;5;241m+\u001b[39m \u001b[38;5;28mstr\u001b[39m(server\u001b[38;5;241m.\u001b[39mlocal_bind_port))\n\u001b[1;32m    121\u001b[0m     \u001b[38;5;66;03m# Define the Kafka producer configuration\u001b[39;00m\n\u001b[0;32m--> 122\u001b[0m     producer \u001b[38;5;241m=\u001b[39m \u001b[43mKafkaProducer\u001b[49m\u001b[43m(\u001b[49m\n\u001b[1;32m    123\u001b[0m \u001b[43m    \u001b[49m\u001b[43mbootstrap_servers\u001b[49m\u001b[38;5;241;43m=\u001b[39;49m\u001b[43m[\u001b[49m\u001b[43mkafka_server\u001b[49m\u001b[38;5;241;43m+\u001b[39;49m\u001b[38;5;28;43mstr\u001b[39;49m\u001b[43m(\u001b[49m\u001b[43mserver\u001b[49m\u001b[38;5;241;43m.\u001b[39;49m\u001b[43mlocal_bind_port\u001b[49m\u001b[43m)\u001b[49m\u001b[43m]\u001b[49m\u001b[43m,\u001b[49m\n\u001b[1;32m    124\u001b[0m \u001b[43m    \u001b[49m\u001b[43mvalue_serializer\u001b[49m\u001b[38;5;241;43m=\u001b[39;49m\u001b[38;5;28;43;01mlambda\u001b[39;49;00m\u001b[43m \u001b[49m\u001b[43mx\u001b[49m\u001b[43m:\u001b[49m\u001b[43m \u001b[49m\u001b[43mjson\u001b[49m\u001b[38;5;241;43m.\u001b[39;49m\u001b[43mdumps\u001b[49m\u001b[43m(\u001b[49m\u001b[43mx\u001b[49m\u001b[43m)\u001b[49m\u001b[38;5;241;43m.\u001b[39;49m\u001b[43mencode\u001b[49m\u001b[43m(\u001b[49m\u001b[38;5;124;43m'\u001b[39;49m\u001b[38;5;124;43mutf-8\u001b[39;49m\u001b[38;5;124;43m'\u001b[39;49m\u001b[43m)\u001b[49m\n\u001b[1;32m    125\u001b[0m \u001b[43m)\u001b[49m\n\u001b[1;32m    127\u001b[0m     producer\u001b[38;5;241m.\u001b[39msend(kafka_topic, value\u001b[38;5;241m=\u001b[39msales_data)\n\u001b[1;32m    128\u001b[0m     producer\u001b[38;5;241m.\u001b[39msend(kafka_topic, \u001b[38;5;124m\"\u001b[39m\u001b[38;5;124mEOF\u001b[39m\u001b[38;5;124m\"\u001b[39m)\n",
      "File \u001b[0;32m~/.local/lib/python3.9/site-packages/kafka/producer/kafka.py:381\u001b[0m, in \u001b[0;36mKafkaProducer.__init__\u001b[0;34m(self, **configs)\u001b[0m\n\u001b[1;32m    378\u001b[0m reporters \u001b[38;5;241m=\u001b[39m [reporter() \u001b[38;5;28;01mfor\u001b[39;00m reporter \u001b[38;5;129;01min\u001b[39;00m \u001b[38;5;28mself\u001b[39m\u001b[38;5;241m.\u001b[39mconfig[\u001b[38;5;124m'\u001b[39m\u001b[38;5;124mmetric_reporters\u001b[39m\u001b[38;5;124m'\u001b[39m]]\n\u001b[1;32m    379\u001b[0m \u001b[38;5;28mself\u001b[39m\u001b[38;5;241m.\u001b[39m_metrics \u001b[38;5;241m=\u001b[39m Metrics(metric_config, reporters)\n\u001b[0;32m--> 381\u001b[0m client \u001b[38;5;241m=\u001b[39m \u001b[43mKafkaClient\u001b[49m\u001b[43m(\u001b[49m\u001b[43mmetrics\u001b[49m\u001b[38;5;241;43m=\u001b[39;49m\u001b[38;5;28;43mself\u001b[39;49m\u001b[38;5;241;43m.\u001b[39;49m\u001b[43m_metrics\u001b[49m\u001b[43m,\u001b[49m\u001b[43m \u001b[49m\u001b[43mmetric_group_prefix\u001b[49m\u001b[38;5;241;43m=\u001b[39;49m\u001b[38;5;124;43m'\u001b[39;49m\u001b[38;5;124;43mproducer\u001b[39;49m\u001b[38;5;124;43m'\u001b[39;49m\u001b[43m,\u001b[49m\n\u001b[1;32m    382\u001b[0m \u001b[43m                     \u001b[49m\u001b[43mwakeup_timeout_ms\u001b[49m\u001b[38;5;241;43m=\u001b[39;49m\u001b[38;5;28;43mself\u001b[39;49m\u001b[38;5;241;43m.\u001b[39;49m\u001b[43mconfig\u001b[49m\u001b[43m[\u001b[49m\u001b[38;5;124;43m'\u001b[39;49m\u001b[38;5;124;43mmax_block_ms\u001b[39;49m\u001b[38;5;124;43m'\u001b[39;49m\u001b[43m]\u001b[49m\u001b[43m,\u001b[49m\n\u001b[1;32m    383\u001b[0m \u001b[43m                     \u001b[49m\u001b[38;5;241;43m*\u001b[39;49m\u001b[38;5;241;43m*\u001b[39;49m\u001b[38;5;28;43mself\u001b[39;49m\u001b[38;5;241;43m.\u001b[39;49m\u001b[43mconfig\u001b[49m\u001b[43m)\u001b[49m\n\u001b[1;32m    385\u001b[0m \u001b[38;5;66;03m# Get auto-discovered version from client if necessary\u001b[39;00m\n\u001b[1;32m    386\u001b[0m \u001b[38;5;28;01mif\u001b[39;00m \u001b[38;5;28mself\u001b[39m\u001b[38;5;241m.\u001b[39mconfig[\u001b[38;5;124m'\u001b[39m\u001b[38;5;124mapi_version\u001b[39m\u001b[38;5;124m'\u001b[39m] \u001b[38;5;129;01mis\u001b[39;00m \u001b[38;5;28;01mNone\u001b[39;00m:\n",
      "File \u001b[0;32m~/.local/lib/python3.9/site-packages/kafka/client_async.py:244\u001b[0m, in \u001b[0;36mKafkaClient.__init__\u001b[0;34m(self, **configs)\u001b[0m\n\u001b[1;32m    242\u001b[0m \u001b[38;5;28;01mif\u001b[39;00m \u001b[38;5;28mself\u001b[39m\u001b[38;5;241m.\u001b[39mconfig[\u001b[38;5;124m'\u001b[39m\u001b[38;5;124mapi_version\u001b[39m\u001b[38;5;124m'\u001b[39m] \u001b[38;5;129;01mis\u001b[39;00m \u001b[38;5;28;01mNone\u001b[39;00m:\n\u001b[1;32m    243\u001b[0m     check_timeout \u001b[38;5;241m=\u001b[39m \u001b[38;5;28mself\u001b[39m\u001b[38;5;241m.\u001b[39mconfig[\u001b[38;5;124m'\u001b[39m\u001b[38;5;124mapi_version_auto_timeout_ms\u001b[39m\u001b[38;5;124m'\u001b[39m] \u001b[38;5;241m/\u001b[39m \u001b[38;5;241m1000\u001b[39m\n\u001b[0;32m--> 244\u001b[0m     \u001b[38;5;28mself\u001b[39m\u001b[38;5;241m.\u001b[39mconfig[\u001b[38;5;124m'\u001b[39m\u001b[38;5;124mapi_version\u001b[39m\u001b[38;5;124m'\u001b[39m] \u001b[38;5;241m=\u001b[39m \u001b[38;5;28;43mself\u001b[39;49m\u001b[38;5;241;43m.\u001b[39;49m\u001b[43mcheck_version\u001b[49m\u001b[43m(\u001b[49m\u001b[43mtimeout\u001b[49m\u001b[38;5;241;43m=\u001b[39;49m\u001b[43mcheck_timeout\u001b[49m\u001b[43m)\u001b[49m\n",
      "File \u001b[0;32m~/.local/lib/python3.9/site-packages/kafka/client_async.py:900\u001b[0m, in \u001b[0;36mKafkaClient.check_version\u001b[0;34m(self, node_id, timeout, strict)\u001b[0m\n\u001b[1;32m    898\u001b[0m \u001b[38;5;28;01mif\u001b[39;00m try_node \u001b[38;5;129;01mis\u001b[39;00m \u001b[38;5;28;01mNone\u001b[39;00m:\n\u001b[1;32m    899\u001b[0m     \u001b[38;5;28mself\u001b[39m\u001b[38;5;241m.\u001b[39m_lock\u001b[38;5;241m.\u001b[39mrelease()\n\u001b[0;32m--> 900\u001b[0m     \u001b[38;5;28;01mraise\u001b[39;00m Errors\u001b[38;5;241m.\u001b[39mNoBrokersAvailable()\n\u001b[1;32m    901\u001b[0m \u001b[38;5;28mself\u001b[39m\u001b[38;5;241m.\u001b[39m_maybe_connect(try_node)\n\u001b[1;32m    902\u001b[0m conn \u001b[38;5;241m=\u001b[39m \u001b[38;5;28mself\u001b[39m\u001b[38;5;241m.\u001b[39m_conns[try_node]\n",
      "\u001b[0;31mNoBrokersAvailable\u001b[0m: NoBrokersAvailable"
     ]
    }
   ],
   "source": [
    "#!/bin/python3\n",
    "### created by Dirk Derichsweiler+\n",
    "#\n",
    "# Demo for DF\n",
    "import random\n",
    "import csv\n",
    "from kafka import KafkaProducer\n",
    "import json\n",
    "import sys\n",
    "from sshtunnel import open_tunnel\n",
    "from time import sleep\n",
    "\n",
    "country = 'Austria'\n",
    "currency = 'EUR'\n",
    "kafka_server='localhost'\n",
    "kafka_topic=\"sales_data\"\n",
    "store_amount = 1\n",
    "start_year = 2021\n",
    "end_year = 2023\n",
    "\n",
    "# Define the products\n",
    "products = [\n",
    "        {\"id\": 1, \"name\": \"banana\", \"type\": \"fruits\", \"unit_price\": 0.5, \"unit\": \"kg\"},\n",
    "        {\"id\": 2, \"name\": \"apple\", \"type\": \"fruits\", \"unit_price\": 0.7, \"unit\": \"kg\"},\n",
    "        {\"id\": 3, \"name\": \"pear\", \"type\": \"fruits\", \"unit_price\": 0.6, \"unit\": \"kg\"},\n",
    "        {\"id\": 4, \"name\": \"grapes\", \"type\": \"fruits\", \"unit_price\": 1.2, \"unit\": \"kg\"},\n",
    "        {\"id\": 5, \"name\": \"orange\", \"type\": \"fruits\", \"unit_price\": 0.8, \"unit\": \"kg\"},\n",
    "        {\"id\": 6, \"name\": \"kiwi\", \"type\": \"fruits\", \"unit_price\": 0.9, \"unit\": \"piece\"},\n",
    "        {\"id\": 7, \"name\": \"watermelon\", \"type\": \"fruits\", \"unit_price\": 5.0, \"unit\": \"kg\"},\n",
    "        {\"id\": 8, \"name\": \"pomegranate\", \"type\": \"fruits\", \"unit_price\": 2.5, \"unit\": \"kg\"},\n",
    "        {\"id\": 9, \"name\": \"pineapple\", \"type\": \"fruits\", \"unit_price\": 1.5, \"unit\": \"piece\"},\n",
    "        {\"id\": 10, \"name\": \"mango\", \"type\": \"fruits\", \"unit_price\": 2.0, \"unit\": \"piece\"},\n",
    "        {\"id\": 11, \"name\": \"cucumber\", \"type\": \"vegetables\", \"unit_price\": 0.4, \"unit\": \"piece\"},\n",
    "        {\"id\": 12, \"name\": \"carrot\", \"type\": \"vegetables\", \"unit_price\": 0.3, \"unit\": \"kg\"},\n",
    "        {\"id\": 13, \"name\": \"capsicum\", \"type\": \"vegetables\", \"unit_price\": 0.5, \"unit\": \"kg\"},\n",
    "        {\"id\": 14, \"name\": \"onion\", \"type\": \"vegetables\", \"unit_price\": 0.2, \"unit\": \"kg\"},\n",
    "        {\"id\": 15, \"name\": \"potato\", \"type\": \"vegetables\", \"unit_price\": 0.3, \"unit\": \"kg\"},\n",
    "        {\"id\": 16, \"name\": \"lemon\", \"type\": \"vegetables\", \"unit_price\": 0.4, \"unit\": \"kg\"},\n",
    "        {\"id\": 17, \"name\": \"tomato\", \"type\": \"vegetables\", \"unit_price\": 0.6, \"unit\": \"kg\"},\n",
    "        {\"id\": 18, \"name\": \"raddish\", \"type\": \"vegetables\", \"unit_price\": 0.3, \"unit\": \"kg\"},\n",
    "        {\"id\": 19, \"name\": \"beetroot\", \"type\": \"vegetables\", \"unit_price\": 0.4, \"unit\": \"kg\"},\n",
    "        {\"id\": 20, \"name\": \"cabbage\", \"type\": \"vegetables\", \"unit_price\": 0.5, \"unit\": \"piece\"},\n",
    "        {\"id\": 21, \"name\": \"lettuce\", \"type\": \"vegetables\", \"unit_price\": 0.6, \"unit\": \"piece\"},\n",
    "        {\"id\": 22, \"name\": \"spinach\", \"type\": \"vegetables\", \"unit_price\": 0.7, \"unit\": \"kg\"},\n",
    "        {\"id\": 23, \"name\": \"soy bean\", \"type\": \"vegetables\", \"unit_price\": 0.8, \"unit\": \"kg\"},\n",
    "        {\"id\": 24, \"name\": \"cauliflower\", \"type\": \"vegetables\", \"unit_price\": 0.6, \"unit\": \"piece\"},\n",
    "        {\"id\": 25, \"name\": \"bell pepper\", \"type\": \"vegetables\", \"unit_price\": 0.7, \"unit\": \"kg\"},\n",
    "        {\"id\": 26, \"name\": \"chilli pepper\", \"type\": \"vegetables\", \"unit_price\": 0.5, \"unit\": \"kg\"},\n",
    "        {\"id\": 27, \"name\": \"turnip\", \"type\": \"vegetables\", \"unit_price\": 0.4, \"unit\": \"kg\"},\n",
    "        {\"id\": 28, \"name\": \"corn\", \"type\": \"vegetables\", \"unit_price\": 0.3, \"unit\": \"kg\"},\n",
    "        {\"id\": 29, \"name\": \"sweetcorn\", \"type\": \"vegetables\", \"unit_price\": 0.4, \"unit\": \"kg\"},\n",
    "        {\"id\": 30, \"name\": \"sweet potato\", \"type\": \"vegetables\", \"unit_price\": 0.5, \"unit\": \"kg\"},\n",
    "        {\"id\": 31, \"name\": \"paprika\", \"type\": \"vegetables\", \"unit_price\": 2.0, \"unit\": \"kg\"},\n",
    "        {\"id\": 32, \"name\": \"jalepeno\", \"type\": \"vegetables\", \"unit_price\": 2.0, \"unit\": \"kg\"},\n",
    "        {\"id\": 33, \"name\": \"ginger\", \"type\": \"vegetables\", \"unit_price\": 1.5, \"unit\": \"kg\"},\n",
    "        {\"id\": 34, \"name\": \"garlic\", \"type\": \"vegetables\", \"unit_price\": 1.5, \"unit\": \"kg\"},\n",
    "        {\"id\": 35, \"name\": \"peas\", \"type\": \"vegetables\", \"unit_price\": 3.0, \"unit\": \"kg\"},\n",
    "        {\"id\": 36, \"name\": \"eggplant\", \"type\": \"vegetables\", \"unit_price\": 1.5, \"unit\": \"kg\"}\n",
    "]\n",
    "\n",
    "stores = []\n",
    "years = []\n",
    "\n",
    "if int(start_year) > int(end_year):\n",
    "    print(\"E: start_year is higher then end year\")\n",
    "    sys.exit()\n",
    "\n",
    "amount_of_years = int(end_year) - int(start_year)\n",
    "\n",
    "x=0\n",
    "while(x < int(amount_of_years+1)):\n",
    "    years.append(str(int(start_year)+int(x)))\n",
    "    x=x+1\n",
    "print(years) \n",
    "\n",
    "\n",
    "# x = chr(ord('A') + 3)\n",
    "x=0\n",
    "while( x < int(store_amount)):\n",
    "\n",
    "    char = chr(ord('A') + x )\n",
    "    x=x+1\n",
    "    stores.append(\"Store \"+char)\n",
    "\n",
    "# Sales data will be stored in a list of dictionaries\n",
    "sales_data = []\n",
    "\n",
    "for year in years:\n",
    "    for store in stores:\n",
    "        total_sales = 0\n",
    "\n",
    "        # Generate sales data for vegetables\n",
    "        for product in products:\n",
    "            quantity = random.randint(50, 2000) # Generate a random quantity between 50 and 200 kg\n",
    "            total_sales += quantity * product[\"unit_price\"]\n",
    "\n",
    "            # Add sales data to the list\n",
    "            sales_data.append({\n",
    "                \"id\": product[\"id\"],\n",
    "                \"product\": product[\"name\"],\n",
    "                \"type\": product[\"type\"],\n",
    "                \"unit price\": product[\"unit_price\"],\n",
    "                \"unit\": product[\"unit\"],\n",
    "                \"qty\": quantity,\n",
    "                \"sales\": round(total_sales, 2),\n",
    "                \"currency\": currency,\n",
    "                \"store\": store,\n",
    "                \"country\": country,\n",
    "                \"year\": year\n",
    "            })\n",
    "\n",
    "with open_tunnel(\n",
    "    ('16.103.6.85', 22),\n",
    "    ssh_username=\"dfaasusr\",\n",
    "    ssh_pkey=\"../id_rsa_greenlake.pem\",\n",
    "    remote_bind_address=('16.103.6.85', 9092)\n",
    ") as server:\n",
    "\n",
    "    print(\"Kafka-Port: \" + str(server.local_bind_port))\n",
    "            \n",
    "    # Define the Kafka producer configuration\n",
    "    producer = KafkaProducer(\n",
    "    bootstrap_servers=[kafka_server+str(server.local_bind_port)],\n",
    "    value_serializer=lambda x: json.dumps(x).encode('utf-8')\n",
    ")\n",
    "\n",
    "    producer.send(kafka_topic, value=sales_data)\n",
    "    producer.send(kafka_topic, \"EOF\")\n",
    "    producer.flush()"
   ]
  },
  {
   "cell_type": "code",
   "execution_count": 2,
   "id": "1b350d4d-f627-48a4-b80b-ca34bfce1ef7",
   "metadata": {},
   "outputs": [
    {
     "name": "stdout",
     "output_type": "stream",
     "text": [
      "Defaulting to user installation because normal site-packages is not writeable\n",
      "Collecting sshtunnel\n",
      "  Downloading sshtunnel-0.4.0-py2.py3-none-any.whl (24 kB)\n",
      "Collecting paramiko>=2.7.2 (from sshtunnel)\n",
      "  Downloading paramiko-3.2.0-py3-none-any.whl (224 kB)\n",
      "\u001b[2K     \u001b[90m━━━━━━━━━━━━━━━━━━━━━━━━━━━━━━━━━━━━━━━\u001b[0m \u001b[32m224.2/224.2 kB\u001b[0m \u001b[31m6.0 MB/s\u001b[0m eta \u001b[36m0:00:00\u001b[0m\n",
      "\u001b[?25hCollecting bcrypt>=3.2 (from paramiko>=2.7.2->sshtunnel)\n",
      "  Downloading bcrypt-4.0.1-cp36-abi3-manylinux_2_28_x86_64.whl (593 kB)\n",
      "\u001b[2K     \u001b[90m━━━━━━━━━━━━━━━━━━━━━━━━━━━━━━━━━━━━━━\u001b[0m \u001b[32m593.7/593.7 kB\u001b[0m \u001b[31m22.1 MB/s\u001b[0m eta \u001b[36m0:00:00\u001b[0m\n",
      "\u001b[?25hRequirement already satisfied: cryptography>=3.3 in /home/dderichswei/.local/lib/python3.9/site-packages (from paramiko>=2.7.2->sshtunnel) (38.0.1)\n",
      "Collecting pynacl>=1.5 (from paramiko>=2.7.2->sshtunnel)\n",
      "  Downloading PyNaCl-1.5.0-cp36-abi3-manylinux_2_17_x86_64.manylinux2014_x86_64.manylinux_2_24_x86_64.whl (856 kB)\n",
      "\u001b[2K     \u001b[90m━━━━━━━━━━━━━━━━━━━━━━━━━━━━━━━━━━━━━━\u001b[0m \u001b[32m856.7/856.7 kB\u001b[0m \u001b[31m23.6 MB/s\u001b[0m eta \u001b[36m0:00:00\u001b[0m00:01\u001b[0m\n",
      "\u001b[?25hRequirement already satisfied: cffi>=1.12 in /home/dderichswei/.local/lib/python3.9/site-packages (from cryptography>=3.3->paramiko>=2.7.2->sshtunnel) (1.15.1)\n",
      "Requirement already satisfied: pycparser in /home/dderichswei/.local/lib/python3.9/site-packages (from cffi>=1.12->cryptography>=3.3->paramiko>=2.7.2->sshtunnel) (2.21)\n",
      "Installing collected packages: bcrypt, pynacl, paramiko, sshtunnel\n",
      "Successfully installed bcrypt-4.0.1 paramiko-3.2.0 pynacl-1.5.0 sshtunnel-0.4.0\n"
     ]
    }
   ],
   "source": [
    "!pip install sshtunnel"
   ]
  },
  {
   "cell_type": "code",
   "execution_count": 20,
   "id": "5e3271a9-f198-4770-bd0d-99eb680bf2df",
   "metadata": {},
   "outputs": [
    {
     "name": "stdout",
     "output_type": "stream",
     "text": [
      "41501\n"
     ]
    }
   ],
   "source": [
    "from sshtunnel import SSHTunnelForwarder\n",
    "from kafka import KafkaProducer\n",
    "import csv\n",
    "\n",
    "server = SSHTunnelForwarder(\n",
    "    '16.103.6.85',\n",
    "    ssh_username=\"dfaasusr\",\n",
    "    ssh_pkey=\"../id_rsa_greenlake.pem\",\n",
    "    remote_bind_address=('localhost', 9092),\n",
    ")\n",
    "\n",
    "server.start()\n",
    "\n",
    "print(server.local_bind_port)  # show assigned local port\n",
    "# work with `SECRET SERVICE` through `server.local_bind_port`.\n",
    "\n",
    "def copy_csv_file(input_file, output_topic, kafka_servers, completion_keyword):\n",
    "    producer = KafkaProducer(bootstrap_servers=kafka_servers)\n",
    "\n",
    "    with open(input_file, 'r') as file:\n",
    "        csv_reader = csv.reader(file)\n",
    "\n",
    "        ## Skip header if present\n",
    "        #header = next(csv_reader, None)\n",
    "\n",
    "        for row in csv_reader:\n",
    "            # Convert row to string\n",
    "            message = ','.join(row).encode('utf-8')\n",
    "            # Publish the row as a message to the Kafka topic\n",
    "            producer.send(output_topic, value=message)\n",
    "\n",
    "        # Publish completion keyword\n",
    "        producer.send(output_topic, value=completion_keyword.encode('utf-8'))\n",
    "\n",
    "    producer.flush()\n",
    "    producer.close()\n",
    "\n",
    "# Configuration\n",
    "input_file = '../demo_folder/data/Germany_sales_data_2019_2023.csv'\n",
    "output_topic = 'aspire-test'\n",
    "kafka_servers = 'localhost:'+str(server.local_bind_port)\n",
    "completion_keyword = 'endofdemo'\n",
    "\n",
    "# Copy CSV file to Kafka topic\n",
    "copy_csv_file(input_file, output_topic, kafka_servers, completion_keyword)\n",
    "\n",
    "\n",
    "\n",
    "server.stop()"
   ]
  },
  {
   "cell_type": "code",
   "execution_count": 12,
   "id": "3f2c2d21-9b08-4138-aa70-03e2bfb822d4",
   "metadata": {},
   "outputs": [
    {
     "name": "stderr",
     "output_type": "stream",
     "text": [
      "2023-05-30 13:39:47,388| ERROR   | Could not open connection to gateway\n"
     ]
    },
    {
     "ename": "BaseSSHTunnelForwarderError",
     "evalue": "Could not establish session to SSH gateway",
     "output_type": "error",
     "traceback": [
      "\u001b[0;31m---------------------------------------------------------------------------\u001b[0m",
      "\u001b[0;31mBaseSSHTunnelForwarderError\u001b[0m               Traceback (most recent call last)",
      "Cell \u001b[0;32mIn [12], line 4\u001b[0m\n\u001b[1;32m      1\u001b[0m \u001b[38;5;28;01mimport\u001b[39;00m \u001b[38;5;21;01mparamiko\u001b[39;00m\n\u001b[1;32m      2\u001b[0m \u001b[38;5;28;01mimport\u001b[39;00m \u001b[38;5;21;01msshtunnel\u001b[39;00m\n\u001b[0;32m----> 4\u001b[0m \u001b[38;5;28;01mwith\u001b[39;00m sshtunnel\u001b[38;5;241m.\u001b[39mopen_tunnel(\n\u001b[1;32m      5\u001b[0m     (\u001b[38;5;124m'\u001b[39m\u001b[38;5;124m16.103.6.85\u001b[39m\u001b[38;5;124m'\u001b[39m, \u001b[38;5;241m22\u001b[39m),\n\u001b[1;32m      6\u001b[0m     ssh_username\u001b[38;5;241m=\u001b[39m\u001b[38;5;124m\"\u001b[39m\u001b[38;5;124mdfaasusr\u001b[39m\u001b[38;5;124m\"\u001b[39m,\n\u001b[1;32m      7\u001b[0m     ssh_pkey\u001b[38;5;241m=\u001b[39m\u001b[38;5;124m\"\u001b[39m\u001b[38;5;124m/var/ssh/rsa_key\u001b[39m\u001b[38;5;124m\"\u001b[39m,\n\u001b[1;32m      8\u001b[0m     ssh_private_key_password\u001b[38;5;241m=\u001b[39m\u001b[38;5;124m\"\u001b[39m\u001b[38;5;124m../id_rsa_greenlake.pem\u001b[39m\u001b[38;5;124m\"\u001b[39m,\n\u001b[1;32m      9\u001b[0m     remote_bind_address\u001b[38;5;241m=\u001b[39m(\u001b[38;5;124m'\u001b[39m\u001b[38;5;124m16.103.6.85\u001b[39m\u001b[38;5;124m'\u001b[39m, \u001b[38;5;241m22\u001b[39m),\n\u001b[1;32m     10\u001b[0m     local_bind_address\u001b[38;5;241m=\u001b[39m(\u001b[38;5;124m'\u001b[39m\u001b[38;5;124m0.0.0.0\u001b[39m\u001b[38;5;124m'\u001b[39m, \u001b[38;5;241m10022\u001b[39m)\n\u001b[1;32m     11\u001b[0m ) \u001b[38;5;28;01mas\u001b[39;00m tunnel:\n\u001b[1;32m     12\u001b[0m     client \u001b[38;5;241m=\u001b[39m paramiko\u001b[38;5;241m.\u001b[39mSSHClient()\n\u001b[1;32m     13\u001b[0m     client\u001b[38;5;241m.\u001b[39mload_system_host_keys()\n",
      "File \u001b[0;32m~/.local/lib/python3.9/site-packages/sshtunnel.py:1608\u001b[0m, in \u001b[0;36mSSHTunnelForwarder.__enter__\u001b[0;34m(self)\u001b[0m\n\u001b[1;32m   1606\u001b[0m \u001b[38;5;28;01mdef\u001b[39;00m \u001b[38;5;21m__enter__\u001b[39m(\u001b[38;5;28mself\u001b[39m):\n\u001b[1;32m   1607\u001b[0m     \u001b[38;5;28;01mtry\u001b[39;00m:\n\u001b[0;32m-> 1608\u001b[0m         \u001b[38;5;28;43mself\u001b[39;49m\u001b[38;5;241;43m.\u001b[39;49m\u001b[43mstart\u001b[49m\u001b[43m(\u001b[49m\u001b[43m)\u001b[49m\n\u001b[1;32m   1609\u001b[0m         \u001b[38;5;28;01mreturn\u001b[39;00m \u001b[38;5;28mself\u001b[39m\n\u001b[1;32m   1610\u001b[0m     \u001b[38;5;28;01mexcept\u001b[39;00m \u001b[38;5;167;01mKeyboardInterrupt\u001b[39;00m:\n",
      "File \u001b[0;32m~/.local/lib/python3.9/site-packages/sshtunnel.py:1331\u001b[0m, in \u001b[0;36mSSHTunnelForwarder.start\u001b[0;34m(self)\u001b[0m\n\u001b[1;32m   1329\u001b[0m \u001b[38;5;28mself\u001b[39m\u001b[38;5;241m.\u001b[39m_create_tunnels()\n\u001b[1;32m   1330\u001b[0m \u001b[38;5;28;01mif\u001b[39;00m \u001b[38;5;129;01mnot\u001b[39;00m \u001b[38;5;28mself\u001b[39m\u001b[38;5;241m.\u001b[39mis_active:\n\u001b[0;32m-> 1331\u001b[0m     \u001b[38;5;28;43mself\u001b[39;49m\u001b[38;5;241;43m.\u001b[39;49m\u001b[43m_raise\u001b[49m\u001b[43m(\u001b[49m\u001b[43mBaseSSHTunnelForwarderError\u001b[49m\u001b[43m,\u001b[49m\n\u001b[1;32m   1332\u001b[0m \u001b[43m                \u001b[49m\u001b[43mreason\u001b[49m\u001b[38;5;241;43m=\u001b[39;49m\u001b[38;5;124;43m'\u001b[39;49m\u001b[38;5;124;43mCould not establish session to SSH gateway\u001b[39;49m\u001b[38;5;124;43m'\u001b[39;49m\u001b[43m)\u001b[49m\n\u001b[1;32m   1333\u001b[0m \u001b[38;5;28;01mfor\u001b[39;00m _srv \u001b[38;5;129;01min\u001b[39;00m \u001b[38;5;28mself\u001b[39m\u001b[38;5;241m.\u001b[39m_server_list:\n\u001b[1;32m   1334\u001b[0m     thread \u001b[38;5;241m=\u001b[39m threading\u001b[38;5;241m.\u001b[39mThread(\n\u001b[1;32m   1335\u001b[0m         target\u001b[38;5;241m=\u001b[39m\u001b[38;5;28mself\u001b[39m\u001b[38;5;241m.\u001b[39m_serve_forever_wrapper,\n\u001b[1;32m   1336\u001b[0m         args\u001b[38;5;241m=\u001b[39m(_srv, ),\n\u001b[1;32m   1337\u001b[0m         name\u001b[38;5;241m=\u001b[39m\u001b[38;5;124m'\u001b[39m\u001b[38;5;124mSrv-\u001b[39m\u001b[38;5;132;01m{0}\u001b[39;00m\u001b[38;5;124m'\u001b[39m\u001b[38;5;241m.\u001b[39mformat(address_to_str(_srv\u001b[38;5;241m.\u001b[39mlocal_port))\n\u001b[1;32m   1338\u001b[0m     )\n",
      "File \u001b[0;32m~/.local/lib/python3.9/site-packages/sshtunnel.py:1174\u001b[0m, in \u001b[0;36mSSHTunnelForwarder._raise\u001b[0;34m(self, exception, reason)\u001b[0m\n\u001b[1;32m   1172\u001b[0m \u001b[38;5;28;01mdef\u001b[39;00m \u001b[38;5;21m_raise\u001b[39m(\u001b[38;5;28mself\u001b[39m, exception\u001b[38;5;241m=\u001b[39mBaseSSHTunnelForwarderError, reason\u001b[38;5;241m=\u001b[39m\u001b[38;5;28;01mNone\u001b[39;00m):\n\u001b[1;32m   1173\u001b[0m     \u001b[38;5;28;01mif\u001b[39;00m \u001b[38;5;28mself\u001b[39m\u001b[38;5;241m.\u001b[39m_raise_fwd_exc:\n\u001b[0;32m-> 1174\u001b[0m         \u001b[38;5;28;01mraise\u001b[39;00m exception(reason)\n\u001b[1;32m   1175\u001b[0m     \u001b[38;5;28;01melse\u001b[39;00m:\n\u001b[1;32m   1176\u001b[0m         \u001b[38;5;28mself\u001b[39m\u001b[38;5;241m.\u001b[39mlogger\u001b[38;5;241m.\u001b[39merror(\u001b[38;5;28mrepr\u001b[39m(exception(reason)))\n",
      "\u001b[0;31mBaseSSHTunnelForwarderError\u001b[0m: Could not establish session to SSH gateway"
     ]
    }
   ],
   "source": [
    "import paramiko\n",
    "import sshtunnel\n",
    "\n",
    "with sshtunnel.open_tunnel(\n",
    "    ('16.103.6.85', 22),\n",
    "    ssh_username=\"dfaasusr\",\n",
    "    ssh_pkey=\"/var/ssh/rsa_key\",\n",
    "    ssh_private_key_password=\"../id_rsa_greenlake.pem\",\n",
    "    remote_bind_address=('16.103.6.85', 22),\n",
    "    local_bind_address=('0.0.0.0', 10022)\n",
    ") as tunnel:\n",
    "    client = paramiko.SSHClient()\n",
    "    client.load_system_host_keys()\n",
    "    client.set_missing_host_key_policy(paramiko.AutoAddPolicy())\n",
    "    client.connect('127.0.0.1', 10022)\n",
    "    # do some operations with client session\n",
    "    client.close()\n",
    "\n",
    "print('FINISH!')"
   ]
  },
  {
   "cell_type": "code",
   "execution_count": 10,
   "id": "18e6f693-8d2f-4429-9ec9-3c751e1472d1",
   "metadata": {},
   "outputs": [
    {
     "ename": "AssertionError",
     "evalue": "",
     "output_type": "error",
     "traceback": [
      "\u001b[0;31m---------------------------------------------------------------------------\u001b[0m",
      "\u001b[0;31mAssertionError\u001b[0m                            Traceback (most recent call last)",
      "Cell \u001b[0;32mIn [10], line 16\u001b[0m\n\u001b[1;32m      9\u001b[0m remote_ports \u001b[38;5;241m=\u001b[39m {\n\u001b[1;32m     10\u001b[0m     \u001b[38;5;241m9092\u001b[39m: \u001b[38;5;241m9092\u001b[39m,\n\u001b[1;32m     11\u001b[0m     \u001b[38;5;241m2049\u001b[39m: \u001b[38;5;241m2049\u001b[39m,\n\u001b[1;32m     12\u001b[0m     \u001b[38;5;241m111\u001b[39m: \u001b[38;5;241m111\u001b[39m\n\u001b[1;32m     13\u001b[0m }\n\u001b[1;32m     15\u001b[0m \u001b[38;5;66;03m# Start the SSH tunnel\u001b[39;00m\n\u001b[0;32m---> 16\u001b[0m \u001b[38;5;28;01mwith\u001b[39;00m \u001b[43mSSHTunnelForwarder\u001b[49m\u001b[43m(\u001b[49m\n\u001b[1;32m     17\u001b[0m \u001b[43m    \u001b[49m\u001b[43m(\u001b[49m\u001b[43mssh_host\u001b[49m\u001b[43m,\u001b[49m\u001b[43m \u001b[49m\u001b[38;5;241;43m22\u001b[39;49m\u001b[43m)\u001b[49m\u001b[43m,\u001b[49m\n\u001b[1;32m     18\u001b[0m \u001b[43m    \u001b[49m\u001b[43mssh_username\u001b[49m\u001b[38;5;241;43m=\u001b[39;49m\u001b[43mssh_username\u001b[49m\u001b[43m,\u001b[49m\n\u001b[1;32m     19\u001b[0m \u001b[43m    \u001b[49m\u001b[43mssh_private_key\u001b[49m\u001b[38;5;241;43m=\u001b[39;49m\u001b[43mssh_key_path\u001b[49m\u001b[43m,\u001b[49m\n\u001b[1;32m     20\u001b[0m \u001b[43m    \u001b[49m\u001b[43mlocal_bind_addresses\u001b[49m\u001b[38;5;241;43m=\u001b[39;49m\u001b[43m(\u001b[49m\u001b[38;5;124;43m'\u001b[39;49m\u001b[38;5;124;43m0.0.0.0\u001b[39;49m\u001b[38;5;124;43m'\u001b[39;49m\u001b[43m,\u001b[49m\u001b[38;5;241;43m22\u001b[39;49m\u001b[43m)\u001b[49m\u001b[43m,\u001b[49m\n\u001b[1;32m     21\u001b[0m \u001b[43m    \u001b[49m\u001b[43mremote_bind_addresses\u001b[49m\u001b[38;5;241;43m=\u001b[39;49m\u001b[38;5;28;43mlist\u001b[39;49m\u001b[43m(\u001b[49m\u001b[43mremote_ports\u001b[49m\u001b[38;5;241;43m.\u001b[39;49m\u001b[43mvalues\u001b[49m\u001b[43m(\u001b[49m\u001b[43m)\u001b[49m\u001b[43m)\u001b[49m\n\u001b[1;32m     22\u001b[0m \u001b[43m)\u001b[49m \u001b[38;5;28;01mas\u001b[39;00m tunnel:\n\u001b[1;32m     23\u001b[0m     \u001b[38;5;66;03m# Print the local ports bound to the remote services\u001b[39;00m\n\u001b[1;32m     24\u001b[0m     \u001b[38;5;28;01mfor\u001b[39;00m local_port, remote_port \u001b[38;5;129;01min\u001b[39;00m remote_ports\u001b[38;5;241m.\u001b[39mitems():\n\u001b[1;32m     25\u001b[0m         \u001b[38;5;28mprint\u001b[39m(\u001b[38;5;124mf\u001b[39m\u001b[38;5;124m'\u001b[39m\u001b[38;5;124mTunneling remote port \u001b[39m\u001b[38;5;132;01m{\u001b[39;00mremote_port\u001b[38;5;132;01m}\u001b[39;00m\u001b[38;5;124m to localhost:\u001b[39m\u001b[38;5;132;01m{\u001b[39;00mlocal_port\u001b[38;5;132;01m}\u001b[39;00m\u001b[38;5;124m'\u001b[39m)\n",
      "File \u001b[0;32m~/.local/lib/python3.9/site-packages/sshtunnel.py:941\u001b[0m, in \u001b[0;36mSSHTunnelForwarder.__init__\u001b[0;34m(self, ssh_address_or_host, ssh_config_file, ssh_host_key, ssh_password, ssh_pkey, ssh_private_key_password, ssh_proxy, ssh_proxy_enabled, ssh_username, local_bind_address, local_bind_addresses, logger, mute_exceptions, remote_bind_address, remote_bind_addresses, set_keepalive, threaded, compression, allow_agent, host_pkey_directories, *args, **kwargs)\u001b[0m\n\u001b[1;32m    938\u001b[0m     \u001b[38;5;28;01mraise\u001b[39;00m \u001b[38;5;167;01mValueError\u001b[39;00m(\u001b[38;5;124m'\u001b[39m\u001b[38;5;124mUnknown arguments: \u001b[39m\u001b[38;5;132;01m{0}\u001b[39;00m\u001b[38;5;124m'\u001b[39m\u001b[38;5;241m.\u001b[39mformat(kwargs))\n\u001b[1;32m    940\u001b[0m \u001b[38;5;66;03m# remote binds\u001b[39;00m\n\u001b[0;32m--> 941\u001b[0m \u001b[38;5;28mself\u001b[39m\u001b[38;5;241m.\u001b[39m_remote_binds \u001b[38;5;241m=\u001b[39m \u001b[38;5;28;43mself\u001b[39;49m\u001b[38;5;241;43m.\u001b[39;49m\u001b[43m_get_binds\u001b[49m\u001b[43m(\u001b[49m\u001b[43mremote_bind_address\u001b[49m\u001b[43m,\u001b[49m\n\u001b[1;32m    942\u001b[0m \u001b[43m                                     \u001b[49m\u001b[43mremote_bind_addresses\u001b[49m\u001b[43m,\u001b[49m\n\u001b[1;32m    943\u001b[0m \u001b[43m                                     \u001b[49m\u001b[43mis_remote\u001b[49m\u001b[38;5;241;43m=\u001b[39;49m\u001b[38;5;28;43;01mTrue\u001b[39;49;00m\u001b[43m)\u001b[49m\n\u001b[1;32m    944\u001b[0m \u001b[38;5;66;03m# local binds\u001b[39;00m\n\u001b[1;32m    945\u001b[0m \u001b[38;5;28mself\u001b[39m\u001b[38;5;241m.\u001b[39m_local_binds \u001b[38;5;241m=\u001b[39m \u001b[38;5;28mself\u001b[39m\u001b[38;5;241m.\u001b[39m_get_binds(local_bind_address,\n\u001b[1;32m    946\u001b[0m                                     local_bind_addresses)\n",
      "File \u001b[0;32m~/.local/lib/python3.9/site-packages/sshtunnel.py:1254\u001b[0m, in \u001b[0;36mSSHTunnelForwarder._get_binds\u001b[0;34m(bind_address, bind_addresses, is_remote)\u001b[0m\n\u001b[1;32m   1252\u001b[0m         \u001b[38;5;28;01mif\u001b[39;00m \u001b[38;5;28misinstance\u001b[39m(local_bind, \u001b[38;5;28mtuple\u001b[39m) \u001b[38;5;129;01mand\u001b[39;00m \u001b[38;5;28mlen\u001b[39m(local_bind) \u001b[38;5;241m==\u001b[39m \u001b[38;5;241m1\u001b[39m:\n\u001b[1;32m   1253\u001b[0m             bind_addresses[i] \u001b[38;5;241m=\u001b[39m (local_bind[\u001b[38;5;241m0\u001b[39m], \u001b[38;5;241m0\u001b[39m)\n\u001b[0;32m-> 1254\u001b[0m \u001b[43mcheck_addresses\u001b[49m\u001b[43m(\u001b[49m\u001b[43mbind_addresses\u001b[49m\u001b[43m,\u001b[49m\u001b[43m \u001b[49m\u001b[43mis_remote\u001b[49m\u001b[43m)\u001b[49m\n\u001b[1;32m   1255\u001b[0m \u001b[38;5;28;01mreturn\u001b[39;00m bind_addresses\n",
      "File \u001b[0;32m~/.local/lib/python3.9/site-packages/sshtunnel.py:149\u001b[0m, in \u001b[0;36mcheck_addresses\u001b[0;34m(address_list, is_remote)\u001b[0m\n\u001b[1;32m    123\u001b[0m \u001b[38;5;28;01mdef\u001b[39;00m \u001b[38;5;21mcheck_addresses\u001b[39m(address_list, is_remote\u001b[38;5;241m=\u001b[39m\u001b[38;5;28;01mFalse\u001b[39;00m):\n\u001b[1;32m    124\u001b[0m     \u001b[38;5;124;03m\"\"\"\u001b[39;00m\n\u001b[1;32m    125\u001b[0m \u001b[38;5;124;03m    Check if the format of the addresses is correct\u001b[39;00m\n\u001b[1;32m    126\u001b[0m \n\u001b[0;32m   (...)\u001b[0m\n\u001b[1;32m    147\u001b[0m \u001b[38;5;124;03m        >>> check_addresses([('127.0.0.1', 22), ('127.0.0.1', 2222)])\u001b[39;00m\n\u001b[1;32m    148\u001b[0m \u001b[38;5;124;03m    \"\"\"\u001b[39;00m\n\u001b[0;32m--> 149\u001b[0m     \u001b[38;5;28;01massert\u001b[39;00m \u001b[38;5;28mall\u001b[39m(\u001b[38;5;28misinstance\u001b[39m(x, (\u001b[38;5;28mtuple\u001b[39m, string_types)) \u001b[38;5;28;01mfor\u001b[39;00m x \u001b[38;5;129;01min\u001b[39;00m address_list)\n\u001b[1;32m    150\u001b[0m     \u001b[38;5;28;01mif\u001b[39;00m (is_remote \u001b[38;5;129;01mand\u001b[39;00m \u001b[38;5;28many\u001b[39m(\u001b[38;5;28misinstance\u001b[39m(x, string_types) \u001b[38;5;28;01mfor\u001b[39;00m x \u001b[38;5;129;01min\u001b[39;00m address_list)):\n\u001b[1;32m    151\u001b[0m         \u001b[38;5;28;01mraise\u001b[39;00m \u001b[38;5;167;01mAssertionError\u001b[39;00m(\u001b[38;5;124m'\u001b[39m\u001b[38;5;124mUNIX domain sockets not allowed for remote\u001b[39m\u001b[38;5;124m'\u001b[39m\n\u001b[1;32m    152\u001b[0m                              \u001b[38;5;124m'\u001b[39m\u001b[38;5;124maddresses\u001b[39m\u001b[38;5;124m'\u001b[39m)\n",
      "\u001b[0;31mAssertionError\u001b[0m: "
     ]
    }
   ],
   "source": [
    "from sshtunnel import SSHTunnelForwarder\n",
    "\n",
    "# SSH connection details\n",
    "ssh_host = '16.103.6.85'\n",
    "ssh_username = 'dfaasusr'\n",
    "ssh_key_path = '/home/dderichswei/notebooks/end2end/id_rsa_greenlake.pem'\n",
    "\n",
    "# Remote service ports to forward\n",
    "remote_ports = {\n",
    "    9092: 9092,\n",
    "    2049: 2049,\n",
    "    111: 111\n",
    "}\n",
    "\n",
    "# Start the SSH tunnel\n",
    "with SSHTunnelForwarder(\n",
    "    (ssh_host, 22),\n",
    "    ssh_username=ssh_username,\n",
    "    ssh_private_key=ssh_key_path,\n",
    "    local_bind_addresses=('0.0.0.0',22),\n",
    "    remote_bind_addresses=list(remote_ports.values())\n",
    ") as tunnel:\n",
    "    # Print the local ports bound to the remote services\n",
    "    for local_port, remote_port in remote_ports.items():\n",
    "        print(f'Tunneling remote port {remote_port} to localhost:{local_port}')\n",
    "\n",
    "    # Keep the script running until interrupted\n",
    "    while True:\n",
    "        pass\n"
   ]
  }
 ],
 "metadata": {
  "kernelspec": {
   "display_name": "Python 3 (ipykernel)",
   "language": "python",
   "name": "python3"
  },
  "language_info": {
   "codemirror_mode": {
    "name": "ipython",
    "version": 3
   },
   "file_extension": ".py",
   "mimetype": "text/x-python",
   "name": "python",
   "nbconvert_exporter": "python",
   "pygments_lexer": "ipython3",
   "version": "3.9.7"
  }
 },
 "nbformat": 4,
 "nbformat_minor": 5
}
