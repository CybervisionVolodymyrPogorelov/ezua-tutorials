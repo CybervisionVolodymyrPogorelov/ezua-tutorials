{
 "cells": [
  {
   "cell_type": "markdown",
   "id": "78bd2af8-7097-42ea-b075-d7c9798eff85",
   "metadata": {
    "tags": []
   },
   "source": [
    "created June 2023 by Dirk Derichsweiler\n",
    "# PYSPARK"
   ]
  },
  {
   "cell_type": "code",
   "execution_count": 2,
   "id": "3b60da50-fa57-4af7-89bd-5033547add19",
   "metadata": {},
   "outputs": [
    {
     "ename": "ModuleNotFoundError",
     "evalue": "No module named 'pyspark.sql'; 'pyspark' is not a package",
     "output_type": "error",
     "traceback": [
      "\u001b[0;31m---------------------------------------------------------------------------\u001b[0m",
      "\u001b[0;31mModuleNotFoundError\u001b[0m                       Traceback (most recent call last)",
      "Cell \u001b[0;32mIn[2], line 1\u001b[0m\n\u001b[0;32m----> 1\u001b[0m \u001b[38;5;28;01mfrom\u001b[39;00m \u001b[38;5;21;01mpyspark\u001b[39;00m\u001b[38;5;21;01m.\u001b[39;00m\u001b[38;5;21;01msql\u001b[39;00m \u001b[38;5;28;01mimport\u001b[39;00m SparkSession\n\u001b[1;32m      3\u001b[0m \u001b[38;5;28;01mif\u001b[39;00m \u001b[38;5;18m__name__\u001b[39m \u001b[38;5;241m==\u001b[39m \u001b[38;5;124m\"\u001b[39m\u001b[38;5;124m__main__\u001b[39m\u001b[38;5;124m\"\u001b[39m:\n\u001b[1;32m      4\u001b[0m     spark \u001b[38;5;241m=\u001b[39m SparkSession\u001b[38;5;241m.\u001b[39mbuilder\u001b[38;5;241m.\u001b[39mgetOrCreate()\n",
      "File \u001b[0;32m/mnt/shared/end2end/spark/pyspark.py:1\u001b[0m\n\u001b[0;32m----> 1\u001b[0m \u001b[38;5;28;01mfrom\u001b[39;00m \u001b[38;5;21;01mpyspark\u001b[39;00m\u001b[38;5;21;01m.\u001b[39;00m\u001b[38;5;21;01msql\u001b[39;00m \u001b[38;5;28;01mimport\u001b[39;00m SparkSession\n\u001b[1;32m      3\u001b[0m \u001b[38;5;66;03m# Create a SparkSession\u001b[39;00m\n\u001b[1;32m      4\u001b[0m spark \u001b[38;5;241m=\u001b[39m SparkSession\u001b[38;5;241m.\u001b[39mbuilder \\\n\u001b[1;32m      5\u001b[0m     \u001b[38;5;241m.\u001b[39mappName(\u001b[38;5;124m\"\u001b[39m\u001b[38;5;124mCurrency Conversion\u001b[39m\u001b[38;5;124m\"\u001b[39m) \\\n\u001b[1;32m      6\u001b[0m     \u001b[38;5;241m.\u001b[39mgetOrCreate()\n",
      "\u001b[0;31mModuleNotFoundError\u001b[0m: No module named 'pyspark.sql'; 'pyspark' is not a package"
     ]
    }
   ],
   "source": [
    "from pyspark.sql import SparkSession\n",
    "\n",
    "if __name__ == \"__main__\":\n",
    "    print(\"pyspark session started..\")\n",
    "    spark = SparkSession.builder \\\n",
    "        .appName(\"discoverdemo\") \\\n",
    "        .getOrCreate()\n",
    "    \n",
    "    sc = spark.sparkContext\n",
    "    \n",
    "    df = spark.read \\\n",
    "      .format(\"jdbc\") \\\n",
    "      .option(\"driver\", \"com.facebook.presto.jdbc.PrestoDriver\") \\\n",
    "      .option(\"url\", \"jdbc:presto://ezpresto.hpe-discover-23-ezaf.com:443\") \\\n",
    "      .option(\"user\", \"discover-user01\") \\\n",
    "      .option(\"password\", \"Hpepoc@123\") \\\n",
    "      .option(\"SSL\", \"true\") \\\n",
    "      .option(\"IgnoreSSLChecks\", \"true\") \\\n",
    "      .option(\"query\", \"SELECT product , sum(qty) total_quantity_sold FROM ( SELECT product , qty FROM czech_mysql.discover.czech UNION ALL SELECT product , qty FROM german_mariadb.discover.germany UNION ALL SELECT product , qty FROM swiss_mysql.discover.swiss ) combined_sales GROUP BY product ORDER BY total_quantity_sold DESC LIMIT 10\") \\\n",
    "      .load() \n",
    "    df.show()"
   ]
  }
 ],
 "metadata": {
  "kernelspec": {
   "display_name": "Python 3 (ipykernel)",
   "language": "python",
   "name": "python3"
  },
  "language_info": {
   "codemirror_mode": {
    "name": "ipython",
    "version": 3
   },
   "file_extension": ".py",
   "mimetype": "text/x-python",
   "name": "python",
   "nbconvert_exporter": "python",
   "pygments_lexer": "ipython3",
   "version": "3.8.10"
  }
 },
 "nbformat": 4,
 "nbformat_minor": 5
}
