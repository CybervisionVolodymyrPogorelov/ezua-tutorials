{
 "cells": [
  {
   "cell_type": "markdown",
   "metadata": {},
   "source": [
    "# Presto"
   ]
  },
  {
   "cell_type": "markdown",
   "metadata": {},
   "source": [
    "Detail information:  \n",
    "\n",
    "Database Germany  \n",
    "discover_german_mariadb\n",
    "MariaDB  \n",
    "Endpoint:  \n",
    "jdbc:mysql://germandb.ezmeral.de:31219  \n",
    "Username:  \n",
    "dderichswei  \n",
    "DB-Name:  \n",
    "discover  \n",
    "  \n",
    "  \n",
    "Database Czech  \n",
    "discover_czech_mysql \n",
    "MySQL  \n",
    "Endpoint:  \n",
    "jdbc:mysql://czechdb.ezmeral.de:31969  \n",
    "Username:  \n",
    "dderichswei  \n",
    "DB-Name:  \n",
    "discover  \n",
    "  \n",
    "Database Swiss  \n",
    "discover_swiss_mysql\n",
    "MySQL  \n",
    "Endpoint:   \n",
    "jdbc:mysql://swissdb.ezmeral.de:31870  \n",
    "Username:  \n",
    "dderichswei  \n",
    "DB-Name:  \n",
    "discover  \n"
   ]
  },
  {
   "cell_type": "markdown",
   "metadata": {
    "vscode": {
     "languageId": "plaintext"
    }
   },
   "source": [
    "\n",
    "\n",
    "```sql\n",
    "SELECT product, SUM(qty) AS total_quantity_sold\n",
    "FROM (\n",
    "  SELECT product, qty\n",
    "  FROM czech_mysql.discover.czech\n",
    "  UNION ALL\n",
    "  SELECT product, qty\n",
    "  FROM german_mariadb.discover.germany\n",
    "  UNION ALL\n",
    "  SELECT product, qty\n",
    "  FROM swiss_mysql.discover.swiss\n",
    ") AS combined_sales\n",
    "GROUP BY product\n",
    "ORDER BY total_quantity_sold DESC\n",
    "LIMIT 10;\n",
    "\n",
    "\n",
    "\n",
    "\n",
    "\n",
    "select CASE when country='Swiss' then 'Switzerland' end as country from discover_end2end.discover_select_all_countries\n",
    "\n",
    "\n",
    "select CASE when country='Swiss' then 'Switzerland' end AS country from (select * FROM discover_czech_mysql.discover.czech UNION ALL SELECT * FROM discover_german_mariadb.discover.germany UNION ALL select * from discover_swiss_mysql.discover.swiss\n",
    "\n",
    "select CASE when country='Swiss' then 'Switzerland' else country end AS country from (select * FROM discover_czech_mysql.discover.czech UNION ALL SELECT * FROM discover_german_mariadb.discover.germany UNION ALL select * from discover_swiss_mysql.discover.swiss) where country='Switzerland'\n",
    "\n",
    "https://home.hpe-ezaf.com/\n",
    "\n",
    "SELECT * FROM discover_czech_mysql.discover.czech \n",
    "UNION ALL \n",
    "SELECT * FROM discover_german_mariadb.discover.germany \n",
    "UNION ALL \n",
    "(SELECT \n",
    "CASE \n",
    "   WHEN country='Swiss' then 'Switzerland' \n",
    "   ELSE country \n",
    "END\n",
    "AS country, discover_swiss_mysql.discover.swiss.* \n",
    "from discover_swiss_mysql.discover.swiss)\n",
    "\n",
    "\n",
    "    SELECT * FROM discover_czech_mysql.discover.czech\n",
    "    UNION ALL \n",
    "    SELECT * FROM discover_german_mariadb.discover.germany \n",
    "    UNION ALL \n",
    "    (SELECT\n",
    "      PRODUCTID\n",
    "      ,PRODUCT\n",
    "      ,TYPE\n",
    "      ,UNITPRICE\n",
    "      ,UNIT\n",
    "      ,QTY\n",
    "      ,TOTALSALES\n",
    "      ,CURRENCY\n",
    "      ,STORE\n",
    "      ,CASE WHEN country='Swiss' then 'Switzerland' ELSE country END AS COUNTRY\n",
    "      ,YEAR\n",
    "    FROM discover_swiss_mysql.discover.swiss)\n",
    "\n",
    "\n",
    "```\n",
    "\n"
   ]
  }
 ],
 "metadata": {
  "kernelspec": {
   "display_name": "Python 3 (ipykernel)",
   "language": "python",
   "name": "python3"
  },
  "language_info": {
   "codemirror_mode": {
    "name": "ipython",
    "version": 3
   },
   "file_extension": ".py",
   "mimetype": "text/x-python",
   "name": "python",
   "nbconvert_exporter": "python",
   "pygments_lexer": "ipython3",
   "version": "3.8.10"
  }
 },
 "nbformat": 4,
 "nbformat_minor": 4
}
