{
 "cells": [
  {
   "attachments": {},
   "cell_type": "markdown",
   "metadata": {},
   "source": [
    "# Kafka bridge to DFaaS"
   ]
  },
  {
   "cell_type": "markdown",
   "metadata": {},
   "source": [
    "## select the right server and namespace"
   ]
  },
  {
   "cell_type": "code",
   "execution_count": 105,
   "metadata": {
    "vscode": {
     "languageId": "shellscript"
    }
   },
   "outputs": [
    {
     "name": "stdout",
     "output_type": "stream",
     "text": [
      "NAME     STATUS   ROLES                  AGE   VERSION\n",
      "ubuntu   Ready    control-plane,master   38d   v1.25.6+k3s1\n"
     ]
    }
   ],
   "source": [
    "#ls ~/k8sconfig\n",
    "export KUBECONFIG=~/k8sconfig/azure-ubuntu.conf\n",
    "kubectl get nodes "
   ]
  },
  {
   "cell_type": "markdown",
   "metadata": {},
   "source": [
    "# Deployment"
   ]
  },
  {
   "cell_type": "code",
   "execution_count": 127,
   "metadata": {
    "vscode": {
     "languageId": "shellscript"
    }
   },
   "outputs": [
    {
     "name": "stdout",
     "output_type": "stream",
     "text": [
      "deployment.apps/kafka-tunnel-2 created\n",
      "The Service \"kafka-2\" is invalid: spec.ports[0].nodePort: Invalid value: 30754: provided port is already allocated\n"
     ]
    },
    {
     "ename": "",
     "evalue": "1",
     "output_type": "error",
     "traceback": []
    }
   ],
   "source": [
    "cat << EOF | kubectl apply -f -\n",
    "apiVersion: v1\n",
    "kind: Service\n",
    "metadata:\n",
    "  name: kafka\n",
    "  namespace: default\n",
    "spec:\n",
    "  ports:\n",
    "  - name: kafka-9092\n",
    "    nodePort: 30754\n",
    "    port: 9092\n",
    "  selector:\n",
    "    app: kafka\n",
    "  type: NodePort\n",
    "\n",
    "---\n",
    "apiVersion: apps/v1 \n",
    "kind: Deployment\n",
    "metadata:\n",
    "  name: kafka-tunnel\n",
    "spec:\n",
    "  selector:\n",
    "    matchLabels:\n",
    "      app: kafka-tunnel\n",
    "  strategy:\n",
    "    type: Recreate\n",
    "  template:\n",
    "    metadata:\n",
    "      labels:\n",
    "        app: kafka-tunnel\n",
    "    spec:\n",
    "\n",
    "      containers:\n",
    "      - image: registry.mydirk.de/dderichswei/kafkaingress:latest\n",
    "        name: kafka-tunnel\n",
    "        command: [\"/bin/sh\"]\n",
    "        args: [\"-c\", \"ssh -i /root/id_rsa_greenlake.pem dfaasusr@16.103.6.85 -L 9092:localhost:9092 -N -f && sleep infinity\"]\n",
    "        securityContext:\n",
    "          privileged: true    \n",
    "        ports:\n",
    "        - name: kafka-9092\n",
    "          containerPort: 9092\n",
    "          \n",
    "EOF\n"
   ]
  },
  {
   "cell_type": "code",
   "execution_count": 126,
   "metadata": {
    "vscode": {
     "languageId": "shellscript"
    }
   },
   "outputs": [
    {
     "name": "stdout",
     "output_type": "stream",
     "text": [
      "NAME                            READY   STATUS    RESTARTS       AGE   IP            NODE     NOMINATED NODE   READINESS GATES\n",
      "my-release-postgresql-0         1/1     Running   17 (19d ago)   38d   10.42.0.157   ubuntu   <none>           <none>\n",
      "mongodb-5c4769bdb-78qpn         1/1     Running   17 (19d ago)   38d   10.42.0.155   ubuntu   <none>           <none>\n",
      "mariadb-0                       1/1     Running   14 (19d ago)   37d   10.42.0.160   ubuntu   <none>           <none>\n",
      "mysql-1-0                       1/1     Running   10 (19d ago)   33d   10.42.0.161   ubuntu   <none>           <none>\n",
      "kafka-tunnel-6b46dcf8d4-kxl6k   1/1     Running   0              31m   10.42.0.169   ubuntu   <none>           <none>\n",
      "NAME                       TYPE        CLUSTER-IP      EXTERNAL-IP   PORT(S)           AGE   SELECTOR\n",
      "kubernetes                 ClusterIP   10.43.0.1       <none>        443/TCP           38d   <none>\n",
      "my-release-postgresql-hl   ClusterIP   None            <none>        5432/TCP          38d   app.kubernetes.io/component=primary,app.kubernetes.io/instance=my-release,app.kubernetes.io/name=postgresql\n",
      "my-release-postgresql      NodePort    10.43.188.210   <none>        5432:31286/TCP    38d   app.kubernetes.io/component=primary,app.kubernetes.io/instance=my-release,app.kubernetes.io/name=postgresql\n",
      "mongodb                    NodePort    10.43.168.118   <none>        27017:30937/TCP   38d   app.kubernetes.io/component=mongodb,app.kubernetes.io/instance=mongodb,app.kubernetes.io/name=mongodb\n",
      "mariadb                    NodePort    10.43.24.96     <none>        3306:31219/TCP    37d   app.kubernetes.io/component=primary,app.kubernetes.io/instance=mariadb,app.kubernetes.io/name=mariadb\n",
      "mysql-1-headless           ClusterIP   None            <none>        3306/TCP          33d   app.kubernetes.io/component=primary,app.kubernetes.io/instance=mysql-1,app.kubernetes.io/name=mysql\n",
      "mysql-1                    NodePort    10.43.254.151   <none>        3306:31870/TCP    33d   app.kubernetes.io/component=primary,app.kubernetes.io/instance=mysql-1,app.kubernetes.io/name=mysql\n",
      "kafka                      NodePort    10.43.21.145    <none>        9092:30754/TCP    53m   app=kafka\n"
     ]
    }
   ],
   "source": [
    "kubectl get pods -o wide\n",
    "kubectl get services -o wide"
   ]
  }
 ],
 "metadata": {
  "kernelspec": {
   "display_name": "Bash",
   "language": "bash",
   "name": "bash"
  },
  "language_info": {
   "codemirror_mode": "shell",
   "file_extension": ".sh",
   "mimetype": "text/x-sh",
   "name": "bash"
  },
  "toc": {
   "base_numbering": 1,
   "nav_menu": {},
   "number_sections": true,
   "sideBar": true,
   "skip_h1_title": false,
   "title_cell": "Table of Contents",
   "title_sidebar": "Contents",
   "toc_cell": false,
   "toc_position": {},
   "toc_section_display": true,
   "toc_window_display": false
  }
 },
 "nbformat": 4,
 "nbformat_minor": 4
}
