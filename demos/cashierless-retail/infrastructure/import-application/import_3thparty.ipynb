{
 "cells": [
  {
   "cell_type": "markdown",
   "id": "58581ed3-f703-4ddc-bc54-fcd2187ef778",
   "metadata": {},
   "source": [
    "created May 2023, by Dirk Derichsweiler\n",
    "# Import an 3th Party Application"
   ]
  },
  {
   "cell_type": "markdown",
   "id": "60d2ebc8-334e-4610-8413-b5788fa7fd93",
   "metadata": {},
   "source": [
    "this notebook describes how to import an 3th party application into Ezmeral Unfified Application"
   ]
  },
  {
   "cell_type": "markdown",
   "id": "87879f27-9668-46d6-86a7-0e1685d46d51",
   "metadata": {},
   "source": [
    "create blueprint:\n",
    "```bash\n",
    "helm create techhours\n",
    "```"
   ]
  },
  {
   "cell_type": "markdown",
   "id": "33bc78c1-ba14-4dfd-ab29-51a47e1e0f0f",
   "metadata": {},
   "source": [
    "add the following to your Charts.yaml and adapt it to your needs:\n",
    "\n",
    "**required:**\n",
    "- endpoint value"
   ]
  },
  {
   "cell_type": "markdown",
   "id": "52d4f35e-5901-4b97-9938-af6abaa7b447",
   "metadata": {},
   "source": [
    "```bash\n",
    "#Platform related options\n",
    "ezua:\n",
    "  oidc:\n",
    "    client_id: \"${OIDC_CLIENT_ID}\"\n",
    "    client_secret: \"${OIDC_CLIENT_SECRET}\"\n",
    "    domain: \"${OIDC_DOMAIN}\"\n",
    "\n",
    "  domainName: \"${DOMAIN_NAME}\"\n",
    "  #Use next options in order to configure the application endpoint.\n",
    "  #Example of a VirtualService is here:\n",
    "  virtualService:\n",
    "    endpoint: \"techhours.${DOMAIN_NAME}\"\n",
    "    istioGateway: \"istio-system/ezaf-gateway\"\n",
    "\n",
    "  authorizationPolicy:\n",
    "    namespace: \"istio-system\"\n",
    "    providerName: \"oauth2-proxy\"\n",
    "    matchLabels:\n",
    "      istio: \"ingressgateway\"\n",
    "\n",
    "```"
   ]
  },
  {
   "cell_type": "markdown",
   "id": "8698fc79-ee2d-404b-a747-11ba54df4a62",
   "metadata": {},
   "source": [
    "add the following files to your template directory:\n",
    "\n",
    "- authpolicy.yaml\n",
    "- kyverno-cluster-policy.yaml   -> exchange with you helm-chart name  \"  name: add-vendor-app-labels-{{ include \"techhours.fullname\" . }}\"\n",
    "- virtualService.yaml -> exchange with you helm-chart name"
   ]
  },
  {
   "cell_type": "markdown",
   "id": "d405c223-434e-4850-ae75-59e52859722e",
   "metadata": {},
   "source": [
    "```bash\n",
    "❯ cat kyverno-cluster-policy.yaml\n",
    "apiVersion: kyverno.io/v1\n",
    "kind: ClusterPolicy\n",
    "metadata:\n",
    "  name: add-vendor-app-labels-{{ include \"techhours.fullname\" . }}\n",
    "  annotations:\n",
    "    \"helm.sh/hook\": pre-install\n",
    "    \"helm.sh/hook-delete-policy\": before-hook-creation\n",
    "spec:\n",
    "  background: false\n",
    "  rules:\n",
    "  - name: add-vendor-app-labels\n",
    "    match:\n",
    "      any:\n",
    "      - resources:\n",
    "          namespaces:\n",
    "          - {{ .Release.Namespace }}\n",
    "          kinds:\n",
    "          - Pod\n",
    "    mutate:\n",
    "      patchStrategicMerge:\n",
    "        metadata:\n",
    "          labels:\n",
    "            hpe-ezua/type: vendor-service\n",
    "\n",
    "```"
   ]
  },
  {
   "cell_type": "markdown",
   "id": "ef8c07ab-822d-47c5-9ac6-b62138e82cb9",
   "metadata": {},
   "source": [
    "adapt to your needs: ***(required)***\n",
    "\n",
    "```bash\n",
    "❯ cat virtualService.yaml\n",
    "apiVersion: networking.istio.io/v1alpha3\n",
    "kind: VirtualService\n",
    "metadata:\n",
    "  name: {{ include \"techhours.fullname\" . }}\n",
    "  labels:\n",
    "    {{- include \"techhours.labels\" . | nindent 4 }}\n",
    "spec:\n",
    "  gateways:\n",
    "    - {{ .Values.ezua.virtualService.istioGateway }}\n",
    "  hosts:\n",
    "    - {{ .Values.ezua.virtualService.endpoint | required \"\\nValid .Values.ezua.virtualService.endpoint is required !\" }}\n",
    "  http:\n",
    "    - match:\n",
    "        - uri:\n",
    "            prefix: /\n",
    "      rewrite:\n",
    "        uri: /\n",
    "      route:\n",
    "        - destination:\n",
    "            host: {{ include \"techhours.fullname\" . }}.{{ .Release.Namespace }}.svc.cluster.local\n",
    "            port:\n",
    "              number: {{ .Values.service.port }}\n",
    "\n",
    "```"
   ]
  },
  {
   "cell_type": "markdown",
   "id": "534f0299-c8d7-43ea-840e-0cf42241cb30",
   "metadata": {},
   "source": [
    "adapt to your needs: ***(required)***\n",
    "\n",
    "```bash\n",
    "apiVersion: security.istio.io/v1beta1\n",
    "kind: AuthorizationPolicy\n",
    "metadata:\n",
    "  name: {{ .Release.Name }}-auth-policy\n",
    "  namespace: {{ .Values.ezua.authorizationPolicy.namespace }}\n",
    "spec:\n",
    "  action: CUSTOM\n",
    "  provider:\n",
    "    name: {{ .Values.ezua.authorizationPolicy.providerName }}\n",
    "  rules:\n",
    "    - to:\n",
    "        - operation:\n",
    "            hosts:\n",
    "            - {{ .Values.ezua.virtualService.endpoint }}\n",
    "  selector:\n",
    "    {{- with .Values.ezua.authorizationPolicy.matchLabels }}\n",
    "    matchLabels:\n",
    "      {{- toYaml . | nindent 6 }}\n",
    "    {{- end }}\n",
    "\n",
    "```"
   ]
  },
  {
   "cell_type": "markdown",
   "id": "97932a59-73db-4210-a6cc-425b60149d5f",
   "metadata": {},
   "source": [
    "execute:\n",
    "```bash\n",
    "helm package techhours\n",
    "\n",
    "```"
   ]
  },
  {
   "cell_type": "markdown",
   "id": "eda56946-b79a-41af-a09f-47a21ddafca2",
   "metadata": {},
   "source": [
    "# Login to HPE Ezmeral Unified Analytics Software as admin user"
   ]
  },
  {
   "cell_type": "markdown",
   "id": "7a8576f4-470e-406c-949f-45fcf4d1e124",
   "metadata": {},
   "source": [
    "this information is required to import the application:\n",
    "\n",
    "```bash\n",
    "❯ cat Chart.yaml\n",
    "apiVersion: v2\n",
    "name: techhours\n",
    "description: A Helm chart for Kubernetes\n",
    "\n",
    "# A chart can be either an 'application' or a 'library' chart.\n",
    "#\n",
    "# Application charts are a collection of templates that can be packaged into versioned archives\n",
    "# to be deployed.\n",
    "#\n",
    "# Library charts provide useful utilities or functions for the chart developer. They're included as\n",
    "# a dependency of application charts to inject those utilities and functions into the rendering\n",
    "# pipeline. Library charts do not define any templates and therefore cannot be deployed.\n",
    "type: application\n",
    "\n",
    "# This is the chart version. This version number should be incremented each time you make changes\n",
    "# to the chart and its templates, including the app version.\n",
    "# Versions are expected to follow Semantic Versioning (https://semver.org/)\n",
    "version: 0.1.0\n",
    "\n",
    "# This is the version number of the application being deployed. This version number should be\n",
    "# incremented each time you make changes to the application. Versions are not expected to\n",
    "# follow Semantic Versioning. They should reflect the version the application is using.\n",
    "# It is recommended to use it with quotes.\n",
    "appVersion: \"1.16.0\"\n",
    "\n",
    "```"
   ]
  },
  {
   "cell_type": "markdown",
   "id": "75909300-3572-40e5-b0d5-f3b7f29ddfe6",
   "metadata": {},
   "source": [
    "- enter the value \"version\" from you Chart.yaml file into the Helm Chart Version Messagebox.\n",
    "- enter the value \"appVersion\" into the Version Messagebox.\n",
    "- the value name: enter into the Helm Chart Name.\n",
    "\n",
    "<img src=\"./media/import_application.png\" style=\"height:800px\">"
   ]
  }
 ],
 "metadata": {
  "kernelspec": {
   "display_name": "Bash",
   "language": "bash",
   "name": "bash"
  },
  "language_info": {
   "codemirror_mode": "shell",
   "file_extension": ".sh",
   "mimetype": "text/x-sh",
   "name": "bash"
  }
 },
 "nbformat": 4,
 "nbformat_minor": 5
}
