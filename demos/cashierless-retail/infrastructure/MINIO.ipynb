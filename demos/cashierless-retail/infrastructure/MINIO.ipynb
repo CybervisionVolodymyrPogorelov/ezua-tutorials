{
 "cells": [
  {
   "cell_type": "markdown",
   "id": "7bae8842-32f8-44e7-8abe-91917a359dab",
   "metadata": {
    "tags": []
   },
   "source": [
    "created by Dirk Derichsweiler, June 2023\n",
    "# small Minio Test"
   ]
  },
  {
   "cell_type": "code",
   "execution_count": 38,
   "id": "5bd9c113-aa3f-45dc-bfcc-b8c6ad325749",
   "metadata": {},
   "outputs": [
    {
     "name": "stdout",
     "output_type": "stream",
     "text": [
      "ezaf-demo:data/fruit-veg/FruitModel.h5\n"
     ]
    }
   ],
   "source": [
    "## download model from s3 bucket\n",
    "\n",
    "import boto3\n",
    "import urllib3\n",
    "# Set up AWS credentials\n",
    "AWS_ACCESS_KEY = 'minioadmin'\n",
    "AWS_SECRET_KEY = 'minioadmin'\n",
    "BUCKET_NAME = 'ezaf-demo'\n",
    "S3_ENDPOINT_URL = 'https://home.hpe-discover-23-ezaf.com:31900'\n",
    "S3_PATH = 'data/fruit-veg/'\n",
    "S3_FILE = 'FruitModel.h5'\n",
    "LOCAL_FILE_PATH = 'end2end.h5'\n",
    "\n",
    "# turn off InsecureRequestWarning\n",
    "urllib3.disable_warnings()\n",
    "\n",
    "# Set up S3 client with ezua credentials\n",
    "s3 = boto3.client(\n",
    "    's3',\n",
    "    aws_access_key_id=AWS_ACCESS_KEY,\n",
    "    aws_secret_access_key=AWS_SECRET_KEY,\n",
    "    endpoint_url=S3_ENDPOINT_URL,\n",
    "    verify=False\n",
    ")\n",
    "\n",
    "print(BUCKET_NAME+\":\"+S3_PATH+S3_FILE)\n",
    "# Download the file\n",
    "s3.download_file(BUCKET_NAME, S3_PATH+S3_FILE, LOCAL_FILE_PATH)"
   ]
  },
  {
   "cell_type": "code",
   "execution_count": null,
   "id": "6181e7cb-0bed-4f2b-b2cf-60be409e9bf7",
   "metadata": {},
   "outputs": [],
   "source": []
  }
 ],
 "metadata": {
  "kernelspec": {
   "display_name": "Python 3 (ipykernel)",
   "language": "python",
   "name": "python3"
  },
  "language_info": {
   "codemirror_mode": {
    "name": "ipython",
    "version": 3
   },
   "file_extension": ".py",
   "mimetype": "text/x-python",
   "name": "python",
   "nbconvert_exporter": "python",
   "pygments_lexer": "ipython3",
   "version": "3.8.10"
  }
 },
 "nbformat": 4,
 "nbformat_minor": 5
}
