{
 "cells": [
  {
   "cell_type": "code",
   "execution_count": null,
   "metadata": {},
   "outputs": [],
   "source": [
    "import subprocess"
   ]
  },
  {
   "cell_type": "code",
   "execution_count": null,
   "metadata": {},
   "outputs": [],
   "source": [
    "!cp -r vllm_model_repository/ /mnt/shared/"
   ]
  },
  {
   "cell_type": "code",
   "execution_count": null,
   "metadata": {},
   "outputs": [],
   "source": [
    "isvc = \"\"\"\n",
    "apiVersion: \"serving.kserve.io/v1beta1\"\n",
    "kind: \"InferenceService\"\n",
    "metadata:\n",
    "  name: \"vllm-model\"\n",
    "spec:\n",
    "  predictor:\n",
    "    timeout: 600\n",
    "    triton:\n",
    "      env:\n",
    "      - name: http_proxy\n",
    "        value: \"http://hpeproxy.its.hpecorp.net:80\"\n",
    "      - name: https_proxy\n",
    "        value: \"http://hpeproxy.its.hpecorp.net:80\"\n",
    "      - name: no_proxy\n",
    "        value: \".local\"\n",
    "      image: dpoulopoulos/tritonserver:24.03-vllm-python-py3-b7db3aa\n",
    "      securityContext:\n",
    "          runAsUser: 0\n",
    "      resources:\n",
    "        limits: \n",
    "          cpu: \"4\"\n",
    "          memory: 8Gi\n",
    "          nvidia.com/gpu: 1\n",
    "        requests:\n",
    "          cpu: \"4\"\n",
    "          memory: 8Gi\n",
    "      storageUri: \"pvc://kubeflow-shared-pvc/vllm_model_repository\"\n",
    "\"\"\""
   ]
  },
  {
   "cell_type": "code",
   "execution_count": null,
   "metadata": {},
   "outputs": [],
   "source": [
    "with open(\"isvc.yaml\", \"w\") as f:\n",
    "    f.write(isvc)"
   ]
  },
  {
   "cell_type": "code",
   "execution_count": null,
   "metadata": {},
   "outputs": [],
   "source": [
    "subprocess.run([\"kubectl\", \"apply\", \"-f\", \"isvc.yaml\"])"
   ]
  }
 ],
 "metadata": {
  "kernelspec": {
   "display_name": "Python 3 (ipykernel)",
   "language": "python",
   "name": "python3"
  },
  "language_info": {
   "codemirror_mode": {
    "name": "ipython",
    "version": 3
   },
   "file_extension": ".py",
   "mimetype": "text/x-python",
   "name": "python",
   "nbconvert_exporter": "python",
   "pygments_lexer": "ipython3",
   "version": "3.8.10"
  }
 },
 "nbformat": 4,
 "nbformat_minor": 4
}
