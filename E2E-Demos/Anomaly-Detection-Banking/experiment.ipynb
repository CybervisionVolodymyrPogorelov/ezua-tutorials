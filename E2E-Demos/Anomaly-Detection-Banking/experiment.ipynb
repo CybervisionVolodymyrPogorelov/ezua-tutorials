{
 "cells": [
  {
   "cell_type": "markdown",
   "metadata": {
    "tags": []
   },
   "source": [
    "## **Fraud and detecting on banking system::**\n",
    "\n",
    "Some introduction text, formatted in heading 2 style\n",
    "Fraudulent behavior can be seen across many different fields such as e-commerce, healthcare, payment and banking systems. Fraud is a billion-dollar business and it is increasing every year. The PwC global economic crime survey of 2018 found that half (49 percent) of the 7,200 companies they surveyed had experienced fraud of some kind.\n",
    "\n",
    "Even if fraud seems to be scary for businesses it can be detected using intelligent systems such as rules engines or machine learning. Here we are trying to explain and demonstrate A rules engine is a software system that executes one or more business rules in a runtime production environment. These rules are generally written by domain experts for transferring the knowledge of the problem to the rules engine and from there to production. Two rules examples for fraud detection would be limiting the number of transactions in a time period (velocity rules), denying the transactions which come from previously known fraudulent IP's and/or domains.\n",
    "Rules are great for detecting some type of frauds but they can fire a lot of false positives or false negatives in some cases because they have predefined threshold values. For example let's think of a rule for denying a transaction which has an amount that is bigger than 10000 dollars for a specific user. If this user is an experienced fraudster, he/she may be aware of the fact that the system would have a threshold and he/she can just make a transaction just below the threshold value (9999 dollars).\n",
    "\n",
    "For these type of problems ML comes for help and reduce the risk of frauds and the risk of business to lose money. With the combination of rules and machine learning, detection of the fraud would be more precise and confident.\n",
    "\n",
    "\n",
    "We detect the fraudulent transactions from the Banksim dataset. This synthetically generated dataset consists of payments from various customers made in different time periods and with different amounts.\n",
    "\n",
    "Here what we'll do in this kernel:\n",
    "1. [Exploratory Data Analysis](#Explaratory-Data-Analysis)\n",
    "2. [Install Required Prerequisites Packages](#Install-Required-Prerequisites-Packages)\n",
    "3. [Data Preprocessing](#Data-Preprocessing)\n",
    "4. [Oversampling with SMOTE](#Oversampling-with-SMOTE)\n",
    "5. [K-Neighbours Classifier](#K-Neighbours-Classifier)\n",
    "6. [Random Forest Classifier](#Random-Forest-Classifier)\n",
    "7. [XGBoost Classifier](#XGBoost-Classifier)\n",
    "8. [Logistic Regression Classifier](#Logistic-Regression-Classifier)\n",
    "9. [Conclusion](#Conclusion)\n",
    "\n",
    "In this chapter we will perform an EDA on the data and try to gain some insight from it."
   ]
  },
  {
   "cell_type": "markdown",
   "metadata": {
    "tags": []
   },
   "source": [
    "## **Explaratory Data Analysis**\n",
    "\n",
    "Here, we will perform an EDA on the data and try to gain some insight from it.\n",
    "\n",
    "**Data**\n",
    "As we can see in the first rows below the dataset has 9 feature columns and a target column. \n",
    "The feature columms are :\n",
    "* **Step**: This feature represents the day from the start of simulation. It has 180 steps so simulation ran for virtually 6 months.\n",
    "* **Customer**: This feature represents the customer id\n",
    "* **zipCodeOrigin**: The zip code of origin/source.\n",
    "* **Merchant**: The merchant's id\n",
    "* **zipMerchant**: The merchant's zip code\n",
    "* **Age**: Categorized age \n",
    "    * 0: <= 18, \n",
    "    * 1: 19-25, \n",
    "    * 2: 26-35, \n",
    "    * 3: 36-45,\n",
    "    * 4: 46:55,\n",
    "    * 5: 56:65,\n",
    "    * 6: > 65\n",
    "    * U: Unknown\n",
    "* **Gender**: Gender for customer\n",
    "     * E : Enterprise,\n",
    "     * F: Female,\n",
    "     * M: Male,\n",
    "     * U: Unknown\n",
    "* **Category**: Category of the purchase. I won't write all categories here, we'll see them later in the analysis.\n",
    "* **Amount**: Amount of the purchase\n",
    "* **Fraud**: Target variable which shows if the transaction fraudulent(1) or Kind(unfraudulent)(0)"
   ]
  },
  {
   "attachments": {},
   "cell_type": "markdown",
   "metadata": {
    "tags": []
   },
   "source": [
    "## **Experiment UML Sequence diagram:**\n",
    "Here in thie kernel experiment, I have reprasented the end to end A sequence diagram is a type of interaction diagram because it is necessary to describes how and in what order a group underneath servcies and objects works together to bring the best fit robot and realtime fraud detection classification machine learning workflow.\n",
    "\n",
    "## **Steps are following:**\n",
    "1. Initialize Jupiter notebook service.\n",
    "2. Import all required packages, user define functions, initialize global objects\n",
    "3. Procure dataset from object storage, once the dataset loaded successfully\n",
    "4. Data we need to pre-process, validating, once all the above actions are done here, we are defining the required variables.\n",
    "4. Once the global variables we are available, we are initiating the model training, at the and based on the best satisfactory score. \n",
    "5. Based on the satisfactory score we are deploying the model with KServe on top kubernetes cluster.\n",
    "6. post that, we are re-invoking the end to end experiment (karnel) via KALE to run the experiment on top of Kubeflow, here again we are calling the inferenced model via (Kserve)\n",
    "\n",
    "<style>\n",
    ".center {\n",
    "  display: block;\n",
    "  margin-left: auto;\n",
    "  margin-right: auto;\n",
    "  width: 80%;\n",
    "}\n",
    "</style>\n",
    "\n",
    "<p><big><center> End to End Experiment UML Sequence Diagram :: </center><big><img src=\"diagram-alfa-1.png\" alt=\"fraud-detection-on-banking\" class=\"center\"> \n",
    "<p><big><center> End to End Experiment UML Sequence Diagram Kale & Kubeflow Pipeline :: </center><big><img src=\"diagram-alfa-2.png\" alt=\"fraud-detection-on-banking\" class=\"center\"> "
   ]
  },
  {
   "cell_type": "markdown",
   "metadata": {
    "tags": []
   },
   "source": [
    "## Install Required Prerequisites Packages"
   ]
  },
  {
   "cell_type": "code",
   "execution_count": 24,
   "metadata": {
    "tags": [
     "imports"
    ]
   },
   "outputs": [],
   "source": [
    "# Necessary imports\n",
    "## Data loading, processing and for more\n",
    "import pandas as pd\n",
    "import numpy as np\n",
    "from imblearn.over_sampling import SMOTE\n",
    "## Visualization\n",
    "import seaborn as sns\n",
    "import matplotlib.pyplot as plt\n",
    "# set seaborn style because it prettier\n",
    "sns.set()\n",
    "## Metrics\n",
    "from sklearn.model_selection import train_test_split\n",
    "from sklearn.metrics import confusion_matrix, classification_report\n",
    "from sklearn.metrics import roc_curve, auc\n",
    "from sklearn.metrics import accuracy_score\n",
    "## Models\n",
    "import xgboost as xgb\n",
    "from xgboost import XGBClassifier\n",
    "from sklearn.neighbors import KNeighborsClassifier\n",
    "from sklearn.ensemble import RandomForestClassifier\n",
    "from sklearn.linear_model import LogisticRegression\n",
    "import pickle\n",
    "import os\n",
    "import joblib\n",
    "import base64\n",
    "import json\n",
    "import numpy as np\n",
    "from minio import Minio\n",
    "import urllib3\n",
    "import uuid\n",
    "import requests\n",
    "from requests.packages.urllib3.exceptions import InsecureRequestWarning\n",
    "requests.packages.urllib3.disable_warnings(InsecureRequestWarning)\n",
    "import warnings\n",
    "warnings.filterwarnings('ignore')  #this will ignore the warnings.it wont display warnings in notebook\n",
    "\n",
    "#kubernetes\n",
    "from kubernetes import client\n",
    "\n",
    "#kserve\n",
    "from kserve import KServeClient\n",
    "from kserve import constants\n",
    "from kserve import utils\n",
    "from kserve import V1beta1InferenceService\n",
    "from kserve import V1beta1InferenceServiceSpec\n",
    "from kserve import V1beta1PredictorSpec\n",
    "from kserve import V1beta1SKLearnSpec"
   ]
  },
  {
   "cell_type": "code",
   "execution_count": 30,
   "metadata": {
    "tags": [
     "block:initialize"
    ]
   },
   "outputs": [
    {
     "name": "stdout",
     "output_type": "stream",
     "text": [
      "configuration_dtl====== {'MINIO_IP': 'MTYuMTEwLjEzNS41MQ==', 'MINIO_HOST_URL': 'aHR0cHM6Ly9ob21lLmhwZS1zdGFnaW5nLWV6YWYuY29tOjMxOTAw', 'MINIO_ACCESS_KEY': 'bWluaW9hZG1pbg==', 'MINIO_SECRET_KEY': 'bWluaW9hZG1pbg==', 'OUTPUT_BUCKET': 'ZXhwZXJpbWVudHM=', 'INPUT_BUCKET': 'ZXhwZXJpbWVudHM=', 'DATASET': 'ZmVlZC5jc3Y=', 'DATATEST': 'Z2VuZXJhdGVkLWRhdGEuY3N2', 'OUTPUT_DIR_PATH': 'Li9zb3VyY2Uv', 'MODEL_VERSION': 'v.0.0.1', 'XGB_MODEL': 'xgboost_classifier_finalized_model_', 'LRC_MODEL': 'LogisticRegression_classifier_finalized_model_', 'RFC_MODEL': 'RandomForest_classifier_finalized_model_', 'KNC_MODEL': 'K-NearestNeighbours_classifier_finalized_model_', 'WORKFLOW_NAME': 'fraud-detection-on-bank-payments.yaml', 'EXT': '.pkl', 'MINIO_HOST_IP': '192.168.0.1', 'KUBEFLOW_HOSTURL': 'kubeflow.hpe-staging-ezaf.com', 'KSERVE_DNS_MODEL_SERVING_NAME': 'fraud-detection-lr-29032023-predictor-default', 'KSERVE_MODEL_NAME': 'fraud-detection-lr-29032023', 'NAMESPACE': 'hpedemo-user01', 'INFER_URL': 'http://{0}.{1}.svc.cluster.local/v2/models/{2}/infer', 'USERNAME': 'hpedemo.user01@outlook.com', 'PASSWORD': 'Hpepoc@123', 'SOURCE_PATH': '/banking/source/feed.csv', 'GENERATED_PATH': '/banking/source/generated-data.csv', 'service_account_name': 'fraud-detection-kserver-service', 'storage_uri': 's3://experiments/banking/pickels/logisticregression/model', 'protocol_version': 'v2'}\n"
     ]
    }
   ],
   "source": [
    "configuration_dtl = {\n",
    "\"MINIO_IP\":\"MTYuMTEwLjEzNS41MQ==\",\n",
    "\"MINIO_HOST_URL\":\"aHR0cHM6Ly9ob21lLmhwZS1zdGFnaW5nLWV6YWYuY29tOjMxOTAw\",\n",
    "\"MINIO_ACCESS_KEY\":\"bWluaW9hZG1pbg==\",\n",
    "\"MINIO_SECRET_KEY\":\"bWluaW9hZG1pbg==\",\n",
    "\"OUTPUT_BUCKET\":\"ZXhwZXJpbWVudHM=\",\n",
    "\"INPUT_BUCKET\":\"ZXhwZXJpbWVudHM=\",\n",
    "\"DATASET\":\"ZmVlZC5jc3Y=\",\n",
    "\"DATATEST\":\"Z2VuZXJhdGVkLWRhdGEuY3N2\",\n",
    "\"OUTPUT_DIR_PATH\":\"Li9zb3VyY2Uv\",\n",
    "\"MODEL_VERSION\":\"v.0.0.1\",\n",
    "\"XGB_MODEL\":\"xgboost_classifier_finalized_model_\",\n",
    "\"LRC_MODEL\":\"LogisticRegression_classifier_finalized_model_\",\n",
    "\"RFC_MODEL\":\"RandomForest_classifier_finalized_model_\",\n",
    "\"KNC_MODEL\":\"K-NearestNeighbours_classifier_finalized_model_\",\n",
    "\"WORKFLOW_NAME\":\"fraud-detection-on-bank-payments.yaml\",\n",
    "\"EXT\":\".pkl\",\n",
    "\"MINIO_HOST_IP\":\"192.168.0.1\",\n",
    "\"KUBEFLOW_HOSTURL\":\"kubeflow.hpe-staging-ezaf.com\",\n",
    "\"KSERVE_DNS_MODEL_SERVING_NAME\":\"fraud-detection-lr-30032023-predictor-default\",\n",
    "\"KSERVE_MODEL_NAME\":\"fraud-detection-lr-30032023\",\n",
    "\"NAMESPACE\":\"hpedemo-user01\",\n",
    "\"INFER_URL\":\"http://{0}.{1}.svc.cluster.local/v2/models/{2}/infer\",\n",
    "\"SOURCE_PATH\":\"/banking/source/feed.csv\",\n",
    "\"GENERATED_PATH\":\"/banking/source/generated-data.csv\",\n",
    "\"service_account_name\": \"fraud-detection-kserver-service\",  \n",
    "\"storage_uri\": \"s3://experiments/banking/pickels/logisticregression/model\", \n",
    "\"protocol_version\": \"v2\" \n",
    "}\n",
    "\n",
    "print(\"configuration_dtl======\", json.loads(json.dumps(configuration_dtl)))\n"
   ]
  },
  {
   "cell_type": "markdown",
   "metadata": {
    "tags": []
   },
   "source": [
    "## **Defined functions**\n",
    "\n",
    "**This define a function for plotting the ROC_AUC curve. It is a good visual way to see the classification performance.**\n"
   ]
  },
  {
   "cell_type": "code",
   "execution_count": 26,
   "metadata": {
    "tags": [
     "functions"
    ]
   },
   "outputs": [],
   "source": [
    "#encode given string into base64 std\n",
    "def _encode(input:str)->str:\n",
    "    try:\n",
    "        if input!= None:\n",
    "            return base64.b64encode(input.encode(\"ascii\")).decode(\"ascii\")\n",
    "    except Exception as error:\n",
    "        print(\"Exception Decode:\", error)\n",
    "\n",
    "\n",
    "#decode given string into base64 std\n",
    "def _decode(input: str)->str:\n",
    "    try:\n",
    "        if input != None:\n",
    "            return base64.b64decode(input.encode(\"ascii\")).decode(\"ascii\")\n",
    "    except Exception as error:\n",
    "        print(\"Exception Decode:\", error)\n",
    "\n",
    "#upload files to s3\n",
    "def _set_object(filename: str, model_name: str, client: object, output_bucket: str, s3_path: str)->dict:\n",
    "    print(\"MINIO_CLIENT=======>\", client)\n",
    "    print(\"filename===========>\", filename)\n",
    "    print(\"model_name=========>\", model_name)\n",
    "    print(\"output_bucket======>\", output_bucket)\n",
    "    print(\"s3_path============>\",s3_path)\n",
    "\n",
    "    if filename != None:\n",
    "        head, tail = os.path.split(filename)\n",
    "        print(\"head =======>\", head)\n",
    "        print(\"tail =======>\", tail)\n",
    "        file_size = os.stat(filename).st_size\n",
    "        print(\"file_size======>\", file_size)\n",
    "        object = client.fput_object(bucket_name=output_bucket, object_name=f\"{s3_path}\"+tail, file_path=filename)\n",
    "        print(f\"The Fraud indentification modle {model_name} classifier finalized model Upload Completed!\")\n",
    "\n",
    "# %% Function for plotting ROC_AUC curve\n",
    "def plot_roc_auc(y_test, preds):\n",
    "    '''\n",
    "    Takes actual and predicted(probabilities) as input and plots the Receiver\n",
    "    Operating Characteristic (ROC) curve\n",
    "    '''\n",
    "    fpr, tpr, threshold = roc_curve(y_test, preds)\n",
    "    roc_auc = auc(fpr, tpr)\n",
    "    plt.title('Receiver Operating Characteristic')\n",
    "    plt.plot(fpr, tpr, 'b', label = 'AUC = %0.2f' % roc_auc)\n",
    "    plt.legend(loc = 'lower right')\n",
    "    plt.plot([0, 1], [0, 1],'r--')\n",
    "    plt.xlim([0, 1])\n",
    "    plt.ylim([0, 1])\n",
    "    plt.ylabel('True Positive Rate')\n",
    "    plt.xlabel('False Positive Rate')\n",
    "    plt.show()"
   ]
  },
  {
   "cell_type": "code",
   "execution_count": 16,
   "metadata": {
    "tags": [
     "block:fraud_detection_dataset",
     "prev:initialize"
    ]
   },
   "outputs": [
    {
     "name": "stdout",
     "output_type": "stream",
     "text": [
      "Fetching\n",
      "send: b'GET /experiments//banking/source/feed.csv HTTP/1.1\\r\\nAccept-Encoding: identity\\r\\nuser-agent: MinIO (Linux; x86_64) minio-py/6.0.2\\r\\nhost: home.hpe-staging-ezaf.com:31900\\r\\nx-amz-date: 20230324T111740Z\\r\\nx-amz-content-sha256: UNSIGNED-PAYLOAD\\r\\nauthorization: AWS4-HMAC-SHA256 Credential=minioadmin/20230324/us-east-1/s3/aws4_request, SignedHeaders=host;user-agent;x-amz-content-sha256;x-amz-date, Signature=7083e75674bd23d3ee1775e0365934b5715b3acd679736728234a1310d2fbe31\\r\\n\\r\\n'\n",
      "reply: 'HTTP/1.1 200 OK\\r\\n'\n",
      "header: Accept-Ranges: bytes\n",
      "header: Content-Length: 40649115\n",
      "header: Content-Security-Policy: block-all-mixed-content\n",
      "header: Content-Type: application/octet-stream\n",
      "header: ETag: \"30417e75d17dea6fef96573efe2ecf8c-8\"\n",
      "header: Gid: \n",
      "header: Last-Modified: Wed, 15 Mar 2023 19:58:21 GMT\n",
      "header: Server: MinIO\n",
      "header: Uid: \n",
      "header: Vary: Origin\n",
      "header: X-Amz-Request-Id: 174F56D57169C0A6\n",
      "header: X-Xss-Protection: 1; mode=block\n",
      "header: Date: Fri, 24 Mar 2023 11:17:40 GMT\n",
      "Fetched <urllib3.response.HTTPResponse object at 0x7fb33ac406d0>\n"
     ]
    },
    {
     "data": {
      "text/html": [
       "<div>\n",
       "<style scoped>\n",
       "    .dataframe tbody tr th:only-of-type {\n",
       "        vertical-align: middle;\n",
       "    }\n",
       "\n",
       "    .dataframe tbody tr th {\n",
       "        vertical-align: top;\n",
       "    }\n",
       "\n",
       "    .dataframe thead th {\n",
       "        text-align: right;\n",
       "    }\n",
       "</style>\n",
       "<table border=\"1\" class=\"dataframe\">\n",
       "  <thead>\n",
       "    <tr style=\"text-align: right;\">\n",
       "      <th></th>\n",
       "      <th>step</th>\n",
       "      <th>customer</th>\n",
       "      <th>age</th>\n",
       "      <th>gender</th>\n",
       "      <th>zipcodeOri</th>\n",
       "      <th>merchant</th>\n",
       "      <th>zipMerchant</th>\n",
       "      <th>category</th>\n",
       "      <th>amount</th>\n",
       "      <th>fraud</th>\n",
       "    </tr>\n",
       "  </thead>\n",
       "  <tbody>\n",
       "    <tr>\n",
       "      <th>0</th>\n",
       "      <td>0</td>\n",
       "      <td>C1093826151</td>\n",
       "      <td>4</td>\n",
       "      <td>M</td>\n",
       "      <td>28007</td>\n",
       "      <td>M348934600</td>\n",
       "      <td>28007</td>\n",
       "      <td>es_transportation</td>\n",
       "      <td>4.55</td>\n",
       "      <td>0</td>\n",
       "    </tr>\n",
       "    <tr>\n",
       "      <th>1</th>\n",
       "      <td>0</td>\n",
       "      <td>C352968107</td>\n",
       "      <td>2</td>\n",
       "      <td>M</td>\n",
       "      <td>28007</td>\n",
       "      <td>M348934600</td>\n",
       "      <td>28007</td>\n",
       "      <td>es_transportation</td>\n",
       "      <td>39.68</td>\n",
       "      <td>0</td>\n",
       "    </tr>\n",
       "    <tr>\n",
       "      <th>2</th>\n",
       "      <td>0</td>\n",
       "      <td>C2054744914</td>\n",
       "      <td>4</td>\n",
       "      <td>F</td>\n",
       "      <td>28007</td>\n",
       "      <td>M1823072687</td>\n",
       "      <td>28007</td>\n",
       "      <td>es_transportation</td>\n",
       "      <td>26.89</td>\n",
       "      <td>0</td>\n",
       "    </tr>\n",
       "    <tr>\n",
       "      <th>3</th>\n",
       "      <td>0</td>\n",
       "      <td>C1760612790</td>\n",
       "      <td>3</td>\n",
       "      <td>M</td>\n",
       "      <td>28007</td>\n",
       "      <td>M348934600</td>\n",
       "      <td>28007</td>\n",
       "      <td>es_transportation</td>\n",
       "      <td>17.25</td>\n",
       "      <td>0</td>\n",
       "    </tr>\n",
       "    <tr>\n",
       "      <th>4</th>\n",
       "      <td>0</td>\n",
       "      <td>C757503768</td>\n",
       "      <td>5</td>\n",
       "      <td>M</td>\n",
       "      <td>28007</td>\n",
       "      <td>M348934600</td>\n",
       "      <td>28007</td>\n",
       "      <td>es_transportation</td>\n",
       "      <td>35.72</td>\n",
       "      <td>0</td>\n",
       "    </tr>\n",
       "  </tbody>\n",
       "</table>\n",
       "</div>"
      ],
      "text/plain": [
       "   step     customer age gender  zipcodeOri     merchant  zipMerchant  \\\n",
       "0     0  C1093826151   4      M       28007   M348934600        28007   \n",
       "1     0   C352968107   2      M       28007   M348934600        28007   \n",
       "2     0  C2054744914   4      F       28007  M1823072687        28007   \n",
       "3     0  C1760612790   3      M       28007   M348934600        28007   \n",
       "4     0   C757503768   5      M       28007   M348934600        28007   \n",
       "\n",
       "            category  amount  fraud  \n",
       "0  es_transportation    4.55      0  \n",
       "1  es_transportation   39.68      0  \n",
       "2  es_transportation   26.89      0  \n",
       "3  es_transportation   17.25      0  \n",
       "4  es_transportation   35.72      0  "
      ]
     },
     "execution_count": 16,
     "metadata": {},
     "output_type": "execute_result"
    }
   ],
   "source": [
    "MINIO_CLIENT_DATASET = Minio(\n",
    "    endpoint= _decode(configuration_dtl.get('MINIO_HOST_URL')).replace(\"https://\",\"\"), \n",
    "    access_key=_decode(configuration_dtl.get('MINIO_ACCESS_KEY')), \n",
    "    secret_key=_decode(configuration_dtl.get('MINIO_SECRET_KEY')),\n",
    "    secure=True,\n",
    "    http_client = urllib3.PoolManager(cert_reqs='CERT_NONE'))\n",
    "\n",
    "print(\"MINIO_CLIENT\", MINIO_CLIENT_DATASET)\n",
    "\n",
    "print(\"Fetching\")\n",
    "csv_file = MINIO_CLIENT_DATASET.get_object(\"experiments\", configuration_dtl.get('SOURCE_PATH'))\n",
    "print(\"Fetched\", csv_file)\n",
    "data = pd.read_csv(csv_file)\n",
    "data.head(5)"
   ]
  },
  {
   "cell_type": "markdown",
   "metadata": {
    "tags": []
   },
   "source": [
    "Let's look at column types and missing values in data.\n",
    "There is no missing values which means we don't have to perform an imputation."
   ]
  },
  {
   "cell_type": "code",
   "execution_count": 6,
   "metadata": {
    "tags": [
     "skip"
    ]
   },
   "outputs": [
    {
     "name": "stdout",
     "output_type": "stream",
     "text": [
      "<class 'pandas.core.frame.DataFrame'>\n",
      "RangeIndex: 594643 entries, 0 to 594642\n",
      "Data columns (total 10 columns):\n",
      " #   Column       Non-Null Count   Dtype  \n",
      "---  ------       --------------   -----  \n",
      " 0   step         594643 non-null  int64  \n",
      " 1   customer     594643 non-null  object \n",
      " 2   age          594643 non-null  object \n",
      " 3   gender       594643 non-null  object \n",
      " 4   zipcodeOri   594643 non-null  int64  \n",
      " 5   merchant     594643 non-null  object \n",
      " 6   zipMerchant  594643 non-null  int64  \n",
      " 7   category     594643 non-null  object \n",
      " 8   amount       594643 non-null  float64\n",
      " 9   fraud        594643 non-null  int64  \n",
      "dtypes: float64(1), int64(4), object(5)\n",
      "memory usage: 45.4+ MB\n"
     ]
    }
   ],
   "source": [
    "data.info()"
   ]
  },
  {
   "cell_type": "markdown",
   "metadata": {
    "tags": []
   },
   "source": [
    "## **Data :: Synthetic Minority Oversampling Technique**"
   ]
  },
  {
   "cell_type": "markdown",
   "metadata": {
    "tags": []
   },
   "source": [
    "1. Fraud data will be imbalanced like you see in the plot below and from the count of instances. To balance the dataset one can perform oversample or undersample techniques. \n",
    "2. Oversampling is increasing the number of the minority class by generating instances from the minority class . \n",
    "3. Undersampling is reducing the number of instances in the majority class by selecting random points from it to where it is equal with the minority class. \n",
    "4. Both operations have some risks: Oversample will create copies or similar data points which sometimes would not be helpful for the case of fraud detection because fraudulent transactions may vary. \n",
    "5. Undersampling means that we lost data points thus information. We will perform an oversampled technique called **SMOTE (Synthetic Minority Over-sampling Technique)**. \n",
    "6. SMOTE will create new data points from minority class using the neighbour instances so generated samples are not exact copies but they are similar to instances we have."
   ]
  },
  {
   "cell_type": "code",
   "execution_count": 7,
   "metadata": {
    "tags": [
     "block:data_preprocessing",
     "prev:fraud_detection_dataset"
    ]
   },
   "outputs": [
    {
     "name": "stderr",
     "output_type": "stream",
     "text": [
      "2023-03-23 16:24:05.507 650 numexpr.utils INFO [_init_num_threads():145] Note: NumExpr detected 32 cores but \"NUMEXPR_MAX_THREADS\" not set, so enforcing safe limit of 8.\n"
     ]
    },
    {
     "data": {
      "image/png": "[encoded data removed]",
      "text/plain": [
       "<Figure size 640x480 with 1 Axes>"
      ]
     },
     "metadata": {},
     "output_type": "display_data"
    },
    {
     "name": "stdout",
     "output_type": "stream",
     "text": [
      "Number of normal examples:  587443\n",
      "Number of fradulent examples:  7200\n"
     ]
    }
   ],
   "source": [
    "# Create two dataframes with fraud and non-fraud data \n",
    "df_fraud = data.loc[data.fraud == 1] \n",
    "df_non_fraud = data.loc[data.fraud == 0]\n",
    "\n",
    "sns.countplot(x=\"fraud\",data=data)\n",
    "plt.title(\"Count of Fraudulent Payments\")\n",
    "plt.show()\n",
    "print(\"Number of normal examples: \",df_non_fraud.fraud.count())\n",
    "print(\"Number of fradulent examples: \",df_fraud.fraud.count())"
   ]
  },
  {
   "cell_type": "markdown",
   "metadata": {
    "tags": []
   },
   "source": [
    "We can see the mean amount and fraud percent by category below. Looks like leisure and the travel is the most selected categories for fraudsters. Fraudsters chose the categories which people spend more on average. Let's confirm this hypothesis by checking the fraud and non-fraud amount transacted.\n",
    "\n"
   ]
  },
  {
   "cell_type": "code",
   "execution_count": 8,
   "metadata": {
    "tags": [
     "skip"
    ]
   },
   "outputs": [
    {
     "name": "stdout",
     "output_type": "stream",
     "text": [
      "Mean feature values per category                             amount     fraud\n",
      "category                                    \n",
      "es_barsandrestaurants    43.461014  0.018829\n",
      "es_contents              44.547571  0.000000\n",
      "es_fashion               65.666642  0.017973\n",
      "es_food                  37.070405  0.000000\n",
      "es_health               135.621367  0.105126\n",
      "es_home                 165.670846  0.152064\n",
      "es_hotelservices        205.614249  0.314220\n",
      "es_hyper                 45.970421  0.045917\n",
      "es_leisure              288.911303  0.949900\n",
      "es_otherservices        135.881524  0.250000\n",
      "es_sportsandtoys        215.715280  0.495252\n",
      "es_tech                 120.947937  0.066667\n",
      "es_transportation        26.958187  0.000000\n",
      "es_travel              2250.409190  0.793956\n",
      "es_wellnessandbeauty     65.511221  0.047594\n"
     ]
    }
   ],
   "source": [
    "print(\"Mean feature values per category\",data.groupby('category')['amount','fraud'].mean())"
   ]
  },
  {
   "cell_type": "markdown",
   "metadata": {
    "tags": []
   },
   "source": [
    "Our hypothesis for fraudsters choosing the categories which people spend more is only partly correct, but as we can see in the table below we can say confidently say that a fraudulent transaction will be much more (about four times or more) than average for that category.\n",
    "\n"
   ]
  },
  {
   "cell_type": "code",
   "execution_count": 9,
   "metadata": {
    "tags": [
     "block:"
    ]
   },
   "outputs": [
    {
     "data": {
      "text/html": [
       "<div>\n",
       "<style scoped>\n",
       "    .dataframe tbody tr th:only-of-type {\n",
       "        vertical-align: middle;\n",
       "    }\n",
       "\n",
       "    .dataframe tbody tr th {\n",
       "        vertical-align: top;\n",
       "    }\n",
       "\n",
       "    .dataframe thead th {\n",
       "        text-align: right;\n",
       "    }\n",
       "</style>\n",
       "<table border=\"1\" class=\"dataframe\">\n",
       "  <thead>\n",
       "    <tr style=\"text-align: right;\">\n",
       "      <th></th>\n",
       "      <th>Fraudulent</th>\n",
       "      <th>Non-Fraudulent</th>\n",
       "      <th>Percent(%)</th>\n",
       "    </tr>\n",
       "    <tr>\n",
       "      <th>category</th>\n",
       "      <th></th>\n",
       "      <th></th>\n",
       "      <th></th>\n",
       "    </tr>\n",
       "  </thead>\n",
       "  <tbody>\n",
       "    <tr>\n",
       "      <th>es_transportation</th>\n",
       "      <td>NaN</td>\n",
       "      <td>26.958187</td>\n",
       "      <td>0.000000</td>\n",
       "    </tr>\n",
       "    <tr>\n",
       "      <th>es_food</th>\n",
       "      <td>NaN</td>\n",
       "      <td>37.070405</td>\n",
       "      <td>0.000000</td>\n",
       "    </tr>\n",
       "    <tr>\n",
       "      <th>es_hyper</th>\n",
       "      <td>169.255429</td>\n",
       "      <td>40.037145</td>\n",
       "      <td>4.591669</td>\n",
       "    </tr>\n",
       "    <tr>\n",
       "      <th>es_barsandrestaurants</th>\n",
       "      <td>164.092667</td>\n",
       "      <td>41.145997</td>\n",
       "      <td>1.882944</td>\n",
       "    </tr>\n",
       "    <tr>\n",
       "      <th>es_contents</th>\n",
       "      <td>NaN</td>\n",
       "      <td>44.547571</td>\n",
       "      <td>0.000000</td>\n",
       "    </tr>\n",
       "    <tr>\n",
       "      <th>es_wellnessandbeauty</th>\n",
       "      <td>229.422535</td>\n",
       "      <td>57.320219</td>\n",
       "      <td>4.759380</td>\n",
       "    </tr>\n",
       "    <tr>\n",
       "      <th>es_fashion</th>\n",
       "      <td>247.008190</td>\n",
       "      <td>62.347674</td>\n",
       "      <td>1.797335</td>\n",
       "    </tr>\n",
       "    <tr>\n",
       "      <th>es_leisure</th>\n",
       "      <td>300.286878</td>\n",
       "      <td>73.230400</td>\n",
       "      <td>94.989980</td>\n",
       "    </tr>\n",
       "    <tr>\n",
       "      <th>es_otherservices</th>\n",
       "      <td>316.469605</td>\n",
       "      <td>75.685497</td>\n",
       "      <td>25.000000</td>\n",
       "    </tr>\n",
       "    <tr>\n",
       "      <th>es_sportsandtoys</th>\n",
       "      <td>345.366811</td>\n",
       "      <td>88.502738</td>\n",
       "      <td>49.525237</td>\n",
       "    </tr>\n",
       "    <tr>\n",
       "      <th>es_tech</th>\n",
       "      <td>415.274114</td>\n",
       "      <td>99.924638</td>\n",
       "      <td>6.666667</td>\n",
       "    </tr>\n",
       "    <tr>\n",
       "      <th>es_health</th>\n",
       "      <td>407.031338</td>\n",
       "      <td>103.737228</td>\n",
       "      <td>10.512614</td>\n",
       "    </tr>\n",
       "    <tr>\n",
       "      <th>es_hotelservices</th>\n",
       "      <td>421.823339</td>\n",
       "      <td>106.548545</td>\n",
       "      <td>31.422018</td>\n",
       "    </tr>\n",
       "    <tr>\n",
       "      <th>es_home</th>\n",
       "      <td>457.484834</td>\n",
       "      <td>113.338409</td>\n",
       "      <td>15.206445</td>\n",
       "    </tr>\n",
       "    <tr>\n",
       "      <th>es_travel</th>\n",
       "      <td>2660.802872</td>\n",
       "      <td>669.025533</td>\n",
       "      <td>79.395604</td>\n",
       "    </tr>\n",
       "  </tbody>\n",
       "</table>\n",
       "</div>"
      ],
      "text/plain": [
       "                        Fraudulent  Non-Fraudulent  Percent(%)\n",
       "category                                                      \n",
       "es_transportation              NaN       26.958187    0.000000\n",
       "es_food                        NaN       37.070405    0.000000\n",
       "es_hyper                169.255429       40.037145    4.591669\n",
       "es_barsandrestaurants   164.092667       41.145997    1.882944\n",
       "es_contents                    NaN       44.547571    0.000000\n",
       "es_wellnessandbeauty    229.422535       57.320219    4.759380\n",
       "es_fashion              247.008190       62.347674    1.797335\n",
       "es_leisure              300.286878       73.230400   94.989980\n",
       "es_otherservices        316.469605       75.685497   25.000000\n",
       "es_sportsandtoys        345.366811       88.502738   49.525237\n",
       "es_tech                 415.274114       99.924638    6.666667\n",
       "es_health               407.031338      103.737228   10.512614\n",
       "es_hotelservices        421.823339      106.548545   31.422018\n",
       "es_home                 457.484834      113.338409   15.206445\n",
       "es_travel              2660.802872      669.025533   79.395604"
      ]
     },
     "execution_count": 9,
     "metadata": {},
     "output_type": "execute_result"
    }
   ],
   "source": [
    "# Create two dataframes with fraud and non-fraud data \n",
    "pd.concat([df_fraud.groupby('category')['amount'].mean(),df_non_fraud.groupby('category')['amount'].mean(),\\\n",
    "           data.groupby('category')['fraud'].mean()*100],keys=[\"Fraudulent\",\"Non-Fraudulent\",\"Percent(%)\"],axis=1,\\\n",
    "          sort=False).sort_values(by=['Non-Fraudulent'])"
   ]
  },
  {
   "cell_type": "markdown",
   "metadata": {
    "tags": []
   },
   "source": [
    "Average amount spend it categories are similar; between 0-500 discarding the outliers, except for the travel category which goes very high."
   ]
  },
  {
   "cell_type": "code",
   "execution_count": 10,
   "metadata": {
    "tags": [
     "skip"
    ]
   },
   "outputs": [
    {
     "data": {
      "image/png": "[encoded data removed]",
      "text/plain": [
       "<Figure size 3000x1000 with 1 Axes>"
      ]
     },
     "metadata": {},
     "output_type": "display_data"
    }
   ],
   "source": [
    "# Plot histograms of the amounts in fraud and non-fraud data \n",
    "plt.figure(figsize=(30,10))\n",
    "sns.boxplot(x=data.category,y=data.amount)\n",
    "plt.title(\"Boxplot for the Amount spend in category\")\n",
    "plt.ylim(0,4000)\n",
    "plt.show()"
   ]
  },
  {
   "cell_type": "markdown",
   "metadata": {
    "tags": []
   },
   "source": [
    "Again we can see in the histogram below the fradulent transactions are less in count but more in amount.\n",
    "\n"
   ]
  },
  {
   "cell_type": "code",
   "execution_count": 11,
   "metadata": {
    "tags": [
     "skip"
    ]
   },
   "outputs": [
    {
     "data": {
      "image/png": "[encoded data removed]",
      "text/plain": [
       "<Figure size 640x480 with 1 Axes>"
      ]
     },
     "metadata": {},
     "output_type": "display_data"
    }
   ],
   "source": [
    "# Plot histograms of the amounts in fraud and non-fraud data \n",
    "plt.hist(df_fraud.amount, alpha=0.5, label='fraud',bins=100)\n",
    "plt.hist(df_non_fraud.amount, alpha=0.5, label='nonfraud',bins=100)\n",
    "plt.title(\"Histogram for fraudulent and nonfraudulent payments\")\n",
    "plt.ylim(0,10000)\n",
    "plt.xlim(0,1000)\n",
    "plt.legend()\n",
    "plt.show()"
   ]
  },
  {
   "cell_type": "code",
   "execution_count": 12,
   "metadata": {
    "tags": [
     "skip"
    ]
   },
   "outputs": [
    {
     "name": "stdout",
     "output_type": "stream",
     "text": [
      "  Age  Fraud Percent\n",
      "7   U       0.594228\n",
      "6   6       0.974826\n",
      "5   5       1.095112\n",
      "1   1       1.185254\n",
      "3   3       1.192815\n",
      "2   2       1.251401\n",
      "4   4       1.293281\n",
      "0   0       1.957586\n"
     ]
    }
   ],
   "source": [
    "print((data.groupby('age')['fraud'].mean()*100).reset_index().rename(columns={'age':'Age','fraud' : 'Fraud Percent'}).sort_values(by='Fraud Percent'))"
   ]
  },
  {
   "cell_type": "markdown",
   "metadata": {
    "tags": []
   },
   "source": [
    "## **Data Preprocessing**\n",
    "\n",
    "In this part we will preprocess the data and prepare for the training.\n",
    "\n",
    "There are only one unique zipCode values so we will drop them.\n"
   ]
  },
  {
   "cell_type": "code",
   "execution_count": 13,
   "metadata": {
    "tags": []
   },
   "outputs": [
    {
     "name": "stdout",
     "output_type": "stream",
     "text": [
      "Unique zipCodeOri values:  1\n",
      "Unique zipMerchant values:  1\n"
     ]
    }
   ],
   "source": [
    "print(\"Unique zipCodeOri values: \",data.zipcodeOri.nunique())\n",
    "print(\"Unique zipMerchant values: \",data.zipMerchant.nunique())\n",
    "# dropping zipcodeori and zipMerchant since they have only one unique value\n",
    "data_reduced = data.drop(['zipcodeOri','zipMerchant'],axis=1)"
   ]
  },
  {
   "cell_type": "markdown",
   "metadata": {
    "tags": []
   },
   "source": [
    "## **Checking the data after dropping.**\n",
    "\n"
   ]
  },
  {
   "cell_type": "code",
   "execution_count": 14,
   "metadata": {
    "tags": [
     "skip"
    ]
   },
   "outputs": [
    {
     "data": {
      "text/plain": [
       "Index(['step', 'customer', 'age', 'gender', 'merchant', 'category', 'amount',\n",
       "       'fraud'],\n",
       "      dtype='object')"
      ]
     },
     "execution_count": 14,
     "metadata": {},
     "output_type": "execute_result"
    }
   ],
   "source": [
    "data_reduced.columns"
   ]
  },
  {
   "cell_type": "markdown",
   "metadata": {
    "tags": []
   },
   "source": [
    "Here we will transform categorical features into numerical values. It is usually better to turn these type of categorical values into dummies because they have no relation in size(i.e. customer1 is not greater than customer2) but since they are too many (over 500k customers and merchants) the features will grow 10^5 in size and it will take forever to train. I've put the code below for turning categorical features into dummies if you want to give it a try.\n",
    "\n"
   ]
  },
  {
   "cell_type": "code",
   "execution_count": 15,
   "metadata": {
    "tags": [
     "block:"
    ]
   },
   "outputs": [
    {
     "data": {
      "text/html": [
       "<div>\n",
       "<style scoped>\n",
       "    .dataframe tbody tr th:only-of-type {\n",
       "        vertical-align: middle;\n",
       "    }\n",
       "\n",
       "    .dataframe tbody tr th {\n",
       "        vertical-align: top;\n",
       "    }\n",
       "\n",
       "    .dataframe thead th {\n",
       "        text-align: right;\n",
       "    }\n",
       "</style>\n",
       "<table border=\"1\" class=\"dataframe\">\n",
       "  <thead>\n",
       "    <tr style=\"text-align: right;\">\n",
       "      <th></th>\n",
       "      <th>customer</th>\n",
       "      <th>merchant</th>\n",
       "      <th>category</th>\n",
       "    </tr>\n",
       "  </thead>\n",
       "  <tbody>\n",
       "    <tr>\n",
       "      <th>0</th>\n",
       "      <td>C1093826151</td>\n",
       "      <td>M348934600</td>\n",
       "      <td>es_transportation</td>\n",
       "    </tr>\n",
       "    <tr>\n",
       "      <th>1</th>\n",
       "      <td>C352968107</td>\n",
       "      <td>M348934600</td>\n",
       "      <td>es_transportation</td>\n",
       "    </tr>\n",
       "    <tr>\n",
       "      <th>2</th>\n",
       "      <td>C2054744914</td>\n",
       "      <td>M1823072687</td>\n",
       "      <td>es_transportation</td>\n",
       "    </tr>\n",
       "    <tr>\n",
       "      <th>3</th>\n",
       "      <td>C1760612790</td>\n",
       "      <td>M348934600</td>\n",
       "      <td>es_transportation</td>\n",
       "    </tr>\n",
       "    <tr>\n",
       "      <th>4</th>\n",
       "      <td>C757503768</td>\n",
       "      <td>M348934600</td>\n",
       "      <td>es_transportation</td>\n",
       "    </tr>\n",
       "    <tr>\n",
       "      <th>...</th>\n",
       "      <td>...</td>\n",
       "      <td>...</td>\n",
       "      <td>...</td>\n",
       "    </tr>\n",
       "    <tr>\n",
       "      <th>594638</th>\n",
       "      <td>C1753498738</td>\n",
       "      <td>M1823072687</td>\n",
       "      <td>es_transportation</td>\n",
       "    </tr>\n",
       "    <tr>\n",
       "      <th>594639</th>\n",
       "      <td>C650108285</td>\n",
       "      <td>M1823072687</td>\n",
       "      <td>es_transportation</td>\n",
       "    </tr>\n",
       "    <tr>\n",
       "      <th>594640</th>\n",
       "      <td>C123623130</td>\n",
       "      <td>M349281107</td>\n",
       "      <td>es_fashion</td>\n",
       "    </tr>\n",
       "    <tr>\n",
       "      <th>594641</th>\n",
       "      <td>C1499363341</td>\n",
       "      <td>M1823072687</td>\n",
       "      <td>es_transportation</td>\n",
       "    </tr>\n",
       "    <tr>\n",
       "      <th>594642</th>\n",
       "      <td>C616528518</td>\n",
       "      <td>M1823072687</td>\n",
       "      <td>es_transportation</td>\n",
       "    </tr>\n",
       "  </tbody>\n",
       "</table>\n",
       "<p>594643 rows × 3 columns</p>\n",
       "</div>"
      ],
      "text/plain": [
       "           customer     merchant           category\n",
       "0       C1093826151   M348934600  es_transportation\n",
       "1        C352968107   M348934600  es_transportation\n",
       "2       C2054744914  M1823072687  es_transportation\n",
       "3       C1760612790   M348934600  es_transportation\n",
       "4        C757503768   M348934600  es_transportation\n",
       "...             ...          ...                ...\n",
       "594638  C1753498738  M1823072687  es_transportation\n",
       "594639   C650108285  M1823072687  es_transportation\n",
       "594640   C123623130   M349281107         es_fashion\n",
       "594641  C1499363341  M1823072687  es_transportation\n",
       "594642   C616528518  M1823072687  es_transportation\n",
       "\n",
       "[594643 rows x 3 columns]"
      ]
     },
     "execution_count": 15,
     "metadata": {},
     "output_type": "execute_result"
    }
   ],
   "source": [
    "data_reduced.loc[:,['customer','merchant','category']].astype('category')\n",
    "# data_dum = pd.get_dummies(data_reduced.loc[:,['customer','merchant','category','gender']],drop_first=True) \n",
    "# print(data_dum.info())"
   ]
  },
  {
   "cell_type": "code",
   "execution_count": 16,
   "metadata": {
    "tags": [
     "skip"
    ]
   },
   "outputs": [
    {
     "name": "stdout",
     "output_type": "stream",
     "text": [
      "step           0\n",
      "customer       0\n",
      "age            0\n",
      "gender         0\n",
      "zipcodeOri     0\n",
      "merchant       0\n",
      "zipMerchant    0\n",
      "category       0\n",
      "amount         0\n",
      "fraud          0\n",
      "dtype: int64\n"
     ]
    }
   ],
   "source": [
    "print(data.isnull().sum())"
   ]
  },
  {
   "cell_type": "code",
   "execution_count": 17,
   "metadata": {
    "tags": []
   },
   "outputs": [
    {
     "data": {
      "text/html": [
       "<div>\n",
       "<style scoped>\n",
       "    .dataframe tbody tr th:only-of-type {\n",
       "        vertical-align: middle;\n",
       "    }\n",
       "\n",
       "    .dataframe tbody tr th {\n",
       "        vertical-align: top;\n",
       "    }\n",
       "\n",
       "    .dataframe thead th {\n",
       "        text-align: right;\n",
       "    }\n",
       "</style>\n",
       "<table border=\"1\" class=\"dataframe\">\n",
       "  <thead>\n",
       "    <tr style=\"text-align: right;\">\n",
       "      <th></th>\n",
       "      <th>step</th>\n",
       "      <th>customer</th>\n",
       "      <th>age</th>\n",
       "      <th>gender</th>\n",
       "      <th>merchant</th>\n",
       "      <th>category</th>\n",
       "      <th>amount</th>\n",
       "      <th>fraud</th>\n",
       "    </tr>\n",
       "  </thead>\n",
       "  <tbody>\n",
       "    <tr>\n",
       "      <th>0</th>\n",
       "      <td>0</td>\n",
       "      <td>210</td>\n",
       "      <td>4</td>\n",
       "      <td>2</td>\n",
       "      <td>30</td>\n",
       "      <td>12</td>\n",
       "      <td>4.55</td>\n",
       "      <td>0</td>\n",
       "    </tr>\n",
       "    <tr>\n",
       "      <th>1</th>\n",
       "      <td>0</td>\n",
       "      <td>2753</td>\n",
       "      <td>2</td>\n",
       "      <td>2</td>\n",
       "      <td>30</td>\n",
       "      <td>12</td>\n",
       "      <td>39.68</td>\n",
       "      <td>0</td>\n",
       "    </tr>\n",
       "    <tr>\n",
       "      <th>2</th>\n",
       "      <td>0</td>\n",
       "      <td>2285</td>\n",
       "      <td>4</td>\n",
       "      <td>1</td>\n",
       "      <td>18</td>\n",
       "      <td>12</td>\n",
       "      <td>26.89</td>\n",
       "      <td>0</td>\n",
       "    </tr>\n",
       "    <tr>\n",
       "      <th>3</th>\n",
       "      <td>0</td>\n",
       "      <td>1650</td>\n",
       "      <td>3</td>\n",
       "      <td>2</td>\n",
       "      <td>30</td>\n",
       "      <td>12</td>\n",
       "      <td>17.25</td>\n",
       "      <td>0</td>\n",
       "    </tr>\n",
       "    <tr>\n",
       "      <th>4</th>\n",
       "      <td>0</td>\n",
       "      <td>3585</td>\n",
       "      <td>5</td>\n",
       "      <td>2</td>\n",
       "      <td>30</td>\n",
       "      <td>12</td>\n",
       "      <td>35.72</td>\n",
       "      <td>0</td>\n",
       "    </tr>\n",
       "  </tbody>\n",
       "</table>\n",
       "</div>"
      ],
      "text/plain": [
       "   step  customer  age  gender  merchant  category  amount  fraud\n",
       "0     0       210    4       2        30        12    4.55      0\n",
       "1     0      2753    2       2        30        12   39.68      0\n",
       "2     0      2285    4       1        18        12   26.89      0\n",
       "3     0      1650    3       2        30        12   17.25      0\n",
       "4     0      3585    5       2        30        12   35.72      0"
      ]
     },
     "execution_count": 17,
     "metadata": {},
     "output_type": "execute_result"
    }
   ],
   "source": [
    "# turning object columns type to categorical for easing the transformation process\n",
    "col_categorical = data_reduced.select_dtypes(include= ['object']).columns\n",
    "for col in col_categorical:\n",
    "    data_reduced[col] = data_reduced[col].astype('category')\n",
    "# categorical values ==> numeric values\n",
    "data_reduced[col_categorical] = data_reduced[col_categorical].apply(lambda x: x.cat.codes)\n",
    "data_reduced.head(5)"
   ]
  },
  {
   "cell_type": "markdown",
   "metadata": {
    "tags": []
   },
   "source": [
    "## **Let's define our independent variable : X and dependant/target variable y**\n",
    "\n"
   ]
  },
  {
   "cell_type": "code",
   "execution_count": 18,
   "metadata": {
    "tags": [
     "block:"
    ]
   },
   "outputs": [
    {
     "name": "stdout",
     "output_type": "stream",
     "text": [
      "   step  customer  age  gender  merchant  category  amount\n",
      "0     0       210    4       2        30        12    4.55\n",
      "1     0      2753    2       2        30        12   39.68\n",
      "2     0      2285    4       1        18        12   26.89\n",
      "3     0      1650    3       2        30        12   17.25\n",
      "4     0      3585    5       2        30        12   35.72 \n",
      "\n",
      "0    0\n",
      "1    0\n",
      "2    0\n",
      "3    0\n",
      "4    0\n",
      "Name: fraud, dtype: int64\n"
     ]
    }
   ],
   "source": [
    "X = data_reduced.drop(['fraud'],axis=1)\n",
    "y = data['fraud']\n",
    "print(X.head(),\"\\n\")\n",
    "print(y.head())"
   ]
  },
  {
   "cell_type": "code",
   "execution_count": 19,
   "metadata": {
    "tags": [
     "skip"
    ]
   },
   "outputs": [
    {
     "data": {
      "text/plain": [
       "7200"
      ]
     },
     "execution_count": 19,
     "metadata": {},
     "output_type": "execute_result"
    }
   ],
   "source": [
    "y[y==1].count()"
   ]
  },
  {
   "cell_type": "markdown",
   "metadata": {
    "tags": []
   },
   "source": [
    "##  **Oversampling with SMOTE**\n",
    "1. Using SMOTE (Synthetic Minority Oversampling Technique) for balancing the dataset. \n",
    "2. Resulted counts show that now we have exact number of class instances (1 and 0)."
   ]
  },
  {
   "cell_type": "code",
   "execution_count": 20,
   "metadata": {
    "tags": [
     "block:oversampling_with_smote",
     "prev:data_preprocessing"
    ]
   },
   "outputs": [
    {
     "name": "stdout",
     "output_type": "stream",
     "text": [
      "fraud\n",
      "0        587443\n",
      "1        587443\n",
      "dtype: int64\n"
     ]
    }
   ],
   "source": [
    "sm = SMOTE(random_state=42)\n",
    "X_res, y_res = sm.fit_resample(X, y)\n",
    "y_res = pd.DataFrame(y_res)\n",
    "print(y_res.value_counts())\n"
   ]
  },
  {
   "cell_type": "markdown",
   "metadata": {
    "tags": []
   },
   "source": [
    "## **Train Test**\n",
    "I will do a train test split for measuring the performance. I haven't done cross validation since we have a lot of instances and i don't want to wait that much for training but it should be better to cross validate most of the times.\n",
    "\n"
   ]
  },
  {
   "cell_type": "code",
   "execution_count": 21,
   "metadata": {
    "tags": [
     "skip",
     "prev:pull"
    ]
   },
   "outputs": [
    {
     "name": "stdout",
     "output_type": "stream",
     "text": [
      "         step  customer  age  gender  merchant  category       amount\n",
      "903303    150      1005    3       1        35         4   318.801009\n",
      "721176     63       496    2       1        49        10   607.125045\n",
      "680561     82      2421    2       1        21         9   326.437076\n",
      "1154749    18       598    4       1        40        13  2086.201087\n",
      "752766     55      2809    1       1        42         5  1141.199516\n",
      "...       ...       ...  ...     ...       ...       ...          ...\n",
      "705232     57      2498    1       1        42         7    90.072915\n",
      "652698     66      2127    3       1        34         4    77.633917\n",
      "465780    145      2993    2       1        18        12     4.260000\n",
      "246158     82      3418    2       2        18        12    32.800000\n",
      "899256     50      1249    3       1        47         9   157.757617\n",
      "\n",
      "[822420 rows x 7 columns]          step  customer  age  gender  merchant  category      amount\n",
      "1108619    54       693    2       1        40         9  408.158451\n",
      "1012398   118      3305    2       1        21         6  859.770614\n",
      "118293     42      2110    3       2        18        12   36.900000\n",
      "647014     66      1406    2       1        32         8  249.802353\n",
      "559136    170       438    2       1        30        12    6.240000\n",
      "...       ...       ...  ...     ...       ...       ...         ...\n",
      "986127     42      1107    3       1        29         7   89.900153\n",
      "213604     72        63    3       1        18        12    9.390000\n",
      "321247    104       806    2       1        18        12    9.110000\n",
      "48253      18        93    2       1        30        12   40.520000\n",
      "467777    145      2015    2       1        18        12   52.390000\n",
      "\n",
      "[352466 rows x 7 columns]          fraud\n",
      "903303       1\n",
      "721176       1\n",
      "680561       1\n",
      "1154749      1\n",
      "752766       1\n",
      "...        ...\n",
      "705232       1\n",
      "652698       1\n",
      "465780       0\n",
      "246158       0\n",
      "899256       1\n",
      "\n",
      "[822420 rows x 1 columns]          fraud\n",
      "1108619      1\n",
      "1012398      1\n",
      "118293       0\n",
      "647014       1\n",
      "559136       0\n",
      "...        ...\n",
      "986127       1\n",
      "213604       0\n",
      "321247       0\n",
      "48253        0\n",
      "467777       0\n",
      "\n",
      "[352466 rows x 1 columns]\n"
     ]
    }
   ],
   "source": [
    "# I won't do cross validation since we have a lot of instances\n",
    "X_train, X_test, y_train, y_test = train_test_split(X_res,y_res,test_size=0.3,random_state=42,shuffle=True,stratify=y_res)\n",
    "print(X_train, X_test, y_train, y_test )"
   ]
  },
  {
   "cell_type": "markdown",
   "metadata": {
    "tags": []
   },
   "source": [
    "As i talked about it before fraud datasets will be imbalanced and most of the instances will be non-fraudulent. Imagine that we have the dataset here and we are always predicting non-fraudulent. Our accuracy would be almost 99 % for this dataset and mostly for others as well since fraud percentage is very low. Our accuracy is very high but we are not detecting any frauds so it is a useless classifier. So the base accuracy score should be better at least than predicting always non-fraudulent for performing a detection.\n",
    "\n"
   ]
  },
  {
   "cell_type": "code",
   "execution_count": 22,
   "metadata": {
    "tags": [
     "skip"
    ]
   },
   "outputs": [
    {
     "name": "stdout",
     "output_type": "stream",
     "text": [
      "Base accuracy score we must beat is:  98.7891894800746\n"
     ]
    }
   ],
   "source": [
    "# The base score should be better than predicting always non-fraduelent\n",
    "print(\"Base accuracy score we must beat is: \", \n",
    "      df_non_fraud.fraud.count()/ np.add(df_non_fraud.fraud.count(),df_fraud.fraud.count()) * 100)"
   ]
  },
  {
   "cell_type": "markdown",
   "metadata": {
    "tags": []
   },
   "source": [
    "##  **K-Neighbours Classifier**"
   ]
  },
  {
   "cell_type": "code",
   "execution_count": 23,
   "metadata": {
    "tags": [
     "block:knn_classifier",
     "prev:oversampling_with_smote"
    ]
   },
   "outputs": [
    {
     "name": "stdout",
     "output_type": "stream",
     "text": [
      "Classification Report for K-Nearest Neighbours: \n",
      "               precision    recall  f1-score   support\n",
      "\n",
      "           0       1.00      0.98      0.99    176233\n",
      "           1       0.98      1.00      0.99    176233\n",
      "\n",
      "    accuracy                           0.99    352466\n",
      "   macro avg       0.99      0.99      0.99    352466\n",
      "weighted avg       0.99      0.99      0.99    352466\n",
      "\n",
      "Confusion Matrix of K-Nearest Neigbours: \n",
      " [[171999   4234]\n",
      " [   362 175871]]\n"
     ]
    },
    {
     "data": {
      "image/png": "[encoded data removed]",
      "text/plain": [
       "<Figure size 640x480 with 1 Axes>"
      ]
     },
     "metadata": {},
     "output_type": "display_data"
    },
    {
     "name": "stdout",
     "output_type": "stream",
     "text": [
      "Accuracy: 98.70%\n",
      "Model path========> ./source/K-NearestNeighbours_classifier_finalized_model_v.0.0.1.pkl\n",
      "[model_file_path]========================>: ./source/K-NearestNeighbours_classifier_finalized_model_v.0.0.1.pkl\n",
      "MINIO_CLIENT=======> <minio.api.Minio object at 0x7f2d5332ce80>\n",
      "filename===========> ./source/K-NearestNeighbours_classifier_finalized_model_v.0.0.1.pkl\n",
      "model_name=========> K-Nearest\n",
      "output_bucket======> experiments\n",
      "s3_path============> banking/pickels/neigbors/model/\n",
      "head =======> ./source\n",
      "tail =======> K-NearestNeighbours_classifier_finalized_model_v.0.0.1.pkl\n",
      "file_size======> 63934059\n"
     ]
    },
    {
     "name": "stderr",
     "output_type": "stream",
     "text": [
      "2023-03-23 16:25:19.270 650 urllib3.connectionpool WARNING [_put_conn():305] Connection pool is full, discarding connection: home.hpe-staging-ezaf.com. Connection pool size: 1\n",
      "2023-03-23 16:25:19.559 650 urllib3.connectionpool WARNING [_put_conn():305] Connection pool is full, discarding connection: home.hpe-staging-ezaf.com. Connection pool size: 1\n",
      "2023-03-23 16:25:19.564 650 urllib3.connectionpool WARNING [_put_conn():305] Connection pool is full, discarding connection: home.hpe-staging-ezaf.com. Connection pool size: 1\n",
      "2023-03-23 16:25:19.644 650 urllib3.connectionpool WARNING [_put_conn():305] Connection pool is full, discarding connection: home.hpe-staging-ezaf.com. Connection pool size: 1\n",
      "2023-03-23 16:25:19.678 650 urllib3.connectionpool WARNING [_put_conn():305] Connection pool is full, discarding connection: home.hpe-staging-ezaf.com. Connection pool size: 1\n"
     ]
    },
    {
     "name": "stdout",
     "output_type": "stream",
     "text": [
      "The Fraud indentification modle K-Nearest classifier finalized model Upload Completed!\n"
     ]
    }
   ],
   "source": [
    "#K-ello Neigbors\n",
    "xtrain, xtest, ytrain, ytest=train_test_split(X_res, y_res, test_size=0.3,random_state=42,shuffle=True,stratify=y_res)\n",
    "\n",
    "knn = KNeighborsClassifier(n_neighbors=5,p=1)\n",
    "knn.fit(xtrain, np.ravel(ytrain,order='C'))\n",
    "y_pred = knn.predict(xtest)\n",
    "\n",
    "\n",
    "print(\"Classification Report for K-Nearest Neighbours: \\n\", classification_report(ytest, y_pred))\n",
    "print(\"Confusion Matrix of K-Nearest Neigbours: \\n\", confusion_matrix(ytest,y_pred))\n",
    "plot_roc_auc(ytest, knn.predict_proba(xtest)[:,1])\n",
    "\n",
    "# Get accuracy\n",
    "accuracy = accuracy_score(ytest, y_pred)\n",
    "print(\"Accuracy: %.2f%%\" % (accuracy * 100.0))\n",
    "\n",
    "# save the model to minio s3 object\n",
    "# filename = f\"{_decode(configuration_dtl.get('OUTPUT_DIR_PATH'))}{configuration_dtl.get('KNC_MODEL')}{configuration_dtl.get('MODEL_VERSION')}{configuration_dtl.get('EXT')}\"\n",
    "filename = \"model.pkl\"\n",
    "print(\"Model path========>\", filename)\n",
    "pickle.dump(knn, open(f\"{filename}\", \"wb\"))\n",
    "model_file_path = os.path.join(filename)\n",
    "print(\"[model_file_path]========================>:\",model_file_path)\n",
    "\n",
    "MINIO_CLIENT_KNN = Minio(\n",
    "    endpoint= _decode(configuration_dtl.get('MINIO_HOST_URL')).replace(\"https://\",\"\"), \n",
    "    access_key=_decode(configuration_dtl.get('MINIO_ACCESS_KEY')), \n",
    "    secret_key=_decode(configuration_dtl.get('MINIO_SECRET_KEY')),\n",
    "    secure=True,\n",
    "    http_client = urllib3.PoolManager(cert_reqs='CERT_NONE'))\n",
    "\n",
    "print(\"MINIO_CLIENT\", MINIO_CLIENT_KNN)\n",
    "\n",
    "#upload into storage\n",
    "cwd = os.getcwd()\n",
    "_set_object(f\"{filename}\", \"K-Nearest\", MINIO_CLIENT_KNN, \"experiments\", \"banking/pickels/neigbors/model/\")"
   ]
  },
  {
   "cell_type": "markdown",
   "metadata": {
    "tags": []
   },
   "source": [
    "##  **Random Forest Classifier**"
   ]
  },
  {
   "cell_type": "code",
   "execution_count": 24,
   "metadata": {
    "tags": [
     "block:random_forest_classifier",
     "prev:oversampling_with_smote"
    ]
   },
   "outputs": [
    {
     "name": "stderr",
     "output_type": "stream",
     "text": [
      "[Parallel(n_jobs=1)]: Using backend SequentialBackend with 1 concurrent workers.\n",
      "[Parallel(n_jobs=1)]: Done 100 out of 100 | elapsed:   58.3s finished\n",
      "[Parallel(n_jobs=1)]: Using backend SequentialBackend with 1 concurrent workers.\n",
      "[Parallel(n_jobs=1)]: Done 100 out of 100 | elapsed:    2.1s finished\n"
     ]
    },
    {
     "name": "stdout",
     "output_type": "stream",
     "text": [
      "Classification Report for Random Forest Classifier: \n",
      "               precision    recall  f1-score   support\n",
      "\n",
      "           0       0.99      0.97      0.98    176233\n",
      "           1       0.97      0.99      0.98    176233\n",
      "\n",
      "    accuracy                           0.98    352466\n",
      "   macro avg       0.98      0.98      0.98    352466\n",
      "weighted avg       0.98      0.98      0.98    352466\n",
      "\n",
      "Confusion Matrix of Random Forest Classifier: \n",
      " [[170106   6127]\n",
      " [  1079 175154]]\n"
     ]
    },
    {
     "name": "stderr",
     "output_type": "stream",
     "text": [
      "[Parallel(n_jobs=1)]: Using backend SequentialBackend with 1 concurrent workers.\n",
      "[Parallel(n_jobs=1)]: Done 100 out of 100 | elapsed:    2.1s finished\n"
     ]
    },
    {
     "data": {
      "image/png": "[encoded data removed]",
      "text/plain": [
       "<Figure size 640x480 with 1 Axes>"
      ]
     },
     "metadata": {},
     "output_type": "display_data"
    },
    {
     "name": "stdout",
     "output_type": "stream",
     "text": [
      "Accuracy: 97.96%\n",
      "[model_file_path]========================>: ./source/RandomForest_classifier_finalized_model_v.0.0.1.pkl\n",
      "MINIO_CLIENT=======> <minio.api.Minio object at 0x7f2d5332ce80>\n",
      "filename===========> ./source/RandomForest_classifier_finalized_model_v.0.0.1.pkl\n",
      "model_name=========> Random\n",
      "output_bucket======> experiments\n",
      "s3_path============> banking/pickels/random/model/\n",
      "head =======> ./source\n",
      "tail =======> RandomForest_classifier_finalized_model_v.0.0.1.pkl\n",
      "file_size======> 2613990\n",
      "The Fraud indentification modle Random classifier finalized model Upload Completed!\n"
     ]
    }
   ],
   "source": [
    "#Random Forest Classifier\n",
    "xtrain, xtest, ytrain, ytest=train_test_split(X_res, y_res, test_size=0.3,random_state=42,shuffle=True,stratify=y_res)\n",
    "rf_clf = RandomForestClassifier(n_estimators=100,\n",
    "                                max_depth=8,\n",
    "                                random_state=42,\n",
    "                                verbose=1,class_weight=\"balanced\")\n",
    "rf_clf.fit(xtrain, ytrain.values.ravel())\n",
    "y_pred = rf_clf.predict(xtest)\n",
    "\n",
    "print(\"Classification Report for Random Forest Classifier: \\n\", classification_report(ytest, y_pred))\n",
    "print(\"Confusion Matrix of Random Forest Classifier: \\n\", confusion_matrix(ytest,y_pred))\n",
    "plot_roc_auc(ytest, rf_clf.predict_proba(xtest)[:,1])\n",
    "\n",
    "# Get accuracy\n",
    "accuracy = accuracy_score(ytest, y_pred)\n",
    "print(\"Accuracy: %.2f%%\" % (accuracy * 100.0))\n",
    "\n",
    "# save the model to minio s3 object\n",
    "# filename = f\"{_decode(configuration_dtl.get('OUTPUT_DIR_PATH'))}{configuration_dtl.get('RFC_MODEL')}{configuration_dtl.get('MODEL_VERSION')}{configuration_dtl.get('EXT')}\"\n",
    "filename = \"model.pkl\"\n",
    "model_file_path = os.path.join(filename)\n",
    "pickle.dump(rf_clf, open(f\"{filename}\", \"wb\"))\n",
    "print(\"[model_file_path]========================>:\",model_file_path)\n",
    "\n",
    "MINIO_CLIENT_RND = Minio(\n",
    "    endpoint= _decode(configuration_dtl.get('MINIO_HOST_URL')).replace(\"https://\",\"\"), \n",
    "    access_key=_decode(configuration_dtl.get('MINIO_ACCESS_KEY')), \n",
    "    secret_key=_decode(configuration_dtl.get('MINIO_SECRET_KEY')),\n",
    "    secure=True,\n",
    "    http_client = urllib3.PoolManager(cert_reqs='CERT_NONE'))\n",
    "\n",
    "print(\"MINIO_CLIENT\", MINIO_CLIENT_RND)\n",
    "\n",
    "#upload into storage\n",
    "cwd = os.getcwd()\n",
    "_set_object(f\"{filename}\", \"Random\", MINIO_CLIENT_RND, \"experiments\", \"banking/pickels/random/model/\")"
   ]
  },
  {
   "cell_type": "markdown",
   "metadata": {
    "tags": []
   },
   "source": [
    "##  **XGBoost Classifier**\n"
   ]
  },
  {
   "cell_type": "code",
   "execution_count": 25,
   "metadata": {
    "tags": [
     "block:xgboost_classifier",
     "prev:oversampling_with_smote"
    ]
   },
   "outputs": [
    {
     "name": "stdout",
     "output_type": "stream",
     "text": [
      "Classification Report for XGBoost: \n",
      "               precision    recall  f1-score   support\n",
      "\n",
      "           0       1.00      0.99      0.99    176233\n",
      "           1       0.99      1.00      0.99    176233\n",
      "\n",
      "    accuracy                           0.99    352466\n",
      "   macro avg       0.99      0.99      0.99    352466\n",
      "weighted avg       0.99      0.99      0.99    352466\n",
      "\n",
      "Confusion Matrix of  : \n",
      " [[174096   2137]\n",
      " [   738 175495]]\n"
     ]
    },
    {
     "data": {
      "image/png": "[encoded data removed]",
      "text/plain": [
       "<Figure size 640x480 with 1 Axes>"
      ]
     },
     "metadata": {},
     "output_type": "display_data"
    },
    {
     "name": "stdout",
     "output_type": "stream",
     "text": [
      "Accuracy: 99.18%\n",
      "MINIO_CLIENT=======> <minio.api.Minio object at 0x7f2d5332ce80>\n",
      "filename===========> ./source/xgboost_classifier_finalized_model_v.0.0.1.pkl\n",
      "model_name=========> XGBoost\n",
      "output_bucket======> experiments\n",
      "s3_path============> banking/pickels/xgboost/model/\n",
      "head =======> ./source\n",
      "tail =======> xgboost_classifier_finalized_model_v.0.0.1.pkl\n",
      "file_size======> 1513326\n",
      "The Fraud indentification modle XGBoost classifier finalized model Upload Completed!\n"
     ]
    }
   ],
   "source": [
    "xtrain, xtest, ytrain, ytest=train_test_split(X_res, y_res, test_size=0.3,random_state=42,shuffle=True,stratify=y_res)\n",
    "\n",
    "XGBoost_CLF = xgb.XGBClassifier(silent=None, seed=42, colsample_bynode=1, max_depth=6, learning_rate=0.05, n_estimators=400, \n",
    "                                objective=\"binary:hinge\", booster='gbtree', missing=1,\n",
    "                                n_jobs=-1, nthread=None, gamma=0, min_child_weight=1, max_delta_step=0, \n",
    "                                subsample=1, colsample_bytree=1, colsample_bylevel=1, reg_alpha=0, reg_lambda=1, \n",
    "                                base_score=0.5, random_state=42, verbosity=1)\n",
    "XGBoost_CLF.fit(xtrain,ytrain)\n",
    "y_pred = XGBoost_CLF.predict(xtest)\n",
    "\n",
    "print(\"Classification Report for XGBoost: \\n\", classification_report(ytest, y_pred))\n",
    "print(\"Confusion Matrix of  : \\n\", confusion_matrix(ytest,y_pred))\n",
    "plot_roc_auc(ytest, XGBoost_CLF.predict_proba(xtest)[:,1])\n",
    "\n",
    "# Get accuracy\n",
    "accuracy = accuracy_score(ytest, y_pred)\n",
    "print(\"Accuracy: %.2f%%\" % (accuracy * 100.0))\n",
    "\n",
    "# save the model to minio s3 object\n",
    "filename = f\"{_decode(configuration_dtl.get('OUTPUT_DIR_PATH'))}{configuration_dtl.get('XGB_MODEL')}{configuration_dtl.get('MODEL_VERSION')}{configuration_dtl.get('EXT')}\"\n",
    "filename = \"model.pkl\"\n",
    "pickle.dump(XGBoost_CLF, open(f\"{filename}\", \"wb\"))\n",
    "\n",
    "MINIO_CLIENT_XGB = Minio(\n",
    "    endpoint= _decode(configuration_dtl.get('MINIO_HOST_URL')).replace(\"https://\",\"\"), \n",
    "    access_key=_decode(configuration_dtl.get('MINIO_ACCESS_KEY')), \n",
    "    secret_key=_decode(configuration_dtl.get('MINIO_SECRET_KEY')),\n",
    "    secure=True,\n",
    "    http_client = urllib3.PoolManager(cert_reqs='CERT_NONE'))\n",
    "\n",
    "print(\"MINIO_CLIENT\", MINIO_CLIENT_XGB)\n",
    "\n",
    "#upload into storage\n",
    "cwd = os.getcwd()\n",
    "_set_object(f\"{filename}\", \"XGBoost\", MINIO_CLIENT_XGB, \"experiments\", \"banking/pickels/xgboost/model/\")"
   ]
  },
  {
   "cell_type": "markdown",
   "metadata": {
    "tags": []
   },
   "source": [
    "##  **Logistic Regression Classifier**\n"
   ]
  },
  {
   "cell_type": "code",
   "execution_count": 26,
   "metadata": {
    "tags": [
     "block:logistic_regression_cls",
     "prev:oversampling_with_smote"
    ]
   },
   "outputs": [
    {
     "name": "stdout",
     "output_type": "stream",
     "text": [
      "Classification Report for LogisticRegression: \n",
      "               precision    recall  f1-score   support\n",
      "\n",
      "           0       0.90      0.95      0.92    176233\n",
      "           1       0.95      0.89      0.92    176233\n",
      "\n",
      "    accuracy                           0.92    352466\n",
      "   macro avg       0.92      0.92      0.92    352466\n",
      "weighted avg       0.92      0.92      0.92    352466\n",
      "\n",
      "Confusion Matrix of LogisticRegression: \n",
      " [[167538   8695]\n",
      " [ 19062 157171]]\n"
     ]
    },
    {
     "data": {
      "image/png": "[encoded data removed]",
      "text/plain": [
       "<Figure size 640x480 with 1 Axes>"
      ]
     },
     "metadata": {},
     "output_type": "display_data"
    },
    {
     "name": "stdout",
     "output_type": "stream",
     "text": [
      "Accuracy: 92.12%\n",
      "[model_file_path]========================>: ./source/LogisticRegression_classifier_finalized_model_v.0.0.1.pkl\n",
      "MINIO_CLIENT=======> <minio.api.Minio object at 0x7f2d5332ce80>\n",
      "filename===========> ./source/LogisticRegression_classifier_finalized_model_v.0.0.1.pkl\n",
      "model_name=========> LogisticRegression\n",
      "output_bucket======> experiments\n",
      "s3_path============> banking/pickels/logisticregression/model/\n",
      "head =======> ./source\n",
      "tail =======> LogisticRegression_classifier_finalized_model_v.0.0.1.pkl\n",
      "file_size======> 916\n",
      "The Fraud indentification modle LogisticRegression classifier finalized model Upload Completed!\n"
     ]
    }
   ],
   "source": [
    "xtrain, xtest, ytrain, ytest = train_test_split(X_res, y_res, test_size=0.3, random_state=42, shuffle=True, stratify=y_res)\n",
    "LRmodel = LogisticRegression(max_iter=999,solver='lbfgs')\n",
    "LRmodel.fit(xtrain, ytrain)\n",
    "\n",
    "# Get predictions\n",
    "y_pred = LRmodel.predict(xtest)\n",
    "print(\"Classification Report for LogisticRegression: \\n\", classification_report(ytest, y_pred))\n",
    "print(\"Confusion Matrix of LogisticRegression: \\n\", confusion_matrix(ytest,y_pred))\n",
    "plot_roc_auc(ytest, LRmodel.predict_proba(xtest)[:,1])\n",
    "\n",
    "# Get accuracy\n",
    "accuracy = accuracy_score(ytest, y_pred)\n",
    "print(\"Accuracy: %.2f%%\" % (accuracy * 100.0))\n",
    "\n",
    "# save the model to minio s3 object\n",
    "filename = f\"{_decode(configuration_dtl.get('OUTPUT_DIR_PATH'))}{configuration_dtl.get('LRC_MODEL')}{configuration_dtl.get('MODEL_VERSION')}{configuration_dtl.get('EXT')}\"\n",
    "filename = \"model.pkl\"\n",
    "model_file_path = os.path.join(filename)\n",
    "pickle.dump(LRmodel, open(f\"{filename}\", \"wb\"))\n",
    "\n",
    "# joblib.dump(LRmodel, open(filename, 'wb'))\n",
    "print(\"[model_file_path]========================>:\",model_file_path)\n",
    "\n",
    "MINIO_CLIENT_LRC = Minio(\n",
    "    endpoint= _decode(configuration_dtl.get('MINIO_HOST_URL')).replace(\"https://\",\"\"), \n",
    "    access_key=_decode(configuration_dtl.get('MINIO_ACCESS_KEY')), \n",
    "    secret_key=_decode(configuration_dtl.get('MINIO_SECRET_KEY')),\n",
    "    secure=True,\n",
    "    http_client = urllib3.PoolManager(cert_reqs='CERT_NONE'))\n",
    "\n",
    "print(\"MINIO_CLIENT\", MINIO_CLIENT_LRC)\n",
    "\n",
    "#upload into storage\n",
    "cwd = os.getcwd()\n",
    "_set_object(f\"{filename}\", \"LogisticRegression\", MINIO_CLIENT_LRC, \"experiments\", \"banking/pickels/logisticregression/model/\")"
   ]
  },
  {
   "cell_type": "markdown",
   "metadata": {
    "tags": []
   },
   "source": [
    "## **Model Deployment**\n",
    "\n",
    "## Note ::\n",
    "1. Here we are creating the secrets and configuration server accounts traditionally."
   ]
  },
  {
   "cell_type": "code",
   "execution_count": 22,
   "metadata": {
    "tags": [
     "block:model_deploy",
     "prev:knn_classifier",
     "prev:random_forest_classifier",
     "prev:xgboost_classifier",
     "prev:logistic_regression_cls"
    ]
   },
   "outputs": [
    {
     "data": {
      "text/plain": [
       "{'apiVersion': 'serving.kserve.io/v1beta1',\n",
       " 'kind': 'InferenceService',\n",
       " 'metadata': {'creationTimestamp': '2023-03-27T18:30:14Z',\n",
       "  'generation': 1,\n",
       "  'labels': {'modelClass': 'mlserver_sklearn.SKLearnModel'},\n",
       "  'managedFields': [{'apiVersion': 'serving.kserve.io/v1beta1',\n",
       "    'fieldsType': 'FieldsV1',\n",
       "    'fieldsV1': {'f:spec': {'.': {},\n",
       "      'f:predictor': {'.': {},\n",
       "       'f:serviceAccountName': {},\n",
       "       'f:sklearn': {'.': {},\n",
       "        'f:name': {},\n",
       "        'f:protocolVersion': {},\n",
       "        'f:storageUri': {}}}}},\n",
       "    'manager': 'OpenAPI-Generator',\n",
       "    'operation': 'Update',\n",
       "    'time': '2023-03-27T18:30:11Z'}],\n",
       "  'name': 'fraud-detection-lr-27032023',\n",
       "  'namespace': 'hpedemo-user01',\n",
       "  'resourceVersion': '74041608',\n",
       "  'uid': '368f22d6-0850-409d-9216-75691bb5b192'},\n",
       " 'spec': {'predictor': {'model': {'env': [{'name': 'MLSERVER_MODEL_NAME',\n",
       "      'value': 'fraud-detection-lr-27032023'},\n",
       "     {'name': 'MLSERVER_MODEL_URI', 'value': '/mnt/models'}],\n",
       "    'modelFormat': {'name': 'sklearn'},\n",
       "    'name': '',\n",
       "    'protocolVersion': 'v2',\n",
       "    'resources': {},\n",
       "    'runtime': 'kserve-mlserver',\n",
       "    'storageUri': 's3://experiments/banking/pickels/logisticregression/model'},\n",
       "   'serviceAccountName': 'fraud-detection-kserver-service'}}}"
      ]
     },
     "execution_count": 22,
     "metadata": {},
     "output_type": "execute_result"
    }
   ],
   "source": [
    "\n",
    "default_model_spec = V1beta1InferenceServiceSpec(predictor=V1beta1PredictorSpec(\n",
    "    service_account_name=configuration_dtl.get('service_account_name'),\n",
    "    sklearn=V1beta1SKLearnSpec(\n",
    "        storage_uri=configuration_dtl.get('storage_uri'),\n",
    "        protocol_version=configuration_dtl.get('protocol_version')\n",
    "    )))\n",
    "\n",
    "isvc = V1beta1InferenceService(api_version=constants.KSERVE_V1BETA1,\n",
    "                          kind=constants.KSERVE_KIND,\n",
    "                          metadata=client.V1ObjectMeta(name=configuration_dtl.get('KSERVE_MODEL_NAME'), namespace=configuration_dtl.get('NAMESPACE')),\n",
    "                          spec=default_model_spec)\n",
    "\n",
    "\n",
    "kserve = KServeClient()\n",
    "kserve.create(isvc)"
   ]
  },
  {
   "cell_type": "markdown",
   "metadata": {
    "tags": []
   },
   "source": [
    "## **Prediction**"
   ]
  },
  {
   "cell_type": "code",
   "execution_count": 27,
   "metadata": {
    "tags": [
     "block:prediction",
     "prev:model_deploy"
    ]
   },
   "outputs": [
    {
     "name": "stdout",
     "output_type": "stream",
     "text": [
      "MINIO_CLIENT <minio.api.Minio object at 0x7fa098066130>\n",
      "shape============== [20, 7]\n",
      "X.values[0]============== [ 0.   10.    3.    0.    1.    2.   10.59] ======= [0.0, 10.0, 3.0, 0.0, 1.0, 2.0, 10.59]\n",
      "data:: {'inputs': [{'name': 'fraud-detection-infer-001', 'datatype': 'FP32', 'shape': [1, 7], 'data': [1.0, 4.0, 4.0, 0.0, 4.0, 1.0, 255.14]}]}\n",
      "server_isvc_resp https://fraud-detection-lr-27032023-predictor-default.hpedemo-user01.hpe-staging-ezaf.com\n",
      "inference:: https://fraud-detection-lr-27032023-predictor-default.hpedemo-user01.hpe-staging-ezaf.com/v2/models/fraud-detection-lr-27032023/infer\n",
      "\u001b[91mPrediction Result: {\"message\": \"Fraud Banking Transaction !\", \"value\": 1}\n"
     ]
    }
   ],
   "source": [
    "#---------------- ::: get-generated-data-test ::: ----------------\n",
    "MINIO_CLIENT_INFR = Minio(\n",
    "    endpoint= _decode(configuration_dtl.get('MINIO_HOST_URL')).replace(\"https://\",\"\"), \n",
    "    access_key=_decode(configuration_dtl.get('MINIO_ACCESS_KEY')), \n",
    "    secret_key=_decode(configuration_dtl.get('MINIO_SECRET_KEY')),\n",
    "    secure=True,\n",
    "    http_client = urllib3.PoolManager(cert_reqs='CERT_NONE'))\n",
    "\n",
    "print(\"MINIO_CLIENT\", MINIO_CLIENT_INFR)\n",
    "# data = pd.read_csv(\"./source/generated-data.csv\")\n",
    "csv_file = MINIO_CLIENT_INFR.get_object(\"experiments\", configuration_dtl.get('GENERATED_PATH'))\n",
    "data = pd.read_csv(csv_file)\n",
    "data.head(5)\n",
    "data_reduced = data.drop(['zipcodeOri','zipMerchant'],axis=1)\n",
    "data_reduced.loc[:,['customer','merchant','category']].astype('category')\n",
    "\n",
    "# turning object columns type to categorical for easing the transformation process\n",
    "col_categorical = data_reduced.select_dtypes(include= ['object']).columns\n",
    "for col in col_categorical:\n",
    "    data_reduced[col] = data_reduced[col].astype('category')\n",
    "data_reduced[col_categorical] = data_reduced[col_categorical].apply(lambda x: x.cat.codes)\n",
    "data_reduced.head(5)\n",
    "\n",
    "#---------------- ::: inference input ::: ----------------\n",
    "# In contrast, model inference is the process of using a trained model to infer a result from live data.\n",
    "X = data_reduced.drop(['fraud'], axis=1)\n",
    "y = data_reduced['fraud']\n",
    "print(\"shape==============\", [len(X.values), len(X.values[0])])\n",
    "print(\"X.values[0]==============\", X.values[0], \"=======\",  list(X.values[0]))\n",
    "\n",
    "inference_request = {\n",
    "    \"inputs\" : [{\n",
    "        \"name\" : \"fraud-detection-infer-001\",\n",
    "        \"datatype\": \"FP32\",\n",
    "        # !!! Multiple record infer !!!\n",
    "        # \"data\": [list(item) for item in X.values],\n",
    "        # \"shape\": [len(X.values), len(X.values[0])],\n",
    " \n",
    "        # !!! One record infer !!!\n",
    "        \"shape\": [1, 7],\n",
    "        # \"data\": [list(item) for item in X.values][14], #Non-Fraud Transaction Dtls\n",
    "        \"data\": [list(item) for item in X.values][17], #Fraud Transaction Dtls\n",
    "    }]\n",
    "}\n",
    "print(\"data::\", inference_request)\n",
    "\n",
    "#---------------- ::: Trigger Kserving ::: ----------------\n",
    "KServe = KServeClient()\n",
    "# obj_kserve = KServe.get(configuration_dtl.get('KSERVE_MODEL_NAME'), namespace=configuration_dtl.get('NAMESPACE'))\n",
    "# print(dict(obj_kserve))\n",
    "\n",
    "# local_isvc_resp = KServe.get(configuration_dtl.get('KSERVE_MODEL_NAME'), namespace=configuration_dtl.get('NAMESPACE')).get(\"status\").get(\"components\").get(\"predictor\").get(\"address\").get(\"url\")\n",
    "# print(\"local_isvc_resp\", local_isvc_resp)\n",
    "# print(\"inference::\", f\"{local_isvc_resp}/v2/models/{configuration_dtl.get('KSERVE_MODEL_NAME')}/infer\")\n",
    "\n",
    "server_isvc_resp = KServe.get(configuration_dtl.get('KSERVE_MODEL_NAME'), namespace=configuration_dtl.get('NAMESPACE')).get(\"status\").get(\"components\").get('predictor').get('url').replace(\"http\",\"https\")\n",
    "print(\"server_isvc_resp\", server_isvc_resp)\n",
    "print(\"inference::\", f\"{server_isvc_resp}/v2/models/{configuration_dtl.get('KSERVE_MODEL_NAME')}/infer\")\n",
    "\n",
    "session = requests.Session()\n",
    "message = {\"message\":\"\", \"value\":\"\"}\n",
    "response = session.post(\n",
    "    f\"{server_isvc_resp}/v2/models/{configuration_dtl.get('KSERVE_MODEL_NAME')}/infer\",\n",
    "    json = inference_request,\n",
    "    verify=False)\n",
    "if response.status_code == 200:\n",
    "    if json.loads(response.__dict__.get('_content')).get('outputs')[0]['data'][0] != None and json.loads(response.__dict__.get('_content')).get('outputs')[0]['data'][0] == 1:\n",
    "        message['message'] = \"Fraud Banking Transaction !\"\n",
    "        message['value'] = json.loads(response.__dict__.get('_content')).get('outputs')[0]['data'][0]        \n",
    "        print('\\033[91m' \"Prediction Result:\", json.dumps(message))\n",
    "    elif len(json.loads(response.__dict__.get('_content')).get('outputs')[0]['data'])>1:\n",
    "        print(\"Model-Infer-dtl:[data]:\\n\", json.loads(response.__dict__.get('_content')).get('outputs')[0]['data'])\n",
    "    else:\n",
    "        message['message'] = \"Non-fraud Banking Transaction !\"\n",
    "        message['value'] = json.loads(response.__dict__.get('_content')).get('outputs')[0]['data'][0]   \n",
    "        print('\\033[92m'  \"Prediction Result:\", json.dumps(message))\n",
    "else:\n",
    "    print(\"service issue::\", response.status_code)\n",
    "    print(\"service issue::\", response.content)"
   ]
  },
  {
   "cell_type": "markdown",
   "metadata": {
    "tags": []
   },
   "source": [
    "## **Conclusion::**\n",
    "In this kernel we have tried to do fraud detection on a bank payment data and we have achieved remarkable results with our classifiers. Since fraud datasets have an imbalance class problem we performed an oversampling technique called SMOTE and generated new minority class examples. I haven't put the classification results without SMOTE here but i added them in my github repo before so if you are interested to compare both results you can also check my github repo.\n",
    "\n",
    "Thanks for taking the time to read or just view the results from my first kernel i hope you enjoyed it. I would be grateful for any kind of critique, suggestion or comment and i wish you to have a great day with lots of beautiful data!\n",
    "\n",
    "# **Reference::**\n",
    "\n",
    "1. Lavion, Didier; et al, \"PwC's Global Economic Crime and Fraud Survey 2022\", \n",
    "2. https://www.pwc.com/gx/en/services/forensics/economic-crime-survey.html |\n",
    "3. https://www.pwc.com/gx/en/services/forensics/gecs/outcomes-of-platform-fraud.svg |\n",
    "4. https://www.pwc.com/gx/en/forensics/gecsm-2022/pdf/PwC%E2%80%99s-Global-Economic-Crime-and-Fraud-Survey-2022.pdf **(pdf) | PwC.com. Retrieved PwC’s Global Economic Crime and Fraud Survey 2022 **\n",
    "\n",
    "5. SMOTE: Synthetic Minority Over-sampling Technique, https://jair.org/index.php/jair/article/view/10302\n",
    "\n",
    "6. Banksim Data Set,paper http://www.msc-les.org/proceedings/emss/2014/EMSS2014_144.pdf **(pdf)**"
   ]
  },
  {
   "cell_type": "code",
   "execution_count": null,
   "metadata": {
    "tags": []
   },
   "outputs": [],
   "source": []
  }
 ],
 "metadata": {
  "kernelspec": {
   "display_name": "Python 3 (ipykernel)",
   "language": "python",
   "name": "python3"
  },
  "kubeflow_notebook": {
   "autosnapshot": false,
   "docker_image": "gcr.io/mapr-252711/kubeflow/notebooks/jupyter-scipy:imblearn-v1.6.0-ezaf",
   "experiment": {
    "id": "bdd12faf-cf17-44ab-9df9-f12d162cac08",
    "name": "stage-experiment"
   },
   "experiment_name": "stage-experiment",
   "katib_metadata": {
    "algorithm": {
     "algorithmName": "grid"
    },
    "maxFailedTrialCount": 3,
    "maxTrialCount": 12,
    "objective": {
     "objectiveMetricName": "",
     "type": "minimize"
    },
    "parallelTrialCount": 3,
    "parameters": []
   },
   "katib_run": false,
   "pipeline_description": "fraud-detection-exp-28-03-2023",
   "pipeline_name": "fraud-detection-exp-28-03-2023",
   "snapshot_volumes": false,
   "steps_defaults": [
    "label:access-ml-pipeline:true",
    "label:add-external-df-volume:true",
    "label:add-sssd-secret:true"
   ],
   "volume_access_mode": "rwm",
   "volumes": []
  },
  "language_info": {
   "codemirror_mode": {
    "name": "ipython",
    "version": 3
   },
   "file_extension": ".py",
   "mimetype": "text/x-python",
   "name": "python",
   "nbconvert_exporter": "python",
   "pygments_lexer": "ipython3",
   "version": "3.8.10"
  },
  "vscode": {
   "interpreter": {
    "hash": "836de0bc6c3ec877b14e515fee0e932bbf60b1fe66c7ecc90fa579a75883c3a3"
   }
  }
 },
 "nbformat": 4,
 "nbformat_minor": 4
}
