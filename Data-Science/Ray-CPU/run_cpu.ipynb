{
 "cells": [
  {
   "cell_type": "code",
   "execution_count": 4,
   "id": "7ecef336-fa92-4770-ab2c-4d660a98abcf",
   "metadata": {
    "tags": []
   },
   "outputs": [
    {
     "name": "stderr",
     "output_type": "stream",
     "text": [
      "2024-01-08 17:22:34,286\tINFO dashboard_sdk.py:338 -- Uploading package gcs://_ray_pkg_244f7ac7925dff8b.zip.\n",
      "2024-01-08 17:22:34,287\tINFO packaging.py:518 -- Creating a file package for local directory './'.\n"
     ]
    },
    {
     "name": "stdout",
     "output_type": "stream",
     "text": [
      "{'_client_ray_version': '2.7.0', '_address': 'http://10.224.226.40:8265', '_cookies': None, '_default_metadata': {}, '_headers': None, '_verify': True, '_ssl_context': None}\n",
      "Ray job submitted with job_id: raysubmit_ERV8PsfmFN7UndQM\n",
      "Finished in 0.00\n",
      "Metric Multiplication Result on CPU:\n",
      "[[19. 22.]\n",
      " [43. 50.]]\n",
      "[[ -45.41464989   95.34167824  -81.97283151 ... -100.98896291\n",
      "   -34.41951566  141.56226959]\n",
      " [  78.50460241  280.2094579    78.96724191 ...   80.27718425\n",
      "    -6.48890952  199.43511125]\n",
      " [-110.87894365  -48.07256171  232.14411088 ...  -14.68968052\n",
      "   259.72512197  119.50986964]\n",
      " ...\n",
      " [ -77.41104369  135.24636825  207.64757755 ...  121.47412877\n",
      "   -20.29737508  192.55018519]\n",
      " [-120.61662951  106.42156773   64.83679302 ...  -28.05592528\n",
      "   128.30671649  -84.32815005]\n",
      " [ -36.76961272  173.28528657  147.56720464 ...   -6.99468781\n",
      "  -210.99214608 -187.0458352 ]]\n",
      "RESULT: [[19. 22.]\n",
      " [43. 50.]]\n"
     ]
    }
   ],
   "source": [
    "import ray\n",
    "from ray.job_submission import JobSubmissionClient\n",
    "import time\n",
    "\n",
    "# Ray cluster information\n",
    "ray_head_ip = \"kuberay-head-svc.kuberay.svc.cluster.local\"\n",
    "ray_head_port = 8265\n",
    "ray_address = f\"http://{ray_head_ip}:{ray_head_port}\"\n",
    "\n",
    "# Submit Ray job using JobSubmissionClient\n",
    "client = JobSubmissionClient(ray_address)\n",
    "job_id = client.submit_job(\n",
    "    entrypoint=\"python wrk_cpu.py\",\n",
    "    runtime_env={\n",
    "        \"working_dir\": \"./\",\n",
    "        # \"excludes\": ['']\n",
    "    },\n",
    "    entrypoint_num_cpus = 3\n",
    ")\n",
    "\n",
    "print(client.__dict__)\n",
    "print(f\"Ray job submitted with job_id: {job_id}\")\n",
    "\n",
    "# Wait for a while to let the jobs run\n",
    "time.sleep(10)\n",
    "\n",
    "job_status = client.get_job_status(job_id)\n",
    "get_job_logs = client.get_job_logs(job_id)\n",
    "get_job_info = client.get_job_info(job_id)\n",
    "async for lines in client.tail_job_logs(job_id):\n",
    "    print(lines, end=\"\") "
   ]
  },
  {
   "cell_type": "code",
   "execution_count": null,
   "id": "1c7b0d5a-acdd-4471-86e8-b10f4580a5a6",
   "metadata": {},
   "outputs": [],
   "source": []
  }
 ],
 "metadata": {
  "kernelspec": {
   "display_name": "Ray",
   "language": "python",
   "name": "ray"
  },
  "language_info": {
   "codemirror_mode": {
    "name": "ipython",
    "version": 3
   },
   "file_extension": ".py",
   "mimetype": "text/x-python",
   "name": "python",
   "nbconvert_exporter": "python",
   "pygments_lexer": "ipython3",
   "version": "3.8.13"
  }
 },
 "nbformat": 4,
 "nbformat_minor": 5
}
