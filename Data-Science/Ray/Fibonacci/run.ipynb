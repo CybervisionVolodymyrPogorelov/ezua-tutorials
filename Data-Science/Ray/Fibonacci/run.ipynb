{
 "cells": [
  {
   "cell_type": "code",
   "execution_count": 1,
   "id": "0e414895-769a-4726-900c-94c4aad4e595",
   "metadata": {
    "tags": []
   },
   "outputs": [
    {
     "name": "stderr",
     "output_type": "stream",
     "text": [
      "2024-01-08 13:41:04,204\tINFO dashboard_sdk.py:338 -- Uploading package gcs://_ray_pkg_3175e7f953187a1d.zip.\n",
      "2024-01-08 13:41:04,206\tINFO packaging.py:518 -- Creating a file package for local directory './'.\n"
     ]
    },
    {
     "name": "stdout",
     "output_type": "stream",
     "text": [
      "{'_client_ray_version': '2.7.0', '_address': 'http://10.224.226.40:8265', '_cookies': None, '_default_metadata': {}, '_headers': None, '_verify': True, '_ssl_context': None}\n",
      "Ray job submitted with job_id: raysubmit_a3aFEP6F1FhrJF14\n",
      "Ray job status for job_id raysubmit_a3aFEP6F1FhrJF14: SUCCEEDED\n",
      "Ray job logs for job_id raysubmit_a3aFEP6F1FhrJF14: [0, 1, 1, 2, 3, 5, 8, 13, 21, 34]\n",
      "\n",
      "Ray job info for job_id raysubmit_a3aFEP6F1FhrJF14: type=<JobType.SUBMISSION: 'SUBMISSION'> job_id=None submission_id='raysubmit_a3aFEP6F1FhrJF14' driver_info=None status=<JobStatus.SUCCEEDED: 'SUCCEEDED'> entrypoint='python fibonacci.py' message='Job finished successfully.' error_type=None start_time=1704721262347 end_time=1704721264023 metadata={} runtime_env={'working_dir': 'gcs://_ray_pkg_3175e7f953187a1d.zip'} driver_agent_http_address='http://10.224.226.40:52365' driver_node_id='b974ea0c663f80ceca7490cac73511c9448200cda297ed992bf19e97'\n"
     ]
    }
   ],
   "source": [
    "import ray\n",
    "from ray.job_submission import JobSubmissionClient\n",
    "import time\n",
    "\n",
    "# Ray cluster information\n",
    "ray_head_ip = \"kuberay-head-svc.kuberay.svc.cluster.local\"\n",
    "ray_head_port = 8265\n",
    "ray_address = f\"http://{ray_head_ip}:{ray_head_port}\"\n",
    "\n",
    "# Submit Ray job using JobSubmissionClient\n",
    "client = JobSubmissionClient(ray_address)\n",
    "job_id = client.submit_job(\n",
    "    entrypoint=\"python fibonacci.py\",\n",
    "    runtime_env={\n",
    "        \"working_dir\": \"./\", \n",
    "        # \"excludes\": ['']\n",
    "    }\n",
    ")\n",
    "\n",
    "print(client.__dict__)\n",
    "print(f\"Ray job submitted with job_id: {job_id}\")\n",
    "\n",
    "# Wait for a while to let the jobs run\n",
    "time.sleep(10)\n",
    "\n",
    "job_status = client.get_job_status(job_id)\n",
    "get_job_logs = client.get_job_logs(job_id)\n",
    "get_job_info = client.get_job_info(job_id)\n",
    "# Disconnect from the Ray cluster\n",
    "ray.shutdown()\n",
    "\n",
    "print(f\"Ray job status for job_id {job_id}: {job_status}\")\n",
    "print(f\"Ray job logs for job_id {job_id}: {get_job_logs}\")\n",
    "print(f\"Ray job info for job_id {job_id}: {get_job_info}\")"
   ]
  },
  {
   "cell_type": "code",
   "execution_count": null,
   "id": "47079233-6b2c-4109-91b9-ac51b0699020",
   "metadata": {},
   "outputs": [],
   "source": []
  }
 ],
 "metadata": {
  "kernelspec": {
   "display_name": "Ray",
   "language": "python",
   "name": "ray"
  },
  "language_info": {
   "codemirror_mode": {
    "name": "ipython",
    "version": 3
   },
   "file_extension": ".py",
   "mimetype": "text/x-python",
   "name": "python",
   "nbconvert_exporter": "python",
   "pygments_lexer": "ipython3",
   "version": "3.8.13"
  }
 },
 "nbformat": 4,
 "nbformat_minor": 5
}
