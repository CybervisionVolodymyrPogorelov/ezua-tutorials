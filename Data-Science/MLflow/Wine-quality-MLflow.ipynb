{
 "cells": [
  {
   "cell_type": "code",
   "execution_count": null,
   "id": "859b7c34-1acd-4970-9483-1afe4bc4e83b",
   "metadata": {
    "tags": []
   },
   "outputs": [],
   "source": [
    "!pip3 install mlflow==1.28"
   ]
  },
  {
   "cell_type": "code",
   "execution_count": null,
   "id": "ac27957b-6cea-465d-93a3-fcf2f37c6943",
   "metadata": {
    "tags": []
   },
   "outputs": [],
   "source": [
    "!pip3 install boto3"
   ]
  },
  {
   "cell_type": "code",
   "execution_count": null,
   "id": "c9acd571-3487-4a0e-8c47-72579f7475ae",
   "metadata": {},
   "outputs": [],
   "source": [
    "import os\n",
    "import warnings\n",
    "import sys\n",
    "\n",
    "import pandas as pd\n",
    "import numpy as np\n",
    "from sklearn.metrics import mean_squared_error, mean_absolute_error, r2_score\n",
    "from sklearn.model_selection import train_test_split\n",
    "from sklearn.linear_model import ElasticNet\n",
    "\n",
    "import mlflow\n",
    "    \n",
    "import mlflow.sklearn\n",
    "from mlflow import log_metric, log_param, log_artifact\n",
    "import time"
   ]
  },
  {
   "cell_type": "code",
   "execution_count": null,
   "id": "55b0fdd4-dc2d-43ed-93ee-e2dc30216b7b",
   "metadata": {},
   "outputs": [],
   "source": [
    "import mlflow\n",
    "import os\n",
    "def set_exp(exp_name):\n",
    "    \"\"\"\n",
    "    This function is used to register an experiment in mlflow tracking service.\n",
    "    The name of the experiment provided by the user will be set in mlflow.\n",
    "    \"\"\"\n",
    "    try:\n",
    "        usr = \"jovyan\"\n",
    "        os.environ['MLFLOW_TRACKING_INSECURE_TLS'] = 'true'\n",
    "        os.environ[\"AWS_ACCESS_KEY_ID\"] = f\"minioadmin\"\n",
    "        os.environ[\"AWS_SECRET_ACCESS_KEY\"] = f\"minioadmin\"\n",
    "        os.environ[\"MLFLOW_S3_ENDPOINT_URL\"] = f\"https://<worker-node-ip>:31900\"\n",
    "        os.environ['MLFLOW_ARTIFACT_ROOT'] = f\"s3://<bucket-name>\"\n",
    "        os.environ['MLFLOW_S3_IGNORE_TLS'] = f\"true\"\n",
    "        mlflow.set_tracking_uri(\"https://mlflow.hpe-ezaf.com\")\n",
    "        mlflow.set_experiment(exp_name)\n",
    "        mlflow.set_tag('mlflow.user', usr)\n",
    "    except Exception as e:\n",
    "        print(\"Failed to set user.\")\n",
    "        print(e)"
   ]
  },
  {
   "cell_type": "code",
   "execution_count": null,
   "id": "98a0b985-f27e-4520-9ccf-595df59d307f",
   "metadata": {},
   "outputs": [],
   "source": [
    "# Set up an experiment with set_exp from ezmllib.mlflow\n",
    "experiment_name = 'mlflow_demo-01'\n",
    "set_exp(experiment_name)"
   ]
  },
  {
   "cell_type": "code",
   "execution_count": null,
   "id": "7fbba29a-91c6-46dd-b87e-273ab6fb7ffa",
   "metadata": {},
   "outputs": [],
   "source": [
    "print(os.environ)"
   ]
  },
  {
   "cell_type": "code",
   "execution_count": null,
   "id": "9368cb81-dfc4-4a0e-b834-e460c0b9e507",
   "metadata": {},
   "outputs": [],
   "source": [
    "# Wine Quality Sample\n",
    "\n",
    "homedir = !echo $HOME # get user home directory for data\n",
    "homedir = homedir[0]\n",
    "print(homedir)\n",
    "\n",
    "def train(in_alpha, in_l1_ratio):\n",
    "\n",
    "    print(\"function call\")\n",
    "    def eval_metrics(actual, pred):\n",
    "        rmse = np.sqrt(mean_squared_error(actual, pred))\n",
    "        mae = mean_absolute_error(actual, pred)\n",
    "        r2 = r2_score(actual, pred)\n",
    "        return rmse, mae, r2\n",
    "\n",
    "\n",
    "    warnings.filterwarnings(\"ignore\")\n",
    "    np.random.seed(40)\n",
    "\n",
    "    # Read the wine-quality csv file from the URL\n",
    "    #csv_url = (\n",
    "    #    \"http://archive.ics.uci.edu/ml/machine-learning-databases/wine-quality/winequality-red.csv\"\n",
    "    #)\n",
    "    #try:\n",
    "    #    data = pd.read_csv(csv_url, sep=\";\")\n",
    "    #except Exception as e:\n",
    "    #    logger.exception(\n",
    "    #        \"Unable to download training & test CSV, check your internet connection. Error: %s\", e\n",
    "    #    )\n",
    "     \n",
    "    # Read locally\n",
    "    data_path = homedir + \"/shared/mlflow/wine-quality.csv\"\n",
    "\n",
    "    data = pd.read_csv(data_path)\n",
    "    \n",
    "\n",
    "    # Split the data into training and test sets. (0.75, 0.25) split.\n",
    "    train, test = train_test_split(data)\n",
    "\n",
    "    # The predicted column is \"quality\" which is a scalar from [3, 9]\n",
    "    train_x = train.drop([\"quality\"], axis=1)\n",
    "    test_x = test.drop([\"quality\"], axis=1)\n",
    "    train_y = train[[\"quality\"]]\n",
    "    test_y = test[[\"quality\"]]\n",
    "\n",
    "    # Set default values if no alpha is provided\n",
    "    if float(in_alpha) is None:\n",
    "        alpha = 0.5\n",
    "    else:\n",
    "        alpha = float(in_alpha)\n",
    "\n",
    "    # Set default values if no l1_ratio is provided\n",
    "    if float(in_l1_ratio) is None:\n",
    "        l1_ratio = 0.5\n",
    "    else:\n",
    "        l1_ratio = float(in_l1_ratio)\n",
    "\n",
    "    # Useful for multiple runs (only doing one run in this sample notebook)    \n",
    "    \n",
    "        # Execute ElasticNet\n",
    "    lr = ElasticNet(alpha=alpha, l1_ratio=l1_ratio, random_state=42)\n",
    "    lr.fit(train_x, train_y)\n",
    "\n",
    "        # Evaluate Metrics\n",
    "    predicted_qualities = lr.predict(test_x)\n",
    "    (rmse, mae, r2) = eval_metrics(test_y, predicted_qualities)\n",
    "\n",
    "        # Print out metrics\n",
    "    print(\"Elasticnet model (alpha=%f, l1_ratio=%f):\" % (alpha, l1_ratio))\n",
    "    print(\"  RMSE: %s\" % rmse)\n",
    "    print(\"  MAE: %s\" % mae)\n",
    "    print(\"  R2: %s\" % r2)\n",
    "\n",
    "        # Log parameter, metrics, and model to MLflow\n",
    "    mlflow.log_param(\"alpha\", alpha)\n",
    "    mlflow.log_param(\"l1_ratio\", l1_ratio)\n",
    "    mlflow.log_metric(\"rmse\", rmse)\n",
    "    mlflow.log_metric(\"r2\", r2)\n",
    "    mlflow.log_metric(\"mae\", mae)\n",
    "\n",
    "    mlflow.sklearn.log_model(lr, \"model\")\n",
    "\n",
    "    mlflow.end_run() # Executing this ends one run of the current experiment.\n",
    "    \n",
    "    #return model_info"
   ]
  },
  {
   "cell_type": "code",
   "execution_count": null,
   "id": "eacf9915-d89e-46a5-b79f-f1f9fa753b92",
   "metadata": {},
   "outputs": [],
   "source": [
    "train(0.5, 0.5)"
   ]
  },
  {
   "cell_type": "code",
   "execution_count": null,
   "id": "3dba871f-bc0c-4b36-97a9-26aed1b90422",
   "metadata": {},
   "outputs": [],
   "source": []
  }
 ],
 "metadata": {
  "kernelspec": {
   "display_name": "Python 3 (ipykernel)",
   "language": "python",
   "name": "python3"
  },
  "language_info": {
   "codemirror_mode": {
    "name": "ipython",
    "version": 3
   },
   "file_extension": ".py",
   "mimetype": "text/x-python",
   "name": "python",
   "nbconvert_exporter": "python",
   "pygments_lexer": "ipython3",
   "version": "3.8.10"
  }
 },
 "nbformat": 4,
 "nbformat_minor": 5
}
