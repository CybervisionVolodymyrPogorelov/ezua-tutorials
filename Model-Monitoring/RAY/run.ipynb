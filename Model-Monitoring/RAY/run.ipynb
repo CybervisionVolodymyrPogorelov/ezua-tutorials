{
 "cells": [
  {
   "cell_type": "code",
   "execution_count": null,
   "metadata": {},
   "outputs": [],
   "source": [
    "import ray\n",
    "from ray.job_submission import JobSubmissionClient\n",
    "import time\n",
    "from ray.runtime_env import RuntimeEnv\n",
    "\n",
    "# Ray cluster information\n",
    "ray_head_ip = \"kuberay-head-svc.kuberay.svc.cluster.local\"\n",
    "ray_head_port = 8265\n",
    "ray_address = f\"http://{ray_head_ip}:{ray_head_port}\"\n",
    "\n",
    "# Submit Ray job using JobSubmissionClient\n",
    "client = JobSubmissionClient(ray_address)\n",
    "job_id = client.submit_job(\n",
    "    entrypoint=\"python mandlebrot.py\",\n",
    "    runtime_env={\n",
    "        \"working_dir\": \"./\",\n",
    "        \"pip\": [\"piexif\",\"ipyplot\",\"whylogs[image,whylabs]\"],\n",
    "        \"env_vars\": {\"http_proxy\":\"http://10.78.90.46:80\",\"https_proxy\":\"http://10.78.90.46:80\"}\n",
    "    },\n",
    "    entrypoint_num_cpus=3\n",
    ")\n",
    "\n",
    "print(client.__dict__)\n",
    "print(f\"Ray job submitted with job_id: {job_id}\")\n",
    "\n",
    "# Wait for a while to let the jobs run\n",
    "time.sleep(1)\n",
    "\n",
    "job_status = client.get_job_status(job_id)\n",
    "get_job_logs = client.get_job_logs(job_id)\n",
    "get_job_info = client.get_job_info(job_id)\n",
    "print(f\"Ray job status for job_id {job_id}: {job_status}\")\n",
    "print(f\"Ray job logs for job_id {job_id}: {get_job_logs}\")\n",
    "print(f\"Ray job info for job_id {job_id}: {get_job_info}\")\n",
    "async for lines in client.tail_job_logs(job_id):\n",
    "    print(lines, end=\"\") \n",
    "\n",
    "# Disconnect from the Ray cluster\n",
    "ray.shutdown()"
   ]
  }
 ],
 "metadata": {
  "language_info": {
   "name": "python"
  }
 },
 "nbformat": 4,
 "nbformat_minor": 2
}
